{
 "cells": [
  {
   "cell_type": "markdown",
   "id": "67ecd509",
   "metadata": {},
   "source": [
    "# while loop"
   ]
  },
  {
   "cell_type": "code",
   "execution_count": null,
   "id": "612ce5f3",
   "metadata": {},
   "outputs": [],
   "source": []
  },
  {
   "cell_type": "code",
   "execution_count": 3,
   "id": "b4f2025c",
   "metadata": {},
   "outputs": [
    {
     "name": "stdout",
     "output_type": "stream",
     "text": [
      "0\n",
      "1\n",
      "2\n",
      "3\n",
      "4\n",
      "5\n",
      "6\n",
      "7\n",
      "8\n",
      "9\n",
      "10\n"
     ]
    }
   ],
   "source": [
    "#break statement\n",
    "x = 0\n",
    "while x<11:\n",
    "    print(x)\n",
    "    x= x+1"
   ]
  },
  {
   "cell_type": "code",
   "execution_count": 6,
   "id": "0b4ac8c5",
   "metadata": {},
   "outputs": [
    {
     "name": "stdout",
     "output_type": "stream",
     "text": [
      "0\n",
      "1\n",
      "2\n",
      "3\n",
      "4\n",
      "5\n"
     ]
    }
   ],
   "source": [
    "x = 0\n",
    "while x < 10:\n",
    "    print(x)\n",
    "    if x == 5:\n",
    "        break\n",
    "    x += 1"
   ]
  },
  {
   "cell_type": "code",
   "execution_count": 8,
   "id": "4ca3a8d9",
   "metadata": {},
   "outputs": [
    {
     "name": "stdout",
     "output_type": "stream",
     "text": [
      "0\n",
      "1\n",
      "2\n",
      "3\n",
      "4\n",
      "6\n",
      "7\n",
      "8\n"
     ]
    }
   ],
   "source": [
    "#Continue \n",
    "x = 0\n",
    "while x < 10:\n",
    "    \n",
    "    if x == 5 or x == 9:\n",
    "        x += 1\n",
    "        \n",
    "        continue\n",
    "    print(x)\n",
    "    x += 1\n",
    "    "
   ]
  },
  {
   "cell_type": "code",
   "execution_count": 10,
   "id": "0b16be7a",
   "metadata": {},
   "outputs": [
    {
     "name": "stdout",
     "output_type": "stream",
     "text": [
      "0\n",
      "1\n",
      "2\n",
      "3\n",
      "4\n",
      "6\n",
      "7\n",
      "8\n",
      "9\n",
      "There is no more statement to execute\n"
     ]
    }
   ],
   "source": [
    "#else below while\n",
    "x = 0\n",
    "while x < 10:\n",
    "    \n",
    "    if x == 5:\n",
    "        x += 1\n",
    "        continue\n",
    "    print(x)\n",
    "    x += 1\n",
    "else:\n",
    "    print(\"There is no more statement to execute\")"
   ]
  },
  {
   "cell_type": "code",
   "execution_count": 1,
   "id": "d279b4ae",
   "metadata": {},
   "outputs": [
    {
     "name": "stdout",
     "output_type": "stream",
     "text": [
      "'while' on list\n",
      "mango\n",
      "cherry\n",
      "banana\n",
      "papaya\n",
      "blueberry\n",
      "apple\n"
     ]
    }
   ],
   "source": [
    "# while on list and tuple\n",
    "list1 = [\"mango\",\"cherry\",\"banana\",\"papaya\",\"blueberry\",\"apple\"]\n",
    "#print(list1)\n",
    "\n",
    "print (\"'while' on list\")\n",
    "\n",
    "x = 0\n",
    "while x <len(list1):\n",
    "    print(list1[x])\n",
    "    x += 1\n"
   ]
  },
  {
   "cell_type": "code",
   "execution_count": 6,
   "id": "3b2c65c6",
   "metadata": {},
   "outputs": [
    {
     "name": "stdout",
     "output_type": "stream",
     "text": [
      "('mango', 'banana', 'cherry', 'orange')\n",
      "while on tup\n",
      "banana\n",
      "cherry\n",
      "orange\n"
     ]
    }
   ],
   "source": [
    "# tuple Operation\n",
    "tup = (\"mango\", \"banana\", \"cherry\", \"orange\")\n",
    "print(tup)\n",
    "\n",
    "print(\"while on tup\")\n",
    "x = 1\n",
    "while x < len(tup):\n",
    "    print(tup[x])\n",
    "    x += 1"
   ]
  },
  {
   "cell_type": "markdown",
   "id": "0197764e",
   "metadata": {},
   "source": [
    "# For loops"
   ]
  },
  {
   "cell_type": "code",
   "execution_count": null,
   "id": "1f0e3417",
   "metadata": {},
   "outputs": [],
   "source": [
    "# or iterates over a list tuple set dict and string\n",
    "\n",
    "'''for i in <data>:\n",
    "        print(i)'''\n",
    "\n",
    "list1 = [\"mango\",\"cherry\",\"banana\",\"papaya\",\"blueberry\",\"apple\"]\n",
    "\n",
    "\n"
   ]
  },
  {
   "cell_type": "code",
   "execution_count": 7,
   "id": "474f127f",
   "metadata": {},
   "outputs": [
    {
     "name": "stdout",
     "output_type": "stream",
     "text": [
      "mango\n",
      "cherry\n",
      "banana\n",
      "papaya\n",
      "blueberry\n",
      "apple\n"
     ]
    }
   ],
   "source": [
    "list1 = [\"mango\",\"cherry\",\"banana\",\"papaya\",\"blueberry\",\"apple\"]\n",
    "for x in list1:\n",
    "    print(x)"
   ]
  },
  {
   "cell_type": "code",
   "execution_count": 8,
   "id": "12e641d9",
   "metadata": {},
   "outputs": [
    {
     "name": "stdout",
     "output_type": "stream",
     "text": [
      "papaya\n"
     ]
    }
   ],
   "source": [
    "for i in list1:\n",
    "    if i == \"papaya\":\n",
    "        print(i)"
   ]
  },
  {
   "cell_type": "code",
   "execution_count": 9,
   "id": "101e9af8",
   "metadata": {},
   "outputs": [
    {
     "name": "stdout",
     "output_type": "stream",
     "text": [
      "a\n",
      "b\n",
      "c\n",
      "d\n",
      "e\n",
      "f\n",
      "g\n",
      "h\n",
      "i\n",
      "j\n",
      "k\n",
      "l\n",
      "m\n",
      "n\n",
      "o\n",
      "p\n",
      "q\n",
      "r\n",
      "s\n",
      "t\n",
      "u\n",
      "v\n",
      "w\n",
      "x\n",
      "y\n",
      "z\n"
     ]
    }
   ],
   "source": [
    "# string\n",
    "STR1 = \"abcdefghijklmnopqrstuvwxyz\"\n",
    "for i in STR1:\n",
    "    print(i)"
   ]
  },
  {
   "cell_type": "code",
   "execution_count": 12,
   "id": "8dc570e6",
   "metadata": {},
   "outputs": [
    {
     "name": "stdout",
     "output_type": "stream",
     "text": [
      "ram\n",
      "sham\n",
      "taj\n"
     ]
    }
   ],
   "source": [
    "# tuple\n",
    "tup = (\"ram\", \"sham\", \"taj\")\n",
    "v = \"ram\"\n",
    "for v in tup:\n",
    "    print(v)"
   ]
  },
  {
   "cell_type": "code",
   "execution_count": 18,
   "id": "c6772250",
   "metadata": {},
   "outputs": [
    {
     "name": "stdout",
     "output_type": "stream",
     "text": [
      " default it will print keys\n",
      "name\n",
      "value\n",
      "age\n",
      "value\n",
      "mobile\n",
      "value\n",
      "maddy\n",
      "37\n",
      "123456789\n"
     ]
    }
   ],
   "source": [
    "# dict\n",
    "\n",
    "\n",
    "st1 = {\n",
    "    \"name\": \"maddy\",\n",
    "    \"age\": 37,\n",
    "    \"mobile\" :123456789\n",
    "    \n",
    "}\n",
    "print(\" default it will print keys\")\n",
    "for i in st1:\n",
    "    print(i)\n",
    "    \n",
    "    \n",
    "    print ('value')\n",
    "for i in st1:\n",
    "    print(st1[i])\n",
    "    \n",
    "    "
   ]
  },
  {
   "cell_type": "code",
   "execution_count": 19,
   "id": "faee7bb4",
   "metadata": {},
   "outputs": [
    {
     "name": "stdout",
     "output_type": "stream",
     "text": [
      "name\n",
      "age\n",
      "mobile\n"
     ]
    }
   ],
   "source": [
    "for key in st1.keys():\n",
    "    print(key)"
   ]
  },
  {
   "cell_type": "code",
   "execution_count": 20,
   "id": "e9168fcd",
   "metadata": {},
   "outputs": [
    {
     "name": "stdout",
     "output_type": "stream",
     "text": [
      "maddy\n",
      "37\n",
      "123456789\n"
     ]
    }
   ],
   "source": [
    "for val in st1.values():\n",
    "    print(val)"
   ]
  },
  {
   "cell_type": "code",
   "execution_count": 21,
   "id": "5bf5c1c8",
   "metadata": {},
   "outputs": [
    {
     "name": "stdout",
     "output_type": "stream",
     "text": [
      "name : maddy\n",
      "age : 37\n",
      "mobile : 123456789\n"
     ]
    }
   ],
   "source": [
    "for key,val in st1.items():\n",
    "    print(key, \":\", val)"
   ]
  },
  {
   "cell_type": "code",
   "execution_count": 22,
   "id": "f06688a5",
   "metadata": {},
   "outputs": [
    {
     "name": "stdout",
     "output_type": "stream",
     "text": [
      "banana\n",
      "cherry\n",
      "aaple\n",
      "mango\n"
     ]
    }
   ],
   "source": [
    "# set\n",
    "\n",
    "set1 = {\"mango\", \"banana\", \"cherry\", \"aaple\"}\n",
    "for i in set1:\n",
    "    print(i)"
   ]
  },
  {
   "cell_type": "markdown",
   "id": "45f9e484",
   "metadata": {},
   "source": [
    "# range"
   ]
  },
  {
   "cell_type": "code",
   "execution_count": null,
   "id": "69660d52",
   "metadata": {},
   "outputs": [],
   "source": [
    "# The range() function returns a sequence of numbers, starting from 0 by default, \n",
    "#and increments by 1 (by default), and stops before a specified number."
   ]
  },
  {
   "cell_type": "code",
   "execution_count": null,
   "id": "9112a3c3",
   "metadata": {},
   "outputs": [],
   "source": [
    "# syntax \n",
    "range(start, stop, step)"
   ]
  },
  {
   "cell_type": "code",
   "execution_count": 25,
   "id": "697f5f6a",
   "metadata": {},
   "outputs": [
    {
     "name": "stdout",
     "output_type": "stream",
     "text": [
      "0\n",
      "1\n",
      "2\n",
      "3\n",
      "4\n",
      "5\n",
      "6\n",
      "7\n",
      "8\n",
      "9\n"
     ]
    }
   ],
   "source": [
    "import time\n",
    "for i in range(10):\n",
    "    time.sleep(1)\n",
    "    print(i)"
   ]
  },
  {
   "cell_type": "code",
   "execution_count": 1,
   "id": "94692cbf",
   "metadata": {},
   "outputs": [
    {
     "name": "stdout",
     "output_type": "stream",
     "text": [
      "1\n",
      "2\n",
      "3\n",
      "4\n",
      "5\n",
      "6\n",
      "7\n",
      "8\n",
      "9\n",
      "10\n"
     ]
    }
   ],
   "source": [
    "# regular  number\n",
    "for v in range(1,11):\n",
    "    print(v)"
   ]
  },
  {
   "cell_type": "code",
   "execution_count": 2,
   "id": "859f916e",
   "metadata": {},
   "outputs": [
    {
     "name": "stdout",
     "output_type": "stream",
     "text": [
      "2\n",
      "4\n",
      "6\n",
      "8\n",
      "10\n",
      "12\n",
      "14\n",
      "16\n",
      "18\n",
      "20\n"
     ]
    }
   ],
   "source": [
    "# table of 2\n",
    "for i in range(2,21,2):\n",
    "    print(i)"
   ]
  },
  {
   "cell_type": "code",
   "execution_count": 5,
   "id": "df92edd4",
   "metadata": {},
   "outputs": [
    {
     "name": "stdout",
     "output_type": "stream",
     "text": [
      "1\n",
      "3\n",
      "5\n",
      "7\n",
      "9\n",
      "11\n",
      "13\n",
      "15\n",
      "17\n",
      "19\n"
     ]
    }
   ],
   "source": [
    "#odd number\n",
    "for d in range(1,21,2):\n",
    "    print(d)"
   ]
  },
  {
   "cell_type": "code",
   "execution_count": 79,
   "id": "25d57626",
   "metadata": {},
   "outputs": [
    {
     "name": "stdout",
     "output_type": "stream",
     "text": [
      "Enyer the size of list:- 7\n",
      "enter element number:-  5\n",
      "enter element number:-  6\n",
      "enter element number:-  4\n",
      "enter element number:-  5\n",
      "enter element number:-  6\n",
      "enter element number:-  8\n",
      "enter element number:-  6\n",
      "your  list is ready [5, 6, 4, 5, 6, 8, 6]\n"
     ]
    }
   ],
   "source": [
    "list1 = []\n",
    "\n",
    "l = int(input(\"Enyer the size of list:- \"))\n",
    "\n",
    "\n",
    "for i in range (0,l):\n",
    "        elmn = int(input(\"enter element number:-  \".format(i+1)))\n",
    "        list1.append(elmn)\n",
    "print(\"your  list is ready\",list1)        "
   ]
  },
  {
   "cell_type": "code",
   "execution_count": null,
   "id": "54c10774",
   "metadata": {},
   "outputs": [],
   "source": [
    "# tuple is immutable"
   ]
  },
  {
   "cell_type": "code",
   "execution_count": 56,
   "id": "79ef200f",
   "metadata": {},
   "outputs": [
    {
     "name": "stdout",
     "output_type": "stream",
     "text": [
      "* \n",
      "* * \n",
      "* * * \n",
      "* * * * \n",
      "* * * * * \n",
      "* * * * * * \n",
      "* * * * * * * \n",
      "* * * * * * * * \n"
     ]
    }
   ],
   "source": [
    "s =8\n",
    "\n",
    "for l in range(0,s):\n",
    "    for m in range(0,l+1):\n",
    "        print(\"*\",end = \" \")\n",
    "        \n",
    "    print(\"\")"
   ]
  },
  {
   "cell_type": "code",
   "execution_count": 3,
   "id": "b0dbe63b",
   "metadata": {},
   "outputs": [
    {
     "name": "stdout",
     "output_type": "stream",
     "text": [
      "               * * * * * * * * * \n",
      "             * * * * * * * * * \n",
      "           * * * * * * * * * \n",
      "         * * * * * * * * * \n",
      "       * * * * * * * * * \n",
      "     * * * * * * * * * \n",
      "   * * * * * * * * * \n",
      " * * * * * * * * * \n"
     ]
    }
   ],
   "source": [
    "y = 8\n",
    "\n",
    "j = 2 * y -1\n",
    "\n",
    "for i in range(0,y):\n",
    "    for m in range(0,j):\n",
    "        \n",
    "        print(end = \" \")\n",
    "        \n",
    "    j = j-2\n",
    "    \n",
    "    for m in range(0,y+1):\n",
    "        print(\"*\",end=\" \")\n",
    "        \n",
    "    print(\"\")"
   ]
  },
  {
   "cell_type": "code",
   "execution_count": 2,
   "id": "573aba80",
   "metadata": {},
   "outputs": [
    {
     "name": "stdout",
     "output_type": "stream",
     "text": [
      " *  *  *  *  *  *  *  *  * \n",
      " *  *  *  *  *  *  *  *  * \n",
      " *  *  *  *  *  *  *  *  * \n",
      " *  *  *  *  *  *  *  *  * \n",
      " *  *  *  *  *  *  *  *  * \n",
      " *  *  *  *  *  *  *  *  * \n",
      " *  *  *  *  *  *  *  *  * \n",
      " *  *  *  *  *  *  *  *  * \n",
      " *  *  *  *  *  *  *  *  * \n"
     ]
    }
   ],
   "source": [
    "# create square of 5x5 \"*\" \n",
    "for i in range(0,9):\n",
    "    print(\" * \" *9)"
   ]
  },
  {
   "cell_type": "code",
   "execution_count": 1,
   "id": "1aca657e",
   "metadata": {},
   "outputs": [
    {
     "name": "stdout",
     "output_type": "stream",
     "text": [
      "Print equilateral triangle \n",
      "            * \n",
      "           * * \n",
      "          * * * \n",
      "         * * * * \n",
      "        * * * * * \n",
      "       * * * * * * \n",
      "      * * * * * * * \n"
     ]
    }
   ],
   "source": [
    "print(\"Print equilateral triangle \")\n",
    "\n",
    "size = 7\n",
    "m = (2 * size) - 2\n",
    "for i in range(0, size):\n",
    "    for j in range(0, m):\n",
    "        print(end=\" \")\n",
    "    \n",
    "    m = m - 1\n",
    "    for j in range(0, i + 1):\n",
    "        print(\"*\", end=' ')\n",
    "    print()\n"
   ]
  },
  {
   "cell_type": "code",
   "execution_count": 9,
   "id": "6e1d9676",
   "metadata": {},
   "outputs": [
    {
     "name": "stdout",
     "output_type": "stream",
     "text": [
      " * \n",
      " * \n",
      " * \n",
      " * \n",
      " * \n"
     ]
    }
   ],
   "source": [
    "# create square of 5x5 \"*\" \n",
    "for i in range(1*5):\n",
    "    print(\" * \")"
   ]
  },
  {
   "cell_type": "code",
   "execution_count": null,
   "id": "ef467f34",
   "metadata": {},
   "outputs": [],
   "source": []
  }
 ],
 "metadata": {
  "kernelspec": {
   "display_name": "Python 3 (ipykernel)",
   "language": "python",
   "name": "python3"
  },
  "language_info": {
   "codemirror_mode": {
    "name": "ipython",
    "version": 3
   },
   "file_extension": ".py",
   "mimetype": "text/x-python",
   "name": "python",
   "nbconvert_exporter": "python",
   "pygments_lexer": "ipython3",
   "version": "3.11.0"
  }
 },
 "nbformat": 4,
 "nbformat_minor": 5
}
