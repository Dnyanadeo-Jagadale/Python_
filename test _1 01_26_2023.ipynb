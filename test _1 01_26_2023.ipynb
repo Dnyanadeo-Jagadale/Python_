{
 "cells": [
  {
   "cell_type": "code",
   "execution_count": 5,
   "id": "522985dc",
   "metadata": {},
   "outputs": [
    {
     "name": "stdout",
     "output_type": "stream",
     "text": [
      "converted first into float---> 100.1\n",
      "converted into int---> 100\n"
     ]
    }
   ],
   "source": [
    "# 1. convert below value into integer # \n",
    "var1 = \"100.10\"\n",
    "var2 = float(var1)\n",
    "print(\"converted first into float--->\",var2)\n",
    "var3 = int(var2)\n",
    "print(\"converted into int--->\",var3)\n"
   ]
  },
  {
   "cell_type": "code",
   "execution_count": 20,
   "id": "cee8bfd6",
   "metadata": {},
   "outputs": [
    {
     "name": "stdout",
     "output_type": "stream",
     "text": [
      "Answer for var1 = bool(100) is ---> True\n",
      "Answer for var2 = bool(0) is ----> False\n",
      "Answer for var3 = bool(0.00) is ----> False\n",
      "Answer for var4 = bool(0.01) is ----> True\n"
     ]
    }
   ],
   "source": [
    "# 2. convert var1,var2 and var3 into boolen.\n",
    "\n",
    "var1 = bool(100)\n",
    "print(\"Answer for var1 = bool(100) is --->\",var1)\n",
    "var2 = bool(0)\n",
    "print(\"Answer for var2 = bool(0) is ---->\",var2)\n",
    "var3 = bool(0.00)\n",
    "print(\"Answer for var3 = bool(0.00) is ---->\",var3)\n",
    "var4 = bool(0.01)\n",
    "print(\"Answer for var4 = bool(0.01) is ---->\",var4)\n"
   ]
  },
  {
   "cell_type": "code",
   "execution_count": 23,
   "id": "2bd66dff",
   "metadata": {},
   "outputs": [
    {
     "name": "stdout",
     "output_type": "stream",
     "text": [
      "t\n"
     ]
    }
   ],
   "source": [
    "# 3. print third element of python.\n",
    "str1 = \"python\"\n",
    "print(str1[2])"
   ]
  },
  {
   "cell_type": "code",
   "execution_count": 27,
   "id": "89dab0ff",
   "metadata": {},
   "outputs": [
    {
     "name": "stdout",
     "output_type": "stream",
     "text": [
      "n\n",
      "n\n",
      "\n"
     ]
    }
   ],
   "source": [
    "# 4. print last element from python\n",
    "print(str1[-1])\n",
    "print(str1[5:])\n"
   ]
  },
  {
   "cell_type": "code",
   "execution_count": 28,
   "id": "848a3d5c",
   "metadata": {},
   "outputs": [
    {
     "name": "stdout",
     "output_type": "stream",
     "text": [
      "pyt\n"
     ]
    }
   ],
   "source": [
    "# 5. print first three elements of python.\n",
    "\n",
    "print(str1[:3])"
   ]
  },
  {
   "cell_type": "code",
   "execution_count": 29,
   "id": "902a6b7d",
   "metadata": {},
   "outputs": [
    {
     "name": "stdout",
     "output_type": "stream",
     "text": [
      "hon\n"
     ]
    }
   ],
   "source": [
    "# 6. print last three elements of python.\n",
    "print(str1[-3:])"
   ]
  },
  {
   "cell_type": "code",
   "execution_count": 32,
   "id": "ee45f7e3",
   "metadata": {},
   "outputs": [
    {
     "name": "stdout",
     "output_type": "stream",
     "text": [
      "[1, 2, 3, 2, 3, 5, 6]\n"
     ]
    }
   ],
   "source": [
    "# 7. remove 4 from given list\n",
    "l1 = [1,2,3,4,2,3,5,6]\n",
    "l1.remove(4)\n",
    "print(l1)\n"
   ]
  },
  {
   "cell_type": "code",
   "execution_count": 82,
   "id": "41ebdac3",
   "metadata": {},
   "outputs": [
    {
     "name": "stdout",
     "output_type": "stream",
     "text": [
      "append 4  [1, 2, 2, 3, 3, 4, 5, 6, 9, 9, [2], 4, 4, 4, 4, 4, [10, 20, 30], 4]\n",
      "insert9 [1, 2, 2, 3, 3, 4, 5, 6, 9, 9, 9, [2], 4, 4, 4, 4, 4, [10, 20, 30], 4]\n"
     ]
    }
   ],
   "source": [
    "# 8. add 4.,9 to the list\n",
    "l1.append(4)\n",
    "print(\"append 4 \",l1)\n",
    "l1.insert(8,9)\n",
    "print(\"insert9\",l1)\n"
   ]
  },
  {
   "cell_type": "code",
   "execution_count": 89,
   "id": "1a202f8b",
   "metadata": {},
   "outputs": [
    {
     "name": "stdout",
     "output_type": "stream",
     "text": [
      "[1, 2, 2, 3, 3, 4, 5, 6, 9, 9, 9, 4, 4, 4, 4, 4, [10, 20, 30], 4]\n",
      "[9, 9, 9, 6, 5, 4, 4, 4, 4, 4, 4, 4, 3, 3, 2, 2, 1]\n"
     ]
    }
   ],
   "source": [
    "#l1.remove([2]\n",
    "print(l1)\n",
    "l1.remove([10,20,30])\n",
    "\n",
    "l1.sort(reverse = True)\n",
    "print(l1)"
   ]
  },
  {
   "cell_type": "code",
   "execution_count": 59,
   "id": "4ec1afd4",
   "metadata": {},
   "outputs": [
    {
     "name": "stdout",
     "output_type": "stream",
     "text": [
      "['a', 'b', 'c', 'd']\n",
      "['d', 'c', 'b', 'a']\n"
     ]
    }
   ],
   "source": [
    "# 9. sort the given list asending and desending order \n",
    "l2 = [\"a\",\"b\",\"c\",\"d\"]\n",
    "l2.sort(reverse = False)\n",
    "print(l2)\n",
    "l2.sort(reverse = True)\n",
    "print(l2)"
   ]
  },
  {
   "cell_type": "code",
   "execution_count": 47,
   "id": "3eb926ef",
   "metadata": {},
   "outputs": [
    {
     "name": "stdout",
     "output_type": "stream",
     "text": [
      "[10, 20, 30]\n",
      "[1, 2, 3, 2, 3, 5, 6, 4, 9, 9, [2], 4, 4, 4, 4, 4, [10, 20, 30]]\n"
     ]
    }
   ],
   "source": [
    "#10. add all l1 elements to t1.\n",
    "\n",
    "t1 = (10,20,30)\n",
    "m1 = list(t1)\n",
    "print(m1)\n",
    "m1.append(l1)\n",
    "print(l1)"
   ]
  },
  {
   "cell_type": "code",
   "execution_count": 66,
   "id": "2b9502c8",
   "metadata": {},
   "outputs": [
    {
     "name": "stdout",
     "output_type": "stream",
     "text": [
      "dict_keys(['k1', 'k2', 'k3'])\n"
     ]
    }
   ],
   "source": [
    "# 11. print all keys fom given dict.\n",
    "d1 ={\n",
    "    \"k1\":\"sagar\",\n",
    "    \"k2\":\"sai\",\n",
    "    \"k3\":\"rohit\"\n",
    "}\n",
    "\n",
    "print(d1.keys())\n"
   ]
  },
  {
   "cell_type": "code",
   "execution_count": 68,
   "id": "35ae955f",
   "metadata": {},
   "outputs": [
    {
     "name": "stdout",
     "output_type": "stream",
     "text": [
      "dict_values(['sagar', 'sai', 'rohit'])\n"
     ]
    }
   ],
   "source": [
    "# 12. print all values from given dict.\n",
    "print(d1.values())"
   ]
  },
  {
   "cell_type": "code",
   "execution_count": 76,
   "id": "5215ed95",
   "metadata": {},
   "outputs": [
    {
     "name": "stdout",
     "output_type": "stream",
     "text": [
      "dict_keys(['k1', 'k2', 'k3', 'k4', 'salary']) dict_values(['sagar', 'sai', 'rohit', 'pooja', 10000])\n",
      "-----------\n",
      "dict_items([('k1', 'sagar'), ('k2', 'sai'), ('k3', 'rohit'), ('k4', 'pooja'), ('salary', 10000)])\n"
     ]
    }
   ],
   "source": [
    "# 13. print both keys and values from given dict\n",
    "print(d1.keys(),d1.values())\n",
    "print(\"-----------\")\n",
    "print(d1.items())"
   ]
  },
  {
   "cell_type": "code",
   "execution_count": 73,
   "id": "403214e5",
   "metadata": {},
   "outputs": [
    {
     "name": "stdout",
     "output_type": "stream",
     "text": [
      "{'k1': 'sagar', 'k2': 'sai', 'k3': 'rohit', 'k4': 'pooja'}\n"
     ]
    }
   ],
   "source": [
    "# 13. add key 4 as pooja in given list.\n",
    "\n",
    "d1[\"k4\"] = \"pooja\"\n",
    "print(d1)"
   ]
  },
  {
   "cell_type": "code",
   "execution_count": 74,
   "id": "bc4a31a0",
   "metadata": {},
   "outputs": [
    {
     "name": "stdout",
     "output_type": "stream",
     "text": [
      "{'k1': 'sagar', 'k2': 'sai', 'k3': 'rohit', 'k4': 'pooja', 'salary': 10000}\n"
     ]
    }
   ],
   "source": [
    "# 14. sdd salary : 10000 in given list\n",
    "d1[\"salary\"] = 10000\n",
    "print(d1)"
   ]
  },
  {
   "cell_type": "code",
   "execution_count": 78,
   "id": "37d21ef2",
   "metadata": {},
   "outputs": [
    {
     "name": "stdout",
     "output_type": "stream",
     "text": [
      "[40, 30, 20, 10]\n"
     ]
    }
   ],
   "source": [
    "list1 = [10,20,30,40]\n",
    "list1.sort(reverse = True)\n",
    "print(list1)\n"
   ]
  },
  {
   "cell_type": "code",
   "execution_count": null,
   "id": "bf8b3c9d",
   "metadata": {},
   "outputs": [],
   "source": []
  }
 ],
 "metadata": {
  "kernelspec": {
   "display_name": "Python 3 (ipykernel)",
   "language": "python",
   "name": "python3"
  },
  "language_info": {
   "codemirror_mode": {
    "name": "ipython",
    "version": 3
   },
   "file_extension": ".py",
   "mimetype": "text/x-python",
   "name": "python",
   "nbconvert_exporter": "python",
   "pygments_lexer": "ipython3",
   "version": "3.11.0"
  }
 },
 "nbformat": 4,
 "nbformat_minor": 5
}
