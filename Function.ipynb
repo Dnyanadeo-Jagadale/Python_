{
 "cells": [
  {
   "cell_type": "code",
   "execution_count": null,
   "id": "123275c4",
   "metadata": {},
   "outputs": [],
   "source": [
    "# Function is block of statement which will \n",
    "# get excuted when we call that function.\n",
    "\n",
    "\n",
    "\n",
    "# syntax:-\n",
    "\n",
    "def function_name():\n",
    "    statement-1\n",
    "    statement-2"
   ]
  },
  {
   "cell_type": "code",
   "execution_count": 2,
   "id": "8ab18bcc",
   "metadata": {},
   "outputs": [
    {
     "name": "stdout",
     "output_type": "stream",
     "text": [
      "This is inside my function\n"
     ]
    }
   ],
   "source": [
    "# function\n",
    "def display():\n",
    "    print(\"This is inside my function\")\n",
    "    \n",
    "#call the function\n",
    "display()"
   ]
  },
  {
   "cell_type": "code",
   "execution_count": 3,
   "id": "54d6bc56",
   "metadata": {},
   "outputs": [
    {
     "name": "stdout",
     "output_type": "stream",
     "text": [
      "this is above function\n",
      "This is inside my function\n"
     ]
    }
   ],
   "source": [
    "print(\"This is above function\")\n",
    "def display():\n",
    "    print(\"This is inside my function\")\n",
    "    \n",
    "\n",
    "display()"
   ]
  },
  {
   "cell_type": "code",
   "execution_count": 7,
   "id": "4bafea87",
   "metadata": {},
   "outputs": [
    {
     "name": "stdout",
     "output_type": "stream",
     "text": [
      "This is above function\n",
      "This is a prior statement\n",
      "This is inside my function\n",
      "This is a another statement inside my function\n",
      "this is sample statement out side function\n"
     ]
    }
   ],
   "source": [
    "print(\"This is above function\") #1\n",
    "def display():\n",
    "    print(\"This is inside my function\") #3\n",
    "    print(\"This is a another statement inside my function\")#4\n",
    "    \n",
    "print(\"This is a prior statement\") #2\n",
    "\n",
    "display()\n",
    "print(\"this is sample statement out side function\") #5"
   ]
  },
  {
   "cell_type": "code",
   "execution_count": 3,
   "id": "91de1101",
   "metadata": {},
   "outputs": [
    {
     "name": "stdout",
     "output_type": "stream",
     "text": [
      "The value is  200\n"
     ]
    }
   ],
   "source": [
    "# Arguments\n",
    "\n",
    "def display(val):  # now val is varriable for value\n",
    "    print(\"The value is \", val*2)\n",
    "    \n",
    "    \n",
    "val = 100\n",
    "\n",
    "# will call function\n",
    "display(val)"
   ]
  },
  {
   "cell_type": "code",
   "execution_count": 14,
   "id": "aa1c1897",
   "metadata": {},
   "outputs": [
    {
     "name": "stdout",
     "output_type": "stream",
     "text": [
      "first number100\n",
      "second number200\n",
      " the SUM is  300\n"
     ]
    }
   ],
   "source": [
    "# pssing two arguments\n",
    "\n",
    "def add(a,b):\n",
    "    addition  = a + b\n",
    "    print(\" the SUM is: \", addition)\n",
    "    \n",
    "x = int(input(\"first number: \"))\n",
    "y = int(input(\"second number: \"))\n",
    "\n",
    "add(x,y)"
   ]
  },
  {
   "cell_type": "code",
   "execution_count": 20,
   "id": "218c19dc",
   "metadata": {},
   "outputs": [
    {
     "data": {
      "text/plain": [
       "200"
      ]
     },
     "execution_count": 20,
     "metadata": {},
     "output_type": "execute_result"
    }
   ],
   "source": [
    "# return value\n",
    "\n",
    "def mult(a,b):\n",
    "    res = a*b\n",
    "    return res\n",
    "\n",
    "    \n",
    "x = 10\n",
    "y = 20\n",
    "\n",
    "mult(x,y)\n"
   ]
  },
  {
   "cell_type": "code",
   "execution_count": 1,
   "id": "de959094",
   "metadata": {},
   "outputs": [
    {
     "name": "stdout",
     "output_type": "stream",
     "text": [
      "multification 200\n",
      "multification last 200\n"
     ]
    }
   ],
   "source": [
    "\n",
    "def mult(a,b):\n",
    "    res = a*b\n",
    "    print(\"multification\",res)\n",
    "    return res\n",
    "\n",
    "    \n",
    "x = 10\n",
    "y = 20\n",
    "\n",
    "result = mult(x,y)\n",
    "print (\"multification last\",result)"
   ]
  },
  {
   "cell_type": "code",
   "execution_count": 8,
   "id": "8db6762f",
   "metadata": {},
   "outputs": [
    {
     "name": "stdout",
     "output_type": "stream",
     "text": [
      "now making a call to function:-\n",
      "Enter students first name:- s\n",
      "Enter students last name:- d\n",
      "name of student is:  s   d\n",
      "Enter students first name:- s\n",
      "Enter students last name:- d\n",
      "name of student is:  s   d\n",
      "Enter students first name:- s\n",
      "Enter students last name:- d\n",
      "name of student is:  s   d\n",
      "list of students is:  ['sd', 'sd', 'sd']\n",
      "['sd', 'sd', 'sd']\n"
     ]
    }
   ],
   "source": [
    "list1 = []\n",
    "\n",
    "def Studs():\n",
    "    for i in range(0,3):\n",
    "        fname = input(\"Enter students first name:- \")\n",
    "        lname = input(\"Enter students last name:- \")\n",
    "        print(\"name of student is: \",fname,\" \",lname)\n",
    "        name = (fname + lname)\n",
    "        list1.append(name)\n",
    "print(\"now making a call to function:-\")\n",
    "\n",
    "Studs()\n",
    "print(\"list of students is: \",list1)\n",
    "p = list1.copy()\n",
    "print(p)\n"
   ]
  },
  {
   "cell_type": "code",
   "execution_count": 3,
   "id": "0902e350",
   "metadata": {},
   "outputs": [
    {
     "name": "stdout",
     "output_type": "stream",
     "text": [
      "['ram  patil', 'sham  patil', 'ravi  pol', 'ram  patil', 'sham  patil', 'ravi  pol']\n"
     ]
    }
   ],
   "source": [
    "list1.extend(p)\n",
    "print(list1)"
   ]
  },
  {
   "cell_type": "code",
   "execution_count": 5,
   "id": "116faaba",
   "metadata": {},
   "outputs": [
    {
     "name": "stdout",
     "output_type": "stream",
     "text": [
      "['ram  patil', 'sham  patil', 'ravi  pol', 'ram  patil']\n"
     ]
    }
   ],
   "source": [
    "list1.pop()\n",
    "print(list1)"
   ]
  },
  {
   "cell_type": "code",
   "execution_count": 7,
   "id": "f6dc7465",
   "metadata": {},
   "outputs": [
    {
     "name": "stdout",
     "output_type": "stream",
     "text": [
      "('A', 'B', 'C', 'D', 'E')\n",
      "A\n",
      "B\n",
      "C\n",
      "D\n",
      "E\n",
      "numbers of parameters are  5\n"
     ]
    }
   ],
   "source": [
    "# Unknown paramitars\n",
    "#they may be the case where u dont know the paramatars.\n",
    "def display(*letter):\n",
    "    print(letter)\n",
    "    l = len(letter)\n",
    "    for i in letter:\n",
    "        print(i)\n",
    "    print(\"numbers of parameters are \",l)\n",
    "display('A','B','C','D','E')"
   ]
  },
  {
   "cell_type": "code",
   "execution_count": 11,
   "id": "33b4d53c",
   "metadata": {},
   "outputs": [
    {
     "name": "stdout",
     "output_type": "stream",
     "text": [
      "third value is  300\n"
     ]
    }
   ],
   "source": [
    "#argument as key value pair where order does not matter\n",
    "\n",
    "def display(val_1,val_3,val_2):\n",
    "    print(\"third value is \", val_3)\n",
    "    \n",
    "display(val_1 = 100,val_2 = 200,  val_3 = 300)\n",
    "    \n"
   ]
  },
  {
   "cell_type": "code",
   "execution_count": null,
   "id": "718b405b",
   "metadata": {},
   "outputs": [],
   "source": []
  },
  {
   "cell_type": "code",
   "execution_count": null,
   "id": "36c06077",
   "metadata": {},
   "outputs": [],
   "source": []
  },
  {
   "cell_type": "code",
   "execution_count": null,
   "id": "4ab26c37",
   "metadata": {},
   "outputs": [],
   "source": []
  },
  {
   "cell_type": "code",
   "execution_count": null,
   "id": "821aef29",
   "metadata": {},
   "outputs": [],
   "source": []
  },
  {
   "cell_type": "code",
   "execution_count": null,
   "id": "7abf0d2f",
   "metadata": {},
   "outputs": [],
   "source": []
  }
 ],
 "metadata": {
  "kernelspec": {
   "display_name": "Python 3 (ipykernel)",
   "language": "python",
   "name": "python3"
  },
  "language_info": {
   "codemirror_mode": {
    "name": "ipython",
    "version": 3
   },
   "file_extension": ".py",
   "mimetype": "text/x-python",
   "name": "python",
   "nbconvert_exporter": "python",
   "pygments_lexer": "ipython3",
   "version": "3.11.0"
  }
 },
 "nbformat": 4,
 "nbformat_minor": 5
}
