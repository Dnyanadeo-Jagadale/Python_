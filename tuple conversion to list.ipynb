{
 "cells": [
  {
   "cell_type": "code",
   "execution_count": 56,
   "id": "86f64268",
   "metadata": {},
   "outputs": [
    {
     "name": "stdout",
     "output_type": "stream",
     "text": [
      "[100, 200, 20, 25, 25, 25, 25, 25, 30, 1, 2, 3, 4, 5, 6, 7, 8, 9, 5, 1, 4, 6, 55, 44, 77, 58, 41, 25, 14]\n"
     ]
    }
   ],
   "source": [
    "a = (100,200,20,25,25,25,25,25,30,1,2,3,4,5,6,7,8,9,5,1,4,6,55,44,77,58,41,25,14)\n",
    "b = list(a)\n",
    "print(b)"
   ]
  },
  {
   "cell_type": "code",
   "execution_count": 57,
   "id": "e6e366bf",
   "metadata": {},
   "outputs": [
    {
     "name": "stdout",
     "output_type": "stream",
     "text": [
      "[100, 200, 20, 25, 25, 25, 25, 25, 30, 1, 2, 3, 4, 5, 6, 7, 8, 9, 5, 1, 4, 6, 55, 44, 77, 58, 41, 25, 14]\n",
      "extending\n",
      "[100, 200, 20, 25, 25, 25, 25, 25, 30, 1, 2, 3, 4, 5, 6, 7, 8, 9, 5, 1, 4, 6, 55, 44, 77, 58, 41, 25, 14, 1000, 2000, 3000, 4000]\n",
      "copying\n",
      "[1000, 2000, 3000, 4000]\n",
      "[100, 200, 20, 25, 25, 25, 25, 25, 30, 1, 2, 3, 4, 5, 6, 7, 8, 9, 5, 1, 4, 6, 55, 44, 77, 58, 41, 25, 14, 1000, 2000, 3000, 4000]\n",
      "counting\n",
      "[100, 200, 20, 25, 25, 25, 25, 25, 30, 1, 2, 3, 4, 5, 6, 7, 8, 9, 5, 1, 4, 6, 55, 44, 77, 58, 41, 25, 14, 1000, 2000, 3000, 4000]\n",
      "appending\n",
      "[100, 200, 20, 25, 25, 25, 25, 25, 30, 1, 2, 3, 4, 5, 6, 7, 8, 9, 5, 1, 4, 6, 55, 44, 77, 58, 41, 25, 14, 1000, 2000, 3000, 4000, 25252525]\n",
      "indexing\n",
      "[100, 200, 20, 25, 25, 25, 25, 25, 30, 1, 2, 3, 4, 5, 6, 7, 8, 9, 5, 1, 4, 6, 55, 44, 77, 58, 41, 25, 14, 1000, 2000, 3000, 4000, 25252525]\n",
      "inserting\n",
      "[100, 200, 20, 25, 141414, 25, 25, 25, 25, 30, 1, 2, 3, 4, 5, 6, 7, 8, 9, 5, 1, 4, 6, 55, 44, 77, 58, 41, 25, 14, 1000, 2000, 3000, 4000, 25252525]\n",
      "poping\n",
      "[100, 200, 20, 25, 141414, 25, 25, 25, 25, 30, 1, 2, 3, 4, 5, 6, 7, 8, 9, 5, 1, 4, 6, 55, 44, 77, 58, 41, 25, 14, 1000, 2000, 3000, 4000]\n",
      "removeing\n",
      "[200, 20, 25, 141414, 25, 25, 25, 25, 30, 1, 2, 3, 4, 5, 6, 7, 8, 9, 5, 1, 4, 6, 55, 44, 77, 58, 41, 25, 14, 1000, 2000, 3000, 4000]\n",
      "reverseing\n",
      "[4000, 3000, 2000, 1000, 14, 25, 41, 58, 77, 44, 55, 6, 4, 1, 5, 9, 8, 7, 6, 5, 4, 3, 2, 1, 30, 25, 25, 25, 25, 141414, 25, 20, 200]\n",
      "sortinging\n",
      "[1, 1, 2, 3, 4, 4, 5, 5, 6, 6, 7, 8, 9, 14, 20, 25, 25, 25, 25, 25, 25, 30, 41, 44, 55, 58, 77, 200, 1000, 2000, 3000, 4000, 141414]\n",
      "tuple Conversion\n",
      "(1, 1, 2, 3, 4, 4, 5, 5, 6, 6, 7, 8, 9, 14, 20, 25, 25, 25, 25, 25, 25, 30, 41, 44, 55, 58, 77, 200, 1000, 2000, 3000, 4000, 141414)\n"
     ]
    }
   ],
   "source": [
    "import time\n",
    "print(b)\n",
    "c = [1000,2000,3000,4000]\n",
    "#print(c)\n",
    "print(\"extending\")\n",
    "time.sleep(2)\n",
    "b.extend(c)\n",
    "print(b)\n",
    "print(\"copying\")\n",
    "time.sleep(2)\n",
    "c.copy()\n",
    "print(c)\n",
    "print(b)\n",
    "print(\"counting\")\n",
    "time.sleep(2)\n",
    "b.count(2)\n",
    "print(b)\n",
    "print(\"appending\")\n",
    "time.sleep(2)\n",
    "b.append(25252525)\n",
    "print(b)\n",
    "print(\"indexing\")\n",
    "time.sleep(2)\n",
    "b.index(2)\n",
    "b[4]\n",
    "print(b)\n",
    "print(\"inserting\")\n",
    "time.sleep(3)\n",
    "b.insert(4,141414)\n",
    "print(b)\n",
    "print(\"poping\")\n",
    "time.sleep(2)\n",
    "b.pop()\n",
    "print(b)\n",
    "print(\"removeing\")\n",
    "time.sleep(2)\n",
    "b.remove(100)\n",
    "print(b)\n",
    "print(\"reverseing\")\n",
    "time.sleep(2)\n",
    "b.reverse()\n",
    "print(b)\n",
    "print(\"sortinging\")\n",
    "time.sleep(2)\n",
    "b.sort(reverse = False)\n",
    "print(b)\n",
    "print(\"tuple Conversion\")\n",
    "d = tuple(b)\n",
    "print(d)\n",
    "\n"
   ]
  },
  {
   "cell_type": "code",
   "execution_count": 2,
   "id": "0a1a6cf7",
   "metadata": {},
   "outputs": [
    {
     "data": {
      "text/plain": [
       "(7, 8, 9, 14, 20)"
      ]
     },
     "execution_count": 2,
     "metadata": {},
     "output_type": "execute_result"
    }
   ],
   "source": [
    "#slicing of tuple\n",
    "d = (1, 1, 2, 3, 4, 4, 5, 5, 6, 6, 7, 8, 9, 14, 20, 25, 25, 25, 25, 25, 25, 30, 41, 44, 55, 58, 77, 200, 1000, 2000, 3000, 4000, 141414)\n",
    "\n",
    "d[10:15]"
   ]
  },
  {
   "cell_type": "code",
   "execution_count": 3,
   "id": "05094392",
   "metadata": {},
   "outputs": [
    {
     "data": {
      "text/plain": [
       "1000"
      ]
     },
     "execution_count": 3,
     "metadata": {},
     "output_type": "execute_result"
    }
   ],
   "source": [
    "d[-5]"
   ]
  },
  {
   "cell_type": "code",
   "execution_count": 4,
   "id": "facb7522",
   "metadata": {},
   "outputs": [
    {
     "data": {
      "text/plain": [
       "()"
      ]
     },
     "execution_count": 4,
     "metadata": {},
     "output_type": "execute_result"
    }
   ],
   "source": [
    "d[-1:-5]"
   ]
  },
  {
   "cell_type": "code",
   "execution_count": 5,
   "id": "daaaa541",
   "metadata": {},
   "outputs": [
    {
     "data": {
      "text/plain": [
       "(1000, 2000, 3000, 4000)"
      ]
     },
     "execution_count": 5,
     "metadata": {},
     "output_type": "execute_result"
    }
   ],
   "source": [
    "d[-5:-1]"
   ]
  },
  {
   "cell_type": "code",
   "execution_count": 8,
   "id": "0d572541",
   "metadata": {},
   "outputs": [
    {
     "name": "stdout",
     "output_type": "stream",
     "text": [
      "['ram', 'sham', 'pam', 15, 47, 85]\n"
     ]
    }
   ],
   "source": [
    "j = [10,25,30,15,47,85]\n",
    "j[0:3] = ['ram', \"sham\", \"pam\"]\n",
    "print(j)"
   ]
  },
  {
   "cell_type": "code",
   "execution_count": 10,
   "id": "4e47481e",
   "metadata": {},
   "outputs": [
    {
     "name": "stdout",
     "output_type": "stream",
     "text": [
      "['ram', 'sham', [10, 100, 300], 15, 47, 85]\n"
     ]
    }
   ],
   "source": [
    "j[2] = [10,100,300]\n",
    "print(j)"
   ]
  },
  {
   "cell_type": "code",
   "execution_count": 13,
   "id": "4af58a1b",
   "metadata": {},
   "outputs": [
    {
     "name": "stdout",
     "output_type": "stream",
     "text": [
      "['ram', 'sham']\n"
     ]
    }
   ],
   "source": [
    "j[0:2]\n",
    "print(j[0:2])"
   ]
  },
  {
   "cell_type": "code",
   "execution_count": 15,
   "id": "54694271",
   "metadata": {},
   "outputs": [
    {
     "name": "stdout",
     "output_type": "stream",
     "text": [
      "1\n"
     ]
    }
   ],
   "source": [
    "v = (1,2,3)\n",
    "print(v[0])"
   ]
  },
  {
   "cell_type": "code",
   "execution_count": null,
   "id": "752d77e4",
   "metadata": {},
   "outputs": [],
   "source": []
  }
 ],
 "metadata": {
  "kernelspec": {
   "display_name": "Python 3 (ipykernel)",
   "language": "python",
   "name": "python3"
  },
  "language_info": {
   "codemirror_mode": {
    "name": "ipython",
    "version": 3
   },
   "file_extension": ".py",
   "mimetype": "text/x-python",
   "name": "python",
   "nbconvert_exporter": "python",
   "pygments_lexer": "ipython3",
   "version": "3.11.0"
  }
 },
 "nbformat": 4,
 "nbformat_minor": 5
}
