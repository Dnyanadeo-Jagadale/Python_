{
 "cells": [
  {
   "cell_type": "markdown",
   "id": "8db7de3f",
   "metadata": {},
   "source": [
    "# Tuple"
   ]
  },
  {
   "cell_type": "code",
   "execution_count": null,
   "id": "df3b3087",
   "metadata": {},
   "outputs": [],
   "source": [
    "#list1 = ()\n",
    "\n",
    "'tuple' object has no attribute 'append'\n",
    "'tuple' object has no attribute 'clear'\n",
    "'tuple' object has no attribute 'copy'\n",
    "'tuple' object has no attribute 'extend'\n",
    "'tuple' object has no attribute 'insert'\n",
    "'tuple' object has no attribute 'pop'\n",
    "'tuple' object has no attribute 'remove'\n",
    "'tuple' object has no attribute 'Reverse'\n",
    "'tuple' object has no attribute 'sort'\n",
    "list1.count()\n",
    "list1.index()"
   ]
  },
  {
   "cell_type": "code",
   "execution_count": 25,
   "id": "71c1dd6f",
   "metadata": {},
   "outputs": [
    {
     "data": {
      "text/plain": [
       "(1, 2, 3, 4, 5, 6, 7, 8)"
      ]
     },
     "execution_count": 25,
     "metadata": {},
     "output_type": "execute_result"
    }
   ],
   "source": [
    "tup = tuple((1,2,3,4,5,6,7,8))\n",
    "(tup)\n",
    "#l1 = list(tup)\n",
    "#print(l1)"
   ]
  },
  {
   "cell_type": "code",
   "execution_count": 8,
   "id": "d80eb99e",
   "metadata": {},
   "outputs": [
    {
     "data": {
      "text/plain": [
       "1"
      ]
     },
     "execution_count": 8,
     "metadata": {},
     "output_type": "execute_result"
    }
   ],
   "source": [
    "#  .count(count the occurrences)\n",
    "tup.count(5)"
   ]
  },
  {
   "cell_type": "code",
   "execution_count": 4,
   "id": "79784279",
   "metadata": {},
   "outputs": [
    {
     "data": {
      "text/plain": [
       "4"
      ]
     },
     "execution_count": 4,
     "metadata": {},
     "output_type": "execute_result"
    }
   ],
   "source": [
    "tup.index(5)"
   ]
  },
  {
   "cell_type": "code",
   "execution_count": 20,
   "id": "2122d878",
   "metadata": {},
   "outputs": [
    {
     "data": {
      "text/plain": [
       "1"
      ]
     },
     "execution_count": 20,
     "metadata": {},
     "output_type": "execute_result"
    }
   ],
   "source": [
    "tup.count(7)"
   ]
  },
  {
   "cell_type": "code",
   "execution_count": null,
   "id": "40a84feb",
   "metadata": {},
   "outputs": [],
   "source": []
  }
 ],
 "metadata": {
  "kernelspec": {
   "display_name": "Python 3 (ipykernel)",
   "language": "python",
   "name": "python3"
  },
  "language_info": {
   "codemirror_mode": {
    "name": "ipython",
    "version": 3
   },
   "file_extension": ".py",
   "mimetype": "text/x-python",
   "name": "python",
   "nbconvert_exporter": "python",
   "pygments_lexer": "ipython3",
   "version": "3.11.0"
  }
 },
 "nbformat": 4,
 "nbformat_minor": 5
}
