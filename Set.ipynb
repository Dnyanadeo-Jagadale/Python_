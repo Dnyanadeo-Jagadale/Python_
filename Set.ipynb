{
 "cells": [
  {
   "cell_type": "markdown",
   "id": "27a782e0",
   "metadata": {},
   "source": [
    "# Set Operations\n",
    "\n",
    "Method\tDescription\n",
    "\n",
    "set.add()\tAdds an element to the set\n",
    "\n",
    "set.clear()\tRemoves all the elements from the set\n",
    "\n",
    "set.copy()\tReturns a copy of the set\n",
    "\n",
    "set.difference()\tReturns a set containing the difference between two or more sets\n",
    "\n",
    "set.difference_update()\tRemoves the items in this set that are also included in another, specified set\n",
    "\n",
    "set.discard()\tRemove the specified item\n",
    "\n",
    "set.intersection()\tReturns a set, that is the intersection of two or more sets\n",
    "\n",
    "set.intersection_update()\tRemoves the items in this set that are not present in other, specified set(s)\n",
    "\n",
    "isdisjoint()\tReturns whether two sets have a intersection or not\n",
    "\n",
    "issubset()\tReturns whether another set contains this set or not\n",
    "\n",
    "issuperset()\tReturns whether this set contains another set or not\n",
    "\n",
    "pop()\tRemoves an element from the set\n",
    "\n",
    "remove()\tRemoves the specified element\n",
    "\n",
    "symmetric_difference()\tReturns a set with the symmetric differences of two sets\n",
    "\n",
    "symmetric_difference_update()\tinserts the symmetric differences from this set and another\n",
    "\n",
    "union()\tReturn a set containing the union of sets\n",
    "\n",
    "update()\tUpdate the set with another set, or any other iterable"
   ]
  },
  {
   "cell_type": "code",
   "execution_count": 8,
   "id": "715e62de",
   "metadata": {},
   "outputs": [
    {
     "name": "stdout",
     "output_type": "stream",
     "text": [
      "{'banana', 'apple', 'cherry'}\n"
     ]
    }
   ],
   "source": [
    "myset = {\"apple\", \"banana\", \"cherry\"}\n",
    "yourset = {\"tiger\", \"lion\", \"cow\"}\n",
    "print(myset)"
   ]
  },
  {
   "cell_type": "code",
   "execution_count": 11,
   "id": "bb01c650",
   "metadata": {},
   "outputs": [
    {
     "name": "stdout",
     "output_type": "stream",
     "text": [
      "{'banana', 'apple', 'mango', 'cherry'}\n",
      "--------------------------------------\n",
      "{'banana', 'apple', 'mango', 'cherry'}\n"
     ]
    }
   ],
   "source": [
    "#add\n",
    "\n",
    "myset = {\"apple\", \"banana\", \"cherry\"}\n",
    "yourset = {\"tiger\", \"lion\", \"cow\"}\n",
    "myset.add(\"mango\")\n",
    "print(myset)\n",
    "print(\"--------------------------------------\")\n",
    "myset.copy()\n",
    "print(myset)"
   ]
  },
  {
   "cell_type": "code",
   "execution_count": 14,
   "id": "e8606117",
   "metadata": {},
   "outputs": [
    {
     "name": "stdout",
     "output_type": "stream",
     "text": [
      "{'banana', 'cherry'}\n"
     ]
    }
   ],
   "source": [
    "#difference\n",
    "\n",
    "myset = {\"apple\", \"banana\", \"cherry\"}\n",
    "yourset = {\"tiger\", \"lion\", \"cow\", \"apple\"}\n",
    "z = myset.difference(yourset)\n",
    "print(z)"
   ]
  },
  {
   "cell_type": "code",
   "execution_count": 19,
   "id": "52f3d548",
   "metadata": {},
   "outputs": [
    {
     "name": "stdout",
     "output_type": "stream",
     "text": [
      "None\n",
      "{'banana', 'cherry'}\n",
      "{'lion', 'apple', 'cow', 'tiger'}\n"
     ]
    }
   ],
   "source": [
    "#difference_update\n",
    "\n",
    "myset = {\"apple\", \"banana\", \"cherry\",\"cow\"}\n",
    "yourset = {\"tiger\", \"lion\", \"cow\", \"apple\"}\n",
    "z = myset.difference_update(yourset)\n",
    "print(z)\n",
    "print(myset)\n",
    "print(yourset)"
   ]
  },
  {
   "cell_type": "code",
   "execution_count": 3,
   "id": "1db3007c",
   "metadata": {},
   "outputs": [
    {
     "name": "stdout",
     "output_type": "stream",
     "text": [
      "{'apple', 1, 2, 3, 4, 5, 6, 'krish', 'banana', 'cherry'}\n"
     ]
    }
   ],
   "source": [
    "#update\n",
    "\n",
    "set = {1,2,3,\"krish\",4,5,6}\n",
    "myset = {\"apple\", \"banana\", \"cherry\"}\n",
    "yourset = {\"tiger\", \"lion\", \"cow\", \"apple\"}\n",
    "set.update(myset)\n",
    "print(set)\n",
    "\n"
   ]
  },
  {
   "cell_type": "code",
   "execution_count": 7,
   "id": "db5b5091",
   "metadata": {},
   "outputs": [
    {
     "name": "stdout",
     "output_type": "stream",
     "text": [
      "{1, 2, 3, 4, 5, 6}\n",
      "{'apple', 'cherry'}\n",
      "apple\n",
      "{'lion', 'tiger', 'cow'}\n"
     ]
    }
   ],
   "source": [
    "#remove() discard() pop()\n",
    "\n",
    "set = {1,2,3,\"krish\",4,5,6}\n",
    "myset = {\"apple\", \"banana\", \"cherry\"}\n",
    "yourset = {\"tiger\", \"lion\", \"cow\", \"apple\"}\n",
    "\n",
    "set.remove(\"krish\")\n",
    "print(set)\n",
    "\n",
    "myset.discard(\"banana\")\n",
    "print(myset)\n",
    "\n",
    "result = yourset.pop()\n",
    "print(result)\n",
    "print(yourset)\n",
    "\n"
   ]
  },
  {
   "cell_type": "code",
   "execution_count": 10,
   "id": "1a9f5da9",
   "metadata": {},
   "outputs": [
    {
     "name": "stdout",
     "output_type": "stream",
     "text": [
      "{1, 2, 3, 4, 5, 6, 7, 8, 9, 10}\n"
     ]
    }
   ],
   "source": [
    "#union\n",
    "s1 = {1,2,3,4,5,6}\n",
    "s2 = {2,7,8,9,1,10}\n",
    "s3 = s1.union(s2)\n",
    "print(s3)\n"
   ]
  },
  {
   "cell_type": "code",
   "execution_count": 18,
   "id": "1139f8d1",
   "metadata": {},
   "outputs": [
    {
     "name": "stdout",
     "output_type": "stream",
     "text": [
      "{2}\n"
     ]
    }
   ],
   "source": [
    "#intersection\n",
    "\n",
    "s4 = {1,2,3,4,5,}\n",
    "s5 = {2,7,8,9,6}\n",
    "s6 = s4.intersection(s5)\n",
    "print(s6)\n",
    "\n"
   ]
  },
  {
   "cell_type": "code",
   "execution_count": 17,
   "id": "536442d4",
   "metadata": {},
   "outputs": [
    {
     "name": "stdout",
     "output_type": "stream",
     "text": [
      "{'apple'}\n"
     ]
    }
   ],
   "source": [
    "x = {\"apple\", \"banana\", \"cherry\"}\n",
    "y = {\"google\", \"microsoft\", \"apple\"}\n",
    "\n",
    "z = x.intersection(y) \n",
    "\n",
    "print(z)"
   ]
  },
  {
   "cell_type": "code",
   "execution_count": 20,
   "id": "654d450f",
   "metadata": {},
   "outputs": [
    {
     "name": "stdout",
     "output_type": "stream",
     "text": [
      "{'banana', 'cherry'}\n",
      "{'apple', 'microsoft', 'google'}\n",
      "None\n"
     ]
    }
   ],
   "source": [
    "#difference_update\n",
    "\n",
    "x = {\"apple\", \"banana\", \"cherry\"}\n",
    "y = {\"google\", \"microsoft\", \"apple\"}\n",
    "\n",
    "l = x.difference_update(y)\n",
    "\n",
    "print(x)\n",
    "print(y)\n",
    "print(l)"
   ]
  },
  {
   "cell_type": "code",
   "execution_count": 28,
   "id": "4a065ea3",
   "metadata": {},
   "outputs": [
    {
     "name": "stdout",
     "output_type": "stream",
     "text": [
      "{'apple', 'chery', 'banana'}\n",
      "{'apple', 'microsoft', 'google'}\n",
      "{'microsoft', 'banana', 'google', 'chery'}\n"
     ]
    }
   ],
   "source": [
    "#symmetric_difference\n",
    "x = {\"apple\", \"banana\", \"chery\"}\n",
    "y = {\"google\", \"microsoft\", \"apple\"}\n",
    "\n",
    "z = x.symmetric_difference(y) \n",
    "\n",
    "print(x)\n",
    "print(y)\n",
    "print(z)"
   ]
  },
  {
   "cell_type": "code",
   "execution_count": 27,
   "id": "6bd25cc1",
   "metadata": {},
   "outputs": [
    {
     "name": "stdout",
     "output_type": "stream",
     "text": [
      "{'baana', 'microsoft', 'cherry', 'google'}\n"
     ]
    }
   ],
   "source": [
    "k = {\"apple\", \"baana\", \"cherry\"}\n",
    "m = {\"google\", \"microsoft\", \"apple\"}\n",
    "\n",
    "k.symmetric_difference_update(m)\n",
    "\n",
    "print(k)"
   ]
  },
  {
   "cell_type": "code",
   "execution_count": 11,
   "id": "8cfad637",
   "metadata": {},
   "outputs": [
    {
     "name": "stdout",
     "output_type": "stream",
     "text": [
      "False\n",
      "False\n",
      "False\n"
     ]
    }
   ],
   "source": [
    "k = {\"apple\", \"banana\", \"cherry\"}\n",
    "m = {\"google\", \"microsoft\", \"cherry\"}\n",
    "print(k.isdisjoint(m))\n",
    "print(k.issubset(m))\n",
    "print(k.issuperset(m))"
   ]
  },
  {
   "cell_type": "code",
   "execution_count": null,
   "id": "c30a2d0a",
   "metadata": {},
   "outputs": [],
   "source": []
  }
 ],
 "metadata": {
  "kernelspec": {
   "display_name": "Python 3 (ipykernel)",
   "language": "python",
   "name": "python3"
  },
  "language_info": {
   "codemirror_mode": {
    "name": "ipython",
    "version": 3
   },
   "file_extension": ".py",
   "mimetype": "text/x-python",
   "name": "python",
   "nbconvert_exporter": "python",
   "pygments_lexer": "ipython3",
   "version": "3.11.0"
  }
 },
 "nbformat": 4,
 "nbformat_minor": 5
}
