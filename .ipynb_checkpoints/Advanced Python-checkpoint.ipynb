{
 "cells": [
  {
   "cell_type": "raw",
   "id": "90a4ca44",
   "metadata": {},
   "source": [
    "A lambda function is a small anonymous function.\n",
    "\n",
    "A lambda function can take any number of arguments, but can only have one expression.\n",
    "\n",
    "Syntax\n",
    "lambda arguments : expression\n",
    "\n",
    "\n",
    "Why Use Lambda Functions?\n",
    "The power of lambda is better shown when you use them as an anonymous function inside another function.\n",
    "\n"
   ]
  },
  {
   "cell_type": "code",
   "execution_count": 114,
   "id": "203f155e",
   "metadata": {},
   "outputs": [
    {
     "name": "stdout",
     "output_type": "stream",
     "text": [
      "find the Square of 10\n",
      "Square of 10 is:- 100\n",
      "find the Square of 20\n",
      "Square of 10 is:- 400\n"
     ]
    }
   ],
   "source": [
    "# take any number of arguments * lambda exponant of value two\n",
    "\n",
    "sqr = lambda num : num ** 2\n",
    "\n",
    "\n",
    "print(\"find the Square of 10\")\n",
    "print(\"Square of 10 is:-\",sqr(10))\n",
    "\n",
    "print(\"find the Square of 20\")\n",
    "print(\"Square of 10 is:-\",sqr(20))"
   ]
  },
  {
   "cell_type": "code",
   "execution_count": 10,
   "id": "9f1b2140",
   "metadata": {},
   "outputs": [
    {
     "name": "stdout",
     "output_type": "stream",
     "text": [
      "Find the addition of any 3 numbers\n",
      "addition 60\n"
     ]
    }
   ],
   "source": [
    "# any number of arguments\n",
    "\n",
    "add = lambda x,y,z : x+y+z\n",
    "\n",
    "\n",
    "print(\"Find the addition of any 3 numbers\")\n",
    "\n",
    "add(10,20,30)\n",
    "\n",
    "print(\"addition\",add(10,30,20))\n",
    "\n",
    "\n"
   ]
  },
  {
   "cell_type": "code",
   "execution_count": null,
   "id": "f5f19c30",
   "metadata": {},
   "outputs": [],
   "source": [
    "'''\n",
    "Why lambda is powerful?\n",
    "\n",
    "Use lambda inside another function\n",
    "lets undwertandthat it isadded with some other unknown number\n",
    "\n",
    "'''\n",
    "\n",
    "\n",
    "\n",
    "\n"
   ]
  },
  {
   "cell_type": "code",
   "execution_count": 31,
   "id": "611de907",
   "metadata": {},
   "outputs": [
    {
     "name": "stdout",
     "output_type": "stream",
     "text": [
      "value of N is : 5\n",
      "myfun printed 50\n"
     ]
    }
   ],
   "source": [
    "def myfun(n):\n",
    "    print(\"value of N is :\",n)\n",
    "    \n",
    "    return (lambda a : a*n)\n",
    "    print(a)\n",
    "\n",
    "\n",
    "otherfun = myfun(5)\n",
    "print(\"myfun printed\",otherfun(10))\n"
   ]
  },
  {
   "cell_type": "code",
   "execution_count": 113,
   "id": "b4877d23",
   "metadata": {},
   "outputs": [
    {
     "name": "stdout",
     "output_type": "stream",
     "text": [
      "Here 'def' printed test 40\n",
      "\n",
      "Here lambda printed test 60\n"
     ]
    }
   ],
   "source": [
    "def test(x):\n",
    "    print(x*2)\n",
    "    \n",
    "x = 20\n",
    "\n",
    "print(\"Here 'def' printed test\",x*2)\n",
    "\n",
    "\n",
    "result = lambda y : y*3\n",
    "\n",
    "\n",
    "\n",
    "print(\"\\nHere lambda printed test\",result(20))\n",
    "\n",
    "    "
   ]
  },
  {
   "cell_type": "code",
   "execution_count": 120,
   "id": "e999006a",
   "metadata": {},
   "outputs": [
    {
     "name": "stdout",
     "output_type": "stream",
     "text": [
      "The value of function 'fun' is:-  10\n",
      " function lambda is:-  20\n"
     ]
    }
   ],
   "source": [
    "def funt(t):\n",
    "    print(\"The value of function from 'fun' is:- \",t)\n",
    "    \n",
    "funt(10)\n",
    "\n",
    "\n",
    "def sun(k):\n",
    "    return (lambda m : m*k)\n",
    "    \n",
    "pro = sun(2)\n",
    "print(\" The value from function lambda is:- \",pro(10))"
   ]
  },
  {
   "cell_type": "markdown",
   "id": "648305bd",
   "metadata": {},
   "source": [
    "# Class"
   ]
  },
  {
   "cell_type": "raw",
   "id": "39b76204",
   "metadata": {},
   "source": [
    "# In python everything is object, whch has its properties and methods function\n",
    "# Python is object oriented programming launguage\n",
    " Class is blueprintof an object from which objects can be created\n",
    "    \n",
    "    syntax:\n",
    "class Classname:\n",
    "    class body\n",
    "    \n",
    "\n",
    "\n",
    "Class : Third_Year\n",
    "\n",
    "propertied:\n",
    "1.rollno\n",
    "2.name\n",
    "3.marks\n",
    "\n",
    "Methods:\n",
    "display()\n",
    "\n",
    "\n",
    "\n",
    "\n",
    "\n",
    "object\n",
    "\n",
    "O1\n",
    "\n",
    "\n",
    "name = ram\n",
    "rollno = 1\n",
    "marks = 80\n",
    "\n",
    "O2\n",
    "\n",
    "\n",
    "name = ram\n",
    "rollno = 1\n",
    "marks = 80\n",
    "\n",
    "class employee\n",
    "properties\n",
    "1. id\n",
    "2. name\n",
    "3.salary\n",
    "4. department\n",
    "\n",
    "mentods\n",
    "printsalary()\n",
    "printpdetails()\n",
    "\n",
    "Fearures\n",
    "1. inheritance\n",
    "2. Abstraction\n",
    "3.polymoephisam\n",
    "\n"
   ]
  },
  {
   "cell_type": "code",
   "execution_count": 10,
   "id": "2aa80e96",
   "metadata": {},
   "outputs": [
    {
     "name": "stdout",
     "output_type": "stream",
     "text": [
      "Akshay\n"
     ]
    }
   ],
   "source": [
    "# Createe a class student ehenever want\n",
    "class Student:\n",
    "    name = \"Akshay\"\n",
    "    \n",
    "#create a object\n",
    "\n",
    "o1 = Student()\n",
    "\n",
    "#print the object  obj.properties\n",
    "print(o1.name)\n",
    "\n"
   ]
  },
  {
   "cell_type": "code",
   "execution_count": 12,
   "id": "e9712485",
   "metadata": {},
   "outputs": [
    {
     "name": "stdout",
     "output_type": "stream",
     "text": [
      "details of employee\n",
      "emp detals emp1 ram 20000\n"
     ]
    }
   ],
   "source": [
    "class employee:\n",
    "    #properties\n",
    "    eid = \"emp1\"\n",
    "    ename = \"ram\"\n",
    "    salary = 20000\n",
    "    \n",
    "e = employee()\n",
    "\n",
    "print (\"details of employee\")\n",
    "print(\"emp detals\",e.eid,e.ename,e.salary)"
   ]
  },
  {
   "cell_type": "code",
   "execution_count": null,
   "id": "de2b7949",
   "metadata": {},
   "outputs": [],
   "source": [
    "'''\n",
    "How the real class works\n",
    "\n",
    "# __init__() Function\n",
    "\n",
    "1. All classes will have method called __init__()\n",
    "\n",
    "2. This function gets called when an object is being created.\n",
    "\n",
    "3. This function is used to assign the values to \n",
    "the properties of the class\n",
    "\n",
    "4. It means that, we can do all operationss which \n",
    "are neccessary to do at the time of the object creation.\n",
    "\n",
    "5. __init__() method get called automatically when \n",
    "an object is initiated.\n",
    "\n",
    "'''\n",
    "\n",
    "\n",
    "\n"
   ]
  },
  {
   "cell_type": "code",
   "execution_count": 15,
   "id": "ec0dd14d",
   "metadata": {},
   "outputs": [
    {
     "name": "stdout",
     "output_type": "stream",
     "text": [
      "('Employee ID', 101) \n",
      " ('Employee Name', 'Shlok') \n",
      " ('Employee Salary', 20000) \n",
      " ('Employee Mobile', 8600261063)\n",
      "('Employee ID', 102) \n",
      " ('Employee Name', 'Shivansh') \n",
      " ('Employee Salary', 30000) \n",
      " ('Employee Mobile', 9800261063)\n"
     ]
    }
   ],
   "source": [
    "class employee:\n",
    "    def __init__(self,id,name,salary,mobile):\n",
    "        self.eid = id\n",
    "        self.ename = name\n",
    "        self.esalary = salary\n",
    "        self.emobile = mobile\n",
    "        \n",
    "o1 = employee(101,\"Shlok\",20000,8600261063)\n",
    "o2 = employee(102,\"Shivansh\",30000,9800261063)\n",
    "\n",
    "\n",
    "print((\"Employee ID\",o1.eid),(\"\\n\"),\n",
    "      (\"Employee Name\",o1.ename),(\"\\n\"), \n",
    "      (\"Employee Salary\",o1.esalary),(\"\\n\"),\n",
    "      (\"Employee Mobile\",o1.emobile))\n",
    "print((\"Employee ID\",o2.eid),(\"\\n\"),\n",
    "      (\"Employee Name\",o2.ename),(\"\\n\"), \n",
    "      (\"Employee Salary\",o2.esalary),(\"\\n\"),\n",
    "      (\"Employee Mobile\",o2.emobile))"
   ]
  },
  {
   "cell_type": "code",
   "execution_count": 41,
   "id": "f8d7396c",
   "metadata": {},
   "outputs": [
    {
     "name": "stdout",
     "output_type": "stream",
     "text": [
      "('Student Name', 'Ramesh') \n",
      " ('Student Class', 'BE') \n",
      " ('Student age', 21) \n",
      "\n",
      "('Student Name', 'Rahul') \n",
      " ('Student Class', 'BE') \n",
      " ('Student age', 21) \n",
      "\n",
      "Ramesh Data :- \n",
      "('Student Name', 'Ramesh') \n",
      " ('Student Class', 'BE') \n",
      " ('Student age', 21) \n",
      "\n",
      "Shlok Data:- \n",
      "('Student Name', 'Shlok') \n",
      " ('Student Class', 'UKG') \n",
      " ('Student age', '5.6 Yrs') \n",
      "\n",
      "Swati Data:- \n",
      "('Student Name', 'Swati') \n",
      " ('Student Class', 'MSc') \n",
      " ('Student age', 32) \n",
      "\n"
     ]
    }
   ],
   "source": [
    "class Student:\n",
    "    def __init__ (self,name,Class, age):\n",
    "        self.sname = name\n",
    "        self.sClass = Class\n",
    "        self.sage = age\n",
    "        \n",
    "    def Display(self):\n",
    "        print((\"Student Name\",self.sname),(\"\\n\"),\n",
    "              (\"Student Class\",self.sClass),(\"\\n\"),\n",
    "        (\"Student age\",self.sage),(\"\\n\"))\n",
    "    \n",
    "    def ChangeName(self,Ch_name):\n",
    "            self.sname = Ch_name\n",
    "            self.Display()\n",
    "    \n",
    "Studchnm = Student(\"Ramesh\",\"BE\",21)\n",
    "Studchnm.Display()\n",
    "nm = \"Rahul\"\n",
    "Studchnm.ChangeName(nm)  \n",
    "        \n",
    "\n",
    "\n",
    "Stud1 = Student(\"Ramesh\",\"BE\",21)\n",
    "Stud2 = Student(\"Shlok\",\"UKG\",\"5.6 Yrs\")\n",
    "Stud3 = Student(\"Swati\",\"MSc\", 32)   \n",
    "\n",
    "\n",
    "print(\"Ramesh Data :- \")\n",
    "Stud1.Display()\n",
    "print(\"Shlok Data:- \")\n",
    "Stud2.Display()\n",
    "print(\"Swati Data:- \")\n",
    "Stud3.Display()\n",
    "    "
   ]
  },
  {
   "cell_type": "markdown",
   "id": "11ed8e95",
   "metadata": {},
   "source": [
    "# Inheritance"
   ]
  },
  {
   "cell_type": "code",
   "execution_count": null,
   "id": "b78e19f6",
   "metadata": {},
   "outputs": [],
   "source": [
    "'''Inheritance is a property of OO language that allows a class to derive properties of other/parent class\n",
    "\n",
    "Parent/Base class:\n",
    "        It is the class which gets inherited\n",
    "        \n",
    "Derived / Child Class:\n",
    "        It is the class which inherits poperties from other class or parent class \n",
    "\n",
    "'''"
   ]
  },
  {
   "cell_type": "code",
   "execution_count": 82,
   "id": "96ddea81",
   "metadata": {},
   "outputs": [
    {
     "name": "stdout",
     "output_type": "stream",
     "text": [
      "Name Dnyanadeo :  age 37\n",
      "Name Shlok :  age: 5.6 and Std UKG\n"
     ]
    }
   ],
   "source": [
    "class Father: #Parent class\n",
    "    def __init__(self, name, age):\n",
    "        self.name = name\n",
    "        self.age = age\n",
    "        \n",
    "    def Display(self):\n",
    "        print(\"Name\", self.name,\"age\", self.age)\n",
    "        #print(\"age\" , self.age)\n",
    "\n",
    "class Son(Father): # Child Class\n",
    "    def __init__(self, name, age,grade):\n",
    "        super().__init__(name,age)\n",
    "        self.grade = grade\n",
    "        \n",
    "    def Display(self):\n",
    "        print(\"Name\", self.name,\"age:\", self.age,\"and Std\",self.grade)#inheriting \"name and age\" from class father\n",
    "        #super().Display(),(\"\\n\")\n",
    "        #print(self.grade)\n",
    "        \n",
    "        \n",
    "        \n",
    "f = Father(\"Dnyanadeo : \", 37)\n",
    "s = Son(\"Shlok : \",5.6,\"UKG\")\n",
    "\n",
    "f.Display()\n",
    "s.Display()\n",
    "\n",
    "\n",
    "        "
   ]
  },
  {
   "cell_type": "markdown",
   "id": "594ba819",
   "metadata": {},
   "source": [
    "# Python Iterators"
   ]
  },
  {
   "cell_type": "code",
   "execution_count": null,
   "id": "628f383d",
   "metadata": {},
   "outputs": [],
   "source": [
    "'''Python Iterators\n",
    "An iterator is an object that contains a countable number of values.\n",
    "\n",
    "An iterator is an object that can be iterated upon, meaning that you can traverse through all the values.\n",
    "\n",
    "Technically, in Python, an iterator is an object which implements the iterator protocol, \n",
    "which consist of the methods __iter__() and __next__().\n",
    "\n",
    "Iterator vs Iterable\n",
    "Lists, tuples, dictionaries, and sets are all iterable objects. \n",
    "They are iterable containers which you can get an iterator from.\n",
    "\n",
    "All these objects have a iter() method which is used to get an iterator:'''\n"
   ]
  },
  {
   "cell_type": "code",
   "execution_count": 7,
   "id": "0113d1f7",
   "metadata": {},
   "outputs": [
    {
     "name": "stdout",
     "output_type": "stream",
     "text": [
      "10\n",
      "20\n",
      "30\n",
      "40\n"
     ]
    }
   ],
   "source": [
    "# example of list \n",
    "\n",
    "tup = (10,20,30,40,50)\n",
    "\n",
    "itr = iter(tup)\n",
    "print(next(itr))  #10\n",
    "print(next(itr))  #20\n",
    "print(next(itr))  #30\n",
    "print(next(itr))  #40"
   ]
  },
  {
   "cell_type": "code",
   "execution_count": 12,
   "id": "28a10dec",
   "metadata": {},
   "outputs": [
    {
     "name": "stdout",
     "output_type": "stream",
     "text": [
      "I\n",
      " \n",
      "l\n",
      "o\n",
      "v\n",
      "e\n",
      " \n",
      "D\n",
      "a\n",
      "t\n",
      "a\n",
      " \n"
     ]
    }
   ],
   "source": [
    "#iterator on string\n",
    "\n",
    "strng = \"I love Data Science\"\n",
    "\n",
    "itrr = iter(strng)\n",
    "print(next(itrr))  #I\n",
    "print(next(itrr))  # \n",
    "print(next(itrr))\n",
    "print(next(itrr))\n",
    "print(next(itrr))\n",
    "print(next(itrr))\n",
    "print(next(itrr))\n",
    "print(next(itrr))\n",
    "print(next(itrr))\n",
    "print(next(itrr))\n",
    "print(next(itrr))\n",
    "print(next(itrr))"
   ]
  },
  {
   "cell_type": "code",
   "execution_count": 13,
   "id": "814d6a96",
   "metadata": {},
   "outputs": [
    {
     "name": "stdout",
     "output_type": "stream",
     "text": [
      "I\n",
      " \n",
      "l\n",
      "o\n",
      "v\n",
      "e\n",
      " \n",
      "D\n",
      "a\n",
      "t\n",
      "a\n",
      " \n",
      "S\n",
      "c\n",
      "i\n",
      "e\n",
      "n\n",
      "c\n",
      "e\n"
     ]
    }
   ],
   "source": [
    "# for loop\n",
    "\n",
    "for x in strng:\n",
    "    print(x)"
   ]
  },
  {
   "cell_type": "code",
   "execution_count": 16,
   "id": "4a894fa6",
   "metadata": {},
   "outputs": [
    {
     "name": "stdout",
     "output_type": "stream",
     "text": [
      "apple\n",
      "banana\n",
      "cherry\n"
     ]
    }
   ],
   "source": [
    "#list\n",
    "\n",
    "mylist = [\"apple\", \"banana\", \"cherry\"]\n",
    "\n",
    "itr1 = iter(mylist)\n",
    "\n",
    "print(next(itr1))\n",
    "print(next(itr1))\n",
    "print(next(itr1))\n",
    "#print(next(itr1))"
   ]
  },
  {
   "cell_type": "code",
   "execution_count": 7,
   "id": "1031cfa0",
   "metadata": {},
   "outputs": [
    {
     "name": "stdout",
     "output_type": "stream",
     "text": [
      "1\n",
      "2\n",
      "3\n",
      "4\n",
      "5\n",
      "6\n",
      "7\n",
      "8\n",
      "9\n",
      "10\n"
     ]
    }
   ],
   "source": [
    "# for loop and __iter__() and __next__()\n",
    "\n",
    "#print the series of number from 1\n",
    "\n",
    "class Counter:\n",
    "    def __iter__(self):\n",
    "        self.val = 1\n",
    "        return self\n",
    "    def __next__(self):\n",
    "        x = self.val\n",
    "        self.val += 1\n",
    "        \n",
    "        if x == 11:\n",
    "            raise StopIteration\n",
    "            \n",
    "        return x\n",
    "\n",
    "count = Counter()\n",
    "\n",
    "itrr1 = iter(count)\n",
    "\n",
    "for x in itrr1:\n",
    "    print(x)"
   ]
  },
  {
   "cell_type": "markdown",
   "id": "25d037ff",
   "metadata": {},
   "source": [
    "# Scope of variable "
   ]
  },
  {
   "cell_type": "markdown",
   "id": "628625d3",
   "metadata": {},
   "source": [
    "# There are two type of scope.\n",
    "\n",
    "# 1. local  \n",
    "# 2. Global"
   ]
  },
  {
   "cell_type": "code",
   "execution_count": 6,
   "id": "134abe7e",
   "metadata": {},
   "outputs": [
    {
     "name": "stdout",
     "output_type": "stream",
     "text": [
      "10\n",
      "10\n",
      "None\n"
     ]
    }
   ],
   "source": [
    "d = 20\n",
    "e = 30\n",
    "def sub():\n",
    "    s = 41\n",
    "    r = 31\n",
    "    g = s-r\n",
    "    print(g)\n",
    "    \n",
    "sub()\n"
   ]
  },
  {
   "cell_type": "code",
   "execution_count": 7,
   "id": "eed9702b",
   "metadata": {},
   "outputs": [
    {
     "name": "stdout",
     "output_type": "stream",
     "text": [
      "Windows\n"
     ]
    }
   ],
   "source": [
    "import platform\n",
    "\n",
    "ys = platform.system()\n",
    "print(ys)"
   ]
  },
  {
   "cell_type": "markdown",
   "id": "227d59d6",
   "metadata": {},
   "source": [
    "# Date time"
   ]
  },
  {
   "cell_type": "code",
   "execution_count": 10,
   "id": "c5a479ab",
   "metadata": {},
   "outputs": [
    {
     "name": "stdout",
     "output_type": "stream",
     "text": [
      "Today's Date =  2023-03-12\n",
      "Year     =  2023\n",
      "Month =  3\n",
      "Day     =  12\n",
      "Maximum Year  =  9999\n",
      "Minimum Year  =  1\n"
     ]
    }
   ],
   "source": [
    "import datetime as gm\n",
    " \n",
    "today = gm.date.today()\n",
    " \n",
    "print('Today\\'s Date = ', today)\n",
    "print('Year     = ', today.year)\n",
    "print('Month = ', today.month)\n",
    "print('Day     = ', today.day)\n",
    "\n",
    "print('Maximum Year  = ', gm.MAXYEAR)\n",
    "print('Minimum Year  = ', gm.MINYEAR) "
   ]
  },
  {
   "cell_type": "markdown",
   "id": "93c55889",
   "metadata": {},
   "source": [
    "# python math function \n",
    "\n"
   ]
  },
  {
   "cell_type": "code",
   "execution_count": 11,
   "id": "02759add",
   "metadata": {},
   "outputs": [
    {
     "name": "stdout",
     "output_type": "stream",
     "text": [
      "50\n"
     ]
    }
   ],
   "source": [
    "x = min(100,200,50)\n",
    "print(x)"
   ]
  },
  {
   "cell_type": "code",
   "execution_count": 12,
   "id": "8c59c7f7",
   "metadata": {},
   "outputs": [
    {
     "name": "stdout",
     "output_type": "stream",
     "text": [
      "200\n"
     ]
    }
   ],
   "source": [
    "#absolute positive value\n",
    "m = abs(-200)\n",
    "print(m)"
   ]
  },
  {
   "cell_type": "code",
   "execution_count": 13,
   "id": "5fdf73ca",
   "metadata": {},
   "outputs": [
    {
     "name": "stdout",
     "output_type": "stream",
     "text": [
      "400\n"
     ]
    }
   ],
   "source": [
    "#power function\n",
    "\n",
    "z = pow(20,2)\n",
    "print(z)"
   ]
  },
  {
   "cell_type": "code",
   "execution_count": 16,
   "id": "40ead3b2",
   "metadata": {},
   "outputs": [
    {
     "name": "stdout",
     "output_type": "stream",
     "text": [
      "10.0\n"
     ]
    }
   ],
   "source": [
    "import math as m\n",
    "\n",
    "val = m.sqrt(100)\n",
    "print(val)\n",
    "\n"
   ]
  },
  {
   "cell_type": "markdown",
   "id": "0998ec1d",
   "metadata": {},
   "source": [
    "# JSON"
   ]
  },
  {
   "cell_type": "raw",
   "id": "4d645e10",
   "metadata": {},
   "source": [
    "'''JSON stands for JavaScript Object Notation\n",
    "\n",
    "JSON is a text format for storing and transporting data\n",
    "\n",
    "JSON is \"self-describing\" and easy to understand\n",
    "\n",
    "JSON stands for JavaScript Object Notation\n",
    "JSON is a lightweight data-interchange format\n",
    "JSON is plain text written in JavaScript object notation\n",
    "JSON is used to send data between computers\n",
    "JSON is language independent *\n",
    "*\n",
    "The JSON syntax is derived from JavaScript object notation, but the JSON format is text only.\n",
    "\n",
    "Code for reading and generating JSON exists in many programming languages.\n",
    "\n",
    "JSON is a syntax for storing and exchanging data.\n",
    "\n",
    "JSON is text, written with JavaScript object notation.\n",
    "\n",
    "You can convert Python objects of the following types, into JSON strings:\n",
    "\n",
    "dict\n",
    "list\n",
    "tuple\n",
    "string\n",
    "int\n",
    "float\n",
    "True\n",
    "False\n",
    "None\n",
    "\n",
    "When you convert from Python to JSON, Python objects are converted into the JSON (JavaScript) equivalent:\n",
    "\n",
    "Python\tJSON\n",
    "dict\tObject\n",
    "list\tArray\n",
    "tuple\tArray\n",
    "str\t    String\n",
    "int\t    Number\n",
    "float\tNumber\n",
    "True\ttrue\n",
    "False\tfalse\n",
    "None\tnull\n",
    "\n",
    "\n",
    "\n",
    "\n",
    "'''"
   ]
  },
  {
   "cell_type": "code",
   "execution_count": 37,
   "id": "fb63ca1e",
   "metadata": {
    "scrolled": true
   },
   "outputs": [
    {
     "name": "stdout",
     "output_type": "stream",
     "text": [
      "<class 'str'>\n",
      "{'name': 'Shlok', 'Mobile': '8600261063', 'city': 'Pune'}\n"
     ]
    }
   ],
   "source": [
    "\n",
    "import json\n",
    "\n",
    "student = '{\"name\":\"Shlok\",\"Mobile\":\"8600261063\",\"city\":\"Pune\"}'\n",
    "\n",
    "print(type(student))\n",
    "\n",
    "stud = json.loads(student)\n",
    "print(stud)"
   ]
  },
  {
   "cell_type": "code",
   "execution_count": 47,
   "id": "d584b3ca",
   "metadata": {},
   "outputs": [
    {
     "name": "stdout",
     "output_type": "stream",
     "text": [
      "<class 'dict'>\n",
      "{\"Name\": \"Nitin\", \"emp_ID\": 123456, \"cpmpany\": \"TCS\", \"salary\": 60000}\n",
      "accessing Json elements:-  Name\n"
     ]
    }
   ],
   "source": [
    "# convert a dict to json\n",
    "\n",
    "employee = {\n",
    "    \"Name\": \"Nitin\",\n",
    "    \"emp_ID\" : 123456,\n",
    "    \"cpmpany\": \"TCS\",\n",
    "    \"salary\" : 60000\n",
    "            }\n",
    "\n",
    "print(type(employee))\n",
    "\n",
    "emp = json.dumps(employee)\n",
    "print(emp)\n",
    "print(\"accessing Json elements:- \",emp[2:6])\n",
    "\n"
   ]
  },
  {
   "cell_type": "code",
   "execution_count": 5,
   "id": "3b214250",
   "metadata": {},
   "outputs": [
    {
     "name": "stdout",
     "output_type": "stream",
     "text": [
      "{\"name\": \"John\", \"age\": 30, \"married\": true, \"divorced\": false, \"children\": [\"Ann\", \"Billy\"], \"pets\": null, \"cars\": [{\"model\": \"BMW 230\", \"mpg\": 27.5}, {\"model\": \"Ford Edge\", \"mpg\": 24.1}]}\n"
     ]
    }
   ],
   "source": [
    "import json\n",
    "x = {\n",
    "  \"name\": \"John\",\n",
    "  \"age\": 30,\n",
    "  \"married\": True,\n",
    "  \"divorced\": False,\n",
    "  \"children\": (\"Ann\",\"Billy\"),\n",
    "  \"pets\": None,\n",
    "  \"cars\": [\n",
    "    {\"model\": \"BMW 230\", \"mpg\": 27.5},\n",
    "    {\"model\": \"Ford Edge\", \"mpg\": 24.1}\n",
    "  ]\n",
    "}\n",
    "\n",
    "print(json.dumps(x))"
   ]
  },
  {
   "cell_type": "markdown",
   "id": "9e182d81",
   "metadata": {},
   "source": [
    "# RegEx"
   ]
  },
  {
   "attachments": {
    "image.png": {
     "image/png": "[encoded data removed]"
    }
   },
   "cell_type": "markdown",
   "id": "22ecb04d",
   "metadata": {},
   "source": [
    "A RegEx, or Regular Expression, is a sequence of characters that forms a search pattern.\n",
    "\n",
    "RegEx can be used to check if a string contains the specified search pattern.\n",
    "\n",
    "Character\tDescription\tExample\n",
    "[]\tA set of characters\t[a-m]\n",
    "\\\tSignals a special sequence (can also be used to escape special characters)\t\\d\n",
    ".\tAny character (except newline character)\the..o\n",
    "^\tStarts with\t^hello\n",
    "$\tEnds with\tplanet$\n",
    "*\tZero or more occurrences\the.*o\n",
    "+\tOne or more occurrences\the.+o\n",
    "?\tZero or one occurrences\the.?o\n",
    "{}\tExactly the specified number of occurrences\the.{2}o\n",
    "|\tEither or\tfalls|stays\n",
    "()\tCapture and group\t \n",
    "![image.png](attachment:image.png)"
   ]
  },
  {
   "cell_type": "markdown",
   "id": "866f5908",
   "metadata": {},
   "source": [
    "\\A\tReturns a match if the specified characters are at the beginning of the string\t\"\\AThe\"\t\n",
    "\\b\tReturns a match where the specified characters are at the beginning or at the end of a word\n",
    "(the \"r\" in the beginning is making sure that the string is being treated as a \"raw string\")\tr\"\\bain\"\n",
    "r\"ain\\b\"\t\n",
    "\\B\t       Returns a match where the specified characters are present, but NOT at the beginning (or at the end) of a word\n",
    "(the \"r\" in the beginning is making sure that the string is being treated as a \"raw string\")\tr\"\\Bain\"\n",
    "r\"ain\\B\"\t\n",
    "\\d\t      Returns a match where the string contains digits (numbers from 0-9)\t\"\\d\"\t\n",
    "\\D\tReturns a match where the string DOES NOT contain digits\t\"\\D\"\t\n",
    "\\s\tReturns a match where the string contains a white space character\t\"\\s\"\t\n",
    "\\S\tReturns a match where the string DOES NOT contain a white space character\t\"\\S\"\t\n",
    "\\w\tReturns a match where the string contains any word characters (characters from a to Z, digits from 0-9, and the underscore _ character)\t\"\\w\"\t\n",
    "\\W\tReturns a match where the string DOES NOT contain any word characters\t\"\\W\"\t\n",
    "\\Z\tReturns a match if the specified characters are at the end of the string\t\"Spain\\Z\""
   ]
  },
  {
   "cell_type": "code",
   "execution_count": 11,
   "id": "118b763a",
   "metadata": {},
   "outputs": [
    {
     "name": "stdout",
     "output_type": "stream",
     "text": [
      "start and end location of match object:  (9, 11)\n",
      "start locations:  9\n",
      "end Location:  11\n",
      "all srting:  Shlok is my son and he is very clever\n",
      "Yes 'my' is avilable in txt \n"
     ]
    }
   ],
   "source": [
    "import re\n",
    "\n",
    "txt  = \"Shlok is my son and he is very clever\"\n",
    "x = re.search(\"my\",txt)\n",
    "\n",
    "print(\"start and end location of match object: \",x.span()) \n",
    "\n",
    "print(\"start locations: \",x.start())\n",
    "\n",
    "print(\"end Location: \",x.end())\n",
    "\n",
    "print(\"all srting: \",x.string)\n",
    "\n",
    "if x:\n",
    "    print(\"Yes 'my' is avilable in txt \"),\n",
    "    \n",
    "else:\n",
    "    print(\"Not Matching\")\n",
    "    \n",
    "    \n",
    "    "
   ]
  },
  {
   "cell_type": "code",
   "execution_count": 13,
   "id": "33110aa9",
   "metadata": {},
   "outputs": [
    {
     "name": "stdout",
     "output_type": "stream",
     "text": [
      "['a', 'i', 'i', 'a', 'i']\n",
      "5\n",
      "[]\n"
     ]
    }
   ],
   "source": [
    "'''\n",
    "1. findall --> Returns a list containing all matches\n",
    "\n",
    "2. search --> returns a match object if thereis a match anywhere in the string. \n",
    "\n",
    "3. split --> Returns a list where the string has been split at each match.\n",
    "\n",
    "4. sub -->replace one or many matches with a string. \n",
    "\n",
    "'''\n",
    "\n",
    "\n",
    "\n",
    "\n",
    "import re\n",
    "\n",
    "txt = \"The rain in Spain\"\n",
    "\n",
    "#Find all lower case characters alphabetically between \"a\" and \"m\":\n",
    "\n",
    "x = re.findall(\"[a,i,s]\", txt)\n",
    "print(x)\n",
    "print(len(x))\n",
    "\n",
    "z = re.findall(\"[q]\", txt)\n",
    "print(z)"
   ]
  },
  {
   "cell_type": "code",
   "execution_count": 25,
   "id": "d3f892af",
   "metadata": {},
   "outputs": [
    {
     "name": "stdout",
     "output_type": "stream",
     "text": [
      "d <re.Match object; span=(0, 1), match='T'>\n",
      "j ['', \"This string contains the text 'Hello, World!' and is stored in the variable my string.\"]\n"
     ]
    }
   ],
   "source": [
    "import re\n",
    "str = \"This string contains the text 'Hello, World!' and is stored in the variable my string.\"\n",
    "\n",
    "\n",
    "d = re.search(\"\\S\", str)\n",
    "print(\"d\",d)\n",
    "\n",
    "\n",
    "j = re.split(\"\\A\", str)\n",
    "print(\"j\",j)"
   ]
  },
  {
   "cell_type": "code",
   "execution_count": 36,
   "id": "c923b81c",
   "metadata": {},
   "outputs": [
    {
     "name": "stdout",
     "output_type": "stream",
     "text": [
      "['', '', 'e rain in Spain']\n"
     ]
    }
   ],
   "source": [
    "import re\n",
    "\n",
    "txt = \"The rain in Spain\"\n",
    "\n",
    "#Check if the string starts with \"The\":\n",
    "\n",
    "x = re.split(\"\\w\",txt,2)\n",
    "\n",
    "print(x)\n",
    "\n"
   ]
  },
  {
   "cell_type": "code",
   "execution_count": null,
   "id": "de18a341",
   "metadata": {},
   "outputs": [],
   "source": []
  }
 ],
 "metadata": {
  "kernelspec": {
   "display_name": "Python 3 (ipykernel)",
   "language": "python",
   "name": "python3"
  },
  "language_info": {
   "codemirror_mode": {
    "name": "ipython",
    "version": 3
   },
   "file_extension": ".py",
   "mimetype": "text/x-python",
   "name": "python",
   "nbconvert_exporter": "python",
   "pygments_lexer": "ipython3",
   "version": "3.12.0"
  }
 },
 "nbformat": 4,
 "nbformat_minor": 5
}
