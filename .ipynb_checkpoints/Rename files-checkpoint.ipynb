{
 "cells": [
  {
   "cell_type": "code",
   "execution_count": 2,
   "id": "40a5890c",
   "metadata": {},
   "outputs": [],
   "source": [
    "import os\n",
    "\n",
    "folder_path = \"E:\\samsung data\\DCIM\\DCIM\\DCIM\\DCIM\\Camera\"  # Replace with the actual path of your folder\n",
    "file_list = os.listdir(folder_path)\n",
    "file_list.sort()\n",
    "\n",
    "count = 1\n",
    "for filename in file_list:\n",
    "    file_extension = os.path.splitext(filename)[1]\n",
    "    new_filename = str(count) + file_extension\n",
    "    new_filepath = os.path.join(folder_path, new_filename)\n",
    "    old_filepath = os.path.join(folder_path, filename)\n",
    "    \n",
    "    os.rename(old_filepath, new_filepath)\n",
    "    count += 1\n"
   ]
  },
  {
   "cell_type": "code",
   "execution_count": null,
   "id": "fa7c47c8",
   "metadata": {},
   "outputs": [],
   "source": []
  }
 ],
 "metadata": {
  "kernelspec": {
   "display_name": "Python 3 (ipykernel)",
   "language": "python",
   "name": "python3"
  },
  "language_info": {
   "codemirror_mode": {
    "name": "ipython",
    "version": 3
   },
   "file_extension": ".py",
   "mimetype": "text/x-python",
   "name": "python",
   "nbconvert_exporter": "python",
   "pygments_lexer": "ipython3",
   "version": "3.12.0"
  }
 },
 "nbformat": 4,
 "nbformat_minor": 5
}
