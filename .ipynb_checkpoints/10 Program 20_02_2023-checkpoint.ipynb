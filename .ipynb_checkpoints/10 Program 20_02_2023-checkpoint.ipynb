{
 "cells": [
  {
   "cell_type": "code",
   "execution_count": 30,
   "id": "2be3da07",
   "metadata": {},
   "outputs": [
    {
     "name": "stdout",
     "output_type": "stream",
     "text": [
      " Sum of all the elements are:-  150\n"
     ]
    }
   ],
   "source": [
    "# 1.Python Program to find sum of array\n",
    "\n",
    "array1 = [10,20,30,40,50]\n",
    "sum = 0\n",
    "\n",
    "for k in range(0,len(array1)):\n",
    "    sum = sum + array1[k]\n",
    "    \n",
    "print(\" Sum of all the elements are:- \", sum)\n"
   ]
  },
  {
   "cell_type": "code",
   "execution_count": 31,
   "id": "e74e714a",
   "metadata": {},
   "outputs": [
    {
     "name": "stdout",
     "output_type": "stream",
     "text": [
      "10\n",
      "largest number from array is:-  50\n"
     ]
    }
   ],
   "source": [
    "# 2. Python Program to find largest element in an array.\n",
    "\n",
    "array1 = [10,20,30,40,50]\n",
    "max = array1[0]\n",
    "print(max)\n",
    "\n",
    "for i in range(0,len(array1)):\n",
    "    \n",
    "    if(array1[i] > max):\n",
    "        max = array1[i]\n",
    "        \n",
    "print(\"largest number from array is:- \", max)"
   ]
  },
  {
   "cell_type": "code",
   "execution_count": 32,
   "id": "4f0e6cfc",
   "metadata": {},
   "outputs": [
    {
     "name": "stdout",
     "output_type": "stream",
     "text": [
      "Rotated list is [2, 3, 4, 5, 6, 7, 8, 9, 1]\n"
     ]
    }
   ],
   "source": [
    "# 3 Python Program for array rotation\n",
    "def rotarr(a,d):\n",
    "    n = len(a)\n",
    "    a[:] = a[d:n] + a[0:d]\n",
    "    return a\n",
    "\n",
    "arr = [1,2,3,4,5,6,7,8,9]\n",
    "print(\"Rotated list is\",rotarr(arr,1))"
   ]
  },
  {
   "cell_type": "code",
   "execution_count": 33,
   "id": "982a60d4",
   "metadata": {},
   "outputs": [
    {
     "name": "stdout",
     "output_type": "stream",
     "text": [
      "6 52 36 12 10 5 "
     ]
    }
   ],
   "source": [
    "# 4 Python Program to Split the array and add the first part to the end\n",
    "def split_array(arr, n, k):\n",
    "    for i in range(0, k):\n",
    "        x = arr[0]\n",
    "        for j in range(0, n-1):\n",
    "            arr[j] = arr[j + 1]\n",
    "        arr[n-1] = x\n",
    " \n",
    "arr = [12, 10, 5, 6, 52, 36]\n",
    "n = len(arr)\n",
    "position = 3\n",
    " \n",
    "split_array(arr, n, position)\n",
    " \n",
    "for i in range(0, n):\n",
    "    print(arr[i], end=' ')\n",
    "\n",
    "\n",
    "\n"
   ]
  },
  {
   "cell_type": "code",
   "execution_count": 34,
   "id": "1388aa23",
   "metadata": {},
   "outputs": [
    {
     "name": "stdout",
     "output_type": "stream",
     "text": [
      "extend x [6, 5, 4, 4]\n",
      "extend y [6, 5, 4, 4]\n",
      "sort x [4, 4, 5, 6]\n",
      "sort reverse true y [6, 5, 4, 4]\n",
      "True\n"
     ]
    }
   ],
   "source": [
    "#5 Python Program to check if given array is Monotonic\n",
    "\n",
    "def Monitnic(A):\n",
    "    x, y = [], []\n",
    "    x.extend(A)\n",
    "    print(\"extend x\",x)\n",
    "    y.extend(A)\n",
    "    print(\"extend y\",y)\n",
    "    x.sort()\n",
    "    print(\"sort x\",x)\n",
    "    y.sort(reverse=True)\n",
    "    print(\"sort reverse true y\",y)\n",
    "    if(x == A or y == A):\n",
    "        return True\n",
    "    return False\n",
    " \n",
    "# Driver code\n",
    "A = [6, 5, 4, 4]\n",
    " \n",
    "# Print required result\n",
    "print(Monitnic(A))"
   ]
  },
  {
   "cell_type": "code",
   "execution_count": 35,
   "id": "08d4e3dc",
   "metadata": {},
   "outputs": [
    {
     "name": "stdout",
     "output_type": "stream",
     "text": [
      "[24, 35, 9, 56, 12]\n"
     ]
    }
   ],
   "source": [
    "# 6. Python program to interchange first and last elements in a list.\n",
    "\n",
    "# Python3 program to swap first\n",
    "# and last element of a list\n",
    "\n",
    "# Swap function\n",
    "def SL(NL):\n",
    "    size = len(NL)\n",
    "\n",
    "    # Swapping\n",
    "    temp = NL[0]\n",
    "    NL[0] = NL[size - 1]\n",
    "    NL[size - 1] = temp\n",
    "\n",
    "    return NL\n",
    "\n",
    "# Driver code\n",
    "NL = [12, 35, 9, 56, 24]\n",
    "\n",
    "print(SL(NL))\n"
   ]
  },
  {
   "cell_type": "code",
   "execution_count": 36,
   "id": "4d08f4cd",
   "metadata": {},
   "outputs": [
    {
     "name": "stdout",
     "output_type": "stream",
     "text": [
      "lenth of 'a' is:-  4\n",
      "---------------------\n",
      " lenth in loop is:-  5\n"
     ]
    }
   ],
   "source": [
    "# 7. Python | Ways to find length of list.\n",
    "a = [\"A\", \"B\",\"C\", \"D\" ]\n",
    "b = len(a)\n",
    "print(\"lenth of 'a' is:- \", b)\n",
    "\n",
    "print(\"---------------------\")\n",
    "\n",
    "list1 = [1,2,3,4,5]\n",
    "cnt = 0\n",
    "for _ in list1:\n",
    "    cnt +=1\n",
    "print(\" lenth in loop is:- \",cnt)"
   ]
  },
  {
   "cell_type": "code",
   "execution_count": 37,
   "id": "c0e22ce3",
   "metadata": {},
   "outputs": [
    {
     "name": "stdout",
     "output_type": "stream",
     "text": [
      "A is in the Given List\n",
      "------------\n",
      "\n",
      "'B' is not in list1\n"
     ]
    }
   ],
   "source": [
    "# 8 Python | Ways to check if element exists in list\n",
    "list1 = [\"A\", \"B\",\"C\", \"D\" ]\n",
    "if \"A\" in list1:\n",
    "    print(\"A is in the Given List\")\n",
    "else:\n",
    "    print(\"A is not in the given list\")\n",
    "    \n",
    "    \n",
    "print(\"------------\\n\")\n",
    "\n",
    "for i in list1:\n",
    "    if list1 == \"B\":\n",
    "        print(\"'B' is present in list1\")\n",
    "else:\n",
    "    print(\"'B' is not in list1\")"
   ]
  },
  {
   "cell_type": "code",
   "execution_count": 38,
   "id": "ba4ed0bd",
   "metadata": {},
   "outputs": [
    {
     "name": "stdout",
     "output_type": "stream",
     "text": [
      "[]\n",
      "-------\n",
      "[]\n"
     ]
    }
   ],
   "source": [
    "# 9. Different ways to clear a list in Python\n",
    "\n",
    "\n",
    "my_list = [1, 2, 3, 4, 5]\n",
    "my_list[:] = []\n",
    "print(my_list)\n",
    "\n",
    "\n",
    "print(\"-------\")\n",
    "\n",
    "my_list = [1, 2, 3, 4, 5]\n",
    "my_list = []\n",
    "print(my_list)\n",
    "\n"
   ]
  },
  {
   "cell_type": "code",
   "execution_count": 39,
   "id": "72acd375",
   "metadata": {},
   "outputs": [
    {
     "name": "stdout",
     "output_type": "stream",
     "text": [
      "[5, 4, 3, 2, 1]\n"
     ]
    }
   ],
   "source": [
    "# 10. Python | Reversing a List\n",
    "\n",
    "my_list = [1, 2, 3, 4, 5]\n",
    "my_list.reverse()\n",
    "print(my_list)\n"
   ]
  },
  {
   "cell_type": "code",
   "execution_count": 4,
   "id": "fee5c8e0",
   "metadata": {},
   "outputs": [
    {
     "name": "stdout",
     "output_type": "stream",
     "text": [
      "[5, 4, 3, 2, 1]\n"
     ]
    }
   ],
   "source": [
    "my_list = [1, 2, 3, 4, 5]\n",
    "my_list.reverse()\n",
    "print(my_list)\n"
   ]
  },
  {
   "cell_type": "code",
   "execution_count": null,
   "id": "3108bb55",
   "metadata": {},
   "outputs": [],
   "source": []
  }
 ],
 "metadata": {
  "kernelspec": {
   "display_name": "Python 3 (ipykernel)",
   "language": "python",
   "name": "python3"
  },
  "language_info": {
   "codemirror_mode": {
    "name": "ipython",
    "version": 3
   },
   "file_extension": ".py",
   "mimetype": "text/x-python",
   "name": "python",
   "nbconvert_exporter": "python",
   "pygments_lexer": "ipython3",
   "version": "3.11.0"
  }
 },
 "nbformat": 4,
 "nbformat_minor": 5
}
