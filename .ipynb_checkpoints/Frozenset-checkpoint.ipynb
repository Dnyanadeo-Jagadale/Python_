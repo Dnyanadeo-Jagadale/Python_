{
 "cells": [
  {
   "cell_type": "markdown",
   "id": "a82a7586",
   "metadata": {},
   "source": [
    "# Frozenset"
   ]
  },
  {
   "cell_type": "code",
   "execution_count": 2,
   "id": "8efdae64",
   "metadata": {},
   "outputs": [
    {
     "name": "stdout",
     "output_type": "stream",
     "text": [
      "frozenset({1, 2, 3, 4, 5, 6, 7, 8})\n",
      "frozenset({8, 7})\n",
      "frozenset({1, 2, 3, 4, 5, 6})\n",
      "False\n",
      "False\n",
      "False\n",
      "frozenset({7, 8, 9})\n",
      "frozenset({1, 2, 3, 4, 5, 6, 7, 8, 9})\n"
     ]
    }
   ],
   "source": [
    "set1 = {1,2,3,4,5,6,7,8}\n",
    "set2 = {1,2,3,6,5,4,9}\n",
    "s = frozenset(set1)\n",
    "t = frozenset(set2)\n",
    "\n",
    "\n",
    "#copy\n",
    "z = s.copy()\n",
    "print(z)\n",
    "\n",
    "#difference\n",
    "\n",
    "x = s.difference(t)\n",
    "print(x)\n",
    "\n",
    "#intersection\n",
    "y = s.intersection(t)\n",
    "print(y)\n",
    "\n",
    "#isdisjoint\n",
    "v = s.isdisjoint(t)\n",
    "print(v)\n",
    "\n",
    "#issubset\n",
    "j = s.issubset(t)\n",
    "print(j)\n",
    "\n",
    "#issuperset\n",
    "g = s.issuperset(t)\n",
    "print(g)\n",
    "\n",
    "#symmetric_difference\n",
    "l = s.symmetric_difference(t)\n",
    "print(l)\n",
    "\n",
    "#union\n",
    "q = s.union(t)\n",
    "print(q)"
   ]
  },
  {
   "cell_type": "code",
   "execution_count": null,
   "id": "a025158a",
   "metadata": {},
   "outputs": [],
   "source": []
  }
 ],
 "metadata": {
  "kernelspec": {
   "display_name": "Python 3 (ipykernel)",
   "language": "python",
   "name": "python3"
  },
  "language_info": {
   "codemirror_mode": {
    "name": "ipython",
    "version": 3
   },
   "file_extension": ".py",
   "mimetype": "text/x-python",
   "name": "python",
   "nbconvert_exporter": "python",
   "pygments_lexer": "ipython3",
   "version": "3.12.0"
  }
 },
 "nbformat": 4,
 "nbformat_minor": 5
}
