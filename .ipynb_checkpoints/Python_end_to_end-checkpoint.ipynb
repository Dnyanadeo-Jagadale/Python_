{
 "cells": [
  {
   "cell_type": "markdown",
   "id": "3e39e4b0",
   "metadata": {},
   "source": [
    "# Python "
   ]
  },
  {
   "cell_type": "markdown",
   "id": "0e0cb0d2",
   "metadata": {},
   "source": [
    "### PYTHON Introduction"
   ]
  },
  {
   "cell_type": "markdown",
   "id": "430def9e",
   "metadata": {},
   "source": [
    "**What is Python?**\n",
    "\n",
    "> Python is general purpose high level popular programming language. Python was developed by **Guido Van Rossam** at **National Research Institute Netherlands**, official relaese date of python is **20th Feb 1991**\n",
    "\n",
    "> Python is **versatile language, capable of running on multiple platforms**, including Windows, macOS, and Linux.\n",
    "\n",
    "> Python offers a **vast library of pre-built modules and tools**, which make it easy to **perform complex tasks with minimal coding efforts**\n",
    "\n",
    "> Some of the most popular libraries of Python used in data science are:\n",
    "\n",
    ">> 1. **NumPy**: A library used for numerical computing with Python.\n",
    ">> 2. **Pandas**: A library used for data manipulation and analysis.\n",
    ">> 3. **Matplotlib**: A library used for data visualization.\n",
    ">> 4. **Scikit-learn**: A library used for machine learning.\n",
    ">> 5. **TensorFlow**: A library used for deep learning.\n"
   ]
  },
  {
   "cell_type": "markdown",
   "id": "5278a888",
   "metadata": {},
   "source": [
    "#### Why Python is more popular in the world ?\n",
    "###### Features of Python"
   ]
  },
  {
   "cell_type": "markdown",
   "id": "fdf2601e",
   "metadata": {},
   "source": [
    "> 1) **Easy to Learn and Use** - Its code is easy to read and understand, which makes it easier to maintain and update. like english language.\n",
    "\n",
    "> 2) **Expressive Language** - which means that it is **more understandable and readable**.\n",
    "\n",
    "> 3) **Interpreted Language** - Which means Python can be executed immediately **without the need for compilation. i.e code will run line by line**.This makes it easier to test and debug code.\n",
    "\n",
    "> 4) **Cross-platform Language** - which meance capabale of **running on multiple platforms**, like **windows, macOS, Linux etc**.\n",
    "\n",
    "> 5) **Free and Open Source** - which meance that **it's free to use and distribute**. i.e no need to license. This makes it accessible to a wide range of users, including individuals, businesses, and educational institutions.\n",
    "\n",
    "> 6) **Object-Oriented Language** - This means that it **allows developers to use objects to represent and manipulate data**, rather than just using functions and procedures.\n",
    ">> class is blue print of object\n",
    "\n",
    "> 7) **Extensible programming language** -This means that **developers can extend the language by adding new modules or packages to it, which provide additional functionality and features beyond what is available in the core language**.\n",
    "\n",
    "> 8) **Large Standard Library** - which provides a wide **range of modules and tools for various tasks which make it easy to perform complex tasks with minimal coding efforts**\n",
    "\n",
    "> 9) **Dynamically typed** - which means that the **data type of a variable is determined at runtime**. This allows for greater flexibility and makes it easier to write code"
   ]
  },
  {
   "cell_type": "markdown",
   "id": "0602dff9",
   "metadata": {},
   "source": [
    "###### Applications"
   ]
  },
  {
   "cell_type": "markdown",
   "id": "0363b6de",
   "metadata": {},
   "source": [
    "> Python is a versatile programming language with a wide range of applications in various domains. \n",
    "\n",
    "Here are some of the most popular applications of Python:\n",
    "\n",
    "> 1. **Web Development**: Python is used for developing web applications and web services. Popular web frameworks like Django and Flask are built using Python. e.g NASA Web\n",
    "\n",
    "> 2. **Data Science**: Python is widely used in data science for tasks such as data analysis, data visualization, and machine learning. Popular data science libraries like NumPy, Pandas, and Scikit-learn are built using Python.\n",
    "\n",
    "> 3. **Artificial Intelligence**: Python is used for developing artificial intelligence and machine learning algorithms. Popular libraries like TensorFlow and Keras are built using Python.\n",
    "\n",
    "> 4. **Scientific & numeric Computing**: Python is used for scientific computing and mathematical modeling. Popular libraries like SciPy and SymPy are built using Python.\n",
    "\n",
    "> 5. **Automation and Scripting**: Python is used for automating tasks and scripting. It is widely used for tasks such as data processing, system administration, and network automation.\n",
    "\n",
    "> 6. **Game Development**: Python is used for game development. Popular game engines like Pygame and Panda3D are built using Python.\n",
    "\n",
    "> 7. **Desktop Application Development**: Python is used for developing desktop applications. Popular GUI frameworks like PyQt and wxPython are built using Python.\n",
    "\n",
    "> 8. **Education**: Python is widely used in education as a teaching language for computer science and programming courses.\n",
    "\n",
    "> 9. **Software Development**:\n",
    " \n",
    "> 10. **Business Applications**:\n",
    "\n",
    "> 11. **Console Based Application**:\n",
    "\n",
    "> 12. **Audio or Video based Applications**:\n",
    "\n",
    "> 13. **3D CAD Applications**:\n"
   ]
  },
  {
   "cell_type": "markdown",
   "id": "4df129b2",
   "metadata": {},
   "source": [
    "###### Good to Know for python language\n",
    "\n",
    "Python includes below points "
   ]
  },
  {
   "cell_type": "markdown",
   "id": "b5f73112",
   "metadata": {},
   "source": [
    "> 1. **Functional Programming** Features from **C**\n",
    "> 2. **Object Oriented Programming** Features from **C++**\n",
    "> 3. **Scripting Language** Features from **Perl & Shell Script**\n",
    "> 4. **Modular Programming** Features from **Modula-3**"
   ]
  },
  {
   "cell_type": "markdown",
   "id": "3a828ec0",
   "metadata": {},
   "source": [
    "###### Printing \"Hello\""
   ]
  },
  {
   "cell_type": "code",
   "execution_count": 1,
   "id": "2ad8df4c",
   "metadata": {},
   "outputs": [
    {
     "name": "stdout",
     "output_type": "stream",
     "text": [
      "Hello\n",
      "God\n"
     ]
    }
   ],
   "source": [
    "print('Hello')\n",
    "print('God')"
   ]
  },
  {
   "cell_type": "markdown",
   "id": "bc9bfbc7",
   "metadata": {},
   "source": [
    "> Note: It is very simple to print hello in python, as compared to other programming languages, coding in python is really less time consuming than other programming languages"
   ]
  },
  {
   "cell_type": "markdown",
   "id": "20d9d7a7",
   "metadata": {},
   "source": [
    "### Identifiers\n",
    "\n",
    "1. Names in python are called as identifiers, \n",
    "2. Function name, variable name, module name, class name are identifiers in python\n",
    "\n",
    "###### Rules:\n",
    "\n",
    "> 1. The first character of an identifier must be a letter (uppercase or lowercase) or an underscore (_). The rest of the characters can be letters, underscores, or digits (0-9).\n",
    "\n",
    "> 2. If Identifier is start with Underscore (_) then it indicates it is private.\n",
    "\n",
    "> 4. Identifier should not start with Digits.\n",
    "\n",
    "> 5. Identifiers are case sensitive. \n",
    ">> For example, \"myVar\" and \"myvar\" are two different identifiers.\n",
    "\n",
    "> 6. Identifiers cannot be keywords or reserved words. because reserved keywords are words that have a special meaning in Python and cannot be used as identifiers. \n",
    ">> Examples of reserved keywords in Python include \"if\", \"else\", \"while\", \"for\", \"and\", \"or\", \"not\", \"in\", \"is\", \"class\", \"def\", \"return\", \"import\", \"from\", \"try\", \"except\", \"raise\", \"finally\", and \"assert\".\n",
    "\n",
    "> 7. Identifiers must not contain spaces or special characters such as '@' and '%'. However, underscores (_) are allowed.\n",
    ">> Doller symbol are not allowed in python\n",
    "\n",
    "> 8. There is no limit on the length of an identifier in Python\n",
    "\n",
    "> 9. It is a convention to use lowercase letters for variable names and underscores to separate words in variable names. \n",
    ">>For example, \"my_variable\" is a valid identifier, but \"MyVariable\" or \"myVariable\" are also allowed.\n",
    "\n",
    ">> ex: Name, name, NAME, _nAME, _name124, name_123\n",
    "   \n",
    ">> Wrong: 1_aksh, 1akash, 1AKASH, name&&, na$$me"
   ]
  },
  {
   "cell_type": "markdown",
   "id": "ddfc0afe",
   "metadata": {},
   "source": [
    "###### Special Notes\n",
    "\n",
    "> If identifier starts with '_' (single underscore) symbol,then it is private\n",
    "\n",
    "> If identifier starts with '__' (double underscore), indicate that it is a strongly private.\n",
    "\n",
    "> If the identifier starts and ends with \"__\" (double underscore) symbols, then such identifiers are language defined special name, which is also known as **magic methods**\n",
    ">> e.g __init__ , __doit__"
   ]
  },
  {
   "cell_type": "markdown",
   "id": "df742be4",
   "metadata": {},
   "source": [
    "###### examples of identifiers"
   ]
  },
  {
   "cell_type": "code",
   "execution_count": 1,
   "id": "28595ea3",
   "metadata": {},
   "outputs": [
    {
     "name": "stdout",
     "output_type": "stream",
     "text": [
      "10\n",
      "30\n",
      "30\n"
     ]
    }
   ],
   "source": [
    "x=10\n",
    "y=20\n",
    "_x=30\n",
    "\n",
    "print(x)\n",
    "print(x+y)\n",
    "print(_x)"
   ]
  },
  {
   "cell_type": "code",
   "execution_count": 2,
   "id": "93966984",
   "metadata": {},
   "outputs": [
    {
     "name": "stdout",
     "output_type": "stream",
     "text": [
      "name : Python\n",
      "******************************************************************************************\n",
      "NAME : Python\n",
      "******************************************************************************************\n",
      "_NAME : Python\n",
      "******************************************************************************************\n",
      "_NAME_ : Python\n",
      "******************************************************************************************\n",
      "fname : Python\n",
      "******************************************************************************************\n",
      "fname123 : Python\n",
      "******************************************************************************************\n",
      "f_name_123 : Python\n"
     ]
    }
   ],
   "source": [
    "name='Python'\n",
    "print('name :',name)\n",
    "\n",
    "print('*'*90) # prints Star line like ********.\n",
    "\n",
    "NAME='Python'\n",
    "print('NAME :',NAME)\n",
    "\n",
    "print('*'*90)\n",
    "\n",
    "_NAME='Python'\n",
    "print('_NAME :',_NAME)\n",
    "\n",
    "print('*'*90)\n",
    "\n",
    "_NAME_='Python'\n",
    "print('_NAME_ :',_NAME_)\n",
    "\n",
    "print('*'*90)\n",
    "\n",
    "fname='Python'\n",
    "print('fname :',fname)\n",
    "\n",
    "print('*'*90)\n",
    "\n",
    "fname123='Python'\n",
    "print('fname123 :',fname123)\n",
    "\n",
    "print('*'*90)\n",
    "\n",
    "f_name_123='Python'\n",
    "print('f_name_123 :',f_name_123)"
   ]
  },
  {
   "cell_type": "code",
   "execution_count": 4,
   "id": "69d9e73a",
   "metadata": {},
   "outputs": [
    {
     "name": "stdout",
     "output_type": "stream",
     "text": [
      "a = 10\n",
      "Type of a <class 'int'>\n",
      "******************************************************************************************\n",
      "fname = Sikandar\n",
      "Type of fname <class 'str'>\n",
      "******************************************************************************************\n",
      "complex_number = (1+2j)\n",
      "Type of complex_number <class 'complex'>\n"
     ]
    }
   ],
   "source": [
    "a=10\n",
    "print('a =',a)\n",
    "print('Type of a',type(a))\n",
    "print('*'*90)\n",
    "\n",
    "fname='Sikandar'\n",
    "print('fname =',fname)\n",
    "print('Type of fname',type(fname))\n",
    "print('*'*90)\n",
    "\n",
    "complex_number=1+2j\n",
    "print('complex_number =',complex_number)\n",
    "print('Type of complex_number',type(complex_number))"
   ]
  },
  {
   "cell_type": "markdown",
   "id": "38068ae0",
   "metadata": {},
   "source": [
    "### Keywords"
   ]
  },
  {
   "cell_type": "markdown",
   "id": "82b80036",
   "metadata": {},
   "source": [
    "> Defination : keyswords are the system reserved words which can be used by user and can not be re-declared by user\n",
    "\n",
    "> There are around 35 reserved keywords \n",
    ">> 'False', 'None', 'True', '__peg_parser__', 'and', 'as', 'assert', 'async', 'await', 'break', 'class', 'continue', 'def', 'del', 'elif', 'else', 'except', 'finally', 'for', 'from', 'global', 'if', 'import', 'in', 'is', 'lambda', 'nonlocal', 'not', 'or', 'pass', 'raise', 'return', 'try', 'while', 'with', 'yield'\n",
    "\n",
    "> we can see these keywords by using code in python\n",
    ">> import keyword; print(keyword.kwlist)"
   ]
  },
  {
   "cell_type": "code",
   "execution_count": 11,
   "id": "fb20e68c",
   "metadata": {},
   "outputs": [
    {
     "name": "stdout",
     "output_type": "stream",
     "text": [
      "['False', 'None', 'True', 'and', 'as', 'assert', 'async', 'await', 'break', 'class', 'continue', 'def', 'del', 'elif', 'else', 'except', 'finally', 'for', 'from', 'global', 'if', 'import', 'in', 'is', 'lambda', 'nonlocal', 'not', 'or', 'pass', 'raise', 'return', 'try', 'while', 'with', 'yield']\n",
      "_______________________________________________________________________________________________________________________________________________\n",
      "Total Key words :  35\n"
     ]
    }
   ],
   "source": [
    "import keyword\n",
    "print(keyword.kwlist)\n",
    "print(\"_\"*143)\n",
    "print(\"Total Key words : \",len(keyword.kwlist))"
   ]
  },
  {
   "cell_type": "code",
   "execution_count": 2,
   "id": "a027061a",
   "metadata": {},
   "outputs": [
    {
     "name": "stdout",
     "output_type": "stream",
     "text": [
      "['False', 'None', 'True', 'and', 'as', 'assert', 'async', 'await', 'break', 'class', 'continue', 'def', 'del', 'elif', 'else', 'except', 'finally', 'for', 'from', 'global', 'if', 'import', 'in', 'is', 'lambda', 'nonlocal', 'not', 'or', 'pass', 'raise', 'return', 'try', 'while', 'with', 'yield']\n",
      "35\n"
     ]
    }
   ],
   "source": [
    "import keyword\n",
    "print(keyword.kwlist)\n",
    "print(len(keyword.kwlist))"
   ]
  },
  {
   "cell_type": "markdown",
   "id": "76ee17db",
   "metadata": {},
   "source": [
    "### Data Types in Python"
   ]
  },
  {
   "cell_type": "markdown",
   "id": "9884a0ce",
   "metadata": {},
   "source": [
    "> Data type of variable is the type of value inside that variable.\n",
    "\n",
    "> In python we do not need to define the data type of variable, It automatically assigns data type\n",
    "\n",
    "> Python is a dynamically-typed language, **which means that the data type of a variable is determined at runtime.** Python has several built-in data types, including:\n",
    "\n",
    "> 1. **Numbers**: Python supports integers, floating-point numbers, and complex numbers. For example, 42, 3.14, and 2 + 3j are all valid numbers in Python.\n",
    "\n",
    "> 2. **Strings**: Strings are sequences of characters. They can be enclosed in single quotes ('...') or double quotes (\"...\"). For example, 'hello' and \"world\" are both valid strings.\n",
    "\n",
    "> 3. **Booleans**: Booleans represent either true or false. The two possible values of a boolean are True and False.\n",
    "\n",
    "> 4. **Lists**: Lists are ordered collections of items, which can be of different types. They are mutable, which means that you can add, remove, or modify elements in a list. For example, [1, 2, 3] and ['apple', 'banana', 'cherry'] are both valid lists.\n",
    "\n",
    "> 5. **Tuples**: Tuples are similar to lists, but they are immutable, which means that you cannot modify them once they are created. They are often used to represent fixed collections of values. Tuples are enclosed in parentheses. For example, (1, 2, 3) is a tuple.\n",
    "\n",
    "> 6. **Sets**: Sets are unordered collections of unique items. They are enclosed in curly braces. For example, {1, 2, 3} is a set.\n",
    "\n",
    "> 7. **Dictionaries**: Dictionaries are collections of key-value pairs. The keys are unique, and each key is associated with a value. Dictionaries are enclosed in curly braces, and the key-value pairs are separated by colons. For example, {'apple': 2, 'banana': 3, 'cherry': 5} is a dictionary.\n",
    "\n",
    "> 8. **bytes**: \n",
    "\n",
    "> 9. **bytearray**: \n",
    "\n",
    "> 10. **range**: \n",
    "\n",
    "> 11. **None**: \n",
    "\n",
    "> In addition to these built-in data types, Python also supports several data type modules, such as datetime, which provides objects to work with dates and times, and math, which provides functions to work with mathematical operations."
   ]
  },
  {
   "cell_type": "markdown",
   "id": "5ec8d674",
   "metadata": {},
   "source": [
    "### integer"
   ]
  },
  {
   "cell_type": "code",
   "execution_count": 12,
   "id": "c50fafa5",
   "metadata": {
    "scrolled": true
   },
   "outputs": [
    {
     "name": "stdout",
     "output_type": "stream",
     "text": [
      "Output : 10 <class 'int'>\n"
     ]
    }
   ],
   "source": [
    "var=10 \n",
    "print('Output :',var,type(var))"
   ]
  },
  {
   "attachments": {
    "image-10.png": {
     "image/png": "[encoded data removed]"
    },
    "image-4.png": {
     "image/png": "[encoded data removed]"
    },
    "image-5.png": {
     "image/png": "[encoded data removed]"
    },
    "image-6.png": {
     "image/png": "[encoded data removed]"
    },
    "image-7.png": {
     "image/png": "[encoded data removed]"
    },
    "image-8.png": {
     "image/png": "[encoded data removed]"
    },
    "image-9.png": {
     "image/png": "[encoded data removed]"
    },
    "image.png": {
     "image/png": "[encoded data removed]"
    }
   },
   "cell_type": "markdown",
   "id": "8cbcd301",
   "metadata": {},
   "source": [
    "![image.png](attachment:image.png)\n",
    "![image-4.png](attachment:image-4.png)\n",
    "![image-10.png](attachment:image-10.png)\n",
    "![image-6.png](attachment:image-6.png)\n",
    "![image-5.png](attachment:image-5.png)\n",
    "\n",
    "![image-7.png](attachment:image-7.png)\n",
    "![image-8.png](attachment:image-8.png)\n",
    "\n",
    "![image-9.png](attachment:image-9.png)\n",
    "> we can declare octal and hex value also, Octal and hexadecimal are two number systems that are commonly used in computing. In Python, they are denoted by the prefixes **\"0o\" and \"0x\"**, respectively.\n",
    "\n",
    "> **Octal is a base-8 number system**, which means it only uses **8 digits (0-7)** to represent any value. \n",
    "\n",
    "> **Hexadecimal is a base-16 number system**, which means it uses **16 digits (0-9 and A-F)** to represent any value."
   ]
  },
  {
   "cell_type": "code",
   "execution_count": 20,
   "id": "1150aa4a",
   "metadata": {},
   "outputs": [
    {
     "name": "stdout",
     "output_type": "stream",
     "text": [
      "0 <class 'int'>\n",
      "****************************************************************************************************\n",
      "1 <class 'int'>\n",
      "****************************************************************************************************\n",
      "2 <class 'int'>\n",
      "****************************************************************************************************\n",
      "3 <class 'int'>\n",
      "****************************************************************************************************\n",
      "4 <class 'int'>\n",
      "****************************************************************************************************\n",
      "5 <class 'int'>\n",
      "****************************************************************************************************\n",
      "6 <class 'int'>\n",
      "****************************************************************************************************\n",
      "7 <class 'int'>\n",
      "****************************************************************************************************\n",
      "8 <class 'int'>\n",
      "****************************************************************************************************\n",
      "9 <class 'int'>\n",
      "****************************************************************************************************\n",
      "2396672 <class 'int'>\n",
      "****************************************************************************************************\n"
     ]
    }
   ],
   "source": [
    "# octal numbers\n",
    "var=0o0 # equivalent to decimal value 0\n",
    "print(var,type(var))\n",
    "print('*'*100)\n",
    "\n",
    "var=0o1 # equivalent to decimal value 1\n",
    "print(var,type(var))\n",
    "print('*'*100)\n",
    "\n",
    "var=0o2\n",
    "print(var,type(var))\n",
    "print('*'*100)\n",
    "\n",
    "var=0o3\n",
    "print(var,type(var))\n",
    "print('*'*100)\n",
    "\n",
    "var=0o4\n",
    "print(var,type(var))\n",
    "print('*'*100)\n",
    "\n",
    "var=0o5\n",
    "print(var,type(var))\n",
    "print('*'*100)\n",
    "\n",
    "var=0o6\n",
    "print(var,type(var))\n",
    "print('*'*100)\n",
    "\n",
    "var=0o7\n",
    "print(var,type(var))\n",
    "print('*'*100)\n",
    "\n",
    "var=0o10\n",
    "print(var,type(var))\n",
    "print('*'*100)\n",
    "\n",
    "\n",
    "var=0o11 # equivalent to decimal value 9\n",
    "print(var,type(var))\n",
    "print('*'*100)\n",
    "\n",
    "var=0o11111000\n",
    "print(var,type(var))\n",
    "print('*'*100)"
   ]
  },
  {
   "cell_type": "code",
   "execution_count": 15,
   "id": "700a4c66",
   "metadata": {},
   "outputs": [
    {
     "name": "stdout",
     "output_type": "stream",
     "text": [
      "Decimal Number 157 to octal number 0o235\n",
      "Decimal Number 200 to octal number 0o310\n",
      "Decimal Number 143 to octal number 0o217\n",
      "Decimal Number 101 to octal Numbers 0o145\n"
     ]
    }
   ],
   "source": [
    "# decimal to octal number\n",
    "input1 = 157\n",
    "input2 = 200\n",
    "input3 = 143\n",
    "input4 = 101\n",
    "\n",
    "output1 = oct(input1)\n",
    "print('Decimal Number {} to octal number {}'.format(input1, output1))\n",
    "output2 = oct(input2)\n",
    "print('Decimal Number {} to octal number {}'.format(input2, output2))\n",
    "output3 = oct(input3)\n",
    "print(\"Decimal Number {} to octal number {}\".format(input3, output3))\n",
    "output4 = oct(input4)\n",
    "print(\"Decimal Number {} to octal Numbers {}\".format(input4,output4))"
   ]
  },
  {
   "cell_type": "code",
   "execution_count": 22,
   "id": "6d4f88e1",
   "metadata": {},
   "outputs": [
    {
     "name": "stdout",
     "output_type": "stream",
     "text": [
      "0 <class 'int'>\n",
      "****************************************************************************************************\n",
      "1 <class 'int'>\n",
      "****************************************************************************************************\n",
      "2 <class 'int'>\n",
      "****************************************************************************************************\n",
      "3 <class 'int'>\n",
      "****************************************************************************************************\n",
      "4 <class 'int'>\n",
      "****************************************************************************************************\n",
      "5 <class 'int'>\n",
      "****************************************************************************************************\n",
      "6 <class 'int'>\n",
      "****************************************************************************************************\n",
      "7 <class 'int'>\n",
      "****************************************************************************************************\n",
      "16 <class 'int'>\n",
      "****************************************************************************************************\n",
      "10 <class 'int'>\n",
      "****************************************************************************************************\n",
      "11 <class 'int'>\n",
      "****************************************************************************************************\n",
      "12 <class 'int'>\n",
      "****************************************************************************************************\n",
      "13 <class 'int'>\n",
      "****************************************************************************************************\n",
      "14 <class 'int'>\n",
      "****************************************************************************************************\n",
      "15 <class 'int'>\n",
      "****************************************************************************************************\n"
     ]
    }
   ],
   "source": [
    "# Hex Numbers \n",
    "\n",
    "var=0x0 # equivalent to decimal value 0\n",
    "print(var,type(var))\n",
    "print('*'*100)\n",
    "\n",
    "var=0x1 # equivalent to decimal value 1\n",
    "print(var,type(var))\n",
    "print('*'*100)\n",
    "\n",
    "var=0x2\n",
    "print(var,type(var))\n",
    "print('*'*100)\n",
    "\n",
    "var=0x3\n",
    "print(var,type(var))\n",
    "print('*'*100)\n",
    "\n",
    "var=0x4\n",
    "print(var,type(var))\n",
    "print('*'*100)\n",
    "\n",
    "var=0x5\n",
    "print(var,type(var))\n",
    "print('*'*100)\n",
    "\n",
    "var=0x6\n",
    "print(var,type(var))\n",
    "print('*'*100)\n",
    "\n",
    "var=0x7\n",
    "print(var,type(var))\n",
    "print('*'*100)\n",
    "\n",
    "var=0x10\n",
    "print(var,type(var))\n",
    "print('*'*100)\n",
    "\n",
    "\n",
    "var=0xA # equivalent to decimal value 10\n",
    "print(var,type(var))\n",
    "print('*'*100)\n",
    "\n",
    "var=0xB\n",
    "print(var,type(var))\n",
    "print('*'*100)\n",
    "\n",
    "var=0xC\n",
    "print(var,type(var))\n",
    "print('*'*100)\n",
    "\n",
    "var=0xD\n",
    "print(var,type(var))\n",
    "print('*'*100)\n",
    "\n",
    "var=0xE\n",
    "print(var,type(var))\n",
    "print('*'*100)\n",
    "\n",
    "var=0xF\n",
    "print(var,type(var))\n",
    "print('*'*100)"
   ]
  },
  {
   "cell_type": "code",
   "execution_count": 18,
   "id": "7156de6a",
   "metadata": {},
   "outputs": [
    {
     "name": "stdout",
     "output_type": "stream",
     "text": [
      "Decimal Number 255 to octal number 0xff\n",
      "Decimal Number 200 to octal number 0xc8\n"
     ]
    }
   ],
   "source": [
    "# Decimal to hex converison\n",
    "input1 = 255\n",
    "input2 = 200\n",
    "\n",
    "output1 = hex(input1)\n",
    "print('Decimal Number {} to octal number {}'.format(input1, output1))\n",
    "output2 = hex(input2)\n",
    "print('Decimal Number {} to octal number {}'.format(input2, output2))"
   ]
  },
  {
   "cell_type": "markdown",
   "id": "ce04ae27",
   "metadata": {},
   "source": [
    "### float"
   ]
  },
  {
   "cell_type": "code",
   "execution_count": 9,
   "id": "17bcaab6",
   "metadata": {},
   "outputs": [
    {
     "name": "stdout",
     "output_type": "stream",
     "text": [
      "output: 10.1\n",
      "<class 'float'>\n"
     ]
    }
   ],
   "source": [
    "var=10.10\n",
    "print('output:',var)\n",
    "print(type(var))"
   ]
  },
  {
   "cell_type": "code",
   "execution_count": 3,
   "id": "d73018e5",
   "metadata": {},
   "outputs": [
    {
     "name": "stdout",
     "output_type": "stream",
     "text": [
      "<class 'float'>\n",
      "12.377\n"
     ]
    }
   ],
   "source": [
    "a = 12.377\n",
    "print(type(a))\n",
    "print(a)"
   ]
  },
  {
   "cell_type": "markdown",
   "id": "d80ce5f8",
   "metadata": {},
   "source": [
    "### complex"
   ]
  },
  {
   "cell_type": "code",
   "execution_count": 5,
   "id": "8e03e2d9",
   "metadata": {},
   "outputs": [
    {
     "name": "stdout",
     "output_type": "stream",
     "text": [
      "(10+20j)\n",
      "10.0\n",
      "20.0\n"
     ]
    }
   ],
   "source": [
    "com = 10+20j # real+imag\n",
    "print(com)\n",
    "print(com.real)\n",
    "print(com.imag)"
   ]
  },
  {
   "cell_type": "code",
   "execution_count": 10,
   "id": "f91c3660",
   "metadata": {},
   "outputs": [
    {
     "name": "stdout",
     "output_type": "stream",
     "text": [
      "output: (1+2j)\n",
      "<class 'complex'>\n"
     ]
    }
   ],
   "source": [
    "var=1+2j\n",
    "print('output:',var)\n",
    "print(type(var))"
   ]
  },
  {
   "cell_type": "code",
   "execution_count": null,
   "id": "c94c96cb",
   "metadata": {},
   "outputs": [
    {
     "name": "stdout",
     "output_type": "stream",
     "text": [
      "Real : 1.0\n",
      "<class 'float'>\n",
      "******************************************************************************************\n",
      "Imaginory : 2.0\n",
      "<class 'float'>\n"
     ]
    }
   ],
   "source": [
    "print(\"Real :\",var.real)\n",
    "print(type(var.real))\n",
    "print('*'*90)\n",
    "print(\"Imaginory :\",var.imag)\n",
    "print(type(var.imag))"
   ]
  },
  {
   "cell_type": "markdown",
   "id": "21e2c1db",
   "metadata": {},
   "source": [
    "## boolean"
   ]
  },
  {
   "cell_type": "code",
   "execution_count": 16,
   "id": "47b0b66c",
   "metadata": {},
   "outputs": [
    {
     "name": "stdout",
     "output_type": "stream",
     "text": [
      "Output: True <class 'bool'>\n",
      "True <class 'str'>\n",
      "False <class 'bool'>\n"
     ]
    }
   ],
   "source": [
    "ar=True\n",
    "ar_1=False\n",
    "x='True'\n",
    "\n",
    "print('Output:',ar,type(ar))\n",
    "print(x,type(x))\n",
    "print(ar_1,type(ar_1))"
   ]
  },
  {
   "cell_type": "code",
   "execution_count": 26,
   "id": "6a2e99af",
   "metadata": {},
   "outputs": [
    {
     "name": "stdout",
     "output_type": "stream",
     "text": [
      "1 0\n"
     ]
    }
   ],
   "source": [
    "print(int(True),int(False))"
   ]
  },
  {
   "cell_type": "code",
   "execution_count": 27,
   "id": "995475e3",
   "metadata": {},
   "outputs": [
    {
     "name": "stdout",
     "output_type": "stream",
     "text": [
      "1.0 0.0\n"
     ]
    }
   ],
   "source": [
    "print(float(True),float(False))"
   ]
  },
  {
   "cell_type": "code",
   "execution_count": 28,
   "id": "3629cb53",
   "metadata": {},
   "outputs": [
    {
     "name": "stdout",
     "output_type": "stream",
     "text": [
      "(1+0j) 0j\n",
      "(1+0j)\n",
      "1j\n",
      "0j\n"
     ]
    }
   ],
   "source": [
    "print(complex(True),complex(False))\n",
    "print(complex(True,False))\n",
    "print(complex(False,True))\n",
    "c=0+0j\n",
    "print(c)"
   ]
  },
  {
   "cell_type": "code",
   "execution_count": 1,
   "id": "5df8e33e",
   "metadata": {},
   "outputs": [
    {
     "name": "stdout",
     "output_type": "stream",
     "text": [
      "True\n",
      "False\n"
     ]
    }
   ],
   "source": [
    "print(str(True))\n",
    "print(str(False))"
   ]
  },
  {
   "cell_type": "code",
   "execution_count": 2,
   "id": "b07845c2",
   "metadata": {},
   "outputs": [
    {
     "name": "stdout",
     "output_type": "stream",
     "text": [
      "True\n",
      "True\n",
      "False\n"
     ]
    }
   ],
   "source": [
    "print(bool(3.1))\n",
    "print(bool(0.3))\n",
    "print(bool(0.0))"
   ]
  },
  {
   "cell_type": "code",
   "execution_count": 3,
   "id": "db4e8f27",
   "metadata": {},
   "outputs": [
    {
     "name": "stdout",
     "output_type": "stream",
     "text": [
      "False\n",
      "False\n",
      "True\n",
      "True\n"
     ]
    }
   ],
   "source": [
    "print(bool(\"\"))\n",
    "print(bool())\n",
    "\n",
    "print(bool('don'))\n",
    "print(bool(11))"
   ]
  },
  {
   "cell_type": "code",
   "execution_count": 4,
   "id": "7a47f490",
   "metadata": {
    "scrolled": true
   },
   "outputs": [
    {
     "name": "stdout",
     "output_type": "stream",
     "text": [
      "True\n",
      "True\n",
      "True\n",
      "False\n"
     ]
    }
   ],
   "source": [
    "print(bool(1+2j))\n",
    "print(bool(1+0j))\n",
    "print(bool(0+2j))\n",
    "print(bool(0+0j))"
   ]
  },
  {
   "cell_type": "code",
   "execution_count": 5,
   "id": "66aafffb",
   "metadata": {},
   "outputs": [
    {
     "name": "stdout",
     "output_type": "stream",
     "text": [
      "int to bool : True\n",
      "int to bool : False\n",
      "****************************************************************************************************\n",
      "float to bool : True\n",
      "float to bool : False\n",
      "****************************************************************************************************\n",
      "string to bool : True\n",
      "string to bool : False\n",
      "****************************************************************************************************\n",
      "complex to bool : True\n",
      "complex to bool : True\n",
      "complex to bool : False\n",
      "complex to bool : True\n",
      "****************************************************************************************************\n"
     ]
    }
   ],
   "source": [
    "# conversion of int/float/str to bool\n",
    "x=bool(100)\n",
    "print('int to bool :',x)\n",
    "xx=bool(0)\n",
    "print('int to bool :',xx)\n",
    "print('*'*100)\n",
    "\n",
    "y=bool(10.10)\n",
    "print('float to bool :',y)\n",
    "yy=bool(0.0)\n",
    "print('float to bool :',yy)\n",
    "print('*'*100)\n",
    "\n",
    "z=bool(\"100\")\n",
    "print('string to bool :',z)\n",
    "zz=bool(\"\")\n",
    "print('string to bool :',zz)\n",
    "print('*'*100)\n",
    "\n",
    "z=bool(1+0j)\n",
    "print('complex to bool :',z)\n",
    "zz=bool(4+2j)\n",
    "print('complex to bool :',zz)\n",
    "zzz=bool(0+0j)\n",
    "print('complex to bool :',zzz)\n",
    "zzzz=bool(0+2j) # at least one value should be there\n",
    "print('complex to bool :',zzzz)\n",
    "print('*'*100)"
   ]
  },
  {
   "cell_type": "markdown",
   "id": "e1ab2fe0",
   "metadata": {},
   "source": [
    "## string\n",
    "\n",
    "string is sequence of characters e.g \"This is string\"\n"
   ]
  },
  {
   "cell_type": "markdown",
   "id": "e793ad20",
   "metadata": {},
   "source": [
    "1. string is a **sequence of characters** enclosed in quotes\n",
    "\n",
    "2. Strings in Python are **immutable**, which means you cannot change the contents of a string once it is created. However, you **can create a new string by concatenating** two or more strings together using the + operator or **repeating a string using the * operator**\n",
    "\n",
    "3. Duplicates allowed\n",
    "\n",
    "4. string is ordered\n",
    "\n",
    "5. store all the characters in string\n",
    "\n",
    "Available methods in string:\n",
    "\n",
    "1. **str.upper()**: Returns a new string with all characters converted to uppercase.\n",
    "2. **str.lower()**: Returns a new string with all characters converted to lowercase.\n",
    "3. **str.capitalize()**: Returns a copy of the **string with the first character capitalized**\n",
    "4. **str.title()**: Returns a copy of the string with the **first character of each word capitalized**.\n",
    "5. **len(str)**: Returns the length of the string.\n",
    "6. **str.strip()**: Returns a new string with leading and trailing whitespace removed.\n",
    "7. **str.replace()**: Returns a new string with all occurrences of a specified substring replaced with another substring.\n",
    "8. **str.split()**: Returns a list of substrings separated by a specified delimiter. i.e **Returns a list of the words in the string, separated by whitespace**.\n",
    "9. **str.join(iterable)**: Joins the elements of an iterable (e.g., a list) with the specified string as the separator.\n",
    "10. **str.casefold()**:\tConverts string into lower case\n",
    "11. **str.center()**: Returns a centered string\n",
    "12. **str.count()**: Returns the number of times a specified value occurs in a string\n",
    "13. **str.endswith()**: Returns true if the string ends with the specified value\n",
    "14. **str.find()**: Searches the string for a specified value and returns the position of where it was found\n",
    "15. **str.swapcase()**: Swaps cases, lower case becomes upper case and vice versa\n",
    "16.  **str.startswith()**: Returns true if the string starts with the specified value\n",
    "17. **str.isalnum()**: Returns True if all characters in the string are alphanumeric\n",
    "18. **str.isalpha()**: Returns True if all characters in the string are in the alphabet\n",
    "19. **str.isascii()**: Returns True if all characters in the string are ascii characters\n",
    "20. **str.isdecimal()**: Returns True if all characters in the string are decimals\n",
    "21. **str.isdigit()**: Returns True if all characters in the string are digits\n",
    "22. **str.isidentifier()**: Returns True if the string is an identifier\n",
    "23. **str.islower()**: Returns True if all characters in the string are lower case\n",
    "24. **str.isnumeric()**: Returns True if all characters in the string are numeric\n",
    "25. **str.isprintable()**: Returns True if all characters in the string are printable\n",
    "26. **str.isspace()**: Returns True if all characters in the string are whitespaces\n",
    "27. **str.istitle()**: Returns True if the string follows the rules of a title\n",
    "28. **str.isupper()**: Returns True if all characters in the string are upper case"
   ]
  },
  {
   "cell_type": "code",
   "execution_count": 14,
   "id": "5e115289",
   "metadata": {},
   "outputs": [],
   "source": [
    "a = '                   india is my country               '"
   ]
  },
  {
   "cell_type": "code",
   "execution_count": 15,
   "id": "31c3c230",
   "metadata": {},
   "outputs": [
    {
     "name": "stdout",
     "output_type": "stream",
     "text": [
      "                   india is my country               \n"
     ]
    }
   ],
   "source": [
    "print(a.capitalize())"
   ]
  },
  {
   "cell_type": "code",
   "execution_count": 16,
   "id": "2d2619e2",
   "metadata": {},
   "outputs": [
    {
     "name": "stdout",
     "output_type": "stream",
     "text": [
      "                   India Is My Country               \n"
     ]
    }
   ],
   "source": [
    "print(a.title())"
   ]
  },
  {
   "cell_type": "code",
   "execution_count": 17,
   "id": "5acca799",
   "metadata": {},
   "outputs": [
    {
     "name": "stdout",
     "output_type": "stream",
     "text": [
      "india is my country\n"
     ]
    }
   ],
   "source": [
    "print(a.strip())"
   ]
  },
  {
   "cell_type": "code",
   "execution_count": 20,
   "id": "6014aafb",
   "metadata": {},
   "outputs": [
    {
     "data": {
      "text/plain": [
       "'Bharat is my country'"
      ]
     },
     "execution_count": 20,
     "metadata": {},
     "output_type": "execute_result"
    }
   ],
   "source": [
    "a.replace(a, \"Bharat is my country\")"
   ]
  },
  {
   "cell_type": "code",
   "execution_count": 24,
   "id": "9aa6ee58",
   "metadata": {},
   "outputs": [
    {
     "data": {
      "text/plain": [
       "['india', 'is', 'my', 'country']"
      ]
     },
     "execution_count": 24,
     "metadata": {},
     "output_type": "execute_result"
    }
   ],
   "source": [
    "b = a.split()\n",
    "b"
   ]
  },
  {
   "cell_type": "code",
   "execution_count": 31,
   "id": "40a67943",
   "metadata": {},
   "outputs": [
    {
     "data": {
      "text/plain": [
       "'india_is_my_country'"
      ]
     },
     "execution_count": 31,
     "metadata": {},
     "output_type": "execute_result"
    }
   ],
   "source": [
    "c = '_'\n",
    "c.join(b)"
   ]
  },
  {
   "cell_type": "code",
   "execution_count": 34,
   "id": "c1af20fb",
   "metadata": {},
   "outputs": [
    {
     "name": "stdout",
     "output_type": "stream",
     "text": [
      "handles special cases like the German \"ß\" (sharp s) character,\n"
     ]
    },
    {
     "data": {
      "text/plain": [
       "'handles special cases like the german \"ss\" (sharp s) character,'"
      ]
     },
     "execution_count": 34,
     "metadata": {},
     "output_type": "execute_result"
    }
   ],
   "source": [
    "b = 'handles special cases like the German \"ß\" (sharp s) character,'\n",
    "print(b)\n",
    "b.casefold()"
   ]
  },
  {
   "cell_type": "code",
   "execution_count": 35,
   "id": "6613d000",
   "metadata": {},
   "outputs": [
    {
     "data": {
      "text/plain": [
       "'handles special cases like the german \"ß\" (sharp s) character,'"
      ]
     },
     "execution_count": 35,
     "metadata": {},
     "output_type": "execute_result"
    }
   ],
   "source": [
    "b.lower()"
   ]
  },
  {
   "cell_type": "code",
   "execution_count": 39,
   "id": "63f2d4e4",
   "metadata": {},
   "outputs": [
    {
     "data": {
      "text/plain": [
       "'           Digvijay           '"
      ]
     },
     "execution_count": 39,
     "metadata": {},
     "output_type": "execute_result"
    }
   ],
   "source": [
    "d = 'Digvijay'\n",
    "d.center(30)"
   ]
  },
  {
   "cell_type": "code",
   "execution_count": 44,
   "id": "716b6445",
   "metadata": {},
   "outputs": [
    {
     "data": {
      "text/plain": [
       "3"
      ]
     },
     "execution_count": 44,
     "metadata": {},
     "output_type": "execute_result"
    }
   ],
   "source": [
    "a.count('i')"
   ]
  },
  {
   "cell_type": "code",
   "execution_count": 6,
   "id": "a735b7b6",
   "metadata": {},
   "outputs": [
    {
     "name": "stdout",
     "output_type": "stream",
     "text": [
      "Output:\n",
      "python3.9\n",
      "<class 'str'>\n"
     ]
    }
   ],
   "source": [
    "var='python3.9'\n",
    "# when take values from user: data type considered as string\n",
    "print('Output:')\n",
    "print(var)\n",
    "print(type(var))"
   ]
  },
  {
   "cell_type": "code",
   "execution_count": 2,
   "id": "a819ad17",
   "metadata": {},
   "outputs": [],
   "source": [
    "string='''I am sorry, I cannot provide information on specific \n",
    "individuals unless they are well-known public figures'''"
   ]
  },
  {
   "cell_type": "code",
   "execution_count": 30,
   "id": "1665295b",
   "metadata": {},
   "outputs": [
    {
     "data": {
      "text/plain": [
       "'I AM SORRY, I CANNOT PROVIDE INFORMATION ON SPECIFIC \\nINDIVIDUALS UNLESS THEY ARE WELL-KNOWN PUBLIC FIGURES'"
      ]
     },
     "execution_count": 30,
     "metadata": {},
     "output_type": "execute_result"
    }
   ],
   "source": [
    "string.upper()"
   ]
  },
  {
   "cell_type": "code",
   "execution_count": 31,
   "id": "af25b41f",
   "metadata": {},
   "outputs": [
    {
     "data": {
      "text/plain": [
       "'i am sorry, i cannot provide information on specific \\nindividuals unless they are well-known public figures'"
      ]
     },
     "execution_count": 31,
     "metadata": {},
     "output_type": "execute_result"
    }
   ],
   "source": [
    "string.lower()"
   ]
  },
  {
   "cell_type": "code",
   "execution_count": 32,
   "id": "1bac0cae",
   "metadata": {},
   "outputs": [
    {
     "data": {
      "text/plain": [
       "'I am sorry, i cannot provide information on specific \\nindividuals unless they are well-known public figures'"
      ]
     },
     "execution_count": 32,
     "metadata": {},
     "output_type": "execute_result"
    }
   ],
   "source": [
    "string.capitalize()"
   ]
  },
  {
   "cell_type": "code",
   "execution_count": 33,
   "id": "7c30b81e",
   "metadata": {},
   "outputs": [
    {
     "data": {
      "text/plain": [
       "'i am sorry, i cannot provide information on specific \\nindividuals unless they are well-known public figures'"
      ]
     },
     "execution_count": 33,
     "metadata": {},
     "output_type": "execute_result"
    }
   ],
   "source": [
    "string.casefold()"
   ]
  },
  {
   "cell_type": "code",
   "execution_count": 35,
   "id": "8f32c46e",
   "metadata": {},
   "outputs": [
    {
     "data": {
      "text/plain": [
       "107"
      ]
     },
     "execution_count": 35,
     "metadata": {},
     "output_type": "execute_result"
    }
   ],
   "source": [
    "len(string)"
   ]
  },
  {
   "cell_type": "code",
   "execution_count": 36,
   "id": "0a0840f7",
   "metadata": {},
   "outputs": [
    {
     "data": {
      "text/plain": [
       "'I am sorry, I cannot provide information on specific \\nindividuals unless they are well-known public figures'"
      ]
     },
     "execution_count": 36,
     "metadata": {},
     "output_type": "execute_result"
    }
   ],
   "source": [
    "string.strip()"
   ]
  },
  {
   "cell_type": "code",
   "execution_count": 37,
   "id": "4bec016a",
   "metadata": {},
   "outputs": [
    {
     "data": {
      "text/plain": [
       "'I am sorry, I cannot provide information on specific \\nindividuals unless they are well-known public figures'"
      ]
     },
     "execution_count": 37,
     "metadata": {},
     "output_type": "execute_result"
    }
   ],
   "source": [
    "string.format()"
   ]
  },
  {
   "cell_type": "code",
   "execution_count": 38,
   "id": "388efaf7",
   "metadata": {},
   "outputs": [
    {
     "data": {
      "text/plain": [
       "'I AM sorry, I cannot provide information on specific \\nindividuals unless they are well-known public figures'"
      ]
     },
     "execution_count": 38,
     "metadata": {},
     "output_type": "execute_result"
    }
   ],
   "source": [
    "string.replace('am','AM')"
   ]
  },
  {
   "cell_type": "code",
   "execution_count": 41,
   "id": "c199118b",
   "metadata": {},
   "outputs": [
    {
     "data": {
      "text/plain": [
       "['I',\n",
       " 'am',\n",
       " 'sorry,',\n",
       " 'I',\n",
       " 'cannot',\n",
       " 'provide',\n",
       " 'information',\n",
       " 'on',\n",
       " 'specific',\n",
       " '\\nindividuals',\n",
       " 'unless',\n",
       " 'they',\n",
       " 'are',\n",
       " 'well-known',\n",
       " 'public',\n",
       " 'figures']"
      ]
     },
     "execution_count": 41,
     "metadata": {},
     "output_type": "execute_result"
    }
   ],
   "source": [
    "string.split()"
   ]
  },
  {
   "cell_type": "code",
   "execution_count": 42,
   "id": "fab5db9b",
   "metadata": {},
   "outputs": [
    {
     "data": {
      "text/plain": [
       "'i am sorry, i cannot provide information on specific \\nindividuals unless they are well-known public figures'"
      ]
     },
     "execution_count": 42,
     "metadata": {},
     "output_type": "execute_result"
    }
   ],
   "source": [
    "string.casefold()"
   ]
  },
  {
   "cell_type": "markdown",
   "id": "deb8a9f0-02f6-4f2a-90f9-5281e8975345",
   "metadata": {},
   "source": [
    "casefold() not only converted the characters to lowercase but also handled the accented characters."
   ]
  },
  {
   "cell_type": "code",
   "execution_count": 1,
   "id": "9cedfde3-93b0-4605-b709-32092f359b00",
   "metadata": {},
   "outputs": [
    {
     "name": "stdout",
     "output_type": "stream",
     "text": [
      "héllö wörld\n"
     ]
    }
   ],
   "source": [
    "text = \"Héllö Wörld\"\n",
    "result = text.casefold()\n",
    "print(result)"
   ]
  },
  {
   "cell_type": "code",
   "execution_count": 44,
   "id": "23e6b419",
   "metadata": {},
   "outputs": [
    {
     "data": {
      "text/plain": [
       "5"
      ]
     },
     "execution_count": 44,
     "metadata": {},
     "output_type": "execute_result"
    }
   ],
   "source": [
    "string.index('sorry')"
   ]
  },
  {
   "cell_type": "code",
   "execution_count": 46,
   "id": "1cd653b1",
   "metadata": {},
   "outputs": [
    {
     "data": {
      "text/plain": [
       "10"
      ]
     },
     "execution_count": 46,
     "metadata": {},
     "output_type": "execute_result"
    }
   ],
   "source": [
    "string.count('i')"
   ]
  },
  {
   "cell_type": "code",
   "execution_count": 54,
   "id": "e7a12f23",
   "metadata": {},
   "outputs": [
    {
     "data": {
      "text/plain": [
       "38"
      ]
     },
     "execution_count": 54,
     "metadata": {},
     "output_type": "execute_result"
    }
   ],
   "source": [
    "string.find('on')"
   ]
  },
  {
   "cell_type": "code",
   "execution_count": 5,
   "id": "39e8fee5",
   "metadata": {},
   "outputs": [
    {
     "data": {
      "text/plain": [
       "'I am sorry, I cannot provide information on specific \\nindividuals unless they are well-known public figures'"
      ]
     },
     "execution_count": 5,
     "metadata": {},
     "output_type": "execute_result"
    }
   ],
   "source": [
    "string.expandtabs(tabsize=10)"
   ]
  },
  {
   "cell_type": "code",
   "execution_count": 6,
   "id": "8d507e23",
   "metadata": {},
   "outputs": [
    {
     "name": "stdout",
     "output_type": "stream",
     "text": [
      "Digvijay                                                                                            Mohite\n"
     ]
    }
   ],
   "source": [
    "str1='Digvijay\\tMohite'\n",
    "str2 = str1.expandtabs(tabsize=100)\n",
    "print(str2)"
   ]
  },
  {
   "cell_type": "code",
   "execution_count": 59,
   "id": "8e626eee",
   "metadata": {},
   "outputs": [
    {
     "data": {
      "text/plain": [
       "False"
      ]
     },
     "execution_count": 59,
     "metadata": {},
     "output_type": "execute_result"
    }
   ],
   "source": [
    "string.isidentifier()"
   ]
  },
  {
   "cell_type": "code",
   "execution_count": 60,
   "id": "0427959e",
   "metadata": {},
   "outputs": [
    {
     "data": {
      "text/plain": [
       "'i AM SORRY, i CANNOT PROVIDE INFORMATION ON SPECIFIC \\nINDIVIDUALS UNLESS THEY ARE WELL-KNOWN PUBLIC FIGURES'"
      ]
     },
     "execution_count": 60,
     "metadata": {},
     "output_type": "execute_result"
    }
   ],
   "source": [
    "string.swapcase()"
   ]
  },
  {
   "cell_type": "code",
   "execution_count": 64,
   "id": "730c1b3a",
   "metadata": {},
   "outputs": [
    {
     "data": {
      "text/plain": [
       "False"
      ]
     },
     "execution_count": 64,
     "metadata": {},
     "output_type": "execute_result"
    }
   ],
   "source": [
    "string.isnumeric()"
   ]
  },
  {
   "cell_type": "code",
   "execution_count": 46,
   "id": "c22e910b",
   "metadata": {},
   "outputs": [
    {
     "data": {
      "text/plain": [
       "'handles special cases like the German \"ß\" (sharp s) character,'"
      ]
     },
     "execution_count": 46,
     "metadata": {},
     "output_type": "execute_result"
    }
   ],
   "source": [
    "b"
   ]
  },
  {
   "cell_type": "code",
   "execution_count": 45,
   "id": "bf29f12e",
   "metadata": {},
   "outputs": [
    {
     "data": {
      "text/plain": [
       "False"
      ]
     },
     "execution_count": 45,
     "metadata": {},
     "output_type": "execute_result"
    }
   ],
   "source": [
    "b.endswith('g')"
   ]
  },
  {
   "cell_type": "code",
   "execution_count": 48,
   "id": "0eced444",
   "metadata": {},
   "outputs": [
    {
     "data": {
      "text/plain": [
       "True"
      ]
     },
     "execution_count": 48,
     "metadata": {},
     "output_type": "execute_result"
    }
   ],
   "source": [
    "b.endswith(',')"
   ]
  },
  {
   "cell_type": "code",
   "execution_count": 51,
   "id": "742fde8d",
   "metadata": {},
   "outputs": [
    {
     "data": {
      "text/plain": [
       "31"
      ]
     },
     "execution_count": 51,
     "metadata": {},
     "output_type": "execute_result"
    }
   ],
   "source": [
    "b.find('German')"
   ]
  },
  {
   "cell_type": "code",
   "execution_count": null,
   "id": "1caea69e",
   "metadata": {},
   "outputs": [],
   "source": []
  },
  {
   "cell_type": "code",
   "execution_count": null,
   "id": "27acfed4",
   "metadata": {},
   "outputs": [],
   "source": []
  },
  {
   "cell_type": "markdown",
   "id": "e7669fc4",
   "metadata": {},
   "source": [
    "#### string slicing\n",
    "\n",
    "string slicing is peaces of a string using some seperator, [] this is slicing operator"
   ]
  },
  {
   "cell_type": "code",
   "execution_count": 65,
   "id": "6ca8a5e8",
   "metadata": {},
   "outputs": [],
   "source": [
    "str1='This tutorial is basically designed for biggners'\n",
    "str2='Python'"
   ]
  },
  {
   "cell_type": "code",
   "execution_count": 66,
   "id": "0391e37c",
   "metadata": {},
   "outputs": [
    {
     "data": {
      "text/plain": [
       "('h', 'P', 'y')"
      ]
     },
     "execution_count": 66,
     "metadata": {},
     "output_type": "execute_result"
    }
   ],
   "source": [
    "str2[3], str2[0], str2[1]"
   ]
  },
  {
   "cell_type": "code",
   "execution_count": 75,
   "id": "ab2defc7",
   "metadata": {},
   "outputs": [
    {
     "data": {
      "text/plain": [
       "'PythonPythonPythonPythonPythonPythonPythonPythonPythonPython'"
      ]
     },
     "execution_count": 75,
     "metadata": {},
     "output_type": "execute_result"
    }
   ],
   "source": [
    "str2*10"
   ]
  },
  {
   "cell_type": "code",
   "execution_count": 79,
   "id": "0a0f326a",
   "metadata": {},
   "outputs": [
    {
     "data": {
      "text/plain": [
       "'srenggib rof dengised yllacisab si lairotut sihT'"
      ]
     },
     "execution_count": 79,
     "metadata": {},
     "output_type": "execute_result"
    }
   ],
   "source": [
    "str1[::-1] # reverse order"
   ]
  },
  {
   "cell_type": "code",
   "execution_count": 11,
   "id": "c62ff31f",
   "metadata": {},
   "outputs": [
    {
     "data": {
      "text/plain": [
       "'nohtyP'"
      ]
     },
     "execution_count": 11,
     "metadata": {},
     "output_type": "execute_result"
    }
   ],
   "source": [
    "str2[::-1]"
   ]
  },
  {
   "cell_type": "code",
   "execution_count": 12,
   "id": "61910dfd",
   "metadata": {},
   "outputs": [
    {
     "data": {
      "text/plain": [
       "'This tutorial is basically'"
      ]
     },
     "execution_count": 12,
     "metadata": {},
     "output_type": "execute_result"
    }
   ],
   "source": [
    "str1[0:26]"
   ]
  },
  {
   "cell_type": "code",
   "execution_count": 13,
   "id": "658819cf",
   "metadata": {},
   "outputs": [
    {
     "data": {
      "text/plain": [
       "'ggners'"
      ]
     },
     "execution_count": 13,
     "metadata": {},
     "output_type": "execute_result"
    }
   ],
   "source": [
    "str1[-6:]"
   ]
  },
  {
   "cell_type": "code",
   "execution_count": 14,
   "id": "7702a169",
   "metadata": {},
   "outputs": [
    {
     "data": {
      "text/plain": [
       "'on'"
      ]
     },
     "execution_count": 14,
     "metadata": {},
     "output_type": "execute_result"
    }
   ],
   "source": [
    "str2[-2:]"
   ]
  },
  {
   "cell_type": "code",
   "execution_count": 15,
   "id": "82fcf442",
   "metadata": {},
   "outputs": [
    {
     "name": "stdout",
     "output_type": "stream",
     "text": [
      "Python\n",
      "Python\n"
     ]
    }
   ],
   "source": [
    "# string is immutable (we can't modify existing element)\n",
    "print(str2)\n",
    "# str2[0]='G'\n",
    "print(str2)"
   ]
  },
  {
   "cell_type": "raw",
   "id": "3579ac48",
   "metadata": {},
   "source": [
    "# Assignment: take five string and do operations on that"
   ]
  },
  {
   "cell_type": "code",
   "execution_count": 80,
   "id": "c6f10bc6",
   "metadata": {},
   "outputs": [
    {
     "name": "stdout",
     "output_type": "stream",
     "text": [
      "1st string : Data Science\n",
      "2nd string : Machine learning\n",
      "3rd string : Deep learning\n",
      "4th string : Natural Language processing\n",
      "5th string : structured query language\n"
     ]
    }
   ],
   "source": [
    "str1=\"Data Science\"\n",
    "str2=\"Machine learning\"\n",
    "str3=\"Deep learning\"\n",
    "str4=\"Natural Language processing\"\n",
    "str5=\"structured query language\"\n",
    "print(\"1st string :\",str1)\n",
    "print(\"2nd string :\",str2)\n",
    "print(\"3rd string :\",str3)\n",
    "print(\"4th string :\",str4)\n",
    "print(\"5th string :\",str5)"
   ]
  },
  {
   "cell_type": "code",
   "execution_count": 17,
   "id": "39b5c6b0",
   "metadata": {},
   "outputs": [
    {
     "name": "stdout",
     "output_type": "stream",
     "text": [
      "1st string : Data Science\n",
      "ta S : ta S\n",
      "ecneicS ataD\n",
      "******************************************************************************************\n",
      "2nd string : Machine learning\n",
      "ne le : ne le\n",
      "Mcielann\n",
      "******************************************************************************************\n",
      "3rd string : Deep learning\n",
      "Deep learn\n",
      "******************************************************************************************\n",
      "4th string : Natural Language processing\n",
      "Nanecn\n",
      "******************************************************************************************\n",
      "5th string : structured query language\n",
      "st yg\n"
     ]
    }
   ],
   "source": [
    "print(\"1st string :\",str1)\n",
    "print(str1[2:6],\":\",str1[-10:-6])\n",
    "print(str1[::-1]) # reverse string\n",
    "print(\"*\"*90)\n",
    "\n",
    "print(\"2nd string :\",str2)\n",
    "print(str2[5:10],\":\",str2[-11:-6])\n",
    "print(str2[::2]) #(strat index:endindex:step size)\n",
    "print(\"*\"*90)\n",
    "\n",
    "print(\"3rd string :\",str3)\n",
    "print(str3[0:10])\n",
    "print(\"*\"*90)\n",
    "\n",
    "print(\"4th string :\",str4)\n",
    "print(str4[::5])\n",
    "print(\"*\"*90)\n",
    "\n",
    "print(\"5th string :\",str5)\n",
    "print(str5[::5])"
   ]
  },
  {
   "cell_type": "code",
   "execution_count": 18,
   "id": "596b98b1",
   "metadata": {},
   "outputs": [
    {
     "name": "stdout",
     "output_type": "stream",
     "text": [
      "Data ScienceData Science\n",
      "Machine learningMachine learningMachine learning\n",
      "Deep learningDeep learningDeep learningDeep learning\n",
      "Natural Language processingNatural Language processingNatural Language processingNatural Language processingNatural Language processing\n",
      "structured query languagestructured query languagestructured query languagestructured query languagestructured query languagestructured query language\n"
     ]
    }
   ],
   "source": [
    "# string multiply\n",
    "print(str1*2)\n",
    "print(str2*3)\n",
    "print(str3*4)\n",
    "print(str4*5)\n",
    "print(str5*6)"
   ]
  },
  {
   "cell_type": "markdown",
   "id": "e2cbb7ea",
   "metadata": {},
   "source": [
    "### Typecasting in datatypes\n",
    "\n",
    "> Def: conversion of one type of data into other type of data is called typecasting\n",
    "\n",
    "> int, float, str, boolean, complex, object\n",
    "\n",
    ">>1. int to float / complex / str \n",
    "\n",
    ">> 2. float to int / complex / str\n",
    "\n",
    ">> 3. str to int / float / complex >>> # (string contains only numbers)\n",
    "\n",
    ">> ###### Note : can't convert complex to any other data type"
   ]
  },
  {
   "cell_type": "markdown",
   "id": "b55d9773",
   "metadata": {},
   "source": [
    "###### 1. int to float/complex/string  conversion"
   ]
  },
  {
   "cell_type": "code",
   "execution_count": 19,
   "id": "c8b8be5f",
   "metadata": {},
   "outputs": [
    {
     "name": "stdout",
     "output_type": "stream",
     "text": [
      "<< interger to float conversion >>\n",
      "******************************************************************************************\n",
      "integer number : 1000\n",
      "type of variable : <class 'int'>\n",
      "converted integer to float : 1000.0\n",
      "type of converted number : <class 'float'>\n"
     ]
    }
   ],
   "source": [
    "var=1000\n",
    "print('<< interger to float conversion >>')\n",
    "print('*'*90)\n",
    "print('integer number :',var)\n",
    "print('type of variable :',type(var))\n",
    "a=float(var)\n",
    "print('converted integer to float :',a)\n",
    "print('type of converted number :',type(a))"
   ]
  },
  {
   "cell_type": "code",
   "execution_count": 20,
   "id": "0fe1f499",
   "metadata": {},
   "outputs": [
    {
     "name": "stdout",
     "output_type": "stream",
     "text": [
      "<< interger to string conversion >>\n",
      "******************************************************************************************\n",
      "integer number : 1000\n",
      "type of variable : <class 'int'>\n",
      "converted integer to string : 1000\n",
      "type of converted number : <class 'str'>\n"
     ]
    }
   ],
   "source": [
    "var=1000\n",
    "print('<< interger to string conversion >>')\n",
    "print('*'*90)\n",
    "print('integer number :',var)\n",
    "print('type of variable :',type(var))\n",
    "a=str(var)\n",
    "print('converted integer to string :',a)\n",
    "print('type of converted number :',type(a))"
   ]
  },
  {
   "cell_type": "code",
   "execution_count": 21,
   "id": "58c89aad",
   "metadata": {},
   "outputs": [
    {
     "name": "stdout",
     "output_type": "stream",
     "text": [
      "<< interger to complex conversion >>\n",
      "******************************************************************************************\n",
      "integer number : 1000\n",
      "type of variable : <class 'int'>\n",
      "converted integer to complex : (1000+0j)\n",
      "type of converted number : <class 'complex'>\n",
      "Real : 1000.0\n",
      "Imaginory : 0.0\n"
     ]
    }
   ],
   "source": [
    "var=1000\n",
    "print('<< interger to complex conversion >>')\n",
    "print('*'*90)\n",
    "print('integer number :',var)\n",
    "print('type of variable :',type(var))\n",
    "a=complex(var)\n",
    "print('converted integer to complex :',a)\n",
    "print('type of converted number :',type(a))\n",
    "print('Real :',a.real)\n",
    "print('Imaginory :',a.imag)"
   ]
  },
  {
   "cell_type": "markdown",
   "id": "b1dd1487",
   "metadata": {},
   "source": [
    "###### 2. float to int/complex/string conversion"
   ]
  },
  {
   "cell_type": "code",
   "execution_count": 22,
   "id": "48c7bf6f",
   "metadata": {},
   "outputs": [
    {
     "name": "stdout",
     "output_type": "stream",
     "text": [
      "<< float to int conversion >>\n",
      "******************************************************************************************\n",
      "float number : 999.99\n",
      "type of variable : <class 'float'>\n",
      "converted float to int : 999\n",
      "type of converted number : <class 'int'>\n"
     ]
    }
   ],
   "source": [
    "var=999.99\n",
    "print('<< float to int conversion >>')\n",
    "print('*'*90)\n",
    "print('float number :',var)\n",
    "print('type of variable :',type(var))\n",
    "a=int(var)\n",
    "print('converted float to int :',a)\n",
    "print('type of converted number :',type(a))"
   ]
  },
  {
   "cell_type": "code",
   "execution_count": 23,
   "id": "64516137",
   "metadata": {},
   "outputs": [
    {
     "name": "stdout",
     "output_type": "stream",
     "text": [
      "<< float to complex conversion >>\n",
      "******************************************************************************************\n",
      "float number : 999.99\n",
      "type of variable : <class 'float'>\n",
      "converted float to complex : (999.99+0j)\n",
      "type of converted number : <class 'complex'>\n",
      "Real : 999.99\n",
      "Imaginory : 0.0\n"
     ]
    }
   ],
   "source": [
    "var=999.99\n",
    "print('<< float to complex conversion >>')\n",
    "print('*'*90)\n",
    "print('float number :',var)\n",
    "print('type of variable :',type(var))\n",
    "a=complex(var)\n",
    "print('converted float to complex :',a)\n",
    "print('type of converted number :',type(a))\n",
    "print('Real :',a.real)\n",
    "print('Imaginory :',a.imag)"
   ]
  },
  {
   "cell_type": "code",
   "execution_count": 24,
   "id": "bb201de0",
   "metadata": {},
   "outputs": [
    {
     "name": "stdout",
     "output_type": "stream",
     "text": [
      "<< float to string conversion >>\n",
      "******************************************************************************************\n",
      "float number : 999.99\n",
      "type of variable : <class 'float'>\n",
      "converted float to string : 999.99\n",
      "type of converted number : <class 'str'>\n"
     ]
    }
   ],
   "source": [
    "var=999.99\n",
    "print('<< float to string conversion >>')\n",
    "print('*'*90)\n",
    "print('float number :',var)\n",
    "print('type of variable :',type(var))\n",
    "a=str(var)\n",
    "print('converted float to string :',a)\n",
    "print('type of converted number :',type(a))"
   ]
  },
  {
   "cell_type": "markdown",
   "id": "2f6618bf",
   "metadata": {},
   "source": [
    "###### 3. str to int / float / complex \n",
    "###### Note : string contains only numbers then and then typecasting will be done"
   ]
  },
  {
   "cell_type": "code",
   "execution_count": 25,
   "id": "d15290a2",
   "metadata": {},
   "outputs": [
    {
     "name": "stdout",
     "output_type": "stream",
     "text": [
      "<< string to int conversion >>\n",
      "******************************************************************************************\n",
      "string number : 1000\n",
      "type of variable : <class 'str'>\n",
      "converted string to int : 1000\n",
      "type of converted number : <class 'int'>\n"
     ]
    }
   ],
   "source": [
    "var='1000'\n",
    "print('<< string to int conversion >>')\n",
    "print('*'*90)\n",
    "print('string number :',var)\n",
    "print('type of variable :',type(var))\n",
    "a=int(var)\n",
    "print('converted string to int :',a)\n",
    "print('type of converted number :',type(a))"
   ]
  },
  {
   "cell_type": "code",
   "execution_count": 26,
   "id": "a5fb0030",
   "metadata": {},
   "outputs": [
    {
     "name": "stdout",
     "output_type": "stream",
     "text": [
      "<< string to float conversion >>\n",
      "******************************************************************************************\n",
      "string number : 1000\n",
      "type of variable : <class 'str'>\n",
      "converted string to float : 1000.0\n",
      "type of converted number : <class 'float'>\n"
     ]
    }
   ],
   "source": [
    "var='1000'\n",
    "print('<< string to float conversion >>')\n",
    "print('*'*90)\n",
    "print('string number :',var)\n",
    "print('type of variable :',type(var))\n",
    "a=float(var)\n",
    "print('converted string to float :',a)\n",
    "print('type of converted number :',type(a))"
   ]
  },
  {
   "cell_type": "code",
   "execution_count": 20,
   "id": "7e058eed",
   "metadata": {},
   "outputs": [
    {
     "name": "stdout",
     "output_type": "stream",
     "text": [
      "<< string to complex conversion >>\n",
      "******************************************************************************************\n",
      "string number : 1000.11\n",
      "type of variable : <class 'str'>\n",
      "converted string to complex : (1000.11+0j)\n",
      "type of converted number : <class 'complex'>\n",
      "Real Part: 1000.11\n",
      "Imaginory Part: 0.0\n"
     ]
    }
   ],
   "source": [
    "var='1000.11'\n",
    "print('<< string to complex conversion >>')\n",
    "print('*'*90)\n",
    "print('string number :',var)\n",
    "print('type of variable :',type(var))\n",
    "a=complex(var)\n",
    "print('converted string to complex :',a)\n",
    "print('type of converted number :',type(a))\n",
    "print('Real Part:',a.real)\n",
    "print('Imaginory Part:',a.imag)"
   ]
  },
  {
   "cell_type": "code",
   "execution_count": 28,
   "id": "ba2998cc",
   "metadata": {},
   "outputs": [],
   "source": [
    "var='Python'\n",
    "\n",
    "# not possible for type casting"
   ]
  },
  {
   "cell_type": "markdown",
   "id": "4e9e95d2",
   "metadata": {},
   "source": [
    "#### other types to complex function"
   ]
  },
  {
   "cell_type": "code",
   "execution_count": 29,
   "id": "b015dae2",
   "metadata": {},
   "outputs": [
    {
     "name": "stdout",
     "output_type": "stream",
     "text": [
      "(10+0j)\n",
      "(12.4+0j)\n",
      "(10.23+0j)\n"
     ]
    }
   ],
   "source": [
    "# use complex() function for conversion\n",
    "\n",
    "var = 10\n",
    "print(complex(var))\n",
    "\n",
    "var1 = 12.4\n",
    "\n",
    "print(complex(var1))\n",
    "\n",
    "var3 = \"10.23\"\n",
    "print(complex(var3))"
   ]
  },
  {
   "cell_type": "code",
   "execution_count": 30,
   "id": "0994cb04",
   "metadata": {},
   "outputs": [
    {
     "name": "stdout",
     "output_type": "stream",
     "text": [
      "(10+5j)\n",
      "(10.2+4j)\n",
      "(1+0j)\n"
     ]
    }
   ],
   "source": [
    "print(complex(10,5)) # 10+5j\n",
    "print(complex(10.20,4)) # 10.2+4j\n",
    "\n",
    "print(complex(True,False)) # 1+0j"
   ]
  },
  {
   "cell_type": "markdown",
   "id": "4647bc8d",
   "metadata": {},
   "source": [
    "### Immutability"
   ]
  },
  {
   "cell_type": "markdown",
   "id": "abe9ca6e",
   "metadata": {},
   "source": [
    "> Immutability refers to the **property of an object that cannot be changed after it has been created**. This means that once an object is created, **its value cannot be modified**.\n",
    "\n",
    "> For example, if you assign a value to a variable that references an integer, you cannot modify the value of that integer:\n",
    "                      >>x = 5\n",
    "\n",
    ">>x = 6 # This creates a new integer object with the value 6 and assigns it to x, it doesn't modify the value of the original object with value 5.\n",
    "\n",
    "> mutable objects in Python can be modified after they have been created. \n",
    ">>Examples of mutable objects include **lists, sets, and dictionaries**.\n",
    "\n",
    ">  If you modify a mutable object, you are actually changing the object itself, not creating a new object. For example:\n",
    ">> my_list = [1, 2, 3]\n",
    "\n",
    ">> my_list.append(4) # This modifies the existing list object, adding a new element 4 to it.\n"
   ]
  },
  {
   "cell_type": "markdown",
   "id": "aa55aadd",
   "metadata": {},
   "source": [
    "    Immutability: object can not be changed after it has been created are called as immutability"
   ]
  },
  {
   "cell_type": "code",
   "execution_count": 9,
   "id": "e492c249",
   "metadata": {},
   "outputs": [
    {
     "name": "stdout",
     "output_type": "stream",
     "text": [
      "140726035669928\n",
      "140726035670088\n"
     ]
    }
   ],
   "source": [
    "# immutability\n",
    "x=5\n",
    "print(id(x))\n",
    "x=10\n",
    "print(id(x))"
   ]
  },
  {
   "cell_type": "code",
   "execution_count": 10,
   "id": "9c8ba331",
   "metadata": {},
   "outputs": [
    {
     "name": "stdout",
     "output_type": "stream",
     "text": [
      "[1, 2, 3]\n",
      "2236169406464\n",
      "[1, 2, [1, 2, 3]]\n",
      "2236169406464\n"
     ]
    }
   ],
   "source": [
    "# mutability\n",
    "list1=[1,2,3]\n",
    "print(list1)\n",
    "print(id(list1))\n",
    "list1[2]=[1,2,3]\n",
    "print(list1)\n",
    "print(id(list1))"
   ]
  },
  {
   "cell_type": "code",
   "execution_count": 11,
   "id": "8b2af2c2",
   "metadata": {},
   "outputs": [
    {
     "name": "stdout",
     "output_type": "stream",
     "text": [
      "140726035672968\n",
      "and \n",
      " 140726035672968\n",
      "True\n",
      "****************************************************************************************************\n",
      "2236169116240\n",
      "and \n",
      " 2236169123984\n",
      "2236169124208\n",
      "False\n"
     ]
    }
   ],
   "source": [
    "var=100 # for same integer value for multiple variable the id will be same\n",
    "var1=var\n",
    "\n",
    "print(id(var))\n",
    "print('and \\n',id(var1))\n",
    "print(var is var1) # checking variables\n",
    "\n",
    "print('*'*100)\n",
    "\n",
    "var=999.99 # for same floating value for multiple variable the id will not same\n",
    "var1=999.99\n",
    "var2=999.99\n",
    "\n",
    "print(id(var))\n",
    "print('and \\n',id(var1))\n",
    "print(id(var2))\n",
    "print(var is var1)"
   ]
  },
  {
   "cell_type": "markdown",
   "id": "74a113b5",
   "metadata": {},
   "source": [
    "### bytes data type"
   ]
  },
  {
   "cell_type": "markdown",
   "id": "0c0b0c37",
   "metadata": {},
   "source": [
    ">In Python, bytes and bytearray are data types that represent a sequence of bytes (integers between 0 and 255) that can be used to store and manipulate binary data.\n",
    "\n",
    "> The bytes type is immutable, which means that you cannot modify its contents once it has been created.\n",
    "\n",
    "> You can create a bytes object by passing a sequence of integers (between 0 and 255) to the bytes constructor or by using the b prefix before a string literal:\n",
    "\n",
    ">> my_bytes = bytes([65, 66, 67]) # create a bytes object from a list of integers\n",
    "\n",
    ">> my_bytes = b\"ABC\" # create a bytes object from a string literal with the 'b' prefix\n"
   ]
  },
  {
   "cell_type": "code",
   "execution_count": 35,
   "id": "78a90608",
   "metadata": {},
   "outputs": [
    {
     "name": "stdout",
     "output_type": "stream",
     "text": [
      "b'\\x01\\x02\\x03\\x04\\x05\\x06'\n",
      "<class 'bytes'>\n",
      "1\n",
      "2\n",
      "3\n",
      "4\n",
      "5\n",
      "6\n"
     ]
    }
   ],
   "source": [
    "l = [1,2,3,4,5,6]\n",
    "b = bytes(l)\n",
    "print(b)\n",
    "print(type(b))\n",
    "\n",
    "for i in b:\n",
    "    print(i)"
   ]
  },
  {
   "cell_type": "code",
   "execution_count": 36,
   "id": "bee506d7",
   "metadata": {},
   "outputs": [
    {
     "name": "stdout",
     "output_type": "stream",
     "text": [
      "val of b[5] : 6\n"
     ]
    }
   ],
   "source": [
    "# how to access\n",
    "print(\"val of b[5] :\",b[5])"
   ]
  },
  {
   "cell_type": "code",
   "execution_count": 37,
   "id": "06fac05f",
   "metadata": {},
   "outputs": [],
   "source": [
    "# try to modify\n",
    "# b[0]=100 \n",
    "# TypeError: 'bytes' object does not support item assignment\n",
    "# because bytes are immutable"
   ]
  },
  {
   "cell_type": "code",
   "execution_count": 38,
   "id": "7f6cbadf",
   "metadata": {},
   "outputs": [],
   "source": [
    "# my_bytes=bytes([1,2,3,4,5,260]) \n",
    "# print(my_bytes)\n",
    "# value above 255 will get value error\n",
    "# ValueError: bytes must be in range(0, 256)"
   ]
  },
  {
   "cell_type": "code",
   "execution_count": 39,
   "id": "94a4f881",
   "metadata": {},
   "outputs": [
    {
     "name": "stdout",
     "output_type": "stream",
     "text": [
      "<class 'bytes'>\n",
      "66\n",
      "65\n",
      "67\n"
     ]
    }
   ],
   "source": [
    "my_bytes1=b'BAC'\n",
    "print(type(my_bytes1))\n",
    "for i in my_bytes1: # accessing bytes by using \"for loop\"\n",
    "    print(i)"
   ]
  },
  {
   "cell_type": "code",
   "execution_count": 40,
   "id": "5f837cc6",
   "metadata": {},
   "outputs": [
    {
     "name": "stdout",
     "output_type": "stream",
     "text": [
      "[10, 20, 30, 40, 50]\n",
      "<class 'list'>\n",
      "******************************************************************************************\n",
      "b'\\n\\x14\\x1e(2'\n",
      "<class 'bytes'>\n",
      "10\n",
      "20\n",
      "30\n",
      "40\n",
      "50\n"
     ]
    }
   ],
   "source": [
    "a=[10,20,30,40,50]\n",
    "print(a)\n",
    "print(type(a))\n",
    "\n",
    "print(\"*\"*90)\n",
    "\n",
    "b=bytes(a)\n",
    "print(b)\n",
    "print(type(b))\n",
    "# this will not print for that we need to go through for loop\n",
    "\n",
    "for i in b:\n",
    "    print(i)\n"
   ]
  },
  {
   "cell_type": "markdown",
   "id": "141b6c38",
   "metadata": {},
   "source": [
    "### bytearray data type"
   ]
  },
  {
   "cell_type": "markdown",
   "id": "32673a30",
   "metadata": {},
   "source": [
    "> The bytearray type is **similar to bytes, but it is mutable**, which means that you can modify its contents after it has been created. You can create a bytearray object by passing a sequence of integers (between 0 and 255) to the bytearray constructor or by using the bytearray() function:\n",
    "\n",
    ">> my_bytearray = bytearray([65, 66, 67]) # create a bytearray object from a list of integers\n",
    ">> my_bytearray = bytearray(b\"ABC\") # create a bytearray object from a bytes object\n"
   ]
  },
  {
   "cell_type": "code",
   "execution_count": 41,
   "id": "7bce268f",
   "metadata": {},
   "outputs": [
    {
     "name": "stdout",
     "output_type": "stream",
     "text": [
      "<class 'bytearray'>\n",
      "bytearray(b'\\n\\x14\\x14\\x1e')\n",
      "10\n",
      "20\n",
      "20\n",
      "30\n"
     ]
    }
   ],
   "source": [
    "my_bytearray=bytearray([10,20,20,30])\n",
    "print(type(my_bytearray))\n",
    "print(my_bytearray)\n",
    "for i in my_bytearray:\n",
    "    print(i)"
   ]
  },
  {
   "cell_type": "code",
   "execution_count": 42,
   "id": "f550652a",
   "metadata": {},
   "outputs": [
    {
     "data": {
      "text/plain": [
       "10"
      ]
     },
     "execution_count": 42,
     "metadata": {},
     "output_type": "execute_result"
    }
   ],
   "source": [
    "# accessing the element\n",
    "my_bytearray[0]"
   ]
  },
  {
   "cell_type": "code",
   "execution_count": 43,
   "id": "020331b9",
   "metadata": {},
   "outputs": [
    {
     "name": "stdout",
     "output_type": "stream",
     "text": [
      "211\n",
      "20\n",
      "20\n",
      "30\n"
     ]
    }
   ],
   "source": [
    "# value modifying\n",
    "my_bytearray[0]=211\n",
    "\n",
    "for i in my_bytearray:\n",
    "    print(i)"
   ]
  },
  {
   "cell_type": "code",
   "execution_count": 44,
   "id": "b3dc044e",
   "metadata": {},
   "outputs": [
    {
     "name": "stdout",
     "output_type": "stream",
     "text": [
      "211\n",
      "20\n",
      "100\n",
      "30\n"
     ]
    }
   ],
   "source": [
    "# we can modify the element in original object of \"bytesarray\" i.e it is mutable\n",
    "my_bytearray[2]=100\n",
    "for i in my_bytearray:\n",
    "    print(i)"
   ]
  },
  {
   "cell_type": "code",
   "execution_count": 45,
   "id": "4a75d7e2",
   "metadata": {},
   "outputs": [],
   "source": [
    "# my_bytearray[0]=260 # ValueError: byte must be in range(0, 256)\n",
    "\n",
    "# for i in my_bytearray:\n",
    "#     print(i)"
   ]
  },
  {
   "cell_type": "code",
   "execution_count": 46,
   "id": "bb76640e",
   "metadata": {},
   "outputs": [
    {
     "name": "stdout",
     "output_type": "stream",
     "text": [
      "<class 'bytearray'>\n",
      "97\n",
      "98\n",
      "99\n"
     ]
    }
   ],
   "source": [
    "my_bytearray1=bytearray(b'abc')\n",
    "print(type(my_bytearray1))\n",
    "for i in my_bytearray1:\n",
    "    print(i)"
   ]
  },
  {
   "cell_type": "code",
   "execution_count": 15,
   "id": "25e2df5a",
   "metadata": {},
   "outputs": [
    {
     "name": "stdout",
     "output_type": "stream",
     "text": [
      "bytearray(b'\\x01\\x02\\x03\\x04')\n",
      "1\n",
      "2\n",
      "3\n",
      "4\n",
      "****************************************************************************************************\n",
      "bytearray(b'c\\x02\\x03\\x04')\n",
      "99\n",
      "2\n",
      "3\n",
      "4\n"
     ]
    }
   ],
   "source": [
    "barray=bytearray([1,2,3,4])\n",
    "print(barray)\n",
    "for i in barray:\n",
    "    print(i)\n",
    "    \n",
    "print('*'*100)\n",
    "    \n",
    "barray[0]=99 # bytearray is mutable\n",
    "print(barray)\n",
    "for i in barray:\n",
    "    print(i)"
   ]
  },
  {
   "cell_type": "markdown",
   "id": "6349ca8e",
   "metadata": {},
   "source": [
    "### List"
   ]
  },
  {
   "cell_type": "markdown",
   "id": "4b743677",
   "metadata": {},
   "source": [
    "1. List stores **multiple items with different data types**\n",
    "2. **[ ]** brackets are used to create list\n",
    "3. list is **ordered**\n",
    "4. The list is **changeable (mutable)**, meaning that we can change, add, and remove items in a list after it has been created.\n",
    "5. **Duplicates allowed** (Stores)\n",
    "6. list is **growable(we can extend list upto memory limit)** ,\n",
    "7. Elements are **added at end of list**"
   ]
  },
  {
   "cell_type": "code",
   "execution_count": 47,
   "id": "d5d7241d",
   "metadata": {},
   "outputs": [
    {
     "name": "stdout",
     "output_type": "stream",
     "text": [
      "[1, 2, 3, 4, 5, 6, 7, 8]\n",
      "<class 'list'>\n",
      "******************************************************************************************\n",
      "[1.1, 2.2, 3.3, 4.4, 5.5, 6.6, 7.7, 8.8]\n",
      "<class 'list'>\n",
      "******************************************************************************************\n",
      "['a', 'b', 'c', 'd', 'e', 'f', 'g', 'h']\n",
      "<class 'list'>\n",
      "******************************************************************************************\n",
      "[1, 2, 3.33, 4.44, 'a', 'b']\n",
      "<class 'list'>\n",
      "******************************************************************************************\n"
     ]
    }
   ],
   "source": [
    "# create list for int/float/string \n",
    "l_1=[1,2,3,4,5,6,7,8]\n",
    "print(l_1)\n",
    "print(type(l_1))\n",
    "print('*'*90)\n",
    "\n",
    "l_2=[1.1,2.2,3.3,4.4,5.5,6.6,7.7,8.8]\n",
    "print(l_2)\n",
    "print(type(l_2))\n",
    "print('*'*90)\n",
    "\n",
    "l_3=['a','b','c','d','e','f','g','h']\n",
    "print(l_3)\n",
    "print(type(l_3))\n",
    "print('*'*90)\n",
    "\n",
    "l_4=[1,2,3.33,4.44,'a','b']\n",
    "print(l_4)\n",
    "print(type(l_4))\n",
    "print('*'*90)"
   ]
  },
  {
   "cell_type": "code",
   "execution_count": 48,
   "id": "32c5fc56",
   "metadata": {},
   "outputs": [
    {
     "name": "stdout",
     "output_type": "stream",
     "text": [
      "python\n",
      "2.2\n"
     ]
    }
   ],
   "source": [
    "# accessing the list item's\n",
    "l=[1,2,'python','java',2.2,3.4]\n",
    "print(l[2])\n",
    "print(l[4])"
   ]
  },
  {
   "cell_type": "code",
   "execution_count": 22,
   "id": "e23acc51",
   "metadata": {},
   "outputs": [
    {
     "name": "stdout",
     "output_type": "stream",
     "text": [
      "[1, 2, 3, 4, 5]\n",
      "<class 'list'>\n",
      "[10.1, 20.2, 30.3, 40.4, 50.5]\n",
      "<class 'list'>\n",
      "['Abhi', 'Shourya', 'Rekha', 'Digvijay', 'Mohite']\n",
      "<class 'list'>\n",
      "[1, 10.1, 'Abhi', (1+2j), 0]\n",
      "<class 'list'>\n"
     ]
    }
   ],
   "source": [
    "list1=[1,2,3,4,5]\n",
    "list2=[10.1, 20.2, 30.3, 40.4, 50.5]\n",
    "list3=['Abhi','Shourya','Rekha','Digvijay','Mohite']\n",
    "list4=[1, 10.1, 'Abhi', 1+2j, 0]\n",
    "\n",
    "print(list1); print(type(list1))\n",
    "print(list2); print(type(list2))\n",
    "print(list3); print(type(list3))\n",
    "print(list4); print(type(list4))"
   ]
  },
  {
   "cell_type": "code",
   "execution_count": 23,
   "id": "297a4c1b",
   "metadata": {},
   "outputs": [
    {
     "name": "stdout",
     "output_type": "stream",
     "text": [
      "<class 'list'>\n"
     ]
    },
    {
     "data": {
      "text/plain": [
       "list"
      ]
     },
     "execution_count": 23,
     "metadata": {},
     "output_type": "execute_result"
    }
   ],
   "source": [
    "print(type(list1))\n",
    "type(list1)"
   ]
  },
  {
   "cell_type": "code",
   "execution_count": 24,
   "id": "45d00ceb",
   "metadata": {},
   "outputs": [
    {
     "name": "stdout",
     "output_type": "stream",
     "text": [
      "1\n",
      "20.2\n",
      "Rekha\n",
      "(1+2j)\n",
      "*********************\n"
     ]
    }
   ],
   "source": [
    "print(list1[0])\n",
    "print(list2[1])\n",
    "print(list3[2])\n",
    "print(list4[3])\n",
    "print('*********************')"
   ]
  },
  {
   "cell_type": "code",
   "execution_count": 25,
   "id": "1b183a31",
   "metadata": {},
   "outputs": [
    {
     "name": "stdout",
     "output_type": "stream",
     "text": [
      "[10.1, 20.2, 30.3, 40.4, 50.5]\n",
      "[10.1, 20.2, 30.3]\n"
     ]
    },
    {
     "data": {
      "text/plain": [
       "[10.1, 20.2, 30.3, 40.4, 50.5]"
      ]
     },
     "execution_count": 25,
     "metadata": {},
     "output_type": "execute_result"
    }
   ],
   "source": [
    "print(list2)\n",
    "print(list2[0:3])\n",
    "list2"
   ]
  },
  {
   "cell_type": "code",
   "execution_count": 26,
   "id": "9b4fd204",
   "metadata": {},
   "outputs": [
    {
     "name": "stdout",
     "output_type": "stream",
     "text": [
      "[10.1, 20.2, 30.3, 40.4, 50.5]\n",
      "[10.1, 20.2, 30.3]\n"
     ]
    }
   ],
   "source": [
    "print(list2)\n",
    "print(list2[0:-2])"
   ]
  },
  {
   "cell_type": "code",
   "execution_count": 27,
   "id": "c6bab3be",
   "metadata": {},
   "outputs": [
    {
     "data": {
      "text/plain": [
       "50.5"
      ]
     },
     "execution_count": 27,
     "metadata": {},
     "output_type": "execute_result"
    }
   ],
   "source": [
    "list2[-1]"
   ]
  },
  {
   "cell_type": "code",
   "execution_count": 28,
   "id": "b58b3e0e",
   "metadata": {
    "scrolled": true
   },
   "outputs": [
    {
     "name": "stdout",
     "output_type": "stream",
     "text": [
      "[50.5, 40.4, 30.3, 20.2, 10.1]\n"
     ]
    }
   ],
   "source": [
    "print(list2[::-1]) # reverse list printed"
   ]
  },
  {
   "cell_type": "markdown",
   "id": "0bf29c62",
   "metadata": {},
   "source": [
    "###### Operations of list"
   ]
  },
  {
   "cell_type": "raw",
   "id": "cf72952d",
   "metadata": {},
   "source": [
    "# available operations on list\n",
    "\n",
    "list1.append\n",
    "list1.clear\n",
    "list1.copy\n",
    "list1.count\n",
    "list1.extend\n",
    "list1.index\n",
    "list1.insert\n",
    "list1.pop\n",
    "list1.remove\n",
    "list1.reverse\n",
    "list1.sort"
   ]
  },
  {
   "cell_type": "code",
   "execution_count": 56,
   "id": "86eb86ba",
   "metadata": {},
   "outputs": [
    {
     "name": "stdout",
     "output_type": "stream",
     "text": [
      "['Abhi', 'Shourya', 'Rekha', 'Digvijay', 'Mohite']\n",
      "5\n"
     ]
    },
    {
     "data": {
      "text/plain": [
       "5"
      ]
     },
     "execution_count": 56,
     "metadata": {},
     "output_type": "execute_result"
    }
   ],
   "source": [
    "# len function\n",
    "print(list3)\n",
    "print(len(list3))\n",
    "len(list3)"
   ]
  },
  {
   "cell_type": "code",
   "execution_count": 57,
   "id": "42d692ca",
   "metadata": {},
   "outputs": [
    {
     "name": "stdout",
     "output_type": "stream",
     "text": [
      "['Abhi', 'Shourya', 'Rekha', 'Digvijay', 'Mohite']\n",
      "['Abhi', 'Shourya', 'Rekha', 'Digvijay', 'Mohite', 'Manjarde']\n"
     ]
    }
   ],
   "source": [
    "# append function\n",
    "print(list3)\n",
    "list3.append('Manjarde')\n",
    "print(list3)"
   ]
  },
  {
   "cell_type": "code",
   "execution_count": 58,
   "id": "5e13cbea",
   "metadata": {},
   "outputs": [
    {
     "name": "stdout",
     "output_type": "stream",
     "text": [
      "['Abhi', 'Shourya', 'Rekha', 'Digvijay', 'Mohite', 'Manjarde']\n",
      "['Abhi', 'Shourya', 'Rekha', 'Digvijay', 'Mohite']\n"
     ]
    }
   ],
   "source": [
    "# remove function\n",
    "print(list3)\n",
    "list3.remove('Manjarde')\n",
    "print(list3)"
   ]
  },
  {
   "cell_type": "code",
   "execution_count": 59,
   "id": "0f4cc89c",
   "metadata": {},
   "outputs": [
    {
     "name": "stdout",
     "output_type": "stream",
     "text": [
      "list 3 : ['Abhi', 'Shourya', 'Rekha', 'Digvijay', 'Mohite']\n",
      "list 10: ['Abhi', 'Shourya', 'Rekha', 'Digvijay', 'Mohite']\n"
     ]
    }
   ],
   "source": [
    "# copy function\n",
    "list10=list3.copy()\n",
    "print(\"list 3 :\",list3)\n",
    "print(\"list 10:\",list10)"
   ]
  },
  {
   "cell_type": "code",
   "execution_count": 60,
   "id": "06fec788",
   "metadata": {},
   "outputs": [
    {
     "name": "stdout",
     "output_type": "stream",
     "text": [
      "[1, 2, 3, 4, 5]\n",
      "[1, 2, 3, 4, 5, 'M', 'a', 'n', 'j', 'a', 'r', 'd', 'e']\n"
     ]
    }
   ],
   "source": [
    "# extend function\n",
    "print(list1)\n",
    "list1.extend('Manjarde')\n",
    "print(list1)"
   ]
  },
  {
   "cell_type": "code",
   "execution_count": 61,
   "id": "bfa6e318",
   "metadata": {},
   "outputs": [
    {
     "name": "stdout",
     "output_type": "stream",
     "text": [
      "['Abhi', 'Shourya', 'Rekha', 'Digvijay', 'Mohite', 'Abhi', 'Shourya', 'Rekha', 'Digvijay', 'Mohite']\n"
     ]
    }
   ],
   "source": [
    "list10.extend(list3)\n",
    "print(list10)"
   ]
  },
  {
   "cell_type": "code",
   "execution_count": 29,
   "id": "d23fa9ac",
   "metadata": {},
   "outputs": [
    {
     "data": {
      "text/plain": [
       "[1, 2, 3, 4]"
      ]
     },
     "execution_count": 29,
     "metadata": {},
     "output_type": "execute_result"
    }
   ],
   "source": [
    "# del function\n",
    "del list1[4::1]\n",
    "list1"
   ]
  },
  {
   "cell_type": "code",
   "execution_count": 31,
   "id": "fe91bba9",
   "metadata": {},
   "outputs": [
    {
     "name": "stdout",
     "output_type": "stream",
     "text": [
      "list1 : [1, 2, 3, 4]\n",
      "list2 : [10.1, 20.2, 30.3, 40.4, 50.5]\n",
      "0\n",
      "3\n",
      "2\n"
     ]
    },
    {
     "data": {
      "text/plain": [
       "3"
      ]
     },
     "execution_count": 31,
     "metadata": {},
     "output_type": "execute_result"
    }
   ],
   "source": [
    "# index function\n",
    "print(\"list1 :\",list1)\n",
    "print(\"list2 :\",list2)\n",
    "print(list1.index(1))\n",
    "print(list2.index(40.4))\n",
    "print(list4.index('Abhi'))\n",
    "list3.index('Digvijay') # showing index number "
   ]
  },
  {
   "cell_type": "code",
   "execution_count": 64,
   "id": "2aabfb31",
   "metadata": {},
   "outputs": [
    {
     "name": "stdout",
     "output_type": "stream",
     "text": [
      "list1 : [1, 2, 3, 4, 5]\n",
      "list1 after insert: [1, 2, 3, 100, 4, 5]\n"
     ]
    }
   ],
   "source": [
    "# insert value (index ,value)\n",
    "print(\"list1 :\",list1)\n",
    "list1.insert(3,100)\n",
    "print('list1 after insert:',list1)"
   ]
  },
  {
   "cell_type": "code",
   "execution_count": 65,
   "id": "f049c3d6",
   "metadata": {},
   "outputs": [],
   "source": [
    "# pop function"
   ]
  },
  {
   "cell_type": "markdown",
   "id": "287cf52a",
   "metadata": {},
   "source": [
    "pop will remove last element from list but if we give index number then that perrticular index element will be remove"
   ]
  },
  {
   "cell_type": "code",
   "execution_count": 66,
   "id": "c1e33278",
   "metadata": {},
   "outputs": [
    {
     "name": "stdout",
     "output_type": "stream",
     "text": [
      "[1, 2, 3, 100, 4, 5]\n",
      "[1, 2, 3, 100, 4]\n",
      "[1, 2, 3, 4]\n"
     ]
    }
   ],
   "source": [
    "print(list1)\n",
    "list1.pop() # pop last element\n",
    "print(list1)\n",
    "list1.pop(3) # pop 1st index \n",
    "print(list1)"
   ]
  },
  {
   "cell_type": "code",
   "execution_count": 67,
   "id": "224fae2a",
   "metadata": {},
   "outputs": [
    {
     "name": "stdout",
     "output_type": "stream",
     "text": [
      "original list : [10.1, 20.2, 30.3, 40.4, 50.5]\n",
      "reversed list : [50.5, 40.4, 30.3, 20.2, 10.1]\n"
     ]
    }
   ],
   "source": [
    "# reverse function\n",
    "print(\"original list :\",list2)\n",
    "list2.reverse()\n",
    "print(\"reversed list :\",list2)"
   ]
  },
  {
   "cell_type": "code",
   "execution_count": 68,
   "id": "d71d9002",
   "metadata": {},
   "outputs": [
    {
     "name": "stdout",
     "output_type": "stream",
     "text": [
      "Original list : [1, 2, 3, 4, 5, 6]\n",
      "Ascending order  : [1, 2, 3, 4, 5, 6]\n",
      "Decending order : [6, 5, 4, 3, 2, 1]\n"
     ]
    }
   ],
   "source": [
    "# sort function (ascending / decending)\n",
    "list11=[1,2,3,4,5,6]\n",
    "print('Original list :',list11)\n",
    "list11.sort(reverse=False)\n",
    "print('Ascending order  :',list11)\n",
    "list11.sort(reverse=True)\n",
    "print('Decending order :',list11)"
   ]
  },
  {
   "cell_type": "code",
   "execution_count": 69,
   "id": "c884d0b6",
   "metadata": {},
   "outputs": [
    {
     "name": "stdout",
     "output_type": "stream",
     "text": [
      "[6, 5, 4, 3, 2, 1]\n",
      "[6, 'Mohite_Patil', 4, 3, 2, 1]\n"
     ]
    }
   ],
   "source": [
    "# modifying 1st index \n",
    "print(list11)\n",
    "list11[1]='Mohite_Patil' \n",
    "print(list11)"
   ]
  },
  {
   "cell_type": "code",
   "execution_count": 70,
   "id": "2a9ae442",
   "metadata": {},
   "outputs": [
    {
     "name": "stdout",
     "output_type": "stream",
     "text": [
      "[6, 'Mohite_Patil', 4, 3, 2, 1]\n",
      "['A', 'B', 'C', 3, 2, 1]\n"
     ]
    }
   ],
   "source": [
    "# modifying 1st, 2nd and 3rd index\n",
    "print(list11)\n",
    "list11[0:3]=['A','B','C'] \n",
    "print(list11)"
   ]
  },
  {
   "cell_type": "code",
   "execution_count": 71,
   "id": "8d914880",
   "metadata": {},
   "outputs": [
    {
     "name": "stdout",
     "output_type": "stream",
     "text": [
      "6\n",
      "['A', 'B', 'C', 3, 2, 1]\n"
     ]
    }
   ],
   "source": [
    "print(len(list11))\n",
    "# list11[9] = 'Padmaja' # list assignment index out of range\n",
    "print(list11)"
   ]
  },
  {
   "cell_type": "code",
   "execution_count": 72,
   "id": "3905f956",
   "metadata": {},
   "outputs": [
    {
     "name": "stdout",
     "output_type": "stream",
     "text": [
      "[]\n"
     ]
    }
   ],
   "source": [
    "# clear function\n",
    "list11.clear()\n",
    "print(list11)"
   ]
  },
  {
   "cell_type": "code",
   "execution_count": 73,
   "id": "96870170",
   "metadata": {},
   "outputs": [],
   "source": [
    "# access list element by using for loop"
   ]
  },
  {
   "cell_type": "code",
   "execution_count": 74,
   "id": "66e6070e",
   "metadata": {},
   "outputs": [
    {
     "name": "stdout",
     "output_type": "stream",
     "text": [
      "1\n",
      "10.1\n",
      "Abhi\n",
      "(1+2j)\n",
      "0\n"
     ]
    }
   ],
   "source": [
    "for i in list4:\n",
    "    print(i)"
   ]
  },
  {
   "cell_type": "code",
   "execution_count": 33,
   "id": "b5b3b83a",
   "metadata": {},
   "outputs": [
    {
     "name": "stdout",
     "output_type": "stream",
     "text": [
      "[1, 2, 22, 33, 44, 4, 5, 6, 7, 8, 9]\n",
      "44\n"
     ]
    }
   ],
   "source": [
    "list20=[1,2,3,4,5,6,7,8,9]\n",
    "list20[2:3]=[22,33,44]\n",
    "print(list20)\n",
    "print(list20[4])"
   ]
  },
  {
   "cell_type": "code",
   "execution_count": 34,
   "id": "4344c1da",
   "metadata": {},
   "outputs": [
    {
     "name": "stdout",
     "output_type": "stream",
     "text": [
      "[1, 2, 22, 33, 44]\n",
      "44\n"
     ]
    }
   ],
   "source": [
    "# misbahaviour of list\n",
    "list21=[1,2,3,4,5,6,7,8,9]\n",
    "list21[2:]=[22,33,44] # after modifying remaining elements will be lost\n",
    "print(list21)\n",
    "print(list20[4])"
   ]
  },
  {
   "cell_type": "code",
   "execution_count": 41,
   "id": "aa46e96f",
   "metadata": {},
   "outputs": [
    {
     "name": "stdout",
     "output_type": "stream",
     "text": [
      "[1, 2, 22, 33, 44, 5, 6, 7, 8, 9]\n",
      "44\n"
     ]
    }
   ],
   "source": [
    "list21=[1,2,3,4,5,6,7,8,9]\n",
    "list21[2:4]=[22,33,44] # after modifying remaining elements will be lost\n",
    "print(list21)\n",
    "print(list20[4])"
   ]
  },
  {
   "cell_type": "markdown",
   "id": "bf8a8747",
   "metadata": {},
   "source": [
    "### Tuple"
   ]
  },
  {
   "cell_type": "markdown",
   "id": "e69fb0d9",
   "metadata": {},
   "source": [
    "1. Tuple is **ordered and unchangable(not growable)**.\n",
    "2. **Immutable** (you cant change the element or can't add elements in tuple)\n",
    "3. **()** are used to represent the tuple\n",
    "4. **duplicates allowed**\n",
    "5. **tuples are read only version** of your list but except list is growable."
   ]
  },
  {
   "cell_type": "code",
   "execution_count": 77,
   "id": "b8fbe079",
   "metadata": {},
   "outputs": [
    {
     "name": "stdout",
     "output_type": "stream",
     "text": [
      "(1, 2, 3, 4, 5, 6)\n",
      "<class 'tuple'>\n"
     ]
    }
   ],
   "source": [
    "# tuple constructor\n",
    "tup=tuple((1,2,3,4,5,6))\n",
    "print(tup)\n",
    "print(type(tup))"
   ]
  },
  {
   "cell_type": "code",
   "execution_count": 78,
   "id": "38ac2737",
   "metadata": {},
   "outputs": [
    {
     "data": {
      "text/plain": [
       "1"
      ]
     },
     "execution_count": 78,
     "metadata": {},
     "output_type": "execute_result"
    }
   ],
   "source": [
    "# count()\n",
    "tup.count(5) # counts how many times element is coming"
   ]
  },
  {
   "cell_type": "code",
   "execution_count": 79,
   "id": "4cb4c9d1",
   "metadata": {},
   "outputs": [
    {
     "data": {
      "text/plain": [
       "4"
      ]
     },
     "execution_count": 79,
     "metadata": {},
     "output_type": "execute_result"
    }
   ],
   "source": [
    "# index()\n",
    "tup.index(5)# showing index number of elements"
   ]
  },
  {
   "cell_type": "raw",
   "id": "e7790da0",
   "metadata": {},
   "source": [
    "# i want to add elemet in my tuple"
   ]
  },
  {
   "cell_type": "code",
   "execution_count": 80,
   "id": "0d81e582",
   "metadata": {},
   "outputs": [],
   "source": [
    "# tup.append(10) \n",
    "# AttributeError: 'tuple' object has no attribute 'append'"
   ]
  },
  {
   "cell_type": "code",
   "execution_count": 81,
   "id": "2d63d0f2",
   "metadata": {},
   "outputs": [
    {
     "name": "stdout",
     "output_type": "stream",
     "text": [
      "(1, 2, 3, 4, 5, 6)\n",
      "<class 'tuple'>\n",
      "****************************************************************************************************\n",
      "[1, 2, 3, 4, 5, 6]\n",
      "<class 'list'>\n"
     ]
    }
   ],
   "source": [
    "# step1 : tuple convert ino list\n",
    "print(tup)\n",
    "print(type(tup))\n",
    "print('*'*100)\n",
    "l_tup=list(tup)\n",
    "print(l_tup)\n",
    "print(type(l_tup))"
   ]
  },
  {
   "cell_type": "code",
   "execution_count": 82,
   "id": "2e728692",
   "metadata": {},
   "outputs": [
    {
     "name": "stdout",
     "output_type": "stream",
     "text": [
      "[1, 2, 3, 4, 5, 6, 100]\n",
      "<class 'list'>\n",
      "****************************************************************************************************\n",
      "(1, 2, 3, 4, 5, 6, 100)\n",
      "<class 'tuple'>\n"
     ]
    }
   ],
   "source": [
    "# setp2 : append required item in list\n",
    "l_tup.append(100)\n",
    "print(l_tup)\n",
    "print(type(l_tup))\n",
    "print(\"*\"*100)\n",
    "tup=tuple(l_tup)\n",
    "print(tup)\n",
    "print(type(tup))"
   ]
  },
  {
   "cell_type": "raw",
   "id": "d686bc6b",
   "metadata": {},
   "source": [
    "# available operations on tuple through list\n",
    "\n",
    "list1.append # add element at last\n",
    "list1.copy # copy\n",
    "list1.count # count the value\n",
    "list1.extend # it will add multiple element in list\n",
    "list1.index # it return you an index of value\n",
    "list1.insert # insert at specific location\n",
    "list1.pop # remove last element / specific location\n",
    "list1.remove # remove value\n",
    "list1.reverse # reverse order\n",
    "list1.sort # sort in ascending and decending order\n",
    "list1.clear # clear all the elements from your list"
   ]
  },
  {
   "cell_type": "code",
   "execution_count": 83,
   "id": "212bd1f5",
   "metadata": {},
   "outputs": [
    {
     "name": "stdout",
     "output_type": "stream",
     "text": [
      "(1, 2, 3, 4, 5, 6, 100)\n"
     ]
    }
   ],
   "source": [
    "print(tup)"
   ]
  },
  {
   "cell_type": "code",
   "execution_count": 84,
   "id": "cd8186ca",
   "metadata": {},
   "outputs": [
    {
     "name": "stdout",
     "output_type": "stream",
     "text": [
      "(1, 2, 3, 4, 5, 6, 100, 'Krishna')\n"
     ]
    }
   ],
   "source": [
    "# append\n",
    "l=list(tup)\n",
    "l.append('Krishna')\n",
    "tup=tuple(l)\n",
    "print(tup)"
   ]
  },
  {
   "cell_type": "code",
   "execution_count": 85,
   "id": "b32c09ea",
   "metadata": {},
   "outputs": [
    {
     "name": "stdout",
     "output_type": "stream",
     "text": [
      "(11, 22, 33, 44, 55, 66, 1000, 'Hare')\n"
     ]
    }
   ],
   "source": [
    "# copy\n",
    "ll=[11,22,33,44,55,66,1000,'Hare']\n",
    "l=list(tup)\n",
    "l=ll.copy()\n",
    "tup=tuple(l)\n",
    "print(tup)"
   ]
  },
  {
   "cell_type": "code",
   "execution_count": 86,
   "id": "234c0c6f",
   "metadata": {},
   "outputs": [
    {
     "name": "stdout",
     "output_type": "stream",
     "text": [
      "(11, 22, 33, 44, 55, 66, 1000, 'Hare', 'Rama', 'Hare', 'Krishna')\n"
     ]
    }
   ],
   "source": [
    "# extend function\n",
    "lll=['Rama','Hare','Krishna']\n",
    "l=list(tup)\n",
    "l.extend(lll)\n",
    "tup=tuple(l)\n",
    "print(tup)"
   ]
  },
  {
   "cell_type": "code",
   "execution_count": 87,
   "id": "e757f6c4",
   "metadata": {},
   "outputs": [
    {
     "name": "stdout",
     "output_type": "stream",
     "text": [
      "7\n",
      "10\n"
     ]
    }
   ],
   "source": [
    "# index\n",
    "print(tup.index('Hare'))\n",
    "print(tup.index('Krishna'))"
   ]
  },
  {
   "cell_type": "code",
   "execution_count": 88,
   "id": "92d97c48",
   "metadata": {},
   "outputs": [
    {
     "name": "stdout",
     "output_type": "stream",
     "text": [
      "(11, 22, 33, 44, 55, 66, 'ABC', 1000, 'Hare', 'Rama', 'Hare', 'Krishna')\n"
     ]
    }
   ],
   "source": [
    "# insert (index, value)\n",
    "l=list(tup)\n",
    "l.insert(6,'ABC')\n",
    "tup=tuple(l)\n",
    "print(tup)"
   ]
  },
  {
   "cell_type": "code",
   "execution_count": 89,
   "id": "b6601e90",
   "metadata": {},
   "outputs": [
    {
     "name": "stdout",
     "output_type": "stream",
     "text": [
      "(11, 22, 33, 44, 55, 66, 1000, 'Hare', 'Rama', 'Hare', 'Krishna')\n"
     ]
    }
   ],
   "source": [
    "# pop()\n",
    "l=list(tup)\n",
    "l.pop(6) # by using index number we are poping elemet \n",
    "tup=tuple(l)\n",
    "print(tup)"
   ]
  },
  {
   "cell_type": "code",
   "execution_count": 90,
   "id": "7b25ab91",
   "metadata": {},
   "outputs": [
    {
     "name": "stdout",
     "output_type": "stream",
     "text": [
      "(11, 22, 33, 44, 55, 66, 'Hare', 'Rama', 'Hare', 'Krishna')\n"
     ]
    }
   ],
   "source": [
    "# remove() we need give argument which we want to remove\n",
    "l=list(tup)\n",
    "l.remove(1000)\n",
    "tup=tuple(l)\n",
    "print(tup)"
   ]
  },
  {
   "cell_type": "code",
   "execution_count": 91,
   "id": "b532b732",
   "metadata": {},
   "outputs": [
    {
     "name": "stdout",
     "output_type": "stream",
     "text": [
      "('Krishna', 'Hare', 'Rama', 'Hare', 66, 55, 44, 33, 22, 11)\n"
     ]
    }
   ],
   "source": [
    "# reverse()\n",
    "l=list(tup)\n",
    "l.reverse()\n",
    "tup=tuple(l)\n",
    "print(tup)"
   ]
  },
  {
   "cell_type": "code",
   "execution_count": 92,
   "id": "cdd50291",
   "metadata": {},
   "outputs": [],
   "source": [
    "# sort\n",
    "# l=list(tup)\n",
    "# l1=l.sort()# ascending\n",
    "# # TypeError: '<' not supported between instances of 'int' and 'str'\n",
    "# tup=tuple(ll)\n",
    "# print(tup)\n",
    "# l2=l.sort(reverse=True) # decending order\n",
    "# tup1=tuple(l2)\n",
    "# print(tup1)\n",
    "\n",
    "# in list we need either one value or str"
   ]
  },
  {
   "cell_type": "code",
   "execution_count": 53,
   "id": "f2298c0e",
   "metadata": {},
   "outputs": [
    {
     "name": "stdout",
     "output_type": "stream",
     "text": [
      "[11, 22, 10101, 44, 55, 66, 1000]\n",
      "[11, 22, 44, 55, 66, 1000, 10101]\n"
     ]
    }
   ],
   "source": [
    "l1=[11,22,10101,44,55,66,1000]\n",
    "print(l1)\n",
    "l1.sort()\n",
    "print(l1)"
   ]
  },
  {
   "cell_type": "code",
   "execution_count": 93,
   "id": "36aa9f7e",
   "metadata": {},
   "outputs": [
    {
     "name": "stdout",
     "output_type": "stream",
     "text": [
      "()\n"
     ]
    }
   ],
   "source": [
    "# clear()\n",
    "l=list(tup)\n",
    "l.clear()\n",
    "tup=tuple(l)\n",
    "print(tup)"
   ]
  },
  {
   "cell_type": "code",
   "execution_count": 94,
   "id": "db36e527",
   "metadata": {},
   "outputs": [
    {
     "name": "stdout",
     "output_type": "stream",
     "text": [
      "('apple', 'apple', 'banana', 'cherry', 'orange', 'kiwi', 'melon', 'mango')\n",
      "<class 'tuple'>\n"
     ]
    }
   ],
   "source": [
    "tup=('apple','apple','banana','cherry','orange','kiwi','melon','mango')\n",
    "print(tup)\n",
    "print(type(tup))"
   ]
  },
  {
   "cell_type": "code",
   "execution_count": 95,
   "id": "1dab9082",
   "metadata": {},
   "outputs": [
    {
     "name": "stdout",
     "output_type": "stream",
     "text": [
      "8\n",
      "2\n"
     ]
    },
    {
     "data": {
      "text/plain": [
       "3"
      ]
     },
     "execution_count": 95,
     "metadata": {},
     "output_type": "execute_result"
    }
   ],
   "source": [
    "print(len(tup))\n",
    "print(tup.count('apple'))\n",
    "tup.index('cherry')"
   ]
  },
  {
   "cell_type": "code",
   "execution_count": 96,
   "id": "d93fbc29",
   "metadata": {},
   "outputs": [
    {
     "name": "stdout",
     "output_type": "stream",
     "text": [
      "<class 'str'>\n",
      "<class 'tuple'>\n"
     ]
    }
   ],
   "source": [
    "tup1=(\"scuccess\")\n",
    "print(type(tup1))\n",
    "\n",
    "tup1=(\"scuccess\",) # ',' required at last\n",
    "print(type(tup1))"
   ]
  },
  {
   "cell_type": "code",
   "execution_count": 54,
   "id": "976cdfe6",
   "metadata": {},
   "outputs": [
    {
     "name": "stdout",
     "output_type": "stream",
     "text": [
      "('apple', 'apple', 'banana', 'cherry', 'orange', 'kiwi', 'melon', 'mango')\n",
      "<class 'tuple'>\n",
      "****************************************************************************************************\n",
      "('apple', 'apple', 'banana', 'cherry', 'orange', 'kiwi', 'melon', 'mango')\n",
      "<class 'tuple'>\n"
     ]
    }
   ],
   "source": [
    "tup=('apple','apple','banana','cherry','orange','kiwi','melon','mango',)\n",
    "print(tup)\n",
    "print(type(tup))\n",
    "\n",
    "print('*'*100)\n",
    "tup=('apple','apple','banana','cherry','orange','kiwi','melon','mango')\n",
    "print(tup)\n",
    "print(type(tup))"
   ]
  },
  {
   "cell_type": "code",
   "execution_count": 98,
   "id": "02150585",
   "metadata": {},
   "outputs": [
    {
     "name": "stdout",
     "output_type": "stream",
     "text": [
      "(1, 1.2, 'abc', True, 40, 'male')\n",
      "<class 'tuple'>\n"
     ]
    }
   ],
   "source": [
    "tup2=(1, 1.2, \"abc\", True, 40, \"male\")\n",
    "print(tup2)\n",
    "print(type(tup2))"
   ]
  },
  {
   "cell_type": "code",
   "execution_count": 99,
   "id": "ce7ca9b8",
   "metadata": {},
   "outputs": [
    {
     "name": "stdout",
     "output_type": "stream",
     "text": [
      "(10, 20, 30)\n"
     ]
    }
   ],
   "source": [
    "# tuple constructor >> tuple constructor is a built-in function that is used to create a tuple object\n",
    "\n",
    "tup3=tuple([10,20,30])\n",
    "print(tup3)"
   ]
  },
  {
   "cell_type": "code",
   "execution_count": 100,
   "id": "f1e38ea4",
   "metadata": {},
   "outputs": [
    {
     "name": "stdout",
     "output_type": "stream",
     "text": [
      "(10, 20, 30)\n"
     ]
    },
    {
     "data": {
      "text/plain": [
       "20"
      ]
     },
     "execution_count": 100,
     "metadata": {},
     "output_type": "execute_result"
    }
   ],
   "source": [
    "# access the elements of tuple\n",
    "\n",
    "print(tup3)\n",
    "tup3[1]"
   ]
  },
  {
   "cell_type": "code",
   "execution_count": 101,
   "id": "b68affbc",
   "metadata": {},
   "outputs": [
    {
     "name": "stdout",
     "output_type": "stream",
     "text": [
      "('apple', 'apple', 'banana', 'cherry', 'orange', 'kiwi', 'melon', 'mango')\n"
     ]
    },
    {
     "data": {
      "text/plain": [
       "'cherry'"
      ]
     },
     "execution_count": 101,
     "metadata": {},
     "output_type": "execute_result"
    }
   ],
   "source": [
    "print(tup)\n",
    "tup[3]"
   ]
  },
  {
   "cell_type": "code",
   "execution_count": 102,
   "id": "e0c132e5",
   "metadata": {},
   "outputs": [
    {
     "data": {
      "text/plain": [
       "'melon'"
      ]
     },
     "execution_count": 102,
     "metadata": {},
     "output_type": "execute_result"
    }
   ],
   "source": [
    "tup[-2]"
   ]
  },
  {
   "cell_type": "code",
   "execution_count": 103,
   "id": "01215b80",
   "metadata": {},
   "outputs": [
    {
     "data": {
      "text/plain": [
       "('apple', 'banana')"
      ]
     },
     "execution_count": 103,
     "metadata": {},
     "output_type": "execute_result"
    }
   ],
   "source": [
    "# range of items \n",
    "tup[1:3]"
   ]
  },
  {
   "cell_type": "code",
   "execution_count": 104,
   "id": "f3c3886a",
   "metadata": {},
   "outputs": [
    {
     "name": "stdout",
     "output_type": "stream",
     "text": [
      "Tuple will be : ('apple', 'apple', 'banana', 'cherry', 'orange', 'kiwi', 'melon', 'mango')\n",
      "<class 'tuple'>\n",
      "****************************************************************************************************\n",
      "Tuple converted in list ['apple', 'apple', 'banana', 'cherry', 'orange', 'kiwi', 'melon', 'mango']\n",
      "<class 'list'>\n",
      "****************************************************************************************************\n",
      "changing value in list\n",
      "['apple', 'Potato', 'banana', 'cherry', 'orange', 'kiwi', 'melon', 'mango']\n",
      "<class 'list'>\n",
      "****************************************************************************************************\n",
      "converted list to tuple : ('apple', 'Potato', 'banana', 'cherry', 'orange', 'kiwi', 'melon', 'mango')\n",
      "<class 'tuple'>\n"
     ]
    }
   ],
   "source": [
    "# change tuple value by using list\n",
    "print('Tuple will be :',tup)\n",
    "print(type(tup))\n",
    "\n",
    "print('*'*100)\n",
    "\n",
    "var=list(tup)\n",
    "print(\"Tuple converted in list\",var)\n",
    "print(type(var))\n",
    "\n",
    "print('*'*100)\n",
    "\n",
    "# change value \n",
    "var[1]='Potato'\n",
    "print('changing value in list')\n",
    "print(var)\n",
    "print(type(var))\n",
    "\n",
    "print('*'*100)\n",
    "\n",
    "# change back to tuple from list\n",
    "var1=tuple(var)\n",
    "print('converted list to tuple :',var1)\n",
    "print(type(var1))"
   ]
  },
  {
   "cell_type": "code",
   "execution_count": 105,
   "id": "8925afa4",
   "metadata": {},
   "outputs": [
    {
     "name": "stdout",
     "output_type": "stream",
     "text": [
      "('A', 'B', 'C', 'D', 'E')\n",
      "<class 'tuple'>\n",
      "****************************************************************************************************\n",
      "['A', 'B', 'C', 'D', 'E']\n",
      "<class 'list'>\n",
      "****************************************************************************************************\n",
      "['A', 'BBBB', 'C', 'D', 'E']\n",
      "<class 'list'>\n",
      "****************************************************************************************************\n",
      "('A', 'BBBB', 'C', 'D', 'E')\n",
      "<class 'tuple'>\n"
     ]
    }
   ],
   "source": [
    "# add item to list and convert back to tuple\n",
    "tup11=('A','B','C','D','E')\n",
    "print(tup11)\n",
    "print(type(tup11))\n",
    "print('*'*100)\n",
    "\n",
    "var=list(tup11)\n",
    "print(var)\n",
    "print(type(var))\n",
    "print('*'*100)\n",
    "\n",
    "var[1]='BBBB'\n",
    "print(var)\n",
    "print(type(var))\n",
    "print('*'*100)\n",
    "\n",
    "var1=tuple(var)\n",
    "print(var1)\n",
    "print(type(var1))"
   ]
  },
  {
   "cell_type": "code",
   "execution_count": 106,
   "id": "8c5e4990",
   "metadata": {},
   "outputs": [
    {
     "name": "stdout",
     "output_type": "stream",
     "text": [
      "('A', 'BBBB', 'C', 'D', 'E', 'A', 'B', 'C', 'D', 'E')\n",
      "<class 'tuple'>\n"
     ]
    }
   ],
   "source": [
    "# tuple concatination\n",
    "a=var1+tup11\n",
    "print(a)\n",
    "print(type(a))"
   ]
  },
  {
   "cell_type": "code",
   "execution_count": 107,
   "id": "21ee1db0",
   "metadata": {},
   "outputs": [
    {
     "name": "stdout",
     "output_type": "stream",
     "text": [
      "(1, 44, 'hh', 'aba', 1, 1, 4, 6, 7)\n",
      "<class 'tuple'>\n",
      "******************************************************************************************\n",
      "typecasting from tuple to list:\n",
      "[1, 44, 'hh', 'aba', 1, 1, 4, 6, 7]\n",
      "<class 'list'>\n",
      "******************************************************************************************\n",
      "removing element from list:\n",
      "[1, 44, 'hh', 'aba', 1, 1, 4, 6]\n",
      "<class 'list'>\n"
     ]
    }
   ],
   "source": [
    "# remove items using list\n",
    "tup=(1,44,'hh','aba',1,1,4,6,7,)\n",
    "print(tup)\n",
    "print(type(tup))\n",
    "print('*'*90)\n",
    "\n",
    "print('typecasting from tuple to list:')\n",
    "list1=list(tup)\n",
    "print(list1)\n",
    "print(type(list1))\n",
    "print('*'*90)\n",
    "\n",
    "print('removing element from list:')\n",
    "# list1.remove('aba') # element name \n",
    "list1.pop(8) # index number of removing element\n",
    "print(list1)\n",
    "print(type(list1))"
   ]
  },
  {
   "cell_type": "code",
   "execution_count": 108,
   "id": "f051c876",
   "metadata": {},
   "outputs": [
    {
     "name": "stdout",
     "output_type": "stream",
     "text": [
      "('A', 'B', 'C', 1, 2, 3)\n",
      "<class 'tuple'>\n"
     ]
    }
   ],
   "source": [
    "# Complete deletion of tuple using del tuple_name\n",
    "\n",
    "tup_1=('A','B','C',1,2,3,)\n",
    "print(tup_1)\n",
    "print(type(tup_1))\n",
    "\n",
    "del tup_1 \n",
    "# print(tup_1) # error is coming due to tuple delteted by using del function"
   ]
  },
  {
   "cell_type": "markdown",
   "id": "07f7f325",
   "metadata": {},
   "source": [
    "###### Use of asterisk (*)\n",
    ">> asterisk (*) can be used in tuples to perform a variety of operations."
   ]
  },
  {
   "cell_type": "markdown",
   "id": "40b1a6cb",
   "metadata": {},
   "source": [
    "> 1. **Unpacking operator**:\n",
    "The most common use of the asterisk in tuples is as an unpacking operator. For example, if you have a tuple with more than one element, you can use the asterisk to unpack all of the remaining elements into a new variable."
   ]
  },
  {
   "cell_type": "code",
   "execution_count": 1,
   "id": "e204fdb5",
   "metadata": {},
   "outputs": [
    {
     "name": "stdout",
     "output_type": "stream",
     "text": [
      "1\n",
      "[2, 3, 4, 5]\n"
     ]
    }
   ],
   "source": [
    "tup=(1,2,3,4,5)\n",
    "(a,*b)=tup\n",
    "print(a)\n",
    "print(b)"
   ]
  },
  {
   "cell_type": "code",
   "execution_count": 2,
   "id": "aa45c564-963a-47ed-917b-d0482fa31831",
   "metadata": {},
   "outputs": [
    {
     "name": "stdout",
     "output_type": "stream",
     "text": [
      "1\n",
      "[2, 3]\n",
      "4\n",
      "5\n"
     ]
    }
   ],
   "source": [
    "(a,*b, c, d)=tup\n",
    "print(a)\n",
    "print(b)\n",
    "print(c)\n",
    "print(d)"
   ]
  },
  {
   "cell_type": "code",
   "execution_count": 110,
   "id": "c5873f41",
   "metadata": {},
   "outputs": [
    {
     "name": "stdout",
     "output_type": "stream",
     "text": [
      "apple\n",
      "banana\n",
      "['cherry', 'strawberry', 'raspberry']\n",
      "******************************************************************************************\n",
      "['apple', 'banana', 'cherry']\n",
      "strawberry\n",
      "raspberry\n",
      "******************************************************************************************\n",
      "apple\n",
      "['banana', 'cherry', 'strawberry']\n",
      "raspberry\n"
     ]
    }
   ],
   "source": [
    "fruit=('apple','banana','cherry','strawberry','raspberry')\n",
    "fruit_1=(\"apple\",\"strawberry\",\"banana\", \"cherry\", \"raspberry\")\n",
    "\n",
    "(red,yellow,*pink)=fruit\n",
    "print(red)\n",
    "print(yellow)\n",
    "print(pink)\n",
    "\n",
    "print('*'*90)\n",
    "(*red,yellow,pink)=fruit\n",
    "print(red)\n",
    "print(yellow)\n",
    "print(pink)\n",
    "\n",
    "print('*'*90)\n",
    "(red,*yellow,pink)=fruit\n",
    "print(red)\n",
    "print(yellow)\n",
    "print(pink)"
   ]
  },
  {
   "cell_type": "markdown",
   "id": "eef06317",
   "metadata": {},
   "source": [
    "In this example, the variable a will be assigned the first value in the tuple, and the variable b will be assigned a list containing the remaining values in the tuple."
   ]
  },
  {
   "cell_type": "markdown",
   "id": "f94ee778",
   "metadata": {},
   "source": [
    "> 2. **Packing operator**:\n",
    "The asterisk can also be used to pack elements into a tuple. This is done by placing the asterisk before a variable that contains a sequence of values. Here's an example:"
   ]
  },
  {
   "cell_type": "code",
   "execution_count": 3,
   "id": "c6c7a425",
   "metadata": {},
   "outputs": [
    {
     "name": "stdout",
     "output_type": "stream",
     "text": [
      "(1, 2, 3, 4, 5, 6, 7, 8, 9, 10)\n"
     ]
    }
   ],
   "source": [
    "a=(1,2,3,4,5)\n",
    "b=(6,7,8,9,10)\n",
    "c=(*a,*b)\n",
    "print(c)"
   ]
  },
  {
   "cell_type": "code",
   "execution_count": 2,
   "id": "73c869bc-c491-4558-932b-9cbbdc847354",
   "metadata": {},
   "outputs": [
    {
     "name": "stdout",
     "output_type": "stream",
     "text": [
      "[1, 2, 3, 4, 5, 6, 7, 8, 9, 10]\n"
     ]
    }
   ],
   "source": [
    "a=[1,2,3,4,5]\n",
    "b=[6,7,8,9,10]\n",
    "c=[*a,*b]\n",
    "print(c)"
   ]
  },
  {
   "cell_type": "code",
   "execution_count": 112,
   "id": "d62d9bbf",
   "metadata": {},
   "outputs": [
    {
     "name": "stdout",
     "output_type": "stream",
     "text": [
      "('apple', 'banana', 'cherry', 'strawberry', 'raspberry', 'apple', 'strawberry', 'banana', 'cherry', 'raspberry')\n"
     ]
    }
   ],
   "source": [
    "fruit=('apple','banana','cherry','strawberry','raspberry')\n",
    "fruit_1=(\"apple\",\"strawberry\",\"banana\", \"cherry\", \"raspberry\")\n",
    "\n",
    "market=(*fruit,*fruit_1)\n",
    "print(market)"
   ]
  },
  {
   "cell_type": "markdown",
   "id": "a35c3e74",
   "metadata": {},
   "source": [
    "In this example, the variables a and b contain tuples, and the asterisk is used to pack their elements into a new tuple c."
   ]
  },
  {
   "cell_type": "markdown",
   "id": "b8f58c86",
   "metadata": {},
   "source": [
    "> 3. **Function arguments**:\n",
    "The asterisk can also be used in function calls to unpack a tuple or list as arguments to the function. Here's an example:"
   ]
  },
  {
   "cell_type": "code",
   "execution_count": 17,
   "id": "c4c13720",
   "metadata": {
    "scrolled": true
   },
   "outputs": [
    {
     "name": "stdout",
     "output_type": "stream",
     "text": [
      "6\n"
     ]
    }
   ],
   "source": [
    "def add_numbers(a,b,c):\n",
    "    return a+b+c\n",
    "\n",
    "numbers=add_numbers(1,2,3) # normal function calling\n",
    "print(numbers)"
   ]
  },
  {
   "cell_type": "code",
   "execution_count": 18,
   "id": "c436c579",
   "metadata": {},
   "outputs": [
    {
     "name": "stdout",
     "output_type": "stream",
     "text": [
      "6\n"
     ]
    }
   ],
   "source": [
    "values=(1,2,3)\n",
    "numbers=add_numbers(*values)\n",
    "print(numbers)"
   ]
  },
  {
   "cell_type": "code",
   "execution_count": 115,
   "id": "b0e29cdd",
   "metadata": {},
   "outputs": [
    {
     "name": "stdout",
     "output_type": "stream",
     "text": [
      "applebananacherry\n"
     ]
    }
   ],
   "source": [
    "def fruits(a,b,c):\n",
    "    return a+b+c\n",
    "\n",
    "market=fruits('apple','banana','cherry')\n",
    "print(market)"
   ]
  },
  {
   "cell_type": "markdown",
   "id": "edf694b7",
   "metadata": {},
   "source": [
    "In this example, the tuple numbers is unpacked into individual arguments using the asterisk and passed to the add_numbers() function"
   ]
  },
  {
   "cell_type": "code",
   "execution_count": 116,
   "id": "c547a71f",
   "metadata": {},
   "outputs": [
    {
     "name": "stdout",
     "output_type": "stream",
     "text": [
      "(1, 2, 2, 3, 45, 5, 6, 7, 8, 76, 5, 4, 33, 2, 3, 4, 5, 5)\n",
      "4\n",
      "******************************************************************************************\n",
      "9\n"
     ]
    }
   ],
   "source": [
    "# methods : count() & index()\n",
    "\n",
    "tup=(1,2,2,3,45,5,6,7,8,76,5,4,33,2,3,4,5,5,)\n",
    "print(tup)\n",
    "print(tup.count(5))\n",
    "\n",
    "print('*'*90)\n",
    "print(tup.index(76))"
   ]
  },
  {
   "cell_type": "code",
   "execution_count": 117,
   "id": "aac288f4",
   "metadata": {},
   "outputs": [],
   "source": [
    "# Try assigning values to tuples\n",
    "# tup[0] = 'grapes'\n",
    "# TypeError: 'tuple' object does not support item assignment"
   ]
  },
  {
   "cell_type": "markdown",
   "id": "d30452d0",
   "metadata": {},
   "source": [
    "## Set"
   ]
  },
  {
   "cell_type": "markdown",
   "id": "03b3e27e",
   "metadata": {},
   "source": [
    "1. set is **unordered collection of elements** i.e sequence will be change after execution\n",
    "2. **index concept is not applicable**\n",
    "3. it is **mutable** (you can change the element or add the elements in set)\n",
    "4. it is **growable**\n",
    "5. set items are **unchangeable** due to don't know indexing of elements\n",
    "6. **{ }** are used to represent set\n",
    "7. **duplicates are not allowed**\n",
    "\n",
    "Available methods for set is:\n",
    "1. s.copy()\n",
    "2. s.difference()\n",
    "3. s.intersection()\n",
    "3. s.isdisjoint()\n",
    "4. s.issubset()\n",
    "5. s.issuperset()\n",
    "6. s.symmetric_difference()\n",
    "7. s.union()"
   ]
  },
  {
   "cell_type": "code",
   "execution_count": 118,
   "id": "3c7b9369",
   "metadata": {},
   "outputs": [
    {
     "name": "stdout",
     "output_type": "stream",
     "text": [
      "<class 'set'>\n",
      "{1, 2, 3, 4, 'akash', 'pradip', 'vaibhav'}\n"
     ]
    }
   ],
   "source": [
    "s1={1,2,3,4,'vaibhav','akash','pradip'}\n",
    "print(type(s1))\n",
    "\n",
    "print(s1)"
   ]
  },
  {
   "cell_type": "code",
   "execution_count": 119,
   "id": "39374949",
   "metadata": {},
   "outputs": [
    {
     "name": "stdout",
     "output_type": "stream",
     "text": [
      "7\n"
     ]
    }
   ],
   "source": [
    "print(len(s1))"
   ]
  },
  {
   "cell_type": "code",
   "execution_count": 120,
   "id": "d4306a2e",
   "metadata": {},
   "outputs": [
    {
     "name": "stdout",
     "output_type": "stream",
     "text": [
      "<class 'set'>\n",
      "{1, 2, 3, 'sai', 'chetan', 70.1, 'kaviraj'}\n"
     ]
    }
   ],
   "source": [
    "s = {1,2,3,\"sai\",\"kaviraj\",\"chetan\",70.1}\n",
    "print(type(s))\n",
    "print(s)"
   ]
  },
  {
   "cell_type": "code",
   "execution_count": 121,
   "id": "dffdea5a",
   "metadata": {},
   "outputs": [
    {
     "name": "stdout",
     "output_type": "stream",
     "text": [
      "7\n"
     ]
    }
   ],
   "source": [
    "print(len(s))"
   ]
  },
  {
   "cell_type": "code",
   "execution_count": 122,
   "id": "ca0a8018",
   "metadata": {},
   "outputs": [
    {
     "name": "stdout",
     "output_type": "stream",
     "text": [
      "{'banana', 'cherry', 'apple'}\n",
      "<class 'set'>\n"
     ]
    }
   ],
   "source": [
    "# set() constructor (by using list and tuple)\n",
    "\n",
    "set1=set([\"apple\",\"banana\",\"cherry\"]) # using list\n",
    "print(set1)\n",
    "print(type(set1))"
   ]
  },
  {
   "cell_type": "code",
   "execution_count": 56,
   "id": "3a6c2fbf",
   "metadata": {},
   "outputs": [
    {
     "name": "stdout",
     "output_type": "stream",
     "text": [
      "{1, 90.1, 'nana', 'appa'}\n",
      "<class 'set'>\n"
     ]
    }
   ],
   "source": [
    "set2=set((1,\"nana\",\"appa\",90.10)) # using tuple\n",
    "print(set2)\n",
    "print(type(set2))"
   ]
  },
  {
   "cell_type": "code",
   "execution_count": 57,
   "id": "9f45107a",
   "metadata": {},
   "outputs": [
    {
     "name": "stdout",
     "output_type": "stream",
     "text": [
      "{1, 90.1, 'nana', 'appa'}\n",
      "banana is present in set2 ? >> False\n",
      "appa is present in set2 ? >> True\n"
     ]
    }
   ],
   "source": [
    "# accessing set\n",
    "print(set2)\n",
    "val= \"banana\" in set2\n",
    "print(\"banana is present in set2 ? >>\",val)\n",
    "print(\"appa is present in set2 ? >>\",\"appa\" in set2)"
   ]
  },
  {
   "cell_type": "code",
   "execution_count": 59,
   "id": "966ca7bc",
   "metadata": {},
   "outputs": [],
   "source": [
    "# set2[1] # TypeError: 'set' object is not subscriptable"
   ]
  },
  {
   "cell_type": "code",
   "execution_count": 61,
   "id": "3b64597d",
   "metadata": {},
   "outputs": [
    {
     "data": {
      "text/plain": [
       "True"
      ]
     },
     "execution_count": 61,
     "metadata": {},
     "output_type": "execute_result"
    }
   ],
   "source": [
    "90.1 in set2"
   ]
  },
  {
   "cell_type": "code",
   "execution_count": 125,
   "id": "7bed28b8",
   "metadata": {},
   "outputs": [
    {
     "name": "stdout",
     "output_type": "stream",
     "text": [
      "{'nana', 1, 'appa', 90.1}\n",
      "{'mango', 1, 'appa', 'nana', 90.1}\n"
     ]
    }
   ],
   "source": [
    "# once set is created we can not change element's value but we can add values\n",
    "print(set2)\n",
    "set2.add(\"mango\")\n",
    "print(set2)"
   ]
  },
  {
   "cell_type": "code",
   "execution_count": 126,
   "id": "5b332621",
   "metadata": {},
   "outputs": [
    {
     "name": "stdout",
     "output_type": "stream",
     "text": [
      "{'mango', 1, 'appa', 'nana', 90.1}\n",
      "{'mango', 1, 'appa', 'nana', 90.1}\n"
     ]
    }
   ],
   "source": [
    "# duplicates are not allowed\n",
    "print(set2)\n",
    "set2.add(\"appa\") # appa is already in set so will not be add\n",
    "print(set2)"
   ]
  },
  {
   "cell_type": "code",
   "execution_count": 127,
   "id": "e4c93aec",
   "metadata": {},
   "outputs": [
    {
     "name": "stdout",
     "output_type": "stream",
     "text": [
      "s1 : {'shree', 1, 2, 'ganesh', 22.2, 11.1}\n",
      "s2 : {33.3, 'hare', 20, 10, 44.4, 'krishna'}\n",
      "s3 : {66.6, 100, 'hare', 55.5, 200, 'rama'}\n",
      "****************************************************************************************************\n",
      "1st updated s1 : {'shree', 1, 2, 33.3, 'hare', 'ganesh', 10, 11.1, 44.4, 'krishna', 20, 22.2}\n",
      "****************************************************************************************************\n",
      "2nd updated s1 : {'shree', 1, 2, 33.3, 'hare', 66.6, 'ganesh', 100, 200, 10, 11.1, 44.4, 'krishna', 20, 22.2, 55.5, 'rama'}\n",
      "****************************************************************************************************\n"
     ]
    }
   ],
   "source": [
    "# using update you can add any iterable items \n",
    "# iterable items like: set, list,tuple, dict-only keys\n",
    "\n",
    "s1={1, 2, 11.1, 22.2, \"shree\", \"ganesh\"}\n",
    "s2={10, 20, 33.3, 44.4, \"hare\", \"krishna\"}\n",
    "s3={100, 200, 55.5, 66.6, \"hare\", \"rama\"}\n",
    "\n",
    "print(\"s1 :\",s1)\n",
    "print(\"s2 :\",s2)\n",
    "print(\"s3 :\",s3)\n",
    "print('*'*100)\n",
    "\n",
    "s1.update(s2)\n",
    "print(\"1st updated s1 :\",s1)\n",
    "print('*'*100)\n",
    "\n",
    "s1.update(s3)\n",
    "print(\"2nd updated s1 :\",s1)\n",
    "print('*'*100)"
   ]
  },
  {
   "cell_type": "code",
   "execution_count": 128,
   "id": "d36c0425",
   "metadata": {},
   "outputs": [
    {
     "name": "stdout",
     "output_type": "stream",
     "text": [
      "Remove using remove() :\n",
      " {'banana', 'cherry', 'apple'}\n",
      "******************************************************************************************\n",
      "{'cherry', 'apple'}\n"
     ]
    }
   ],
   "source": [
    "# remove(), discard(), pop()\n",
    "\n",
    "# remove() method >> raise an error if element not present\n",
    "print(\"Remove using remove() :\\n\",set1)\n",
    "print('*'*90)\n",
    "set1.remove('banana')\n",
    "print(set1)"
   ]
  },
  {
   "cell_type": "code",
   "execution_count": 129,
   "id": "93a3f034",
   "metadata": {},
   "outputs": [
    {
     "name": "stdout",
     "output_type": "stream",
     "text": [
      "{'cherry'}\n"
     ]
    }
   ],
   "source": [
    "# discard() method >> method does not raise an error if element not present\n",
    "set1.discard(\"apple\")\n",
    "print(set1)"
   ]
  },
  {
   "cell_type": "code",
   "execution_count": 130,
   "id": "89f798b9",
   "metadata": {},
   "outputs": [
    {
     "name": "stdout",
     "output_type": "stream",
     "text": [
      "set()\n"
     ]
    }
   ],
   "source": [
    "# pop() method >> Remove and return an arbitrary(randomly) set element is set is empty pop() will create an error\n",
    "set1.pop()\n",
    "print(set1)"
   ]
  },
  {
   "cell_type": "code",
   "execution_count": 63,
   "id": "5f3fc208",
   "metadata": {},
   "outputs": [
    {
     "name": "stdout",
     "output_type": "stream",
     "text": [
      "{2, 'ganesh', 22.2, 'shree', 11.1}\n",
      "{2, 'ganesh', 22.2, 'shree', 11.1}\n",
      "{'ganesh', 22.2, 'shree', 11.1}\n"
     ]
    }
   ],
   "source": [
    "s1={1, 2, 11.1, 22.2, \"shree\", \"ganesh\"}\n",
    "\n",
    "s1.remove(1)\n",
    "print(s1)\n",
    "s1.discard(1)\n",
    "print(s1)\n",
    "s1.pop()\n",
    "print(s1)"
   ]
  },
  {
   "cell_type": "code",
   "execution_count": 131,
   "id": "d514e82c",
   "metadata": {},
   "outputs": [
    {
     "name": "stdout",
     "output_type": "stream",
     "text": [
      "{1, 2, 3, 4}\n",
      "{3, 4, 5, 6, 7}\n",
      "{1, 2, 3, 4, 5, 6, 7}\n"
     ]
    }
   ],
   "source": [
    "# union method()\n",
    "\n",
    "# adds elements of two sets and create new set\n",
    "s1={1,2,3,4}\n",
    "s2={3,4,5,6,7}\n",
    "\n",
    "print(s1)\n",
    "print(s2)\n",
    "\n",
    "new_set=s1.union(s2) # union does not allow duplicates\n",
    "print(new_set)\n",
    "\n",
    "# update method work for union only but adds element to calling set"
   ]
  },
  {
   "cell_type": "code",
   "execution_count": 132,
   "id": "3d9a492d",
   "metadata": {},
   "outputs": [
    {
     "name": "stdout",
     "output_type": "stream",
     "text": [
      "{1, 2, 3, 4}\n",
      "{3, 4, 5, 6, 7}\n",
      "intersection :\n",
      " {3, 4}\n",
      "intersection update :\n",
      " {1, 2}\n"
     ]
    }
   ],
   "source": [
    "# intersection() method >> Return the intersection of two sets as a new set.\n",
    "# (i.e. all common elements that are in both sets.)\n",
    "\n",
    "print(s1)\n",
    "print(s2)\n",
    "s3={1,2,10,20,30}\n",
    "intr=s1.intersection(s2) # requires new variable for return result\n",
    "print(\"intersection :\\n\",intr)\n",
    "\n",
    "s1.intersection_update(s3) # Update a set with the intersection of itself and another.i.e keeps common elements and remove all others\n",
    "print(\"intersection update :\\n\",s1)"
   ]
  },
  {
   "cell_type": "code",
   "execution_count": 1,
   "id": "49ef05e4",
   "metadata": {},
   "outputs": [
    {
     "name": "stdout",
     "output_type": "stream",
     "text": [
      "{1, 2, 3, 4, 5}\n",
      "{4, 5, 6, 7, 8}\n",
      "difference of set1 and set2: {1, 2, 3}\n",
      "difference of set2 and set1: {8, 6, 7}\n",
      "symmetric_difference: {1, 2, 3, 6, 7, 8}\n",
      "symmetric_difference_update : {1, 2, 3, 6, 7, 8}\n",
      "set1: {1, 2, 3, 6, 7, 8}\n",
      "set2: {4, 5, 6, 7, 8}\n"
     ]
    }
   ],
   "source": [
    "set1={1,2,3,4,5}\n",
    "set2={4,5,6,7,8}\n",
    "print(set1)\n",
    "print(set2)\n",
    "\n",
    "# difference: return new set with element which are not present in another set\n",
    "sd1=set1.difference(set2)\n",
    "print('difference of set1 and set2:',sd1)\n",
    "sd2=set2.difference(set1)\n",
    "print(\"difference of set2 and set1:\",sd2)\n",
    "\n",
    "\n",
    "# symmetric_difference : return new set with elements present in s1 but not in set2 and viceversa\n",
    "syd=set1.symmetric_difference(set2)\n",
    "print(\"symmetric_difference:\",syd)\n",
    "\n",
    "\n",
    "# symmetric_difference_update : update a set with symmetric_differnece iteself and another\n",
    "sdu=set1.symmetric_difference_update(set2)\n",
    "print(\"symmetric_difference_update :\",set1)\n",
    "print(\"set1:\",set1)\n",
    "print(\"set2:\",set2)"
   ]
  },
  {
   "cell_type": "markdown",
   "id": "1e09ea9d",
   "metadata": {},
   "source": [
    "    symmetric_difference : keep elements which are not present in another set\n",
    "        1. s1={1,2,3,4,5,6}\n",
    "        2. s2={3,5,7,8,9}\n",
    "\n",
    "        output: s1 and s2 = {1,2,4,6} + {7,8,9} "
   ]
  },
  {
   "cell_type": "code",
   "execution_count": 133,
   "id": "58d18d24",
   "metadata": {},
   "outputs": [
    {
     "name": "stdout",
     "output_type": "stream",
     "text": [
      "{1, 2, 3, 4, 5, 6}\n",
      "{3, 5, 7, 8, 9}\n",
      "******************************************************************************************\n",
      "symmetric_difference :\n",
      " {1, 2, 4, 6, 7, 8, 9}\n"
     ]
    }
   ],
   "source": [
    "# symmetric_difference() \n",
    "## >> return new set with elements which are present in s1 not in s2 + present in s2 but not in s1\n",
    "\n",
    "s1={1,2,3,4,5,6}\n",
    "s2={3,5,7,8,9}\n",
    "\n",
    "print(s1)\n",
    "print(s2)\n",
    "print('*'*90)\n",
    "\n",
    "res=s1.symmetric_difference(s2)\n",
    "print(\"symmetric_difference :\\n\",res)\n"
   ]
  },
  {
   "cell_type": "code",
   "execution_count": 134,
   "id": "f5702dd1",
   "metadata": {},
   "outputs": [
    {
     "name": "stdout",
     "output_type": "stream",
     "text": [
      "difference :\n",
      " {1, 2, 4, 6}\n",
      "difference :\n",
      " {8, 9, 7}\n"
     ]
    }
   ],
   "source": [
    "# difference() \n",
    "# >> returns new set with elements present in s_1 but not in s_2 and vice versa\n",
    "\n",
    "res1=s1.difference(s2)\n",
    "print(\"difference :\\n\",res1)\n",
    "res11=s2.difference(s1)\n",
    "print(\"difference :\\n\",res11)"
   ]
  },
  {
   "cell_type": "markdown",
   "id": "b84482c2",
   "metadata": {},
   "source": [
    "###### isdisjoint() : Returns whether two sets have a intersection or not\n",
    "     \n",
    "          isdisjoint() is a set method in Python that is used to check whether two sets have any common elements or not.It returns True if the two sets have no common elements, and False if there are common elements.\n"
   ]
  },
  {
   "cell_type": "code",
   "execution_count": 64,
   "id": "f361d8f6",
   "metadata": {},
   "outputs": [
    {
     "name": "stdout",
     "output_type": "stream",
     "text": [
      "True\n",
      "s : {1, 2, 3, 4, 5, 6}\n",
      "set1 : {44, 45, 46}\n"
     ]
    }
   ],
   "source": [
    "s = {1,2,3,4,5,6} \n",
    "s1 = {44,45,46}\n",
    "\n",
    "print(s.isdisjoint(s1))\n",
    "print(\"s :\",s)\n",
    "print(\"set1 :\",s1)"
   ]
  },
  {
   "cell_type": "markdown",
   "id": "1ce2c224",
   "metadata": {},
   "source": [
    "###### issubset() >> Returns whether another set contains this set or not"
   ]
  },
  {
   "cell_type": "code",
   "execution_count": 4,
   "id": "991ba896",
   "metadata": {},
   "outputs": [
    {
     "name": "stdout",
     "output_type": "stream",
     "text": [
      "False\n",
      "s : {1, 2, 3, 4, 5, 6}\n",
      "set1 : {4, 5, 6}\n"
     ]
    }
   ],
   "source": [
    "s = {1,2,3,4,5,6} \n",
    "s1 = {4,5,6}\n",
    "\n",
    "print(s.issubset(s1))\n",
    "print(\"s :\",s)\n",
    "print(\"set1 :\",s1)"
   ]
  },
  {
   "cell_type": "code",
   "execution_count": 137,
   "id": "0b6afe5d",
   "metadata": {},
   "outputs": [
    {
     "name": "stdout",
     "output_type": "stream",
     "text": [
      "True\n",
      "s : {1, 2, 3, 4, 5, 6}\n",
      "set1 : {4, 5, 6}\n"
     ]
    }
   ],
   "source": [
    "print(s1.issubset(s))\n",
    "print(\"s :\",s)\n",
    "print(\"set1 :\",s1)"
   ]
  },
  {
   "cell_type": "code",
   "execution_count": 5,
   "id": "927605be",
   "metadata": {},
   "outputs": [
    {
     "name": "stdout",
     "output_type": "stream",
     "text": [
      "{1, 2, 3, 4, 5, 6, 7, 8}\n",
      "{4, 5, 6, 7, 8}\n",
      "set1.issubset(set2): False\n",
      "set1.issubset(set2): True\n"
     ]
    }
   ],
   "source": [
    "# issubset : true > if set2 is present at set1 else false\n",
    "set1={1,2,3,4,5,6,7,8}\n",
    "set2={4,5,6,7,8}\n",
    "print(set1)\n",
    "print(set2)\n",
    "val=set1.issubset(set2)\n",
    "print('set1.issubset(set2):',val)\n",
    "val2=set2.issubset(set1)\n",
    "print('set1.issubset(set2):',val2)"
   ]
  },
  {
   "cell_type": "markdown",
   "id": "35577b8b",
   "metadata": {},
   "source": [
    "###### issuperset() : Returns whether this set contains another set or not"
   ]
  },
  {
   "cell_type": "code",
   "execution_count": 3,
   "id": "cba37c2b",
   "metadata": {},
   "outputs": [
    {
     "name": "stdout",
     "output_type": "stream",
     "text": [
      "False\n",
      "s : {1, 2, 3, 4, 5, 6}\n",
      "s1 : {44, 45, 46}\n"
     ]
    }
   ],
   "source": [
    "print(s.issuperset(s1))\n",
    "print(\"s :\",s)\n",
    "print(\"s1 :\",s1)"
   ]
  },
  {
   "cell_type": "code",
   "execution_count": 6,
   "id": "358caafa",
   "metadata": {},
   "outputs": [
    {
     "name": "stdout",
     "output_type": "stream",
     "text": [
      "{1, 2, 3, 4, 5, 6, 7, 8}\n",
      "{4, 5, 6, 7, 8}\n",
      "set1.issuperset(set2): True\n",
      "set2.issuperset(set1): False\n"
     ]
    }
   ],
   "source": [
    "# isuperset : true > if set1 elements in set2  else false\n",
    "set1={1,2,3,4,5,6,7,8}\n",
    "set2={4,5,6,7,8}\n",
    "print(set1)\n",
    "print(set2)\n",
    "val=set1.issuperset(set2)\n",
    "print('set1.issuperset(set2):',val)\n",
    "val2=set2.issuperset(set1)\n",
    "print('set2.issuperset(set1):',val2)"
   ]
  },
  {
   "cell_type": "code",
   "execution_count": 139,
   "id": "e071871d",
   "metadata": {},
   "outputs": [],
   "source": [
    "# del and clear() method removes the set completely\n",
    "\n",
    "# uncomment to run it and see result\n",
    "# print(s1)\n",
    "# del s1\n",
    "# print(s1)"
   ]
  },
  {
   "cell_type": "code",
   "execution_count": 140,
   "id": "269b2be1",
   "metadata": {},
   "outputs": [
    {
     "name": "stdout",
     "output_type": "stream",
     "text": [
      "{1, 2, 3, 4, 5, 6}\n",
      "{1, 2, 3, 4, 5, 6}\n"
     ]
    }
   ],
   "source": [
    "print(s)\n",
    "# s[0]=100 # index concept is not applicable\n",
    "print(s)"
   ]
  },
  {
   "cell_type": "markdown",
   "id": "fb23a5d6",
   "metadata": {},
   "source": [
    "## Frozenset"
   ]
  },
  {
   "cell_type": "markdown",
   "id": "0465cd2f",
   "metadata": {},
   "source": [
    "1. **frozen set is same as set but it is immutable & not growable**\n",
    "  > Once a frozenset object is created, **its elements cannot be added or removed**, because frozenset objects are immutable and their elements cannot be modified."
   ]
  },
  {
   "cell_type": "raw",
   "id": "bd7f83f4",
   "metadata": {},
   "source": [
    "# frozen_set = frozenset({1, 2, 3})\n",
    "# frozen_set.add(4) # This will raise an AttributeError"
   ]
  },
  {
   "cell_type": "raw",
   "id": "e11a28b7",
   "metadata": {},
   "source": [
    "Since frozenset objects are immutable, they can be used as keys in a dictionary or as elements of another set. For example:"
   ]
  },
  {
   "cell_type": "code",
   "execution_count": 141,
   "id": "f025433f",
   "metadata": {},
   "outputs": [
    {
     "name": "stdout",
     "output_type": "stream",
     "text": [
      "value\n",
      "****************************************************************************************************\n",
      "{frozenset({3, 4}), frozenset({1, 2})}\n"
     ]
    }
   ],
   "source": [
    "my_dict = {frozenset({1, 2}): 'value'}\n",
    "print(my_dict[frozenset({1, 2})]) # Output: 'value'\n",
    "print('*'*100)\n",
    "\n",
    "my_set = {frozenset({1, 2}), frozenset({3, 4})}\n",
    "print(my_set) # Output: {frozenset({1, 2}), frozenset({3, 4})}\n"
   ]
  },
  {
   "cell_type": "code",
   "execution_count": 142,
   "id": "909093a8",
   "metadata": {},
   "outputs": [
    {
     "name": "stdout",
     "output_type": "stream",
     "text": [
      "{1, 2, 3, 4, 5, 6}\n",
      "<class 'set'>\n",
      "frozenset({1, 2, 3, 4, 5, 6})\n",
      "<class 'frozenset'>\n",
      "frozenset({1, 2, 3, 4, 5, 6})\n",
      "<class 'frozenset'>\n"
     ]
    }
   ],
   "source": [
    "# frozen set is same as set but it is immutable\n",
    "\n",
    "print(s)\n",
    "print(type(s))\n",
    "fs = frozenset(s)\n",
    "print(fs)\n",
    "print(type(fs))\n",
    "# supported methods for frozen set\n",
    "\n",
    "new_fs = fs.copy()\n",
    "'''\n",
    "s.difference()\n",
    "s.intersection()\n",
    "s.isdisjoint()\n",
    "s.issubset()\n",
    "s.issuperset()\n",
    "s.symmetric_difference()\n",
    "s.union()\n",
    "'''\n",
    "print(new_fs)\n",
    "print(type(new_fs))"
   ]
  },
  {
   "cell_type": "markdown",
   "id": "cb995c5a",
   "metadata": {},
   "source": [
    "## Dictionary"
   ]
  },
  {
   "cell_type": "markdown",
   "id": "48ceb856",
   "metadata": {},
   "source": [
    "1. stores data in **key-value pair**\n",
    "2. it is **ordered (from python version3.7 dictionaries are ordered)**\n",
    "3. **duplicates are not allowed (keys), but duplicate values are allowed**\n",
    "4. it is changeable/growable\n",
    "5. items are reffered by using key\n",
    "6. { } are used to write dictionaries\n"
   ]
  },
  {
   "cell_type": "markdown",
   "id": "fd7b82f6",
   "metadata": {},
   "source": [
    "###### dictionary creation"
   ]
  },
  {
   "cell_type": "code",
   "execution_count": 143,
   "id": "3ecd4692",
   "metadata": {},
   "outputs": [
    {
     "name": "stdout",
     "output_type": "stream",
     "text": [
      "{1: 'Digvi', 2: 'Abhi', 3: 'Shourya', 4: 'Sachin'}\n",
      "<class 'dict'>\n"
     ]
    }
   ],
   "source": [
    "d = {\n",
    "    1: 'Digvi',\n",
    "    2: 'Abhi',\n",
    "    3: \"Shourya\",\n",
    "    4: \"Sachin\"\n",
    "    }\n",
    "\n",
    "print(d)\n",
    "print(type(d))"
   ]
  },
  {
   "cell_type": "code",
   "execution_count": 144,
   "id": "f6e8fa9e",
   "metadata": {},
   "outputs": [
    {
     "name": "stdout",
     "output_type": "stream",
     "text": [
      "{'name': 'Digvijay', 'mobile': 1234567891, 'address': 'sangli', 'job': 'Data Scientist', 'salary': 10000}\n",
      "<class 'dict'>\n"
     ]
    }
   ],
   "source": [
    "dict1 = {\n",
    "    'name' : 'Digvijay',\n",
    "    'mobile' : 1234567891,\n",
    "    'address' : 'sangli',\n",
    "    'job' : 'Data Scientist',\n",
    "    'salary' : 1000000,\n",
    "    'salary' : 10000\n",
    "    }\n",
    "\n",
    "print(dict1)\n",
    "print(type(dict1))"
   ]
  },
  {
   "cell_type": "code",
   "execution_count": 145,
   "id": "432a45e6",
   "metadata": {},
   "outputs": [
    {
     "name": "stdout",
     "output_type": "stream",
     "text": [
      "{'roll_no': 10, 'name': 'Akashay', 'class': 'TE', 'marks': 89.9}\n",
      "[10, 5, 4, 2, 25]\n",
      "Akashay\n",
      "89.9\n"
     ]
    }
   ],
   "source": [
    "stud = {\n",
    "    'roll_no' : 10,\n",
    "    'name' : 'Akashay',\n",
    "    'class' : 'TE',\n",
    "    'marks' : 89.90   \n",
    "       }\n",
    "\n",
    "print(stud) # set/dictionary are unordered from python version 3.7\n",
    "\n",
    "\n",
    "l=[10,5,4,2,25] # list,tuple are ordered\n",
    "print(l)\n",
    "\n",
    "# acess the elements\n",
    "val = stud['name']\n",
    "print(val)\n",
    "\n",
    "print(stud['marks'])"
   ]
  },
  {
   "cell_type": "markdown",
   "id": "381fc3ea",
   "metadata": {},
   "source": [
    "### Acessing ways of the dictionary "
   ]
  },
  {
   "cell_type": "code",
   "execution_count": 3,
   "id": "8f442b14",
   "metadata": {},
   "outputs": [],
   "source": [
    "# 1. directly acess using key\n",
    "# 2. using get method\n",
    "# 3. by using notaion\n",
    "# 4. by using dict.iteams()\n",
    "# 5. by using dict.values()"
   ]
  },
  {
   "cell_type": "code",
   "execution_count": 147,
   "id": "da92bc14",
   "metadata": {},
   "outputs": [
    {
     "name": "stdout",
     "output_type": "stream",
     "text": [
      "{1: 'Digvi', 2: 'Abhi', 3: 'Shourya', 4: 'Sachin'}\n"
     ]
    }
   ],
   "source": [
    "print(d)"
   ]
  },
  {
   "cell_type": "code",
   "execution_count": 148,
   "id": "6c535c4a",
   "metadata": {},
   "outputs": [
    {
     "name": "stdout",
     "output_type": "stream",
     "text": [
      "Digvi\n",
      "Abhi\n",
      "Shourya\n",
      "Sachin\n"
     ]
    }
   ],
   "source": [
    "# directly acess using key\n",
    "print(d[1])\n",
    "print(d[2])\n",
    "print(d[3])\n",
    "print(d[4])"
   ]
  },
  {
   "cell_type": "code",
   "execution_count": 149,
   "id": "9e116aff",
   "metadata": {},
   "outputs": [
    {
     "name": "stdout",
     "output_type": "stream",
     "text": [
      "acess dicts using get() method :\n",
      "Digvi\n",
      "Shourya\n"
     ]
    }
   ],
   "source": [
    "# using get method\n",
    "print(\"acess dicts using get() method :\")\n",
    "print(d.get(1))\n",
    "print(d.get(3))"
   ]
  },
  {
   "cell_type": "code",
   "execution_count": 150,
   "id": "9bd09cfb",
   "metadata": {},
   "outputs": [
    {
     "name": "stdout",
     "output_type": "stream",
     "text": [
      "{'roll_no': 10, 'name': 'Akashay', 'class': 'TE', 'marks': 89.9}\n",
      "keys :\n",
      "\n",
      "dict_keys(['roll_no', 'name', 'class', 'marks'])\n"
     ]
    }
   ],
   "source": [
    "# acess all the keys of dictionary\n",
    "print(stud)\n",
    "print(\"keys :\\n\")\n",
    "print(stud.keys())"
   ]
  },
  {
   "cell_type": "code",
   "execution_count": 151,
   "id": "203a2a64",
   "metadata": {},
   "outputs": [
    {
     "name": "stdout",
     "output_type": "stream",
     "text": [
      "Values :\n",
      "dict_values([10, 'Akashay', 'TE', 89.9])\n"
     ]
    }
   ],
   "source": [
    "# acess all the values of dictionary\n",
    "print(\"Values :\")\n",
    "print(stud.values())"
   ]
  },
  {
   "cell_type": "code",
   "execution_count": 152,
   "id": "b3a64596",
   "metadata": {},
   "outputs": [
    {
     "name": "stdout",
     "output_type": "stream",
     "text": [
      "{'roll_no': 10, 'name': 'Akashay', 'class': 'TE', 'marks': 89.9}\n",
      "{'roll_no': 10, 'name': 'Akashay', 'class': 'TE', 'marks': 89.9, 'last_name': 'mohite', 'city': 'Pune', 'mobile': 9988776655}\n"
     ]
    }
   ],
   "source": [
    "# add new item\n",
    "print(stud)\n",
    "\n",
    "stud['last_name']='mohite'\n",
    "\n",
    "stud['city']='Pune'\n",
    "\n",
    "stud['mobile']=9988776655\n",
    "\n",
    "print(stud)"
   ]
  },
  {
   "cell_type": "code",
   "execution_count": 153,
   "id": "5aa07888",
   "metadata": {},
   "outputs": [
    {
     "name": "stdout",
     "output_type": "stream",
     "text": [
      "dict_keys(['roll_no', 'name', 'class', 'marks', 'last_name', 'city', 'mobile'])\n"
     ]
    }
   ],
   "source": [
    "print(stud.keys())"
   ]
  },
  {
   "cell_type": "code",
   "execution_count": 154,
   "id": "1b5070c7",
   "metadata": {},
   "outputs": [
    {
     "name": "stdout",
     "output_type": "stream",
     "text": [
      "7\n"
     ]
    }
   ],
   "source": [
    "print(len(stud.keys()))"
   ]
  },
  {
   "cell_type": "code",
   "execution_count": 155,
   "id": "05cf76c1",
   "metadata": {},
   "outputs": [
    {
     "name": "stdout",
     "output_type": "stream",
     "text": [
      "{'roll_no': 10, 'name': 'Akashay', 'class': 'TE', 'marks': 89.9, 'last_name': 'mohite', 'city': 'Pune', 'mobile': 9988776655}\n",
      "******************************************************************************************\n",
      "dict_items([('roll_no', 10), ('name', 'Akashay'), ('class', 'TE'), ('marks', 89.9), ('last_name', 'mohite'), ('city', 'Pune'), ('mobile', 9988776655)])\n"
     ]
    }
   ],
   "source": [
    "# acess key-value pair directly from dictionary\n",
    "\n",
    "print(stud)\n",
    "print('*'*90)\n",
    "print(stud.items())"
   ]
  },
  {
   "cell_type": "code",
   "execution_count": 156,
   "id": "b91624e7",
   "metadata": {},
   "outputs": [
    {
     "name": "stdout",
     "output_type": "stream",
     "text": [
      "dict_items([('roll_no', 10), ('name', 'Akashay'), ('class', 'TE'), ('marks', 89.9), ('last_name', 'mohite'), ('city', 'Pune'), ('mobile', 9988776655)])\n"
     ]
    }
   ],
   "source": [
    "# change value\n",
    "\n",
    "print(stud.items())"
   ]
  },
  {
   "cell_type": "code",
   "execution_count": 157,
   "id": "9c1efaeb",
   "metadata": {},
   "outputs": [],
   "source": [
    "stud['class']='BE'\n",
    "stud['marks']=91.0"
   ]
  },
  {
   "cell_type": "code",
   "execution_count": 158,
   "id": "28ffbf4b",
   "metadata": {},
   "outputs": [
    {
     "name": "stdout",
     "output_type": "stream",
     "text": [
      "dict_items([('roll_no', 10), ('name', 'Akashay'), ('class', 'BE'), ('marks', 91.0), ('last_name', 'mohite'), ('city', 'Pune'), ('mobile', 9988776655)])\n"
     ]
    }
   ],
   "source": [
    "print(stud.items())"
   ]
  },
  {
   "cell_type": "code",
   "execution_count": 159,
   "id": "b4605328",
   "metadata": {},
   "outputs": [
    {
     "name": "stdout",
     "output_type": "stream",
     "text": [
      "{'roll_no': 10, 'name': 'Akashay', 'class': 'BE', 'marks': 91.0, 'last_name': 'mohite', 'city': 'Pune', 'mobile': 9988776655}\n",
      "******************************************************************************************\n",
      "{'roll_no': 10, 'name': 'Akashay', 'class': 'BE', 'marks': 91.0, 'last_name': 'mohite', 'city': 'Pune', 'mobile': 9988776655, 'subject': 'Maths', 'email': 'a@b.com'}\n"
     ]
    }
   ],
   "source": [
    "# update() >> here we are updating direct dictionary\n",
    "\n",
    "print(stud)\n",
    "print('*'*90)\n",
    "stud.update({\n",
    "    'subject':'Maths',\n",
    "    'email' : 'a@b.com'\n",
    "})\n",
    "print(stud)"
   ]
  },
  {
   "cell_type": "code",
   "execution_count": 160,
   "id": "60673f3e",
   "metadata": {},
   "outputs": [
    {
     "name": "stdout",
     "output_type": "stream",
     "text": [
      "{'roll_no': 10, 'name': 'Akashay', 'class': 'BE', 'marks': 91.0, 'last_name': 'mohite', 'city': 'Pune', 'mobile': 9988776655, 'subject': 'Maths', 'email': 'a@b.com'}\n",
      "{'roll_no': 10, 'name': 'Akashay', 'class': 'BE', 'marks': 91.0, 'last_name': 'mohite', 'city': 'Pune', 'mobile': 9988776655, 'subject': 'Maths'}\n"
     ]
    }
   ],
   "source": [
    "# remove items\n",
    "\n",
    "print(stud)\n",
    "stud.pop('email')\n",
    "print(stud)"
   ]
  },
  {
   "cell_type": "code",
   "execution_count": 161,
   "id": "8790d782",
   "metadata": {},
   "outputs": [
    {
     "name": "stdout",
     "output_type": "stream",
     "text": [
      "{'roll_no': 10, 'name': 'Akashay', 'class': 'BE', 'marks': 91.0, 'last_name': 'mohite', 'city': 'Pune', 'mobile': 9988776655, 'subject': 'Maths'}\n",
      "{'roll_no': 10, 'name': 'Akashay', 'class': 'BE', 'marks': 91.0, 'last_name': 'mohite', 'city': 'Pune', 'mobile': 9988776655}\n"
     ]
    }
   ],
   "source": [
    "print(stud)\n",
    "stud.popitem() # will pop single key-values pair\n",
    "print(stud)"
   ]
  },
  {
   "cell_type": "code",
   "execution_count": 162,
   "id": "ee528de8",
   "metadata": {},
   "outputs": [
    {
     "name": "stdout",
     "output_type": "stream",
     "text": [
      "{1: 'a', 2: 'b', 3: 'c'}\n",
      "{2: 'b', 3: 'c'}\n"
     ]
    }
   ],
   "source": [
    "# del \n",
    "# >> del can remove items as well as dictionary\n",
    "\n",
    "d={\n",
    "    1:'a',\n",
    "    2:'b',\n",
    "    3:'c'\n",
    "}\n",
    "\n",
    "print(d)\n",
    "del d[1]\n",
    "print(d)"
   ]
  },
  {
   "cell_type": "code",
   "execution_count": 163,
   "id": "9eabfa36",
   "metadata": {},
   "outputs": [],
   "source": [
    "# del d\n",
    "# print(d) (NameError: name 'd' is not defined) due to del operation performed"
   ]
  },
  {
   "cell_type": "code",
   "execution_count": 164,
   "id": "6f73dc3b",
   "metadata": {},
   "outputs": [
    {
     "name": "stdout",
     "output_type": "stream",
     "text": [
      "{1: 'a', 2: 'b', 3: 'c'}\n",
      "{}\n"
     ]
    }
   ],
   "source": [
    "# clear()\n",
    "# >> '''clear() method and del keyword are used to remove and empty the dict'''\n",
    "\n",
    "dd={\n",
    "    1:'a',\n",
    "    2:'b',\n",
    "    3:'c'\n",
    "}\n",
    "\n",
    "print(dd)\n",
    "dd.clear()\n",
    "print(dd)"
   ]
  },
  {
   "cell_type": "code",
   "execution_count": 165,
   "id": "0323b5ea",
   "metadata": {},
   "outputs": [
    {
     "name": "stdout",
     "output_type": "stream",
     "text": [
      "{}\n",
      "{}\n"
     ]
    }
   ],
   "source": [
    "# copy dictionary\n",
    "\n",
    "d=dd # this is reference to your d not copy of dd\n",
    "print(d)\n",
    "print(dd)"
   ]
  },
  {
   "cell_type": "code",
   "execution_count": 166,
   "id": "78b81a7c",
   "metadata": {},
   "outputs": [],
   "source": [
    "d['mobile']=1122334455"
   ]
  },
  {
   "cell_type": "code",
   "execution_count": 167,
   "id": "052eae5a",
   "metadata": {},
   "outputs": [
    {
     "name": "stdout",
     "output_type": "stream",
     "text": [
      "{'mobile': 1122334455}\n"
     ]
    }
   ],
   "source": [
    "print(d)"
   ]
  },
  {
   "cell_type": "code",
   "execution_count": 168,
   "id": "67954a55",
   "metadata": {},
   "outputs": [
    {
     "name": "stdout",
     "output_type": "stream",
     "text": [
      "{'roll_no': 10, 'name': 'Akashay', 'class': 'BE', 'marks': 91.0, 'last_name': 'mohite', 'city': 'Pune', 'mobile': 9988776655}\n",
      "******************************************************************************************\n",
      "{'roll_no': 10, 'name': 'Akashay', 'class': 'BE', 'marks': 91.0, 'last_name': 'mohite', 'city': 'Pune', 'mobile': 9988776655}\n",
      "{'roll_no': 10, 'name': 'Akashay', 'class': 'BE', 'marks': 91.0, 'last_name': 'mohite', 'city': 'Pune', 'mobile': 9988776655, 'random': 'val'}\n"
     ]
    }
   ],
   "source": [
    "# copy() method\n",
    "print(stud)\n",
    "print(\"*\"*90)\n",
    "stud2=stud.copy()\n",
    "stud2['random']='val'\n",
    "print(stud)\n",
    "print(stud2)"
   ]
  },
  {
   "cell_type": "code",
   "execution_count": 169,
   "id": "bc5eaeaa",
   "metadata": {},
   "outputs": [
    {
     "name": "stdout",
     "output_type": "stream",
     "text": [
      "{'roll_no': 10, 'name': 'Akashay', 'class': 'BE', 'marks': 91.0, 'last_name': 'mohite', 'city': 'Pune', 'mobile': 9988776655}\n"
     ]
    }
   ],
   "source": [
    "# dict() for copy\n",
    "\n",
    "stud3=dict(stud)\n",
    "print(stud3)"
   ]
  },
  {
   "cell_type": "code",
   "execution_count": 69,
   "id": "744adaa5",
   "metadata": {},
   "outputs": [
    {
     "name": "stdout",
     "output_type": "stream",
     "text": [
      "{'A': 10, 'B': 20, 'C': 30, 40: 'D', 50: 'E'}\n"
     ]
    }
   ],
   "source": [
    "dd = {\n",
    "     'A' :10,\n",
    "     'B' :20,\n",
    "     'C' :30,\n",
    "     40  :'D',\n",
    "     50  :'E'\n",
    "}\n",
    "\n",
    "print(dd)"
   ]
  },
  {
   "cell_type": "code",
   "execution_count": 70,
   "id": "4b6e66cb",
   "metadata": {},
   "outputs": [
    {
     "data": {
      "text/plain": [
       "dict_keys(['A', 'B', 'C', 40, 50])"
      ]
     },
     "execution_count": 70,
     "metadata": {},
     "output_type": "execute_result"
    }
   ],
   "source": [
    "dd.keys()"
   ]
  },
  {
   "cell_type": "code",
   "execution_count": 71,
   "id": "8483b3b9",
   "metadata": {},
   "outputs": [
    {
     "data": {
      "text/plain": [
       "dict_values([10, 20, 30, 'D', 'E'])"
      ]
     },
     "execution_count": 71,
     "metadata": {},
     "output_type": "execute_result"
    }
   ],
   "source": [
    "dd.values()"
   ]
  },
  {
   "cell_type": "code",
   "execution_count": 72,
   "id": "f682a663",
   "metadata": {},
   "outputs": [
    {
     "data": {
      "text/plain": [
       "dict_items([('A', 10), ('B', 20), ('C', 30), (40, 'D'), (50, 'E')])"
      ]
     },
     "execution_count": 72,
     "metadata": {},
     "output_type": "execute_result"
    }
   ],
   "source": [
    "dd.items()"
   ]
  },
  {
   "cell_type": "code",
   "execution_count": 73,
   "id": "e0165523",
   "metadata": {},
   "outputs": [
    {
     "data": {
      "text/plain": [
       "20"
      ]
     },
     "execution_count": 73,
     "metadata": {},
     "output_type": "execute_result"
    }
   ],
   "source": [
    "dd.get('B')"
   ]
  },
  {
   "cell_type": "code",
   "execution_count": 74,
   "id": "42325cf0",
   "metadata": {},
   "outputs": [
    {
     "name": "stdout",
     "output_type": "stream",
     "text": [
      "{'A': 40, 'B': 40, 'C': 40, 40: 40, 50: 40}\n"
     ]
    }
   ],
   "source": [
    "d={'A': 10, 'B': 20, 'C': 30, 40: 'D', 50: 'E'}\n",
    "newdict=dict.fromkeys(d,40)\n",
    "print(newdict)"
   ]
  },
  {
   "cell_type": "code",
   "execution_count": 76,
   "id": "b0eb3738",
   "metadata": {},
   "outputs": [
    {
     "name": "stdout",
     "output_type": "stream",
     "text": [
      "{'A': 10, 'B': 20, 'C': 30, 40: 'D', 50: 'E', 'F': 60}\n"
     ]
    }
   ],
   "source": [
    "dd.setdefault('F',60)\n",
    "print(dd)"
   ]
  },
  {
   "cell_type": "markdown",
   "id": "693808d8",
   "metadata": {},
   "source": [
    "setdefault is used to retrieve the value of a specified key. If the key exists in the dictionary, setdefault() returns the corresponding value. If the key does not exist, setdefault() adds the key to the dictionary with a default value and returns that default value."
   ]
  },
  {
   "cell_type": "code",
   "execution_count": 79,
   "id": "a3f4ab40",
   "metadata": {},
   "outputs": [
    {
     "data": {
      "text/plain": [
       "60"
      ]
     },
     "execution_count": 79,
     "metadata": {},
     "output_type": "execute_result"
    }
   ],
   "source": [
    "dd.setdefault('F')"
   ]
  },
  {
   "cell_type": "code",
   "execution_count": 83,
   "id": "298e8283",
   "metadata": {},
   "outputs": [
    {
     "name": "stdout",
     "output_type": "stream",
     "text": [
      "{'apple': 'red', 'banana': 'green', 'orange': 'orange'}\n"
     ]
    }
   ],
   "source": [
    "dictionary1 = {\"apple\": \"red\", \"banana\": \"yellow\"}\n",
    "dictionary2 = {\"orange\": \"orange\", \"banana\": \"green\"}\n",
    "dictionary1.update(dictionary2)\n",
    "print(dictionary1)"
   ]
  },
  {
   "cell_type": "code",
   "execution_count": 84,
   "id": "9b77f2f2",
   "metadata": {},
   "outputs": [
    {
     "name": "stdout",
     "output_type": "stream",
     "text": [
      "{'apple': 'red', 'banana': 'green', 'orange': 'orange'}\n",
      "{'banana': 'green', 'orange': 'orange'}\n"
     ]
    }
   ],
   "source": [
    "print(dictionary1)\n",
    "dictionary1.pop('apple')\n",
    "print(dictionary1)"
   ]
  },
  {
   "cell_type": "code",
   "execution_count": 85,
   "id": "138918a7",
   "metadata": {},
   "outputs": [
    {
     "name": "stdout",
     "output_type": "stream",
     "text": [
      "{'banana': 'green', 'orange': 'orange'}\n",
      "{'banana': 'green'}\n"
     ]
    }
   ],
   "source": [
    "print(dictionary1)\n",
    "dictionary1.popitem()\n",
    "print(dictionary1)"
   ]
  },
  {
   "cell_type": "markdown",
   "id": "1b50a84b",
   "metadata": {},
   "source": [
    "The pop() method removes and returns the value associated with the specified key from the dictionary. If the key is not found in the dictionary, an optional default value can be provided, which will be returned instead of raising a KeyError exception."
   ]
  },
  {
   "cell_type": "code",
   "execution_count": 86,
   "id": "d05d481f",
   "metadata": {},
   "outputs": [
    {
     "name": "stdout",
     "output_type": "stream",
     "text": [
      "yellow\n"
     ]
    }
   ],
   "source": [
    "dictionary = {\"apple\": \"red\", \"banana\": \"yellow\", \"orange\": \"orange\"}\n",
    "value = dictionary.pop(\"banana\")\n",
    "print(value)  # Output: yellow\n"
   ]
  },
  {
   "cell_type": "markdown",
   "id": "0ab4b8fa",
   "metadata": {},
   "source": [
    "The popitem() method removes and returns an arbitrary key-value pair from the dictionary as a tuple. This method is useful when you want to remove and retrieve an arbitrary item from the dictionary."
   ]
  },
  {
   "cell_type": "code",
   "execution_count": 87,
   "id": "21cb260a",
   "metadata": {},
   "outputs": [
    {
     "name": "stdout",
     "output_type": "stream",
     "text": [
      "('orange', 'orange')\n"
     ]
    }
   ],
   "source": [
    "dictionary = {\"apple\": \"red\", \"banana\": \"yellow\", \"orange\": \"orange\"}\n",
    "item = dictionary.popitem()\n",
    "print(item)  # Output: ('orange', 'orange')"
   ]
  },
  {
   "cell_type": "markdown",
   "id": "7c241417",
   "metadata": {},
   "source": [
    "###### nested dictionary"
   ]
  },
  {
   "cell_type": "code",
   "execution_count": 90,
   "id": "9a581f15",
   "metadata": {},
   "outputs": [
    {
     "data": {
      "text/plain": [
       "{'John': {'age': 20, 'grade': 'A'}, 'Sarah': {'age': 19, 'grade': 'B'}}"
      ]
     },
     "execution_count": 90,
     "metadata": {},
     "output_type": "execute_result"
    }
   ],
   "source": [
    "students = {\n",
    "    \"John\": {\n",
    "        \"age\": 20,\n",
    "        \"grade\": \"A\"\n",
    "            },\n",
    "    \n",
    "    \"Sarah\": {\n",
    "        \"age\": 19,\n",
    "        \"grade\": \"B\"\n",
    "             }\n",
    "           }\n",
    "\n",
    "students"
   ]
  },
  {
   "cell_type": "code",
   "execution_count": 91,
   "id": "7d94172d",
   "metadata": {},
   "outputs": [
    {
     "name": "stdout",
     "output_type": "stream",
     "text": [
      "20\n",
      "B\n"
     ]
    }
   ],
   "source": [
    "# Accessing John's age\n",
    "john_age = students[\"John\"][\"age\"]\n",
    "print(john_age)  # Output: 20\n",
    "\n",
    "# Accessing Sarah's grade\n",
    "sarah_grade = students[\"Sarah\"][\"grade\"]\n",
    "print(sarah_grade)  # Output: B\n"
   ]
  },
  {
   "cell_type": "code",
   "execution_count": 171,
   "id": "71f88b07",
   "metadata": {},
   "outputs": [
    {
     "name": "stdout",
     "output_type": "stream",
     "text": [
      "{'f_key': {'p_key': {'s_key': {'g_name': 'grans_son_name'}, 's_name': 'son_name'}, 'p_name': 'Parent_name'}}\n"
     ]
    }
   ],
   "source": [
    "grandson = {\n",
    "    'gs_key':'grans_son_name'\n",
    "}\n",
    "\n",
    "\n",
    "son = {\n",
    "    's_key' : grandson,\n",
    "    's_name': 'son_name'\n",
    "}\n",
    "\n",
    "\n",
    "parent = {\n",
    "    'p_key':son,\n",
    "    'p_name':'Parent_name'\n",
    "}\n",
    "\n",
    "\n",
    "family ={\n",
    "    'f_key':parent,\n",
    "}\n",
    "\n",
    "print(family)"
   ]
  },
  {
   "cell_type": "code",
   "execution_count": 172,
   "id": "4363413a",
   "metadata": {},
   "outputs": [
    {
     "data": {
      "text/plain": [
       "'Parent_name'"
      ]
     },
     "execution_count": 172,
     "metadata": {},
     "output_type": "execute_result"
    }
   ],
   "source": [
    "family['f_key']['p_name']"
   ]
  },
  {
   "cell_type": "code",
   "execution_count": 173,
   "id": "86346a45",
   "metadata": {},
   "outputs": [
    {
     "name": "stdout",
     "output_type": "stream",
     "text": [
      "['sai', 'kaviraj', {'f_key': {'p_key': {'s_key': {'g_name': 'grans_son_name'}, 's_name': 'son_name'}, 'p_name': 'Parent_name'}}]\n"
     ]
    }
   ],
   "source": [
    "list_n=['sai','kaviraj',family ]\n",
    "print(list_n)"
   ]
  },
  {
   "cell_type": "code",
   "execution_count": 174,
   "id": "8a24912c",
   "metadata": {},
   "outputs": [
    {
     "data": {
      "text/plain": [
       "'grans_son_name'"
      ]
     },
     "execution_count": 174,
     "metadata": {},
     "output_type": "execute_result"
    }
   ],
   "source": [
    "list_n[2]['f_key']['p_key']['s_key']['g_name']"
   ]
  },
  {
   "cell_type": "code",
   "execution_count": 175,
   "id": "53a17995",
   "metadata": {},
   "outputs": [
    {
     "data": {
      "text/plain": [
       "{'p_key': {'s_key': {'g_name': 'grans_son_name'}, 's_name': 'son_name'},\n",
       " 'p_name': 'Parent_name'}"
      ]
     },
     "execution_count": 175,
     "metadata": {},
     "output_type": "execute_result"
    }
   ],
   "source": [
    "# access parent dictionary\n",
    "family['f_key']"
   ]
  },
  {
   "cell_type": "code",
   "execution_count": 176,
   "id": "39c2d87c",
   "metadata": {},
   "outputs": [
    {
     "data": {
      "text/plain": [
       "{'s_key': {'g_name': 'grans_son_name'}, 's_name': 'son_name'}"
      ]
     },
     "execution_count": 176,
     "metadata": {},
     "output_type": "execute_result"
    }
   ],
   "source": [
    "# access child dictionary\n",
    "family['f_key']['p_key']"
   ]
  },
  {
   "cell_type": "code",
   "execution_count": 177,
   "id": "74ef0708",
   "metadata": {},
   "outputs": [
    {
     "data": {
      "text/plain": [
       "{'g_name': 'grans_son_name'}"
      ]
     },
     "execution_count": 177,
     "metadata": {},
     "output_type": "execute_result"
    }
   ],
   "source": [
    "# acess grand child\n",
    "family['f_key']['p_key']['s_key']"
   ]
  },
  {
   "cell_type": "code",
   "execution_count": 178,
   "id": "9b8dc111",
   "metadata": {},
   "outputs": [
    {
     "data": {
      "text/plain": [
       "'grans_son_name'"
      ]
     },
     "execution_count": 178,
     "metadata": {},
     "output_type": "execute_result"
    }
   ],
   "source": [
    "family['f_key']['p_key']['s_key']['g_name']"
   ]
  },
  {
   "cell_type": "markdown",
   "id": "f53a399a",
   "metadata": {},
   "source": [
    "## Operators "
   ]
  },
  {
   "cell_type": "markdown",
   "id": "ccb89aed",
   "metadata": {},
   "source": [
    "Python Opeartors:\n",
    "     \n",
    "     1. Arithmatic opeartors\n",
    "     2. Assignment opeartors\n",
    "     3. Comparision opeartors\n",
    "     4. Logical operators\n",
    "     5. Identity opeartors\n",
    "     6. Membership opeartors\n",
    "     7. Bitwise operators"
   ]
  },
  {
   "cell_type": "markdown",
   "id": "cf5ff898",
   "metadata": {},
   "source": [
    "###### 1. Arithmatic operators"
   ]
  },
  {
   "cell_type": "markdown",
   "id": "3cca6135",
   "metadata": {},
   "source": [
    "     1. +  addition x+y\n",
    "     2. -  subtraction x-y\n",
    "     3. *  Multiplication x*y\n",
    "     4. /  Division x/y\n",
    "     5. %  Modulus x%y # Remider after division\n",
    "     6. ** Exponentiation x**y\n",
    "     7. // Floor division x//y"
   ]
  },
  {
   "cell_type": "code",
   "execution_count": 179,
   "id": "2024f632",
   "metadata": {},
   "outputs": [
    {
     "name": "stdout",
     "output_type": "stream",
     "text": [
      "<< Addition >>\n",
      "sum :\t 30.4\n"
     ]
    }
   ],
   "source": [
    "# addition\n",
    "print('<< Addition >>')\n",
    "var1 = 10.20\n",
    "var2 = 20.20\n",
    "res = var1 + var2\n",
    "print('sum :\\t',res)"
   ]
  },
  {
   "cell_type": "code",
   "execution_count": 180,
   "id": "75910a95",
   "metadata": {},
   "outputs": [
    {
     "name": "stdout",
     "output_type": "stream",
     "text": [
      "<< Subtraction >>\n",
      "sub :\t -10.0\n"
     ]
    }
   ],
   "source": [
    "# substraction\n",
    "print('<< Subtraction >>')\n",
    "var1 = 10.20\n",
    "var2 = 20.20\n",
    "res = var1 - var2\n",
    "print('sub :\\t',res)"
   ]
  },
  {
   "cell_type": "code",
   "execution_count": 181,
   "id": "c5449ccb",
   "metadata": {},
   "outputs": [
    {
     "name": "stdout",
     "output_type": "stream",
     "text": [
      "<< Multiplication >>\n",
      "mul :\t 206.04\n"
     ]
    }
   ],
   "source": [
    "# Multiplication\n",
    "print('<< Multiplication >>')\n",
    "var1 = 10.20\n",
    "var2 = 20.20\n",
    "res = var1 * var2\n",
    "print('mul :\\t',res)"
   ]
  },
  {
   "cell_type": "code",
   "execution_count": 182,
   "id": "719ed231",
   "metadata": {},
   "outputs": [
    {
     "name": "stdout",
     "output_type": "stream",
     "text": [
      "<< Division >>\n",
      "div :\t 0.504950495049505\n"
     ]
    }
   ],
   "source": [
    "# Division\n",
    "print('<< Division >>')\n",
    "var1 = 10.20\n",
    "var2 = 20.20\n",
    "res = var1 / var2\n",
    "print('div :\\t',res)"
   ]
  },
  {
   "cell_type": "code",
   "execution_count": 183,
   "id": "1f9e8dbc",
   "metadata": {},
   "outputs": [
    {
     "name": "stdout",
     "output_type": "stream",
     "text": [
      "<< Modulus >>\n",
      "mod :\t 10\n"
     ]
    }
   ],
   "source": [
    "# Modulus \n",
    "print('<< Modulus >>') # Remider after division\n",
    "var1 = 10\n",
    "var2 = 20\n",
    "res = var1 % var2 # i%2==0\n",
    "print('mod :\\t',res)"
   ]
  },
  {
   "cell_type": "code",
   "execution_count": 184,
   "id": "4d9ab312",
   "metadata": {},
   "outputs": [
    {
     "name": "stdout",
     "output_type": "stream",
     "text": [
      "<< Exponent >>\n",
      "exp :\t 100\n"
     ]
    }
   ],
   "source": [
    "# Exponential\n",
    "print('<< Exponent >>') \n",
    "var1 = 10\n",
    "var2 = 2\n",
    "res = var1 ** var2\n",
    "print('exp :\\t',res)"
   ]
  },
  {
   "cell_type": "code",
   "execution_count": 5,
   "id": "420a50a5",
   "metadata": {},
   "outputs": [
    {
     "name": "stdout",
     "output_type": "stream",
     "text": [
      "<< Floor Division >>\n",
      "floor div :\t 2.0\n"
     ]
    }
   ],
   "source": [
    "# Floor Division\n",
    "print('<< Floor Division >>') \n",
    "var1 = 4.5\n",
    "var2 = 2\n",
    "res = var1 // var2\n",
    "print('floor div :\\t',res)"
   ]
  },
  {
   "cell_type": "markdown",
   "id": "e8d4cb0b",
   "metadata": {},
   "source": [
    "###### 2. Assignment operator"
   ]
  },
  {
   "cell_type": "markdown",
   "id": "b129ae1c",
   "metadata": {},
   "source": [
    "     1. x +=  10  >> x = x +  10    >> i+=1 >> i = i+1 = 1+1 = 2\n",
    "     2. x -=  10  >> x = x -  10\n",
    "     3. x *=  10  >> x = x *  10\n",
    "     4. x /=  10  >> x = x /  10\n",
    "     5. x %=  10  >> x = x %  10\n",
    "     6. x **= 10  >> x = x ** 10\n",
    "     7. x //= 10  >> x = x // 10"
   ]
  },
  {
   "cell_type": "code",
   "execution_count": 186,
   "id": "57685b72",
   "metadata": {},
   "outputs": [
    {
     "name": "stdout",
     "output_type": "stream",
     "text": [
      "55\n",
      "65\n"
     ]
    }
   ],
   "source": [
    "var = 55\n",
    "print(var)\n",
    "var += 10 # x = x + 10\n",
    "print(var)"
   ]
  },
  {
   "cell_type": "code",
   "execution_count": 187,
   "id": "4e0a27b1",
   "metadata": {},
   "outputs": [
    {
     "name": "stdout",
     "output_type": "stream",
     "text": [
      "65\n",
      "55\n"
     ]
    }
   ],
   "source": [
    "print(var)\n",
    "var -= 10 # x = x - 10\n",
    "print(var)"
   ]
  },
  {
   "cell_type": "code",
   "execution_count": 188,
   "id": "a55ba56f",
   "metadata": {},
   "outputs": [
    {
     "name": "stdout",
     "output_type": "stream",
     "text": [
      "55\n",
      "550\n"
     ]
    }
   ],
   "source": [
    "print(var)\n",
    "var *= 10 # x = x * 10\n",
    "print(var)"
   ]
  },
  {
   "cell_type": "code",
   "execution_count": 189,
   "id": "51a6ff70",
   "metadata": {},
   "outputs": [
    {
     "name": "stdout",
     "output_type": "stream",
     "text": [
      "550\n",
      "550/5 : 110.0\n"
     ]
    }
   ],
   "source": [
    "print(var)\n",
    "var /= 5 # x = x / 10\n",
    "print(\"550/5 :\",var)"
   ]
  },
  {
   "cell_type": "code",
   "execution_count": 190,
   "id": "56068b04",
   "metadata": {},
   "outputs": [
    {
     "name": "stdout",
     "output_type": "stream",
     "text": [
      "110.0\n",
      "110 % 9: 2.0\n"
     ]
    }
   ],
   "source": [
    "print(var)\n",
    "var %= 9 # x = x % 10\n",
    "print(\"110 % 9:\",var)"
   ]
  },
  {
   "cell_type": "code",
   "execution_count": 191,
   "id": "640d9947",
   "metadata": {},
   "outputs": [
    {
     "name": "stdout",
     "output_type": "stream",
     "text": [
      "2.0\n",
      "8.0\n"
     ]
    }
   ],
   "source": [
    "print(var)\n",
    "var **= 3 # x = x ** 10\n",
    "print(var)"
   ]
  },
  {
   "cell_type": "code",
   "execution_count": 10,
   "id": "808dc2f1",
   "metadata": {},
   "outputs": [
    {
     "name": "stdout",
     "output_type": "stream",
     "text": [
      "99.99\n",
      "49.0\n"
     ]
    }
   ],
   "source": [
    "var1=99.99\n",
    "print(var1)\n",
    "var1 //= 2 # x = x // 10\n",
    "print(var1)"
   ]
  },
  {
   "cell_type": "code",
   "execution_count": 9,
   "id": "7724958a-dbd6-40bb-bdc5-b7df2862f0db",
   "metadata": {},
   "outputs": [
    {
     "data": {
      "text/plain": [
       "49.995"
      ]
     },
     "execution_count": 9,
     "metadata": {},
     "output_type": "execute_result"
    }
   ],
   "source": [
    "99.99/2"
   ]
  },
  {
   "cell_type": "code",
   "execution_count": 193,
   "id": "3c3398b7",
   "metadata": {},
   "outputs": [
    {
     "name": "stdout",
     "output_type": "stream",
     "text": [
      "Initial val of x is : 22\n",
      "After (10) addition : 32\n",
      "After (5) subtraction : 27\n",
      "After (2) exponent : 729\n"
     ]
    }
   ],
   "source": [
    "x = 22\n",
    "print(\"Initial val of x is :\", x)\n",
    "x += 10 # x = x + 10\n",
    "print(\"After (10) addition :\", x)\n",
    "x -= 5 # x = x - 5\n",
    "print(\"After (5) subtraction :\",x)\n",
    "x **= 2 # x = x ** 2\n",
    "print('After (2) exponent :',x)"
   ]
  },
  {
   "cell_type": "markdown",
   "id": "11b713b2",
   "metadata": {},
   "source": [
    "###### 3. comparision operator"
   ]
  },
  {
   "cell_type": "markdown",
   "id": "0c86f304",
   "metadata": {},
   "source": [
    "    1. Equal to              >> a==b\n",
    "    2. Not equal to          >> a!=b\n",
    "    3. Greater than          >> a>b\n",
    "    4. Smaller than          >> a<b\n",
    "    5. Greater than equal to >> a>=b\n",
    "    6. Smaller than equal to >> a<=b"
   ]
  },
  {
   "cell_type": "code",
   "execution_count": 194,
   "id": "3904f1c1",
   "metadata": {},
   "outputs": [
    {
     "name": "stdout",
     "output_type": "stream",
     "text": [
      "False\n",
      "True\n",
      "True\n",
      "False\n",
      "True\n",
      "False\n"
     ]
    }
   ],
   "source": [
    "a = 20\n",
    "b = 10\n",
    "\n",
    "print(a == b)\n",
    "\n",
    "print(a != b)\n",
    "\n",
    "print(a > b)\n",
    "\n",
    "print(a < b)\n",
    "\n",
    "print(a >= b)\n",
    "\n",
    "print(a <= b)"
   ]
  },
  {
   "cell_type": "markdown",
   "id": "710aaaac",
   "metadata": {},
   "source": [
    "###### 4. Logical operator"
   ]
  },
  {
   "cell_type": "markdown",
   "id": "e9b4b14d",
   "metadata": {},
   "source": [
    "1. **and** \t>> Returns True if both statements are true\t\t\n",
    "2. **or**\t>> Returns True if one of the statements is true\t\n",
    "\n",
    "3. **not**\t>> Reverse the result, returns False if the result is true\t"
   ]
  },
  {
   "cell_type": "code",
   "execution_count": 195,
   "id": "e9c54fa0",
   "metadata": {},
   "outputs": [],
   "source": [
    "# and operator"
   ]
  },
  {
   "cell_type": "code",
   "execution_count": 13,
   "id": "c072336b-7c60-4f8a-a5c3-729363cddc42",
   "metadata": {},
   "outputs": [],
   "source": [
    "x = 5"
   ]
  },
  {
   "cell_type": "code",
   "execution_count": 18,
   "id": "1d0c554a",
   "metadata": {},
   "outputs": [
    {
     "data": {
      "text/plain": [
       "False"
      ]
     },
     "execution_count": 18,
     "metadata": {},
     "output_type": "execute_result"
    }
   ],
   "source": [
    "x < 5 and  x < 10"
   ]
  },
  {
   "cell_type": "code",
   "execution_count": 19,
   "id": "f465dff4",
   "metadata": {},
   "outputs": [],
   "source": [
    "# or operator"
   ]
  },
  {
   "cell_type": "code",
   "execution_count": 20,
   "id": "76a30d7b",
   "metadata": {},
   "outputs": [
    {
     "data": {
      "text/plain": [
       "False"
      ]
     },
     "execution_count": 20,
     "metadata": {},
     "output_type": "execute_result"
    }
   ],
   "source": [
    "x < 5 or x < 4"
   ]
  },
  {
   "cell_type": "code",
   "execution_count": 21,
   "id": "eeb988cd",
   "metadata": {},
   "outputs": [
    {
     "name": "stdout",
     "output_type": "stream",
     "text": [
      "False\n"
     ]
    }
   ],
   "source": [
    "var1=10\n",
    "var2=5\n",
    "print(var1<5 or var2>10)"
   ]
  },
  {
   "cell_type": "code",
   "execution_count": 200,
   "id": "e18e43a8",
   "metadata": {},
   "outputs": [],
   "source": [
    "# not operator"
   ]
  },
  {
   "cell_type": "code",
   "execution_count": 201,
   "id": "efa731db",
   "metadata": {},
   "outputs": [
    {
     "data": {
      "text/plain": [
       "True"
      ]
     },
     "execution_count": 201,
     "metadata": {},
     "output_type": "execute_result"
    }
   ],
   "source": [
    "not(x < 5 and x < 10)"
   ]
  },
  {
   "cell_type": "code",
   "execution_count": 23,
   "id": "630d66f2",
   "metadata": {},
   "outputs": [
    {
     "name": "stdout",
     "output_type": "stream",
     "text": [
      "False\n",
      "True\n",
      "True\n"
     ]
    }
   ],
   "source": [
    "var1=10\n",
    "var2=5\n",
    "\n",
    "print(not(var1>5 or var2<10)) # reverse the result\n",
    "print((var1>5 or var2<10)) \n",
    "print(not(var1<5)) # reverse the result"
   ]
  },
  {
   "cell_type": "raw",
   "id": "e291a5f2",
   "metadata": {},
   "source": [
    "# Example : Dist- above 75 %, 1st - above 67 to less than equal 75"
   ]
  },
  {
   "cell_type": "code",
   "execution_count": 203,
   "id": "7e74d798",
   "metadata": {},
   "outputs": [
    {
     "name": "stdout",
     "output_type": "stream",
     "text": [
      "<< and operator >>\n",
      " (Score=66) Dictinction ? : False\n",
      "****************************************************************************************************\n",
      " (Score=66) 1st class ? : False\n",
      "****************************************************************************************************\n",
      " (Score=66) 2nd class ? : True\n"
     ]
    }
   ],
   "source": [
    "print(\"<< and operator >>\")\n",
    "score = 66\n",
    "print(\" (Score=66) Dictinction ? :\",score > 67 )\n",
    "\n",
    "print('*'*100)\n",
    "\n",
    "print(\" (Score=66) 1st class ? :\",score > 67 and score <= 75)\n",
    "\n",
    "print('*'*100)\n",
    "\n",
    "print(\" (Score=66) 2nd class ? :\",score <= 67 and score > 58)"
   ]
  },
  {
   "cell_type": "markdown",
   "id": "f26baa02",
   "metadata": {},
   "source": [
    "###### 5. Identity Operators"
   ]
  },
  {
   "cell_type": "markdown",
   "id": "d39233dd",
   "metadata": {},
   "source": [
    "1. **is** >> Returns True if both variables are the same object\t\t\n",
    "2. **is not** >> Returns True if both variables are not the same object"
   ]
  },
  {
   "cell_type": "code",
   "execution_count": 204,
   "id": "28e0b0e0",
   "metadata": {},
   "outputs": [
    {
     "data": {
      "text/plain": [
       "False"
      ]
     },
     "execution_count": 204,
     "metadata": {},
     "output_type": "execute_result"
    }
   ],
   "source": [
    "x=10\n",
    "y=9\n",
    "x is y"
   ]
  },
  {
   "cell_type": "code",
   "execution_count": 205,
   "id": "3e86563f",
   "metadata": {},
   "outputs": [
    {
     "data": {
      "text/plain": [
       "True"
      ]
     },
     "execution_count": 205,
     "metadata": {},
     "output_type": "execute_result"
    }
   ],
   "source": [
    "x is not y"
   ]
  },
  {
   "cell_type": "code",
   "execution_count": 206,
   "id": "3cd30257",
   "metadata": {},
   "outputs": [
    {
     "name": "stdout",
     "output_type": "stream",
     "text": [
      "x id is: 140726412961160\n",
      "y id is: 140726412961160\n",
      "True\n"
     ]
    }
   ],
   "source": [
    "x = 20\n",
    "y = 20\n",
    "\n",
    "print(\"x id is:\",id(x))\n",
    "print(\"y id is:\",id(y))\n",
    "print(x is y)"
   ]
  },
  {
   "cell_type": "code",
   "execution_count": 24,
   "id": "5349d9d8",
   "metadata": {},
   "outputs": [
    {
     "name": "stdout",
     "output_type": "stream",
     "text": [
      "x id is: 1621473805008\n",
      "y id is: 1621470000528\n",
      "True\n"
     ]
    }
   ],
   "source": [
    "x = 20.10\n",
    "y = 20.10\n",
    "\n",
    "print(\"x id is:\",id(x))\n",
    "print(\"y id is:\",id(y))\n",
    "print(x is not y)"
   ]
  },
  {
   "cell_type": "markdown",
   "id": "56d3d7ef",
   "metadata": {},
   "source": [
    "###### 6. Membership Operators"
   ]
  },
  {
   "cell_type": "markdown",
   "id": "423fe5f0",
   "metadata": {},
   "source": [
    "1. **in** >> Returns True if a sequence with the specified value is present in the object\tx in y\t\n",
    "2. **not in** >> Returns True if a sequence with the specified value is not present in the object"
   ]
  },
  {
   "cell_type": "code",
   "execution_count": 208,
   "id": "793e9f42",
   "metadata": {},
   "outputs": [
    {
     "name": "stdout",
     "output_type": "stream",
     "text": [
      "[10, 27, 4, 14, 20]\n",
      " 2 in roll_no : False\n",
      " 20 in roll_no : True\n",
      " 27 in roll_no : True\n"
     ]
    }
   ],
   "source": [
    "roll_no=[10,27,4,14,20]\n",
    "\n",
    "print(roll_no)\n",
    "print(\" 2 in roll_no :\", 2 in roll_no)\n",
    "print(\" 20 in roll_no :\", 20 in roll_no)\n",
    "print(\" 27 in roll_no :\", 27 in roll_no)"
   ]
  },
  {
   "cell_type": "markdown",
   "id": "d2427f45",
   "metadata": {},
   "source": [
    "######  7. Bitwise Operrators"
   ]
  },
  {
   "cell_type": "markdown",
   "id": "e57ce54d",
   "metadata": {},
   "source": [
    "1. **& (AND)**\t>> Sets each bit to 1 if both bits are 1\te.g : x & y\t\n",
    "> Result bit 1,if both operand bits are 1;otherwise results bit 0.\n",
    "2. **| (OR)** >> Sets each bit to 1 if one of two bits is 1\te.g : x | y\t\n",
    "> Result bit 1, if any of the operand bit is 1; otherwise results bit 0\n",
    "3. **^ (XOR)** >> Sets each bit to 1 if only one of two bits is 1\te.g : x ^ y\t\n",
    "> Results bit 1,if any of the operand bit is 1 but not both, otherwise results bit 0.\n",
    "4. **~ (NOT)** >> Inverts all the bits\te.g : ~x\t\n",
    "> inverts individual bits\n",
    ">> For any integer n, bitwise complement of n will be -(n + 1)\n",
    ">>>Decimal         Binary           2's complement \n",
    "   0            00000000           -(11111111+1) = -00000000 = -0(decimal)\n",
    "   1            00000001           -(11111110+1) = -11111111 = -256(decimal)\n",
    "   12           00001100           -(11110011+1) = -11110100 = -244(decimal)\n",
    "   220          11011100           -(00100011+1) = -00100100 = -36(decimal)\n",
    "   \n",
    "5. **<< (Zerofill left shift)** : Shift left by pushing zeros in from the right and let the leftmost bits fall off e.g : x << 2\t\n",
    "> The left operand’s value is moved toward right by the number of bits specified by the right operand.\n",
    "6. **>>\t(Signed right shift)** >> Shift right by pushing copies of the leftmost bit in from the left, and let the rightmost bits fall off e.g : x >> 2\n",
    "> The left operand’s value is moved toward left by the number of bits specified by the right operand."
   ]
  },
  {
   "cell_type": "raw",
   "id": "58474b0a",
   "metadata": {},
   "source": [
    "                1. & :\n",
    "                ex. 1 & 1 = 1\n",
    "                    1 & 0 = 0\n",
    "                    0 & 1 = 0\n",
    "                    0 & 0 = 0\n",
    "                 \n",
    "                2. | :\n",
    "                ex. 1 | 1 = 1\n",
    "                    1 | 0 = 1\n",
    "                    0 | 1 = 1\n",
    "                    0 | 0 = 0\n",
    "                    \n",
    "                3. ^ :\n",
    "                ex. 1 ^ 1 = 0\n",
    "                    1 ^ 0 = 1\n",
    "                    0 ^ 1 = 1\n",
    "                    0 ^ 0 = 0\n",
    "                    \n",
    "                4. ~ :\n",
    "                ex. 1 = 0\n",
    "                    0 = 1\n",
    "                    \n",
    "                    >> For any integer n, bitwise complement of n will be -(n + 1)\n",
    "                    >>Decimal         Binary           2's complement \n",
    "                       0            00000000           -(11111111+1) = -00000000 = -0(decimal)\n",
    "                       1            00000001           -(11111110+1) = -11111111 = -256(decimal)\n",
    "                       12           00001100           -(11110011+1) = -11110100 = -244(decimal)\n",
    "                       220          11011100           -(00100011+1) = -00100100 = -36(decimal)\n",
    "                       \n",
    "                       \n",
    "                       11111110  11111111\n",
    "                       +      1  +      1\n",
    "                       ........  ........\n",
    "                       11111111 100000000 = -0 (1=-, 0=+)\n",
    "                       \n",
    "                    >> The four rules of binary addition are: 0 + 0 = 0 0 + 1 = 1 1 + 0 = 1 1 + 1 =10\n",
    "                \n",
    "                5. << :\n",
    "                ex.  Left shift by 2 bits <<\n",
    "                                      0 0 1 = 1\n",
    "                                  0 0 1 0 0 = 4\n",
    "                                      \n",
    "                                      1 1 1 = 7\n",
    "                                  1 1 1 0 0 = 28 (16+8+4=28)\n",
    "                                  \n",
    "                6. >> :\n",
    "                ex. Right shift by 2 bits >> \n",
    "                                      0 0 1 = 1\n",
    "                                      0 0 0 = 0 (both 0 & 1 are foll down i.e delete)\n",
    "                                      \n",
    "                                      1 1 1 = 7\n",
    "                                      0 0 1 = 1 (both 1 are foll down i.e delete)\n",
    "                                  \n",
    "                                  \n",
    "                                  \n",
    "                \n",
    "                   256 128 64 32 16 8 4 2 1 \n",
    "                                      0 0 0 = 0\n",
    "                                      0 0 1 = 1\n",
    "                                      0 1 0 = 2\n",
    "                                      0 1 1 = 3\n",
    "                                      1 0 0 = 4\n",
    "                                      1 0 1 = 5\n",
    "                                      1 1 0 = 6\n",
    "                                      1 1 1 = 7\n",
    "                                      \n",
    "                          Left shift by 2 bits <<\n",
    "                                      0 0 1 = 1\n",
    "                                  0 0 1 0 0 = 4\n",
    "                                      \n",
    "                                      1 1 1 = 7\n",
    "                                  1 1 1 0 0 = 28 (16+8+4=28)\n",
    "                                  \n",
    "                          Right shift by 2 bits >> \n",
    "                                      0 0 1 = 1\n",
    "                                      0 0 0 = 0 (both 0 & 1 are foll down i.e delete)\n",
    "                                      \n",
    "                                      1 1 1 = 7\n",
    "                                      0 0 1 = 1 (both 1 are foll down i.e delete)"
   ]
  },
  {
   "cell_type": "code",
   "execution_count": 209,
   "id": "94f0dc96",
   "metadata": {},
   "outputs": [
    {
     "name": "stdout",
     "output_type": "stream",
     "text": [
      "Bitwise and \n",
      "4\n"
     ]
    }
   ],
   "source": [
    "x = 4        # 1 0 0\n",
    "y = 5        # 1 0 1\n",
    "z = x & y    # 1 0 0 = 4\n",
    "print(\"Bitwise and \")\n",
    "print(z)\n"
   ]
  },
  {
   "cell_type": "code",
   "execution_count": 210,
   "id": "c8773b7f",
   "metadata": {},
   "outputs": [
    {
     "name": "stdout",
     "output_type": "stream",
     "text": [
      "Bitwise or\n",
      "5\n"
     ]
    }
   ],
   "source": [
    "x = 4        # 1 0 0\n",
    "y = 5        # 1 0 1\n",
    "z = x | y    # 1 0 1 = 5\n",
    "print('Bitwise or')\n",
    "print(z)"
   ]
  },
  {
   "cell_type": "code",
   "execution_count": 211,
   "id": "54fe2aad",
   "metadata": {},
   "outputs": [
    {
     "name": "stdout",
     "output_type": "stream",
     "text": [
      "Bitwise XOR\n",
      "1\n"
     ]
    }
   ],
   "source": [
    "print('Bitwise XOR')\n",
    "x = 4        # 1 0 0\n",
    "y = 5        # 1 0 1\n",
    "z = x ^ y    # 0 0 1 = 1\n",
    "print(z)"
   ]
  },
  {
   "cell_type": "code",
   "execution_count": 212,
   "id": "9275fc84",
   "metadata": {},
   "outputs": [
    {
     "name": "stdout",
     "output_type": "stream",
     "text": [
      "Bitwise NOT\n",
      "-5\n"
     ]
    }
   ],
   "source": [
    "print('Bitwise NOT')\n",
    "x = 4       # 1 0 0   [(4 * -1) -1]\n",
    "z = ~x      # 0 1 1\n",
    "            # +   1   The four rules of binary addition are: 0 + 0 = 0, 0 + 1 = 1, 1 + 0 = 1, 1 + 1 =10\n",
    "            # 1 0 0      \n",
    "print(~x)"
   ]
  },
  {
   "cell_type": "code",
   "execution_count": 213,
   "id": "1ea3d2e0",
   "metadata": {},
   "outputs": [
    {
     "name": "stdout",
     "output_type": "stream",
     "text": [
      "Left Shift:\n",
      "4\n",
      "******************************************************************************************\n",
      "Left Shift:\n",
      "28\n"
     ]
    }
   ],
   "source": [
    "x = 1\n",
    "z = x << 2\n",
    "print(\"Left Shift:\")\n",
    "print(z)\n",
    "\n",
    "print(\"*\"*90)\n",
    "\n",
    "x = 7\n",
    "z = x << 2\n",
    "print(\"Left Shift:\")\n",
    "print(z)"
   ]
  },
  {
   "cell_type": "code",
   "execution_count": 214,
   "id": "0d8c7a3d",
   "metadata": {},
   "outputs": [
    {
     "name": "stdout",
     "output_type": "stream",
     "text": [
      "Right Shift:\n",
      "0\n",
      "Right Shift:\n",
      "1\n"
     ]
    }
   ],
   "source": [
    "x = 1\n",
    "z = x >> 2\n",
    "print(\"Right Shift:\")\n",
    "print(z)\n",
    "\n",
    "x = 7\n",
    "z = x >> 2\n",
    "print(\"Right Shift:\")\n",
    "print(z)"
   ]
  },
  {
   "cell_type": "code",
   "execution_count": 215,
   "id": "25686c7d",
   "metadata": {},
   "outputs": [
    {
     "name": "stdout",
     "output_type": "stream",
     "text": [
      "\n",
      " 0o7\n",
      "\n",
      " 0x7\n"
     ]
    }
   ],
   "source": [
    "print(\"\\n\",oct(x))\n",
    "print(\"\\n\",hex(x))"
   ]
  },
  {
   "cell_type": "markdown",
   "id": "48997689",
   "metadata": {},
   "source": [
    "## Conditional Statements & Loops"
   ]
  },
  {
   "cell_type": "markdown",
   "id": "8d4e8bbc",
   "metadata": {},
   "source": [
    "    Conditional statements :\n",
    "    1. if ... else\n",
    "    2. if ...elif...else\n",
    "    \n",
    "    loops :\n",
    "    3. while loop \n",
    "    4. for loops"
   ]
  },
  {
   "cell_type": "raw",
   "id": "ef44e5ef",
   "metadata": {},
   "source": [
    "syntax:\n",
    "       \n",
    "        if <condition> :\n",
    "            print(\"when condition is true\")\n",
    "            statement-1\n",
    "            statement-2\n",
    "            statement-3\n",
    "        else:\n",
    "            print(\"when condition is false\")\n",
    "            statement-1\n",
    "            statement-2\n",
    "            statement-3\n",
    "    "
   ]
  },
  {
   "cell_type": "code",
   "execution_count": 216,
   "id": "43e5092d",
   "metadata": {},
   "outputs": [
    {
     "name": "stdout",
     "output_type": "stream",
     "text": [
      "x is greater than y\n"
     ]
    }
   ],
   "source": [
    "# a>b\n",
    "x=100\n",
    "y=20\n",
    "\n",
    "# find largest number\n",
    "if x < y :\n",
    "    print('x is less than y')\n",
    "\n",
    "else:\n",
    "    print(\"x is greater than y\")"
   ]
  },
  {
   "cell_type": "code",
   "execution_count": 217,
   "id": "1ef01c5c",
   "metadata": {},
   "outputs": [
    {
     "name": "stdout",
     "output_type": "stream",
     "text": [
      "A is greater than B\n"
     ]
    }
   ],
   "source": [
    "# a>b, a==b, a<b\n",
    "\n",
    "a= 200\n",
    "b= 1.1\n",
    "\n",
    "if a<b:\n",
    "    print(\"A is smaller than B\")\n",
    "elif a>b:\n",
    "    print('A is greater than B')\n",
    "elif a!=b:\n",
    "    print(\"A and B are not equal\")\n",
    "elif a==b:\n",
    "    print('A and B are equal')\n",
    "else:\n",
    "    print('Other')"
   ]
  },
  {
   "cell_type": "code",
   "execution_count": 218,
   "id": "78893e0e",
   "metadata": {},
   "outputs": [
    {
     "name": "stdout",
     "output_type": "stream",
     "text": [
      "x is greater than y\n"
     ]
    }
   ],
   "source": [
    "x= 200\n",
    "y= 20\n",
    "\n",
    "if x<y:\n",
    "    print(\"y is greater than x\")\n",
    "elif x==y:\n",
    "    print('x and y are equal')\n",
    "else:\n",
    "    print('x is greater than y')"
   ]
  },
  {
   "cell_type": "code",
   "execution_count": 8,
   "id": "03d7a334",
   "metadata": {},
   "outputs": [],
   "source": [
    "# shaort hand(one line) if a > b: print(\"a is greater than b\")\n",
    "\n",
    "x = 100\n",
    "y = 90\n",
    "\n",
    "if y > x: print(\"y is greater number\")"
   ]
  },
  {
   "cell_type": "code",
   "execution_count": 9,
   "id": "6e6f6321",
   "metadata": {},
   "outputs": [
    {
     "name": "stdout",
     "output_type": "stream",
     "text": [
      "y is greater number\n"
     ]
    }
   ],
   "source": [
    "x = 100\n",
    "y = 900\n",
    "\n",
    "if y > x: print(\"y is greater number\")"
   ]
  },
  {
   "cell_type": "code",
   "execution_count": 221,
   "id": "371f478a",
   "metadata": {},
   "outputs": [
    {
     "name": "stdout",
     "output_type": "stream",
     "text": [
      "y is greater\n"
     ]
    }
   ],
   "source": [
    "# short hand(one line) if else print(\"A\") if a > b else print(\"B\") \n",
    "\n",
    "x = 10000\n",
    "y = 20000\n",
    "\n",
    "print(\"x is greater\") if x > y else print(\"y is greater\")"
   ]
  },
  {
   "cell_type": "code",
   "execution_count": 222,
   "id": "7e5f5cf7",
   "metadata": {},
   "outputs": [
    {
     "name": "stdout",
     "output_type": "stream",
     "text": [
      "Enter your percentage of marks :20\n",
      "Opps..! You are fail\n"
     ]
    }
   ],
   "source": [
    "# how to take input from user\n",
    "val = 99\n",
    "# val = input(\"Enter your percentage of marks :\")\n",
    "val_2 = float(val)\n",
    "if val_2 > 75:\n",
    "    print(\"You have ditinction...!\")\n",
    "elif val_2 > 60 and val_2 <= 75:\n",
    "    print(\"You have first class...!\")\n",
    "else:\n",
    "    print('Opps..! You are fail')"
   ]
  },
  {
   "cell_type": "code",
   "execution_count": 223,
   "id": "0732fc02",
   "metadata": {},
   "outputs": [
    {
     "name": "stdout",
     "output_type": "stream",
     "text": [
      "Number is equal to 150\n"
     ]
    }
   ],
   "source": [
    "# nested if .. else\n",
    "\n",
    "x = 150\n",
    "if x > 100:\n",
    "    if x > 150:\n",
    "        print(\"Number is greater than 100 and 150\")\n",
    "    elif x ==150:\n",
    "        print(\"Number is equal to 150\")\n",
    "    else:\n",
    "        print(\"number is greater than 100 and less than 150\")\n",
    "elif x == 100:\n",
    "    print(\"Number is equal to 100\")\n",
    "else:\n",
    "    print(\"Number is less than 100\")"
   ]
  },
  {
   "cell_type": "code",
   "execution_count": 224,
   "id": "213622bf",
   "metadata": {},
   "outputs": [],
   "source": [
    "# pass staement\n",
    "\n",
    "x = 10\n",
    "y = 20\n",
    "\n",
    "if y > x:\n",
    "    pass"
   ]
  },
  {
   "cell_type": "markdown",
   "id": "c1d4d14f",
   "metadata": {},
   "source": [
    "### while loop\n",
    "\n",
    "    The while loop is used when you don't know the number of times you want to execute the loop, but you know the condition under which you want to continue looping. It executes the loop body as long as a certain condition is true\n",
    "    \n",
    "    i = 0\n",
    "    while i < 5:\n",
    "        print(i)\n",
    "        i += 1\n"
   ]
  },
  {
   "cell_type": "markdown",
   "id": "fbc01e71",
   "metadata": {},
   "source": [
    "        syntax:\n",
    "                while (condition):\n",
    "                        statement-1\n",
    "                        statement-2\n",
    "                        statement-3"
   ]
  },
  {
   "cell_type": "code",
   "execution_count": 225,
   "id": "e9dd67f5",
   "metadata": {},
   "outputs": [
    {
     "name": "stdout",
     "output_type": "stream",
     "text": [
      "x : 1\n",
      "x : 2\n",
      "x : 3\n",
      "x : 4\n",
      "x : 5\n",
      "x : 6\n",
      "x : 7\n",
      "x : 8\n",
      "x : 9\n",
      "x : 10\n"
     ]
    }
   ],
   "source": [
    "# print series of numbers\n",
    "x = 1\n",
    "while x<=10:\n",
    "    print(\"x :\",x)\n",
    "    x = x + 1  # x += 1\n",
    "    "
   ]
  },
  {
   "cell_type": "code",
   "execution_count": 226,
   "id": "0d2fe4d1",
   "metadata": {},
   "outputs": [
    {
     "name": "stdout",
     "output_type": "stream",
     "text": [
      "1\n",
      "2\n",
      "3\n",
      "4\n",
      "5\n",
      "6\n",
      "7\n",
      "8\n",
      "9\n",
      "10\n"
     ]
    }
   ],
   "source": [
    "# break statement\n",
    "# >> break statement is a control statement used to exit a loop prematurely\n",
    "\n",
    "x=1\n",
    "while x <= 20:\n",
    "    print(x)\n",
    "    if x == 10:\n",
    "        break\n",
    "    x = x + 1 "
   ]
  },
  {
   "cell_type": "code",
   "execution_count": 92,
   "id": "f67fece3",
   "metadata": {},
   "outputs": [
    {
     "name": "stdout",
     "output_type": "stream",
     "text": [
      "0\n",
      "1\n",
      "2\n",
      "3\n",
      "4\n",
      "Continue operation done\n",
      "6\n",
      "7\n",
      "8\n",
      "Continue operation done\n",
      "10\n"
     ]
    }
   ],
   "source": [
    "# continue statement\n",
    "# used to skip perticular iteration and continue from next iteration\n",
    "\n",
    "x=0\n",
    "\n",
    "while x<=10:\n",
    "    \n",
    "    if x==5 or x==9:\n",
    "        x+=1\n",
    "        print(\"Continue operation done\")\n",
    "        continue\n",
    "        \n",
    "    print(x)\n",
    "    x+=1\n"
   ]
  },
  {
   "cell_type": "code",
   "execution_count": 238,
   "id": "754f5f65",
   "metadata": {},
   "outputs": [
    {
     "name": "stdout",
     "output_type": "stream",
     "text": [
      "1\n",
      "2\n",
      "3\n",
      "4\n",
      "5\n",
      "6\n",
      "7\n",
      "8\n",
      "9\n",
      "Continue operation done\n",
      "11\n",
      "12\n",
      "13\n",
      "14\n",
      "15\n",
      "16\n",
      "17\n",
      "18\n",
      "19\n",
      "20\n"
     ]
    }
   ],
   "source": [
    "x=1\n",
    "\n",
    "while x<=20:\n",
    "    \n",
    "    if x==10:\n",
    "        x+=1\n",
    "        print(\"Continue operation done\")\n",
    "        continue\n",
    "                \n",
    "    print(x)\n",
    "    x+=1"
   ]
  },
  {
   "cell_type": "code",
   "execution_count": 243,
   "id": "370345f3",
   "metadata": {},
   "outputs": [
    {
     "name": "stdout",
     "output_type": "stream",
     "text": [
      "0\n",
      "1\n",
      "2\n",
      "3\n",
      "4\n",
      "5\n",
      "6\n",
      "7\n",
      "8\n",
      "9\n",
      "10\n",
      "11\n",
      "12\n",
      "13\n",
      "14\n",
      "continue opeartion done\n",
      "16\n",
      "17\n",
      "18\n",
      "There is no more statement to execute\n"
     ]
    }
   ],
   "source": [
    "# else below while\n",
    "\n",
    "x = 0\n",
    "while x < 19:\n",
    "    \n",
    "    if x == 15:\n",
    "        x += 1\n",
    "        print(\"continue opeartion done\")\n",
    "        continue\n",
    "                \n",
    "    print(x)\n",
    "    x += 1\n",
    "    \n",
    "else:\n",
    "    print(\"There is no more statement to execute\")"
   ]
  },
  {
   "cell_type": "code",
   "execution_count": 248,
   "id": "1843feb7",
   "metadata": {},
   "outputs": [
    {
     "name": "stdout",
     "output_type": "stream",
     "text": [
      "['mango', 'cherry', 'papaya', 'bluberry', 'apple', 'banana']\n",
      "****************************************************************************************************\n",
      "while on List :\n",
      "mango\n",
      "cherry\n",
      "papaya\n",
      "bluberry\n",
      "apple\n",
      "banana\n"
     ]
    }
   ],
   "source": [
    "# while on list and tuple\n",
    "\n",
    "list1 = [\"mango\",\"cherry\",\"papaya\",\"bluberry\",\"apple\",\"banana\"]\n",
    "\n",
    "print(list1)\n",
    "print('*'*100)\n",
    "print(\"while on List :\")\n",
    "\n",
    "x = 0\n",
    "while x < len(list1):\n",
    "    print(list1[x])\n",
    "    x += 1"
   ]
  },
  {
   "cell_type": "code",
   "execution_count": 250,
   "id": "81ae1b91",
   "metadata": {},
   "outputs": [
    {
     "name": "stdout",
     "output_type": "stream",
     "text": [
      "['mango', 'cherry', 'papaya', 'bluberry', 'apple', 'banana']\n",
      "while on Tuple :\n",
      "mango\n",
      "cherry\n",
      "papaya\n",
      "bluberry\n",
      "apple\n",
      "banana\n"
     ]
    }
   ],
   "source": [
    "tup = [\"mango\",\"cherry\",\"papaya\",\"bluberry\",\"apple\",\"banana\"]\n",
    "\n",
    "print(tup)\n",
    "\n",
    "print(\"while on Tuple :\")\n",
    "\n",
    "x = 0\n",
    "while x < len(tup):\n",
    "    print(tup[x])\n",
    "    x += 1"
   ]
  },
  {
   "cell_type": "markdown",
   "id": "a02ac763",
   "metadata": {},
   "source": [
    "#### Foor loop\n",
    "\n",
    "    The for loop is used when you know the number of times you want to execute the loop. It iterates over a sequence of values, such as a list or a range of numbers, and executes the loop body for each value in the sequence.\n",
    "      \n",
    "      for i in range(5):\n",
    "          print(i)\n",
    "\n",
    "    for loop used to iterates over a list, tuple, set, dict and string"
   ]
  },
  {
   "cell_type": "code",
   "execution_count": 252,
   "id": "806b3621",
   "metadata": {},
   "outputs": [
    {
     "name": "stdout",
     "output_type": "stream",
     "text": [
      "['mango', 'cherry', 'papaya', 'bluberry', 'apple', 'banana']\n",
      "****************************************************************************************************\n",
      "for on list :\n",
      "mango\n",
      "cherry\n",
      "papaya\n",
      "bluberry\n",
      "apple\n",
      "banana\n"
     ]
    }
   ],
   "source": [
    "# list\n",
    "\n",
    "list1 = [\"mango\",\"cherry\",\"papaya\",\"bluberry\",\"apple\",\"banana\"]\n",
    "\n",
    "print(list1)\n",
    "print('*'*100)\n",
    "print(\"for on list :\")\n",
    "\n",
    "for x in list1:\n",
    "    print(x)"
   ]
  },
  {
   "cell_type": "code",
   "execution_count": 253,
   "id": "781b4502",
   "metadata": {},
   "outputs": [
    {
     "name": "stdout",
     "output_type": "stream",
     "text": [
      "This is pythoin\n",
      "for on str1:-\n",
      "T\n",
      "h\n",
      "i\n",
      "s\n",
      " \n",
      "i\n",
      "s\n",
      " \n",
      "p\n",
      "y\n",
      "t\n",
      "h\n",
      "o\n",
      "i\n",
      "n\n"
     ]
    }
   ],
   "source": [
    "# String\n",
    "\n",
    "str1 = \"This is pythoin\"\n",
    "\n",
    "print(str1)\n",
    "\n",
    "print(\"for on str1:-\")\n",
    "\n",
    "for x in str1:\n",
    "    print(x)\n",
    "  "
   ]
  },
  {
   "cell_type": "code",
   "execution_count": 254,
   "id": "309c77d1",
   "metadata": {},
   "outputs": [
    {
     "name": "stdout",
     "output_type": "stream",
     "text": [
      "('mango', 'cherry', 'papaya', 'bluberry', 'apple', 'banana')\n",
      "for on Tuple:-\n",
      "mango\n",
      "cherry\n",
      "papaya\n",
      "bluberry\n",
      "apple\n",
      "banana\n"
     ]
    }
   ],
   "source": [
    "# Tuple\n",
    "\n",
    "tup = (\"mango\",\"cherry\",\"papaya\",\"bluberry\",\"apple\",\"banana\")\n",
    "\n",
    "print(tup)\n",
    "\n",
    "print(\"for on Tuple:-\")\n",
    "\n",
    "for x in tup:\n",
    "    print(x)\n",
    "    "
   ]
  },
  {
   "cell_type": "code",
   "execution_count": 255,
   "id": "23e288ed",
   "metadata": {},
   "outputs": [
    {
     "name": "stdout",
     "output_type": "stream",
     "text": [
      "{'name': 'Nitn', 'mobile': 9975923975, 'address': 'sangola', 'job': 'Data', 'salary': 550000.2, 1: 10000}\n"
     ]
    }
   ],
   "source": [
    "# Dict\n",
    "\n",
    "dict1 = {\n",
    "    'name' : 'Nitn',\n",
    "    'mobile' : 9975923975,\n",
    "    'address' : 'sangola',\n",
    "    'job' : 'Data',\n",
    "    'salary' : 550000.20,\n",
    "    1 : 10000\n",
    "    \n",
    "}\n",
    "\n",
    "print(dict1)"
   ]
  },
  {
   "cell_type": "code",
   "execution_count": 256,
   "id": "590af301",
   "metadata": {},
   "outputs": [
    {
     "name": "stdout",
     "output_type": "stream",
     "text": [
      "for on dict printing keys:\n",
      "name\n",
      "mobile\n",
      "address\n",
      "job\n",
      "salary\n",
      "1\n"
     ]
    }
   ],
   "source": [
    "print(\"for on dict printing keys:\")\n",
    "for x in dict1:\n",
    "    print(x)\n",
    "    "
   ]
  },
  {
   "cell_type": "code",
   "execution_count": 257,
   "id": "d0469a24",
   "metadata": {},
   "outputs": [
    {
     "name": "stdout",
     "output_type": "stream",
     "text": [
      "for on dict printing keys:\n",
      "name\n",
      "mobile\n",
      "address\n",
      "job\n",
      "salary\n",
      "1\n"
     ]
    }
   ],
   "source": [
    "print(\"for on dict printing keys:\")\n",
    "for x in dict1.keys():\n",
    "    print(x)"
   ]
  },
  {
   "cell_type": "code",
   "execution_count": 258,
   "id": "1a269b09",
   "metadata": {},
   "outputs": [
    {
     "name": "stdout",
     "output_type": "stream",
     "text": [
      "for on dict printing values:\n",
      "Nitn\n",
      "9975923975\n",
      "sangola\n",
      "Data\n",
      "550000.2\n",
      "10000\n"
     ]
    }
   ],
   "source": [
    "print(\"for on dict printing values:\")\n",
    "for x in dict1.values():\n",
    "    print(x)"
   ]
  },
  {
   "cell_type": "code",
   "execution_count": 259,
   "id": "60025861",
   "metadata": {},
   "outputs": [
    {
     "name": "stdout",
     "output_type": "stream",
     "text": [
      "for on dict printing values:\n",
      "( name , Nitn )\n",
      "( mobile , 9975923975 )\n",
      "( address , sangola )\n",
      "( job , Data )\n",
      "( salary , 550000.2 )\n",
      "( 1 , 10000 )\n"
     ]
    }
   ],
   "source": [
    "print(\"for on dict printing values:\")\n",
    "for x,y in dict1.items():\n",
    "    print(\"(\",x,\",\",y,\")\")"
   ]
  },
  {
   "cell_type": "code",
   "execution_count": 260,
   "id": "1f33dba7",
   "metadata": {},
   "outputs": [
    {
     "name": "stdout",
     "output_type": "stream",
     "text": [
      "{'mango', 'papaya', 'cherry', 'banana', 'apple', 'bluberry'}\n",
      "for on set:-\n",
      "mango\n",
      "papaya\n",
      "cherry\n",
      "banana\n",
      "apple\n",
      "bluberry\n"
     ]
    }
   ],
   "source": [
    "# set\n",
    "\n",
    "set1 = {\"mango\",\"cherry\",\"papaya\",\"bluberry\",\"apple\",\"banana\"}\n",
    "\n",
    "print(set1)\n",
    "\n",
    "print(\"for on set:-\")\n",
    "\n",
    "for x in set1:  # randomly takes as per set property\n",
    "    print(x)"
   ]
  },
  {
   "cell_type": "markdown",
   "id": "a1b1d012",
   "metadata": {},
   "source": [
    "### range \n",
    "\n",
    "The range() function in Python is used to generate a sequence of numbers within a specified range. The function takes up to three arguments:\n",
    "range(start, stop, step)"
   ]
  },
  {
   "cell_type": "raw",
   "id": "36aa9575",
   "metadata": {},
   "source": [
    "returns a sequence of numbers , starting from 0 by default and increments by 1 (bydefault), and ends at a specified number"
   ]
  },
  {
   "cell_type": "code",
   "execution_count": 261,
   "id": "789a7a0d",
   "metadata": {},
   "outputs": [
    {
     "name": "stdout",
     "output_type": "stream",
     "text": [
      "0\n",
      "1\n",
      "2\n",
      "3\n",
      "4\n",
      "5\n",
      "6\n",
      "7\n",
      "8\n",
      "9\n"
     ]
    }
   ],
   "source": [
    "#for i in range(10):\n",
    "\n",
    "for i in range(10):\n",
    "    print(i)"
   ]
  },
  {
   "cell_type": "code",
   "execution_count": 262,
   "id": "d736e03b",
   "metadata": {},
   "outputs": [
    {
     "name": "stdout",
     "output_type": "stream",
     "text": [
      "20\n",
      "21\n",
      "22\n",
      "23\n",
      "24\n",
      "25\n",
      "26\n",
      "27\n",
      "28\n",
      "29\n"
     ]
    }
   ],
   "source": [
    "# range(20,30)- starting from 20, to 29, exclude 30\n",
    "\n",
    "for i in range(20,30):\n",
    "    print(i)"
   ]
  },
  {
   "cell_type": "code",
   "execution_count": 263,
   "id": "2ac9e8a4",
   "metadata": {},
   "outputs": [
    {
     "name": "stdout",
     "output_type": "stream",
     "text": [
      "100\n",
      "110\n",
      "120\n",
      "130\n",
      "140\n",
      "150\n",
      "160\n",
      "170\n",
      "180\n",
      "190\n"
     ]
    }
   ],
   "source": [
    "# range(10,100,5)\n",
    "\n",
    "for i in range(100,200,10):\n",
    "    print(i)"
   ]
  },
  {
   "cell_type": "code",
   "execution_count": 264,
   "id": "b4efe6fa",
   "metadata": {},
   "outputs": [
    {
     "name": "stdout",
     "output_type": "stream",
     "text": [
      "100\n",
      "110\n",
      "120\n",
      "130\n",
      "140\n",
      "150\n",
      "160\n",
      "170\n",
      "180\n",
      "190\n",
      "There is nothing to print in for now\n"
     ]
    }
   ],
   "source": [
    "# else in for\n",
    "\n",
    "for i in range(100,200,10):\n",
    "    print(i)\n",
    "else:\n",
    "    print(\"There is nothing to print in for now\")"
   ]
  },
  {
   "cell_type": "code",
   "execution_count": 265,
   "id": "4d5f310c",
   "metadata": {},
   "outputs": [
    {
     "name": "stdout",
     "output_type": "stream",
     "text": [
      "1 a\n",
      "1 b\n",
      "1 c\n",
      "2 a\n",
      "2 b\n",
      "2 c\n",
      "3 a\n",
      "3 b\n",
      "3 c\n"
     ]
    }
   ],
   "source": [
    "# take two list or tuples and use nested for loop\n",
    "\n",
    "list1 = [1, 2, 3]\n",
    "list2 = ['a', 'b', 'c']\n",
    "\n",
    "for i in list1:\n",
    "    for j in list2:\n",
    "        print(i, j)\n"
   ]
  },
  {
   "cell_type": "code",
   "execution_count": 271,
   "id": "0625263a",
   "metadata": {},
   "outputs": [
    {
     "name": "stdout",
     "output_type": "stream",
     "text": [
      "Removed every 3rd element from list : [1, 2, 4, 5, 7, 8]\n"
     ]
    }
   ],
   "source": [
    "# wrinting and removing every third element from a list\n",
    "\n",
    "my_list = [1, 2, 3, 4, 5, 6, 7, 8, 9]\n",
    "\n",
    "i = 2 # starting index for removal, since indices start at 0\n",
    "\n",
    "while i < len(my_list):\n",
    "    del my_list[i]\n",
    "    i += 2 # increment by 2 to skip the next element that was shifted left\n",
    "\n",
    "print(\"Removed every 3rd element from list :\",my_list)\n"
   ]
  },
  {
   "cell_type": "code",
   "execution_count": 10,
   "id": "8036d0ca",
   "metadata": {},
   "outputs": [
    {
     "name": "stdout",
     "output_type": "stream",
     "text": [
      "My list after removals: [1, 2, 4, 5, 7, 8, 10]\n",
      "Removed elements: [3, 6, 9]\n"
     ]
    }
   ],
   "source": [
    "my_list = [1, 2, 3, 4, 5, 6, 7, 8, 9, 10]\n",
    "\n",
    "i = 2 # starting index for removal, since indices start at 0\n",
    "\n",
    "removed = []\n",
    "\n",
    "while i < len(my_list):\n",
    "    removed.append(my_list.pop(i))\n",
    "    i += 2 # increment by 2 to skip the next element that was shifted left\n",
    "\n",
    "print(\"My list after removals:\", my_list)\n",
    "print(\"Removed elements:\", removed)\n"
   ]
  },
  {
   "cell_type": "markdown",
   "id": "9b9cad0a-dd91-4f38-bf14-128887778c9c",
   "metadata": {},
   "source": [
    "# OOP's"
   ]
  },
  {
   "cell_type": "markdown",
   "id": "550d3953",
   "metadata": {},
   "source": [
    "## 1. Function\n",
    "\n",
    "Function is a block of statement which will get executed when we call that function (Function is block of code that performs a perticular task)\n",
    "\n",
    "unless and untill when you call that function it will not perform perticular task\n"
   ]
  },
  {
   "cell_type": "raw",
   "id": "6a199fe4",
   "metadata": {},
   "source": [
    "syntax:\n",
    "\n",
    "def function_name():  # def is defination of function\n",
    "    statement-1\n",
    "    statement-2\n",
    "    statement-3"
   ]
  },
  {
   "cell_type": "code",
   "execution_count": 276,
   "id": "d4db99d5",
   "metadata": {},
   "outputs": [],
   "source": [
    "def display():\n",
    "    print(\"This is inside my function\")"
   ]
  },
  {
   "cell_type": "markdown",
   "id": "4e383671-a270-49ec-ad41-c45741ebff93",
   "metadata": {},
   "source": [
    "#### local variable and global variable"
   ]
  },
  {
   "cell_type": "code",
   "execution_count": 5,
   "id": "a5bc55fb-b0d8-4203-b09c-dc45131e0d26",
   "metadata": {},
   "outputs": [
    {
     "name": "stdout",
     "output_type": "stream",
     "text": [
      "local variable : 2000\n",
      "Global Variable : 1000\n",
      "Global variable after the function calling : 1000\n",
      "Local variable after the function calling : 1000\n"
     ]
    }
   ],
   "source": [
    "a = 1000 # global variable\n",
    "def display():\n",
    "    a = 2000 # local variable\n",
    "    print('local variable :',a)\n",
    "    print('Global Variable :',globals()['a'])\n",
    "\n",
    "display()\n",
    "print('Global variable after the function calling :',a)\n",
    "print('Local variable after the function calling :',a) # if same name will take global variable\n",
    "# print('Global variable after the function calling :',a) # if different name will through error"
   ]
  },
  {
   "cell_type": "markdown",
   "id": "763b7d3d",
   "metadata": {},
   "source": [
    "#### 1. Calling the function"
   ]
  },
  {
   "cell_type": "code",
   "execution_count": 277,
   "id": "6fd2fd1e",
   "metadata": {},
   "outputs": [
    {
     "name": "stdout",
     "output_type": "stream",
     "text": [
      "This is inside my function\n"
     ]
    }
   ],
   "source": [
    "# calling the function\n",
    "display()"
   ]
  },
  {
   "cell_type": "code",
   "execution_count": 278,
   "id": "5f7776b5",
   "metadata": {},
   "outputs": [
    {
     "name": "stdout",
     "output_type": "stream",
     "text": [
      "statement above function\n",
      "This is inside my function\n"
     ]
    }
   ],
   "source": [
    "print(\"statement above function\")\n",
    "\n",
    "def display():\n",
    "    print(\"This is inside my function\")\n",
    "\n",
    "display()"
   ]
  },
  {
   "cell_type": "code",
   "execution_count": 279,
   "id": "51f38329",
   "metadata": {},
   "outputs": [
    {
     "name": "stdout",
     "output_type": "stream",
     "text": [
      "Here this is normal execution block\n",
      "Calling my function\n",
      "I am inside the function..!\n",
      "Function execution is over\n"
     ]
    }
   ],
   "source": [
    "print('Here this is normal execution block')\n",
    "\n",
    "def Myfun():\n",
    "    print('I am inside the function..!')\n",
    "    \n",
    "print('Calling my function')\n",
    "Myfun()\n",
    "print('Function execution is over')"
   ]
  },
  {
   "cell_type": "code",
   "execution_count": 280,
   "id": "e9f22586",
   "metadata": {},
   "outputs": [
    {
     "name": "stdout",
     "output_type": "stream",
     "text": [
      "Enter 1st Number1000\n",
      "Enetr 2nd Number1000\n",
      "The addition is 2000\n"
     ]
    }
   ],
   "source": [
    "def add():\n",
    "    x = int(input(\"Enter 1st Number\"))\n",
    "    y = int(input(\"Enetr 2nd Number\"))\n",
    "    sum = x + y\n",
    "    print(\"The addition is\",sum)\n",
    "\n",
    "add()"
   ]
  },
  {
   "cell_type": "markdown",
   "id": "a95adb86",
   "metadata": {},
   "source": [
    "#### 2. Required Argument in function"
   ]
  },
  {
   "cell_type": "code",
   "execution_count": 283,
   "id": "5c9757ac",
   "metadata": {},
   "outputs": [
    {
     "name": "stdout",
     "output_type": "stream",
     "text": [
      "Digvijay\n",
      "Abhimanyu\n",
      "Shourya\n",
      "****************************************************************************************************\n",
      "Digvijay Mohite\n"
     ]
    }
   ],
   "source": [
    "# Argument in function\n",
    "\n",
    "def display(name): # argument = name\n",
    "    print(name)\n",
    "    \n",
    "display('Digvijay')\n",
    "display('Abhimanyu')\n",
    "display('Shourya')\n",
    "print('*'*100)\n",
    "\n",
    "myname='Digvijay Mohite'   \n",
    "display(myname)"
   ]
  },
  {
   "cell_type": "code",
   "execution_count": 285,
   "id": "44a1a258",
   "metadata": {},
   "outputs": [
    {
     "name": "stdout",
     "output_type": "stream",
     "text": [
      "enter first number9197.4734779\n",
      "enter second number84747.6574383\n",
      "The sum is : 93945.1309162\n"
     ]
    }
   ],
   "source": [
    "# passing two arguments to function\n",
    "\n",
    "def add(a,b):\n",
    "    addition=a+b\n",
    "    print('The sum is :',addition)\n",
    "    \n",
    "x = float(input('enter first number'))\n",
    "y = float(input('enter second number'))\n",
    "\n",
    "add(x,y)"
   ]
  },
  {
   "cell_type": "markdown",
   "id": "ef24437e",
   "metadata": {},
   "source": [
    "#### 3. return values"
   ]
  },
  {
   "cell_type": "code",
   "execution_count": 286,
   "id": "e94c3343",
   "metadata": {},
   "outputs": [
    {
     "name": "stdout",
     "output_type": "stream",
     "text": [
      "Do addition using function:\n",
      "Multiplication is : 10000\n"
     ]
    }
   ],
   "source": [
    "# return values\n",
    "\n",
    "def Mul(x,y):\n",
    "    res = x * y\n",
    "    return res # difference\n",
    "\n",
    "print(\"Do addition using function:\")\n",
    "a = 100\n",
    "b = 100\n",
    "\n",
    "result = Mul(a,b) # a is store in x / b is store in y\n",
    "print(\"Multiplication is :\",result)"
   ]
  },
  {
   "cell_type": "code",
   "execution_count": 291,
   "id": "16ac4871",
   "metadata": {},
   "outputs": [
    {
     "name": "stdout",
     "output_type": "stream",
     "text": [
      "Enter name :Digvi\n",
      "Enter surname :Mohite\n",
      "Enter 10th percentage :65.86\n",
      "Enter 12th percentage :74.73\n",
      "Enter mobile number :9175535381\n",
      "****************************************************************************************************\n",
      "Digvi \n",
      " Mohite \n",
      " 65.86 \n",
      " 74.73 \n",
      " 9175535381\n",
      "$$$$$$$$$$$$$$$$$$$$$$$$$$$$$$$$$$$$$$$$$$$$$$$$$$$$$$$$$$$$$$$$$$$$$$$$$$$$$$$$$$$$$$$$$$$$$$$$$$$$\n",
      "Enter name :sachin\n",
      "Enter surname :mohite\n",
      "Enter 10th percentage :70\n",
      "Enter 12th percentage :98\n",
      "Enter mobile number :987654321\n",
      "****************************************************************************************************\n",
      "sachin \n",
      " mohite \n",
      " 70.0 \n",
      " 98.0 \n",
      " 987654321\n",
      "$$$$$$$$$$$$$$$$$$$$$$$$$$$$$$$$$$$$$$$$$$$$$$$$$$$$$$$$$$$$$$$$$$$$$$$$$$$$$$$$$$$$$$$$$$$$$$$$$$$$\n",
      "Enter name :abhimanyu\n",
      "Enter surname :mohite\n",
      "Enter 10th percentage :888\n",
      "Enter 12th percentage :999\n",
      "Enter mobile number :65565631969\n",
      "****************************************************************************************************\n",
      "abhimanyu \n",
      " mohite \n",
      " 888.0 \n",
      " 999.0 \n",
      " 65565631969\n",
      "$$$$$$$$$$$$$$$$$$$$$$$$$$$$$$$$$$$$$$$$$$$$$$$$$$$$$$$$$$$$$$$$$$$$$$$$$$$$$$$$$$$$$$$$$$$$$$$$$$$$\n",
      "Enter name :shourya\n",
      "Enter surname :mohite\n",
      "Enter 10th percentage :977\n",
      "Enter 12th percentage :989\n",
      "Enter mobile number :996769769\n",
      "****************************************************************************************************\n",
      "shourya \n",
      " mohite \n",
      " 977.0 \n",
      " 989.0 \n",
      " 996769769\n",
      "$$$$$$$$$$$$$$$$$$$$$$$$$$$$$$$$$$$$$$$$$$$$$$$$$$$$$$$$$$$$$$$$$$$$$$$$$$$$$$$$$$$$$$$$$$$$$$$$$$$$\n",
      "Enter name :Atharv\n",
      "Enter surname :mohite\n",
      "Enter 10th percentage :889\n",
      "Enter 12th percentage :9887\n",
      "Enter mobile number :818872727\n",
      "****************************************************************************************************\n",
      "Atharv \n",
      " mohite \n",
      " 889.0 \n",
      " 9887.0 \n",
      " 818872727\n",
      "$$$$$$$$$$$$$$$$$$$$$$$$$$$$$$$$$$$$$$$$$$$$$$$$$$$$$$$$$$$$$$$$$$$$$$$$$$$$$$$$$$$$$$$$$$$$$$$$$$$$\n"
     ]
    }
   ],
   "source": [
    "def register_student():\n",
    "    name = input('Enter name :')\n",
    "    sname = input('Enter surname :')\n",
    "    tenth = float(input('Enter 10th percentage :'))\n",
    "    twelth = float(input('Enter 12th percentage :'))\n",
    "    mobile = int(input('Enter mobile number :'))\n",
    "    print('*'*100)\n",
    "    \n",
    "    print(name,\"\\n\",sname,\"\\n\",tenth,\"\\n\",twelth,\"\\n\",mobile)\n",
    "    print(\"$\"*100)\n",
    "    \n",
    "for i in range(0,5):\n",
    "    register_student()"
   ]
  },
  {
   "cell_type": "markdown",
   "id": "b41fffb6",
   "metadata": {},
   "source": [
    "###  4. Unknown Parameters\n",
    "    Sometimes there may be the case where you dont know the parameters\n",
    "    \"*\": indicates we dont know the parameters"
   ]
  },
  {
   "cell_type": "code",
   "execution_count": 11,
   "id": "01617972",
   "metadata": {},
   "outputs": [
    {
     "name": "stdout",
     "output_type": "stream",
     "text": [
      "This letter at 2nd loc is : ('A', 'B', 'C', 'D')\n",
      "The letter at 2nd loc is : D\n"
     ]
    }
   ],
   "source": [
    "# Unknown Parameters\n",
    "# Sometimes there may be the case where you dont know the parameters\n",
    "# \"*\": indicates we dont know the parameters\n",
    "\n",
    "def my_function(*letter):\n",
    "    print(\"This letter at 2nd loc is :\",letter)\n",
    "    print('The letter at 2nd loc is :',letter[3])\n",
    "    \n",
    "my_function('A','B','C','D')"
   ]
  },
  {
   "cell_type": "code",
   "execution_count": 14,
   "id": "3d0ec81a",
   "metadata": {},
   "outputs": [
    {
     "name": "stdout",
     "output_type": "stream",
     "text": [
      "('A', 'B', 'C')\n"
     ]
    }
   ],
   "source": [
    "def display(*letter):\n",
    "    print(letter)\n",
    "display('A','B','C')"
   ]
  },
  {
   "cell_type": "code",
   "execution_count": 15,
   "id": "5800b891",
   "metadata": {},
   "outputs": [
    {
     "name": "stdout",
     "output_type": "stream",
     "text": [
      "Printing all parameters : ('C', 'H', 'A', 'T', 'R', 'A', 'P', 'A', 'T', 'I')\n",
      "No of parameter are : 10\n",
      "C\n",
      "H\n",
      "A\n",
      "T\n",
      "R\n",
      "A\n",
      "P\n",
      "A\n",
      "T\n",
      "I\n"
     ]
    }
   ],
   "source": [
    "def display(*letter):\n",
    "    print('Printing all parameters :',letter)\n",
    "    l =len(letter)\n",
    "    print('No of parameter are :',l)\n",
    "    for x in letter:\n",
    "        print(x)\n",
    "        \n",
    "display('C','H','A','T','R','A','P','A','T','I')"
   ]
  },
  {
   "cell_type": "markdown",
   "id": "f52c3fe4",
   "metadata": {},
   "source": [
    "### 5. ARGUMENT AS KEY VALUE PAIR WHERE ORDER DOES NOT MATTER"
   ]
  },
  {
   "cell_type": "code",
   "execution_count": 17,
   "id": "c6080d90",
   "metadata": {},
   "outputs": [
    {
     "name": "stdout",
     "output_type": "stream",
     "text": [
      "The first youngest child is : Amey\n"
     ]
    }
   ],
   "source": [
    "# ARGUMENT AS KEY VALUE PAIR WHERE ORDER DOES NOT MATTER\n",
    "\n",
    "def my_function(child2,child1,child4,child3):\n",
    "    print('The first youngest child is :',child4)\n",
    "#     print('The sencond youngest child is:',child3)\n",
    "#     print('The third youngest child is:',child2)\n",
    "#     print('The fourth yougnest child is:',child1)\n",
    "    \n",
    "my_function(child4='Amey',child3='Abhimanyu',child2='Atharv',child1='Shourya')"
   ]
  },
  {
   "cell_type": "code",
   "execution_count": 18,
   "id": "0ccbd554",
   "metadata": {},
   "outputs": [
    {
     "name": "stdout",
     "output_type": "stream",
     "text": [
      "The third value is: 300\n"
     ]
    }
   ],
   "source": [
    "def display(val1,val3,val2):\n",
    "    print('The third value is:',val3)\n",
    "    \n",
    "display(val2=200,val3=300,val1=100)"
   ]
  },
  {
   "cell_type": "markdown",
   "id": "ddf39ad0",
   "metadata": {},
   "source": [
    "### 6. if dont know number of KEY-VALUE para then add ** before identifier"
   ]
  },
  {
   "cell_type": "code",
   "execution_count": 11,
   "id": "e1c187f0",
   "metadata": {},
   "outputs": [
    {
     "name": "stdout",
     "output_type": "stream",
     "text": [
      "His name is : {'fname': 'Sachin', 'lname': 'Mohite'}\n",
      "His last name is  Mohite\n"
     ]
    }
   ],
   "source": [
    "# if dont know number of para then add ** before identifier\n",
    "# \"**\" : indicate no. of para dont know\n",
    "\n",
    "def my_function(**name): \n",
    "    print('His name is :',name)\n",
    "    print(\"His last name is \",name['lname'])\n",
    "\n",
    "my_function(fname = \"Sachin\", lname = \"Mohite\") "
   ]
  },
  {
   "cell_type": "code",
   "execution_count": 6,
   "id": "b3e1e9e8-00d4-424f-97b4-b30091083af6",
   "metadata": {},
   "outputs": [
    {
     "name": "stdout",
     "output_type": "stream",
     "text": [
      "A: ABHI\n",
      "B: BABU\n",
      "C: CAMEL\n",
      "D: DIGVI\n",
      "E: EAGLE\n"
     ]
    }
   ],
   "source": [
    "def display(**letters):\n",
    "    for key, value in letters.items():\n",
    "        print(f\"{key}: {value}\")\n",
    "\n",
    "# Call the display function with keyword arguments\n",
    "display(A='ABHI', B='BABU', C='CAMEL', D='DIGVI', E='EAGLE')"
   ]
  },
  {
   "cell_type": "markdown",
   "id": "520451cf",
   "metadata": {},
   "source": [
    "### 7 Default value to parameter"
   ]
  },
  {
   "cell_type": "code",
   "execution_count": 24,
   "id": "d3c1e051",
   "metadata": {},
   "outputs": [
    {
     "name": "stdout",
     "output_type": "stream",
     "text": [
      "Alternate email of student :\n",
      "Alternate email is :  abc@gmail.com\n",
      "Alternate email is :  digvi@email.com\n"
     ]
    }
   ],
   "source": [
    "# Default value to parameter\n",
    "\n",
    "def AltEmail(email='default@email.com'):\n",
    "    print(\"Alternate email is : \",email)\n",
    "\n",
    "print(\"Alternate email of student :\")\n",
    "\n",
    "AltEmail(\"abc@gmail.com\")\n",
    "AltEmail('digvi@email.com')"
   ]
  },
  {
   "cell_type": "markdown",
   "id": "6b259871",
   "metadata": {},
   "source": [
    "### Lambda Function"
   ]
  },
  {
   "cell_type": "raw",
   "id": "a43586cc",
   "metadata": {},
   "source": [
    "1. lambda is a small anonymous function\n",
    "\n",
    "2. lambda function can take any number of arguments, but can only have one expression\n",
    "\n",
    "syntax: lambda arguments : expression\n",
    "    \n",
    "why lambda?\n",
    "\n",
    "Lambda is anonymous and small function but it is very powerful. we can know its power if we use it inside other function."
   ]
  },
  {
   "cell_type": "code",
   "execution_count": 25,
   "id": "bce1d41d",
   "metadata": {},
   "outputs": [
    {
     "name": "stdout",
     "output_type": "stream",
     "text": [
      "Square of 4 is: \n",
      "16\n",
      "Square of 10 is: \n"
     ]
    },
    {
     "data": {
      "text/plain": [
       "100"
      ]
     },
     "execution_count": 25,
     "metadata": {},
     "output_type": "execute_result"
    }
   ],
   "source": [
    "# example : a lambda function which takes an argument and returns a square of  that number \n",
    "\n",
    "square = lambda a: a ** 2\n",
    "\n",
    "print(\"Square of 4 is: \")\n",
    "print(square(4))\n",
    "\n",
    "print(\"Square of 10 is: \")\n",
    "square(10)"
   ]
  },
  {
   "cell_type": "code",
   "execution_count": 27,
   "id": "89800cd6",
   "metadata": {},
   "outputs": [
    {
     "name": "stdout",
     "output_type": "stream",
     "text": [
      "Add four numbers: 12,13,40 and 15 >> Sum is:\n"
     ]
    },
    {
     "data": {
      "text/plain": [
       "80"
      ]
     },
     "execution_count": 27,
     "metadata": {},
     "output_type": "execute_result"
    }
   ],
   "source": [
    "# Any number of arguments\n",
    "\n",
    "add = lambda a,b,c,d : a + b + c + d\n",
    "\n",
    "print(\"Add four numbers: 12,13,40 and 15 >> Sum is:\")\n",
    "\n",
    "add(12,13,40,15)"
   ]
  },
  {
   "cell_type": "raw",
   "id": "11deccce",
   "metadata": {},
   "source": [
    "# why lambda is powerful?"
   ]
  },
  {
   "cell_type": "code",
   "execution_count": 31,
   "id": "6c9fa10a",
   "metadata": {},
   "outputs": [
    {
     "name": "stdout",
     "output_type": "stream",
     "text": [
      "value of N is : 10\n",
      "value of N is : 5\n",
      "100\n",
      "value of N is : 10\n",
      "200\n"
     ]
    }
   ],
   "source": [
    "# why lambda is powerful?\n",
    "# >> use it lambda inside another function\n",
    "\n",
    "\n",
    "# lets understand that it is added with some other unknown number\n",
    "\n",
    "def myfun(n):\n",
    "    print('value of N is :',n)\n",
    "    \n",
    "    return (lambda a : a * n)\n",
    "\n",
    "# add 10 with other number which is unknown\n",
    "# myfunc(10) # this will not give any result as it will be multiplied with none\n",
    "# now call our lambda function inside other function\n",
    "\n",
    "myfun(10)\n",
    "\n",
    "otherfun = myfun(5)\n",
    "\n",
    "print(otherfun(20)) # 20*5\n",
    "\n",
    "# you can create calling function in many ways\n",
    "\n",
    "otherfun_1 = myfun(10)\n",
    "print(otherfun_1(20))  # 20*10"
   ]
  },
  {
   "cell_type": "code",
   "execution_count": 32,
   "id": "1389cf7a",
   "metadata": {},
   "outputs": [
    {
     "name": "stdout",
     "output_type": "stream",
     "text": [
      "find additon of three numbers : \n",
      "60\n"
     ]
    }
   ],
   "source": [
    "# any number of argumrnts\n",
    "\n",
    "add = lambda x,y,z : x+y+z\n",
    "\n",
    "print('find additon of three numbers : ')\n",
    "print(add(10,20,30))"
   ]
  },
  {
   "cell_type": "code",
   "execution_count": 34,
   "id": "51451d0d",
   "metadata": {},
   "outputs": [
    {
     "name": "stdout",
     "output_type": "stream",
     "text": [
      "double of number : 20\n",
      "tripple of number : 30\n"
     ]
    }
   ],
   "source": [
    "double = lambda x : x*2\n",
    "print(\"double of number :\",double(10))\n",
    "\n",
    "tripple = lambda y : y*3\n",
    "print(\"tripple of number :\",tripple(10))"
   ]
  },
  {
   "cell_type": "code",
   "execution_count": 38,
   "id": "d318abe3",
   "metadata": {},
   "outputs": [
    {
     "name": "stdout",
     "output_type": "stream",
     "text": [
      "The value of y: 2\n",
      "20\n"
     ]
    }
   ],
   "source": [
    "def fun(y):\n",
    "    print('The value of y:',y)\n",
    "    return (lambda x : x * y) \n",
    "\n",
    "double=fun(2)\n",
    "print(double(10))"
   ]
  },
  {
   "cell_type": "markdown",
   "id": "5930de8d",
   "metadata": {},
   "source": [
    "## 2. Class & Object"
   ]
  },
  {
   "cell_type": "raw",
   "id": "3d0d68a8",
   "metadata": {},
   "source": [
    "In python everything is object , which has its properties and methods/function\n",
    "\n",
    "python is object oriented programming language\n",
    "\n",
    "class is blue print of an object, from which objects can be created.\n",
    "\n",
    "syntax:\n",
    "        class ClassName:\n",
    "            class body"
   ]
  },
  {
   "cell_type": "raw",
   "id": "e968cf2f",
   "metadata": {},
   "source": [
    "class : \n",
    "            TE\n",
    "\n",
    "properties :\n",
    "\n",
    "            1. rollno\n",
    "            2. name\n",
    "            3. marks\n",
    "\n",
    "methods:\n",
    "\n",
    "            display()\n",
    "\n",
    "\n",
    "object:\n",
    "\n",
    "      o1 ::\n",
    "\n",
    "           name = Abhimanyu\n",
    "           rollno = 3\n",
    "           marks = 92\n",
    "       \n",
    "      o2 ::\n",
    "\n",
    "           name = Shourya\n",
    "           rollno = 14\n",
    "           marks = 90"
   ]
  },
  {
   "cell_type": "raw",
   "id": "f67f63ff",
   "metadata": {},
   "source": [
    "class : \n",
    "       Employee\n",
    "\n",
    "properties :\n",
    "            1. id\n",
    "            2. name\n",
    "            3. salary\n",
    "            4. department\n",
    "\n",
    "methods:\n",
    "        printsalary()\n",
    "        printPdetails()\n",
    "\n",
    "object:\n",
    "      o1 ::\n",
    "           id = 53545\n",
    "           name = DIGVIJAY\n",
    "           salary = 920000\n",
    "           department = DSS\n",
    "       \n",
    "      o2 ::\n",
    "           id = 54647\n",
    "           name = ABHIMANYU\n",
    "           salary = 900000\n",
    "           department = ML"
   ]
  },
  {
   "cell_type": "raw",
   "id": "95d08246",
   "metadata": {},
   "source": [
    "Features of OOP:\n",
    "1. Inheritance (data science purpose)\n",
    "2. Abstarction\n",
    "3. Polymorphism"
   ]
  },
  {
   "cell_type": "code",
   "execution_count": 45,
   "id": "3cc6b4e2",
   "metadata": {},
   "outputs": [
    {
     "name": "stdout",
     "output_type": "stream",
     "text": [
      "Digvijay\n",
      "****************************************************************************************************\n",
      "Digvijay\n"
     ]
    }
   ],
   "source": [
    "# create a class student\n",
    "class Stud:\n",
    "    name= \"Digvijay\"\n",
    "    \n",
    "# create a object of class student\n",
    "# n no of objects will be there in class\n",
    "\n",
    "s1= Stud()\n",
    "s=Stud()\n",
    "print(s1.name)\n",
    "print('*'*100)\n",
    "print(s.name)"
   ]
  },
  {
   "cell_type": "code",
   "execution_count": 47,
   "id": "24e1044c",
   "metadata": {},
   "outputs": [
    {
     "name": "stdout",
     "output_type": "stream",
     "text": [
      "Details of employee :\n",
      "ID : emp-1\n",
      "Name : John\n",
      "Salary : 20000\n"
     ]
    }
   ],
   "source": [
    "class employee:\n",
    "    eid='emp-1'\n",
    "    ename='John'\n",
    "    salary= 20000\n",
    "    \n",
    "# create object\n",
    "e =employee()\n",
    "print('Details of employee :')\n",
    "print('ID :',e.eid)\n",
    "print('Name :',e.ename)\n",
    "print('Salary :',e.salary)"
   ]
  },
  {
   "cell_type": "markdown",
   "id": "df08bd32",
   "metadata": {},
   "source": [
    "#### How the real class works\n",
    "\n",
    "##### **__init__() Function**\n",
    "\n",
    "         1. All classes will have a method called __init__()\n",
    "         2. This function gets called when an object is being created.\n",
    "         3. This function is used to assign the values to the properties of the class\n",
    "         4. It means that, we can do all operations which are neccessary to do \n",
    "            at the time of the object creation.\n",
    "         5. __init__() method get called automatiucally when an object is initiated\n",
    "\n",
    "\n",
    "#### methods in class\n",
    "\n",
    "##### self:\n",
    "        self is default parameter to be used to access the values in current object\n",
    "        we can give any name instead of the self but it has to be the 1st parameter"
   ]
  },
  {
   "cell_type": "code",
   "execution_count": 12,
   "id": "7db25385-46f9-4d29-8399-6bb710597c2c",
   "metadata": {},
   "outputs": [
    {
     "name": "stdout",
     "output_type": "stream",
     "text": [
      "The name is HARRY, salary is 900000 and role is Instructor\n",
      "The name is ROHAN, salary is 100000 and role is ML ENGINEER\n",
      "The name is HARRY, salary is 900000 and role is Instructor\n",
      "The name is ROHAN, salary is 100000 and role is ML ENGINEER\n"
     ]
    }
   ],
   "source": [
    "# self >>\n",
    "\n",
    "class Employee:\n",
    "    no_of_leaves = 10\n",
    "\n",
    "    def printdetails(self):\n",
    "        return f\"The name is {self.name}, salary is {self.salary} and role is {self.role}\"\n",
    "\n",
    "harry = Employee()\n",
    "harry.name = 'HARRY'\n",
    "harry.salary = 900000\n",
    "harry.role = 'Instructor'\n",
    "\n",
    "rohan = Employee()\n",
    "rohan.name = 'ROHAN'\n",
    "rohan.salary = 100000\n",
    "rohan.role = 'ML ENGINEER'\n",
    "\n",
    "print(harry.printdetails())\n",
    "print(rohan.printdetails())\n",
    "\n",
    "# __init__\n",
    "\n",
    "class Employee:\n",
    "    no_of_leaves = 10\n",
    "    def __init__(self,aname,asalary,arole):\n",
    "        self.name = aname # instance_name = argument_name\n",
    "        self.salary = asalary\n",
    "        self.role = arole\n",
    "\n",
    "    def printdetails(self):\n",
    "        return f\"The name is {self.name}, salary is {self.salary} and role is {self.role}\"\n",
    "\n",
    "\n",
    "harry = Employee('HARRY',900000,'Instructor')\n",
    "rohan = Employee('ROHAN',100000,'ML ENGINEER')\n",
    "\n",
    "print(harry.printdetails())\n",
    "print(rohan.printdetails())"
   ]
  },
  {
   "cell_type": "code",
   "execution_count": 1,
   "id": "b85ab171",
   "metadata": {},
   "outputs": [
    {
     "name": "stdout",
     "output_type": "stream",
     "text": [
      "Employee details are :\n",
      "ID : 45\n",
      "Name : Rohit\n",
      "Salary : 1050000\n",
      "Mobile : 123456789\n",
      "****************************************************************************************************\n",
      "Employee details are :\n",
      "ID : 18\n",
      "Name : Virat\n",
      "Salary : 1150000\n",
      "Mobile : 987654321\n",
      "****************************************************************************************************\n",
      "in this way we can take n no of object...!\n"
     ]
    }
   ],
   "source": [
    "class employee:\n",
    "    def __init__(self,id_1, name_1, salary_1, mobile_1):\n",
    "        self.id_1 = id_1\n",
    "        self.name_1 = name_1\n",
    "        self.salary_1 = salary_1\n",
    "        self.mobile_1 = mobile_1\n",
    "\n",
    "o1 = employee(45,\"Rohit\",1050000, 123456789)       \n",
    "        \n",
    "print('Employee details are :')\n",
    "print('ID :',o1.id_1)\n",
    "print('Name :',o1.name_1)\n",
    "print('Salary :',o1.salary_1)\n",
    "print('Mobile :',o1.mobile_1)\n",
    "\n",
    "print('*'*100)\n",
    "\n",
    "o2 = employee(18,\"Virat\",1150000, 987654321)      \n",
    "        \n",
    "print('Employee details are :')\n",
    "print('ID :',o2.id_1)\n",
    "print('Name :',o2.name_1)\n",
    "print('Salary :',o2.salary_1)\n",
    "print('Mobile :',o2.mobile_1)\n",
    "\n",
    "print('*'*100)\n",
    "\n",
    "print('in this way we can take n no of object...!')"
   ]
  },
  {
   "cell_type": "code",
   "execution_count": 56,
   "id": "0a04b3a8",
   "metadata": {},
   "outputs": [
    {
     "name": "stdout",
     "output_type": "stream",
     "text": [
      "Rohit : BE-ECE : 45\n",
      "Virat : BE-IT : 18\n",
      "Hardik : BE-Comp : 33\n"
     ]
    }
   ],
   "source": [
    "class Student:\n",
    "    def __init__(self, name, clas, rollno):\n",
    "        self.name = name\n",
    "        self.clas = clas\n",
    "        self.rollno = rollno\n",
    "\n",
    "k = Student(\"Rohit\",  \"BE-ECE\",   45) # object creation\n",
    "v = Student(\"Virat\",  \"BE-IT\",    18)\n",
    "n = Student(\"Hardik\", \"BE-Comp\", 33)\n",
    "\n",
    "print(k.name,\":\",k.clas,\":\", k.rollno)\n",
    "print(v.name,\":\",v.clas,\":\", v.rollno)\n",
    "print(n.name,\":\", n.clas, \":\",n.rollno)"
   ]
  },
  {
   "cell_type": "code",
   "execution_count": 70,
   "id": "23ea5187",
   "metadata": {},
   "outputs": [
    {
     "name": "stdout",
     "output_type": "stream",
     "text": [
      "Rahul's Details:\n",
      "Name of student is:  Rahul\n",
      "Clas of student is:  BE\n",
      "Roll No of the students:  13\n",
      "****************************************************************************************************\n",
      "Vaibhav Details:\n",
      "Name of student is:  Vaibhav\n",
      "Clas of student is:  BE-Mech\n",
      "Roll No of the students:  2\n"
     ]
    }
   ],
   "source": [
    "# methods in class\n",
    "# self:\n",
    "# self is default parameter to be used to access \n",
    "# the values in current object\n",
    "# we can give any name instead of the self but it has to be the 1st parameter\n",
    "\n",
    "\n",
    "class Student:\n",
    "    def __init__(self, nm, cls, rln):\n",
    "        self.name = nm\n",
    "        self.clas = cls\n",
    "        self.rollno = rln\n",
    "    \n",
    "    def Display(self):\n",
    "        print(\"Name of student is: \",self.name)\n",
    "        print(\"Clas of student is: \",self.clas)\n",
    "        print(\"Roll No of the students: \",self.rollno)\n",
    "\n",
    "  \n",
    "\n",
    "r = Student(\"Rahul\", \"BE\", 13)\n",
    "v = Student(\"Vaibhav\",\"BE-Mech\", 2)\n",
    "\n",
    "print(\"Rahul's Details:\")\n",
    "r.Display()\n",
    "\n",
    "print('*'*100)\n",
    "\n",
    "print(\"Vaibhav Details:\")\n",
    "v.Display()"
   ]
  },
  {
   "cell_type": "code",
   "execution_count": 68,
   "id": "58ceaf21",
   "metadata": {},
   "outputs": [
    {
     "name": "stdout",
     "output_type": "stream",
     "text": [
      "The first name is : Digvijay\n",
      "The last name is : Mohite\n",
      "****************************************************************************************************\n",
      "The first name is : Abhimanyu\n",
      "The last name is : Mohite\n",
      "****************************************************************************************************\n",
      "The first name is : Hindavi\n",
      "The last name is : Swaraj\n"
     ]
    }
   ],
   "source": [
    "class Student:\n",
    "    def __init__(self,fnm,lnm):\n",
    "        self.fname = fnm\n",
    "        self.lname = lnm\n",
    "        \n",
    "    def Display(self):\n",
    "        print('The first name is :',self.fname)\n",
    "        print('The last name is :',self.lname)\n",
    "    \n",
    "s=Student('Digvijay','Mohite')\n",
    "s.Display() # object.method()\n",
    "\n",
    "print('*'*100)\n",
    "\n",
    "s1=Student('Abhimanyu','Mohite')\n",
    "s1.Display()\n",
    "\n",
    "print('*'*100)\n",
    "\n",
    "s3=Student('Hindavi','Swaraj')\n",
    "s3.Display()"
   ]
  },
  {
   "cell_type": "code",
   "execution_count": 72,
   "id": "53c62693",
   "metadata": {},
   "outputs": [
    {
     "name": "stdout",
     "output_type": "stream",
     "text": [
      "Name of student is:  Rahul\n",
      "Clas of student is:  BE\n",
      "Roll No of the students:  13\n",
      "\n",
      "\n",
      "Calling Display from ChangeName():\n",
      " \n",
      "Name of student is:  Sai\n",
      "Clas of student is:  BE\n",
      "Roll No of the students:  13\n"
     ]
    }
   ],
   "source": [
    "# accessing values and modifying it\n",
    "\n",
    "class Student:\n",
    "    def __init__(self, name, clas, rollno):\n",
    "        self.name = name\n",
    "        self.clas = clas\n",
    "        self.rollno = rollno\n",
    "    \n",
    "    def Display(self):\n",
    "        print(\"Name of student is: \",self.name)\n",
    "        print(\"Clas of student is: \",self.clas)\n",
    "        print(\"Roll No of the students: \",self.rollno)\n",
    "      \n",
    "    \n",
    "    def ChangeName(self,ch_name):\n",
    "        self.name = ch_name\n",
    "        print(\"\\n\")\n",
    "        print(\"Calling Display from ChangeName():\\n \")\n",
    "        self.Display()\n",
    "\n",
    "  \n",
    "\n",
    "r = Student(\"Rahul\", \"BE\", 13)\n",
    "\n",
    "r.Display()\n",
    "\n",
    "r.ChangeName(\"Sai\") # name changed "
   ]
  },
  {
   "cell_type": "markdown",
   "id": "c8302960",
   "metadata": {},
   "source": [
    "## 3. Inheritance\n",
    "\n",
    "> Inheritance meance acquiring the properties of base class from derived class.\n",
    "> here the concept of inheritance meance acquiring the properties\n",
    "> > Types of Inheritance\n",
    "1. Single Inheritance\n",
    "2. Multiple Inheritance\n",
    "3. Multilevel Inheritance\n",
    "4. Hierarchical Inheritance\n",
    "5. Hybrid Inheritance"
   ]
  },
  {
   "cell_type": "code",
   "execution_count": 1,
   "id": "2f76ef6a-0759-4837-8527-977523ec159d",
   "metadata": {},
   "outputs": [
    {
     "name": "stdout",
     "output_type": "stream",
     "text": [
      "Child\n",
      "PARENT\n"
     ]
    }
   ],
   "source": [
    "# 1. Single Inheritance\n",
    "\n",
    "class Parent:\n",
    "    def display(self):\n",
    "        print('PARENT')\n",
    "\n",
    "class Child(Parent):\n",
    "    def show(self):\n",
    "        print('Child')\n",
    "\n",
    "obj = Child()\n",
    "obj.show() # Child\n",
    "obj.display() # Parent"
   ]
  },
  {
   "cell_type": "code",
   "execution_count": 2,
   "id": "63a66fb1-e3ce-4059-80ca-e489a47b6154",
   "metadata": {},
   "outputs": [
    {
     "name": "stdout",
     "output_type": "stream",
     "text": [
      "Child\n",
      "Father\n",
      "Mother\n"
     ]
    }
   ],
   "source": [
    "# 2. Multiple Inheritance\n",
    "\n",
    "class Father:\n",
    "    def fdisplay(self):\n",
    "        print('Father')\n",
    "\n",
    "class Mother:\n",
    "    def mdisplay(self):\n",
    "        print('Mother')\n",
    "\n",
    "class Child(Father, Mother):\n",
    "    def cdisplay(self):\n",
    "        print('Child')\n",
    "\n",
    "obj= Child()\n",
    "obj.cdisplay()\n",
    "obj.fdisplay()\n",
    "obj.mdisplay()"
   ]
  },
  {
   "cell_type": "code",
   "execution_count": 6,
   "id": "4259cea2-c94f-43fe-8993-68ea2bf8f2be",
   "metadata": {},
   "outputs": [
    {
     "name": "stdout",
     "output_type": "stream",
     "text": [
      "Grand_Father\n",
      "Father\n",
      "Child\n"
     ]
    }
   ],
   "source": [
    "# 3. Multilevel Inheritance\n",
    "\n",
    "class GrandFather:\n",
    "    def gdisplay(self):\n",
    "        print('Grand_Father')\n",
    "\n",
    "class Father(GrandFather):\n",
    "    def fdisplay(self):\n",
    "        print('Father')\n",
    "\n",
    "class Child(Father):\n",
    "    def cdisplay(self):\n",
    "        print('Child')\n",
    "\n",
    "obj= Child()\n",
    "obj.gdisplay()\n",
    "obj.fdisplay()\n",
    "obj.cdisplay()"
   ]
  },
  {
   "cell_type": "code",
   "execution_count": 9,
   "id": "c2b88302-badc-4948-a1f9-8734dbd29941",
   "metadata": {},
   "outputs": [
    {
     "name": "stdout",
     "output_type": "stream",
     "text": [
      "PARENT\n",
      "SON 1\n",
      "PARENT\n",
      "SON 2\n"
     ]
    }
   ],
   "source": [
    "# 4. Hierchical Inheritance\n",
    "\n",
    "class Parent:\n",
    "    def pdisplay(self):\n",
    "        print('PARENT')\n",
    "\n",
    "class Child1(Parent):\n",
    "    def c1display(self):\n",
    "        print('SON 1')\n",
    "\n",
    "class Child2(Parent):\n",
    "    def c2display(self):\n",
    "        print('SON 2')\n",
    "\n",
    "obj1= Child1()\n",
    "obj1.pdisplay()\n",
    "obj1.c1display()\n",
    "\n",
    "obj2= Child2()\n",
    "obj2.pdisplay()\n",
    "obj2.c2display()"
   ]
  },
  {
   "cell_type": "raw",
   "id": "93a63ca6",
   "metadata": {},
   "source": [
    "Inheritance is a fundamental concept in object-oriented programming (OOP) that allows a class to inherit properties and behaviors from another class.\n",
    "\n",
    "parent / Base class :\n",
    "It is the class which gets inherited\n",
    "\n",
    "Derived / child class :\n",
    "It is the class which inherits properties from other class or parent class\n",
    "\n",
    "class Parent:\n",
    "            name\n",
    "            mobile\n",
    "            address\n",
    "            email\n",
    "\n",
    "class kidz(Parent):\n",
    "            "
   ]
  },
  {
   "cell_type": "code",
   "execution_count": 75,
   "id": "c2ff10ab",
   "metadata": {},
   "outputs": [
    {
     "name": "stdout",
     "output_type": "stream",
     "text": [
      "Sachin\n",
      "Tendulkar\n"
     ]
    }
   ],
   "source": [
    "# Base class \n",
    "\n",
    "class Person:\n",
    "    def __init__(self,fname,lname):\n",
    "        self.fname=fname\n",
    "        self.lname=lname\n",
    "        \n",
    "    def Display(self):\n",
    "        print('First Name :',self.fname)\n",
    "        print('Last Name :',self.lname)\n",
    "        \n",
    "o1=Person('Sachin','Tendulkar')\n",
    "print(o1.fname)\n",
    "print(o1.lname)"
   ]
  },
  {
   "cell_type": "code",
   "execution_count": 76,
   "id": "0e86c738",
   "metadata": {},
   "outputs": [
    {
     "name": "stdout",
     "output_type": "stream",
     "text": [
      "First Name : Rahul\n",
      "Last Name : Dravid\n"
     ]
    }
   ],
   "source": [
    "# child class\n",
    "class Student(Person):\n",
    "    pass\n",
    "\n",
    "s = Student(\"Rahul\",\"Dravid\")\n",
    "\n",
    "s.Display()"
   ]
  },
  {
   "cell_type": "code",
   "execution_count": 2,
   "id": "c6ee960b",
   "metadata": {},
   "outputs": [
    {
     "name": "stdout",
     "output_type": "stream",
     "text": [
      "First Name : Sunil\n",
      "Last Name  : Gavaskar\n"
     ]
    }
   ],
   "source": [
    "class person:\n",
    "    def __init__(self,fnm,lnm):\n",
    "        self.fname=fnm\n",
    "        self.lname=lnm\n",
    "        \n",
    "    def Display(self):\n",
    "        print('First Name :',self.fname)\n",
    "        print('Last Name  :',self.lname)\n",
    "        \n",
    "class Student(person):\n",
    "    pass\n",
    "\n",
    "s=Student('Sunil','Gavaskar')\n",
    "s.Display() # child class inherit properties of person class"
   ]
  },
  {
   "cell_type": "code",
   "execution_count": 4,
   "id": "364f527c",
   "metadata": {},
   "outputs": [
    {
     "name": "stdout",
     "output_type": "stream",
     "text": [
      "First Name : Virat\n",
      "Last Name : Kolhi\n",
      "Address : Delhi\n"
     ]
    }
   ],
   "source": [
    "# example\n",
    "# Base class \n",
    "class Person:\n",
    "    def __init__(self,fname,lname,addr):\n",
    "        self.first_name=fname\n",
    "        self.last_name=lname\n",
    "        self.address=addr\n",
    "        \n",
    "    def personDisplay(self):\n",
    "        print('First Name :',self.first_name)\n",
    "        print('Last Name :',self.last_name)\n",
    "        print('Address :',self.address)\n",
    "        \n",
    "# obj=Person('MS','Dhoni','Zarkhand')\n",
    "# obj.Display()\n",
    "\n",
    "class Employee(Person):\n",
    "    def __init__(self,fname,lname,addr,id1):\n",
    "        self.first_name=fname\n",
    "        self.last_name=lname\n",
    "        self.address=addr\n",
    "        self.eid=id1\n",
    "    # overriding the base class method   \n",
    "    \n",
    "    def childDisplay(self):\n",
    "        print('First Name :',self.first_name)\n",
    "        print('Last Name :',self.last_name)\n",
    "        print('Address :',self.address)\n",
    "        print('Employee ID :',self.eid)\n",
    "        \n",
    "        \n",
    "e = Employee('Virat','Kolhi','Delhi',18)\n",
    "e.personDisplay()"
   ]
  },
  {
   "cell_type": "code",
   "execution_count": 5,
   "id": "db6daeef",
   "metadata": {},
   "outputs": [
    {
     "name": "stdout",
     "output_type": "stream",
     "text": [
      "Accessing through paratent class:\n",
      "Player Name: Rohit\n",
      "Team Name : Mumbai Indians\n",
      "City Name : Mumbai\n",
      "....................................................................................................\n",
      "Accessing parent through child class:\n",
      "Player Name: Rohit\n",
      "Team Name : Mumbai Indians\n",
      "City Name : Mumbai\n",
      "....................................................................................................\n",
      "Accessing child through child class:\n",
      "Player Name: Rohit\n",
      "Team Name : Mumbai Indians\n",
      "City Name : Mumbai\n",
      "Jersey Number: 45\n"
     ]
    }
   ],
   "source": [
    "class base:\n",
    "    \n",
    "    def __init__(self,name,team,city):\n",
    "        self.name=name\n",
    "        self.team=team\n",
    "        self.city=city\n",
    "        \n",
    "    def pdisplay(self):\n",
    "        print('Player Name:',self.name)\n",
    "        print('Team Name :',self.team)\n",
    "        print('City Name :',self.city)\n",
    "        \n",
    "class child(base):\n",
    "    \n",
    "    def __init__(self,name,team,city,jersey):\n",
    "        self.name=name\n",
    "        self.team=team\n",
    "        self.city=city\n",
    "        self.jersey=jersey\n",
    "        \n",
    "    def cdisplay(self):\n",
    "        print('Player Name:',self.name)\n",
    "        print('Team Name :',self.team)\n",
    "        print('City Name :',self.city)\n",
    "        print('Jersey Number:',self.jersey)\n",
    "        \n",
    "\n",
    "print('Accessing through paratent class:')    \n",
    "obj=base('Rohit','Mumbai Indians','Mumbai')\n",
    "obj.pdisplay()\n",
    "\n",
    "print('.'*100)\n",
    "\n",
    "print('Accessing parent through child class:')    \n",
    "obj=child('Rohit','Mumbai Indians','Mumbai',45)\n",
    "obj.pdisplay()\n",
    "\n",
    "print('.'*100)\n",
    "\n",
    "print('Accessing child through child class:')    \n",
    "obj=child('Rohit','Mumbai Indians','Mumbai',45)\n",
    "obj.cdisplay()"
   ]
  },
  {
   "cell_type": "code",
   "execution_count": 89,
   "id": "da04c6ac",
   "metadata": {},
   "outputs": [
    {
     "name": "stdout",
     "output_type": "stream",
     "text": [
      "First Name : Hardik\n",
      "Last Name : Pandya\n",
      "Address : Gujarat\n",
      "Employee ID : 33\n",
      "Grade : A\n"
     ]
    }
   ],
   "source": [
    "# Add other properties to child class\n",
    "\n",
    "class Student(Person):\n",
    "      def __init__(self, fname, lname, addr,id1,grd):\n",
    "        Person.__init__(self, fname, lname,addr)\n",
    "        self.eid = id1\n",
    "        self.grade =grd\n",
    "        \n",
    "      def Display(self):\n",
    "        print('First Name :',self.first_name)\n",
    "        print('Last Name :',self.last_name)\n",
    "        print('Address :',self.address)\n",
    "        print('Employee ID :',self.eid)\n",
    "        print('Grade :',self.grade)\n",
    "    \n",
    "s1 = Student(\"Hardik\", \"Pandya\", \"Gujarat\",33,'A')\n",
    "s1.Display()"
   ]
  },
  {
   "cell_type": "markdown",
   "id": "7fcf2d97-80a9-4b52-9032-ecf7b45f0d9e",
   "metadata": {},
   "source": [
    "## 4. Encapsulation\n",
    "\n",
    "> Wrapping up data & functions into an single entity\n",
    "\n",
    "> Restricting the scope of variables and methods to this peticular class through \"access specifiers\" (method name, variable naame)\n",
    "\n",
    "> Access Specifiers :\n",
    "  >> 1. Public (default) , 2. Private  "
   ]
  },
  {
   "cell_type": "code",
   "execution_count": 18,
   "id": "0a92f544-023e-4283-9d5e-554c5bba7c88",
   "metadata": {},
   "outputs": [
    {
     "name": "stdout",
     "output_type": "stream",
     "text": [
      "10\n",
      "Wel-Come\n"
     ]
    }
   ],
   "source": [
    "# Public (default)\n",
    "class Encap:\n",
    "    a=10\n",
    "    def display(self):\n",
    "        print('Wel-Come')\n",
    "\n",
    "obj = Encap()\n",
    "print(obj.a)\n",
    "obj.display()"
   ]
  },
  {
   "cell_type": "code",
   "execution_count": null,
   "id": "da3bb58f-b0fb-47ec-8835-a15ff2ce0628",
   "metadata": {},
   "outputs": [],
   "source": [
    "# Private\n",
    "class Encap:\n",
    "    __a=10\n",
    "    def __display(self):\n",
    "        print('Wel-Come')\n",
    "\n",
    "obj = Encap()\n",
    "print(obj.a) # AttributeError: 'Encap' object has no attribute 'a'\n",
    "obj.display() # AttributeError: 'Encap' object has no attribute 'display'"
   ]
  },
  {
   "cell_type": "markdown",
   "id": "c0284cd4-2494-4e43-be98-af0f008f1d09",
   "metadata": {},
   "source": [
    "## 5. Abstarct Class & Abstract Method\n",
    "\n",
    "> Abstract meance hiding the something i.e hiding the actual implementation and showing the essential part\n",
    "\n",
    "##### Abstarct Method : The method in which having only declaration but not he defination is called *abstarct method*\n",
    "\n",
    "##### Abstarct Class : If any class having abstarct methods then that class will automatically as abstarct class.\n",
    "\n",
    "##### Concrete Class : The class without any abstarct methods\n",
    "\n",
    "## Note : Object can't be created for aabstarct class, the object can only be created for concrete class\n",
    "> "
   ]
  },
  {
   "cell_type": "code",
   "execution_count": 28,
   "id": "75075a30-dca3-420f-9154-78cee9e85e4d",
   "metadata": {},
   "outputs": [
    {
     "name": "stdout",
     "output_type": "stream",
     "text": [
      "ABSTRACT METHOD\n"
     ]
    }
   ],
   "source": [
    "from abc import ABC, abstractmethod\n",
    "\n",
    "class AbstractDemo(ABC):\n",
    "    @ abstractmethod\n",
    "    def display(self):\n",
    "        None\n",
    "\n",
    "class Demo(AbstractDemo):\n",
    "    def display(self):\n",
    "        print(\"ABSTRACT METHOD\")\n",
    "\n",
    "# HERE WE CANT CREATE OBJECT FOR ABSTRACTCLASS BUT WE CAN CREATE OBJECT FOR CONCRETE CLASS\n",
    "\n",
    "obj = Demo()\n",
    "obj.display() # display method is overwriten in concrete class"
   ]
  },
  {
   "cell_type": "code",
   "execution_count": 27,
   "id": "3ad9352e-9d15-416d-addd-a835b339e968",
   "metadata": {},
   "outputs": [
    {
     "name": "stdout",
     "output_type": "stream",
     "text": [
      "42\n"
     ]
    }
   ],
   "source": [
    "from abc import ABC, abstractmethod\n",
    "\n",
    "class Shape(ABC):\n",
    "    @abstractmethod\n",
    "    def print_area(self):\n",
    "        return 0\n",
    "\n",
    "class Reactangle(Shape):\n",
    "    def __init__(self,asize,abreadth):\n",
    "        self.size = asize\n",
    "        self.breadth = abreadth\n",
    "\n",
    "    def print_area(self):\n",
    "        return self.size * self.breadth\n",
    "\n",
    "obj = Reactangle(6,7)\n",
    "print(obj.print_area()) \n",
    "        "
   ]
  },
  {
   "cell_type": "markdown",
   "id": "4d72a372-a527-46d5-98a3-39805fbf38ae",
   "metadata": {},
   "source": [
    "## 6. Polymorphisam\n",
    "\n",
    "> Polymorphisam meance implementing same thing in different way, e.g one person doing different work\n",
    "> Two Types\n",
    ">> 1. Overloading Method\n",
    "\n",
    ">> 2. Overriding Method"
   ]
  },
  {
   "cell_type": "code",
   "execution_count": 36,
   "id": "26284dd6-7446-4467-9b82-ee683b262058",
   "metadata": {},
   "outputs": [
    {
     "name": "stdout",
     "output_type": "stream",
     "text": [
      "None None\n",
      "10 None\n",
      "100 200\n"
     ]
    }
   ],
   "source": [
    "# 1. Overloading Method\n",
    "\n",
    "class moverload:\n",
    "    def display11(self,a=None,b=None):\n",
    "        print(a,b)\n",
    "\n",
    "obj = moverload()\n",
    "obj.display11()\n",
    "obj.display11(10,)\n",
    "obj.display11(100,200)"
   ]
  },
  {
   "cell_type": "code",
   "execution_count": 39,
   "id": "1d9496cb-b46b-4df2-ac24-6046cc27cf12",
   "metadata": {},
   "outputs": [
    {
     "name": "stdout",
     "output_type": "stream",
     "text": [
      "CYCLE\n"
     ]
    }
   ],
   "source": [
    "# 2. Overriding Method\n",
    "\n",
    "class Father:\n",
    "    def Transfortation(self):\n",
    "        print('CYCLE')\n",
    "\n",
    "obj=Father()\n",
    "obj.Transfortation()"
   ]
  },
  {
   "cell_type": "code",
   "execution_count": 40,
   "id": "b82eb64e-a2c3-49f5-9047-85036f0e1172",
   "metadata": {},
   "outputs": [
    {
     "name": "stdout",
     "output_type": "stream",
     "text": [
      "BIKE\n"
     ]
    }
   ],
   "source": [
    "class Son:\n",
    "    def Transfortation(self):\n",
    "        print('BIKE')\n",
    "\n",
    "obj=Son()\n",
    "obj.Transfortation()"
   ]
  },
  {
   "cell_type": "code",
   "execution_count": 46,
   "id": "c1ead684-de09-4f42-b042-344bd8c7aa24",
   "metadata": {},
   "outputs": [
    {
     "name": "stdout",
     "output_type": "stream",
     "text": [
      "CYCLE\n"
     ]
    }
   ],
   "source": [
    "class Father:\n",
    "    def Transfortation(self):\n",
    "        print('CYCLE')\n",
    "\n",
    "class Son(Father):\n",
    "    pass\n",
    "\n",
    "obj = Son()\n",
    "obj.Transfortation() # son overides the cycle to bike"
   ]
  },
  {
   "cell_type": "code",
   "execution_count": 48,
   "id": "b6be2f0b-cc50-4fc7-82ba-97d515954dc5",
   "metadata": {},
   "outputs": [
    {
     "name": "stdout",
     "output_type": "stream",
     "text": [
      "BIKE\n"
     ]
    }
   ],
   "source": [
    "class Father:\n",
    "    def Transfortation(self):\n",
    "        print('CYCLE')\n",
    "\n",
    "class Son(Father):\n",
    "    def Transfortation(self):\n",
    "        print('BIKE')\n",
    "\n",
    "obj = Son()\n",
    "obj.Transfortation() # Son overides the cycle to bike"
   ]
  },
  {
   "cell_type": "markdown",
   "id": "984a3bc6",
   "metadata": {},
   "source": [
    "### Python Iterator"
   ]
  },
  {
   "cell_type": "raw",
   "id": "9d3a7e19",
   "metadata": {},
   "source": [
    "Iterator are used to traverse the iterables: like List, Tuple, Set and Dictionary, string\n",
    "    \n",
    "Iterable has countable number of values\n",
    "\n",
    "Iterable are used to traverse through the values one by one\n",
    "\n",
    "It has two methods :\n",
    "                    __iter__\n",
    "                    __next__\n",
    "                  \n",
    "iter() method is used to get an iterator over iterable like string, list , tuple , set and dictionary"
   ]
  },
  {
   "cell_type": "code",
   "execution_count": 90,
   "id": "78535c74",
   "metadata": {},
   "outputs": [
    {
     "name": "stdout",
     "output_type": "stream",
     "text": [
      "<class 'tuple'>\n",
      "10\n",
      "20\n",
      "30\n"
     ]
    }
   ],
   "source": [
    "# example of list \n",
    "tup = (10,20,30,40,50)\n",
    "\n",
    "print(type(tup))\n",
    "itr = iter(tup) # create an iterator object\n",
    "\n",
    "print(next(itr))\n",
    "print(next(itr))\n",
    "print(next(itr))"
   ]
  },
  {
   "cell_type": "code",
   "execution_count": 91,
   "id": "73d6de59",
   "metadata": {},
   "outputs": [
    {
     "name": "stdout",
     "output_type": "stream",
     "text": [
      "<class 'list'>\n",
      "10\n",
      "20\n",
      "30\n"
     ]
    }
   ],
   "source": [
    "list1 = [10,20,30,40,50]\n",
    "\n",
    "print(type(list1))\n",
    "\n",
    "itr = iter(list1) # create an iterator object\n",
    "\n",
    "print(next(itr))\n",
    "print(next(itr))\n",
    "print(next(itr))"
   ]
  },
  {
   "cell_type": "code",
   "execution_count": 96,
   "id": "79a2a4f1",
   "metadata": {},
   "outputs": [
    {
     "name": "stdout",
     "output_type": "stream",
     "text": [
      "I\n",
      " \n",
      "l\n",
      "o\n",
      "v\n",
      "e\n",
      "****************************************************************************************************\n",
      "Iterations using for loop:\n",
      "\n",
      "I\n",
      " \n",
      "l\n",
      "o\n",
      "v\n",
      "e\n",
      " \n",
      "p\n",
      "y\n",
      "t\n",
      "h\n",
      "o\n",
      "n\n"
     ]
    }
   ],
   "source": [
    "# Iterator on string\n",
    "\n",
    "string = \"I love python\"\n",
    "\n",
    "itr = iter(string)\n",
    "\n",
    "print(next(itr))\n",
    "print(next(itr))\n",
    "print(next(itr))\n",
    "print(next(itr))\n",
    "print(next(itr))\n",
    "print(next(itr))\n",
    "\n",
    "print('*'*100)\n",
    "# for loop\n",
    "print(\"Iterations using for loop:\\n\")\n",
    "for x in string:\n",
    "    print(x)"
   ]
  },
  {
   "cell_type": "code",
   "execution_count": 97,
   "id": "9ac11d93",
   "metadata": {},
   "outputs": [
    {
     "name": "stdout",
     "output_type": "stream",
     "text": [
      "10\n",
      "20\n",
      "30\n",
      "40\n",
      "50\n",
      "60\n"
     ]
    }
   ],
   "source": [
    "# loop on iterables like list\n",
    "# for loop internally creates an iterator object and then \n",
    "# it traverse using that object\n",
    "list1 = [10,20,30,40,50,60]\n",
    "\n",
    "for x in list1:\n",
    "    print(x)"
   ]
  },
  {
   "cell_type": "markdown",
   "id": "2647f27c",
   "metadata": {},
   "source": [
    "###### How does for loop work on iterables"
   ]
  },
  {
   "cell_type": "code",
   "execution_count": 3,
   "id": "02380ff1",
   "metadata": {},
   "outputs": [],
   "source": [
    "# use for loop for demonstration of __iter__() and __next()__\n",
    "\n",
    "# Problem Under Consideration\n",
    "# print a series of numbers from 1\n",
    "\n",
    "class Counter:\n",
    "    def __iter__(self):\n",
    "        self.val = 1\n",
    "        return self\n",
    "    \n",
    "    \n",
    "    def __next__(self):\n",
    "        x = self.val\n",
    "        self.val += 1\n",
    "        \n",
    "        if x == 21:\n",
    "            raise StopIteration # StopIteration method will stop to our iteration\n",
    "        return x\n",
    "\n",
    "counter = Counter()\n",
    "\n",
    "itr = iter(counter)\n",
    "\n",
    "# for x in itr:\n",
    "#     print(x)"
   ]
  },
  {
   "cell_type": "markdown",
   "id": "e2d0ce26",
   "metadata": {},
   "source": [
    "### Python scope of Variable"
   ]
  },
  {
   "cell_type": "markdown",
   "id": "dcc2b61c",
   "metadata": {},
   "source": [
    "##### Types of variables are :\n",
    "                        \n",
    "    1. Local Variable : A local variable is a variable that is declared inside a function or a block of code. It can only be accessed within that function or block of code and is destroyed when the function or block of code ends. Local variables are useful when you only need to use the variable within a specific part of the program and don't want to clutter up the rest of the code.\n",
    "                       \n",
    "    2. Global Variable : A global variable is a variable that is declared outside of any function or block of code. It can be accessed from anywhere in the program, including inside functions or blocks of code. Global variables are useful when you need to use the same variable in multiple parts of the program"
   ]
  },
  {
   "cell_type": "code",
   "execution_count": 9,
   "id": "e2833e75",
   "metadata": {},
   "outputs": [
    {
     "name": "stdout",
     "output_type": "stream",
     "text": [
      "local variable inside function : 9\n",
      "Local variable outside the function : Not possible because \"NameError: name x is not defined \"\n"
     ]
    }
   ],
   "source": [
    "# Example of local variable\n",
    "\n",
    "def my_function():\n",
    "    x = 9 # local variable\n",
    "    print('local variable inside function :',x)\n",
    "    \n",
    "my_function()\n",
    "print('Local variable outside the function : Not possible because \"NameError: name x is not defined \"')"
   ]
  },
  {
   "cell_type": "code",
   "execution_count": 10,
   "id": "e2f41a2d",
   "metadata": {},
   "outputs": [
    {
     "name": "stdout",
     "output_type": "stream",
     "text": [
      "Global variable inside the function : 1000\n",
      "Global variable outside the function : 1000\n"
     ]
    }
   ],
   "source": [
    "# Example of global variable (defined outside the function)\n",
    "global x\n",
    "x = 1000\n",
    "\n",
    "def my_function2():\n",
    "    print('Global variable inside the function :',x)\n",
    "    \n",
    "my_function2()\n",
    "print('Global variable outside the function :',x)"
   ]
  },
  {
   "cell_type": "code",
   "execution_count": 7,
   "id": "4f5b1e04",
   "metadata": {},
   "outputs": [
    {
     "name": "stdout",
     "output_type": "stream",
     "text": [
      "Global variable inside the my_function2 : 9000\n",
      "Global variable outside the function : 9000\n",
      "****************************************************************************************************\n",
      "Global variable inside the my_function3 : 9000\n",
      "Global variable outside the function : 9000\n"
     ]
    }
   ],
   "source": [
    "# Example of global variable (defined inside the function)\n",
    "def my_function2():\n",
    "    global x\n",
    "    x = 9000\n",
    "    print('Global variable inside the my_function2 :',x)\n",
    "    \n",
    "def my_function3():\n",
    "    print(\"Global variable inside the my_function3 :\", x)\n",
    "    \n",
    "my_function2()\n",
    "print('Global variable outside the function :',x)\n",
    "\n",
    "print('*'*100)\n",
    "\n",
    "my_function3()\n",
    "print('Global variable outside the function :',x)"
   ]
  },
  {
   "cell_type": "code",
   "execution_count": 16,
   "id": "f448821e",
   "metadata": {},
   "outputs": [
    {
     "name": "stdout",
     "output_type": "stream",
     "text": [
      "200\n",
      "10\n",
      "10\n",
      "Printing Outside scope 200\n"
     ]
    }
   ],
   "source": [
    "# nested functions and scope\n",
    "z = 200 # global scope\n",
    "def Myfun():\n",
    "    \n",
    "    def Display_z():\n",
    "        print(z)\n",
    "        \n",
    "    z = 10 # local variable\n",
    "    print(z)\n",
    "    Display_z()\n",
    "    \n",
    "def Display():\n",
    "    print(\"Printing Outside scope\",z)\n",
    "    \n",
    "print(z)\n",
    "Myfun()\n",
    "Display()"
   ]
  },
  {
   "cell_type": "code",
   "execution_count": 37,
   "id": "f85167b6",
   "metadata": {},
   "outputs": [
    {
     "name": "stdout",
     "output_type": "stream",
     "text": [
      "Inside Add :\n",
      "10\n",
      "20\n",
      "Inside Display Function :\n",
      "500\n",
      "600\n",
      "Outside Display Function :\n",
      "500\n",
      "600\n"
     ]
    }
   ],
   "source": [
    "d = 500\n",
    "e = 600\n",
    "\n",
    "def add():\n",
    "    # local variable\n",
    "    d = 10\n",
    "    e = 20\n",
    "    \n",
    "    global pi  # we can access any where\n",
    "    pi = 3.14\n",
    "    \n",
    "    print('Inside Add :')\n",
    "    print(d)\n",
    "    print(e)\n",
    "    \n",
    "def display():\n",
    "    print('Inside Display Function :')\n",
    "    print(d)\n",
    "    print(e)\n",
    "    \n",
    "add()\n",
    "display()\n",
    "print('Outside Display Function :')\n",
    "print(d)\n",
    "print(e)"
   ]
  },
  {
   "cell_type": "markdown",
   "id": "cf352af9",
   "metadata": {},
   "source": [
    "### Modules "
   ]
  },
  {
   "cell_type": "raw",
   "id": "401c5cf4",
   "metadata": {},
   "source": [
    "A module is a file containing Python code that defines functions, classes, and variables that can be used in other Python programs.\n",
    "\n",
    "Modules are used to organize code and make it reusable across different programs.\n",
    "\n",
    "Python has a large number of built-in modules that provide useful functionality, such as math, random, datetime, and os. You can also create your own modules by writing Python code in a separate file and then importing it into your program using the import statement."
   ]
  },
  {
   "cell_type": "raw",
   "id": "94289b8c",
   "metadata": {},
   "source": [
    "General steps for creating a Python module:\n",
    "\n",
    "1. Create a new Python file with a .py extension. This file will contain the code for your module.\n",
    "\n",
    "2. Define the functions, classes, and/or variables that you want to include in your module. Save the file with a descriptive name that reflects the purpose of your module. For example, if your module contains functions for working with dates and times, you might name it datetime_module.py\n",
    "\n",
    "\n",
    "def Display:\n",
    "        print('Hello this is Display method in       datetime_module')\n",
    "  \n",
    "\n",
    "3. Calling modules method is :\n",
    "   import datetime_module\n",
    "   datetime_module.Display()\n",
    "    \n",
    "# It will give result as printed string in display"
   ]
  },
  {
   "cell_type": "code",
   "execution_count": 40,
   "id": "86e61a5b",
   "metadata": {},
   "outputs": [],
   "source": [
    "# # Module creation\n",
    "# def Display():\n",
    "#     print('Hello this is Display method in datetime_module')\n",
    "    \n",
    "# # calling module \n",
    "\n",
    "# import mymodule\n",
    "\n",
    "# # module name. function()\n",
    "# mymodule.Display()    "
   ]
  },
  {
   "cell_type": "code",
   "execution_count": 41,
   "id": "a247624c",
   "metadata": {},
   "outputs": [
    {
     "name": "stdout",
     "output_type": "stream",
     "text": [
      "Windows\n"
     ]
    }
   ],
   "source": [
    "# importing modules with alias name\n",
    "# like\n",
    "#  import mymodule as mm\n",
    "\n",
    "\n",
    "# you can also use other built in modules like\n",
    "\n",
    "import platform\n",
    "\n",
    "op_sys = platform.system()\n",
    "\n",
    "print(op_sys)"
   ]
  },
  {
   "cell_type": "markdown",
   "id": "976f43cb",
   "metadata": {},
   "source": [
    "###### Datetime Module"
   ]
  },
  {
   "cell_type": "code",
   "execution_count": 43,
   "id": "75515c9e",
   "metadata": {},
   "outputs": [
    {
     "data": {
      "text/plain": [
       "datetime.datetime(2023, 4, 16, 12, 49, 7, 724446)"
      ]
     },
     "execution_count": 43,
     "metadata": {},
     "output_type": "execute_result"
    }
   ],
   "source": [
    "import datetime \n",
    "\n",
    "datetime.datetime.now()"
   ]
  },
  {
   "cell_type": "markdown",
   "id": "8cdd3ba3",
   "metadata": {},
   "source": [
    "(year, month, day, hour, minutes, second, microsecond)"
   ]
  },
  {
   "cell_type": "code",
   "execution_count": 46,
   "id": "397a86f2",
   "metadata": {},
   "outputs": [
    {
     "name": "stdout",
     "output_type": "stream",
     "text": [
      "9999\n"
     ]
    }
   ],
   "source": [
    "print(datetime.MAXYEAR)"
   ]
  },
  {
   "cell_type": "code",
   "execution_count": 47,
   "id": "7b0fe30f",
   "metadata": {},
   "outputs": [
    {
     "name": "stdout",
     "output_type": "stream",
     "text": [
      "1\n"
     ]
    }
   ],
   "source": [
    "print(datetime.MINYEAR)"
   ]
  },
  {
   "cell_type": "code",
   "execution_count": 65,
   "id": "060c0594",
   "metadata": {},
   "outputs": [
    {
     "name": "stdout",
     "output_type": "stream",
     "text": [
      "2023\n",
      "4\n",
      "16\n",
      "13\n",
      "6\n",
      "9\n",
      "9999-12-31 23:59:59.999999\n",
      "0001-01-01 00:00:00\n",
      "04\n"
     ]
    }
   ],
   "source": [
    "x= datetime.datetime.now()\n",
    "\n",
    "print(x.year)    # 2023\n",
    "print(x.month)   # 4\n",
    "print(x.day)     # 16\n",
    "print(x.hour)    # 9\n",
    "print(x.minute)  # 27\n",
    "print(x.second)  # 53\n",
    "\n",
    "print(x.max)\n",
    "print(x.min)\n",
    "print(x.strftime('%m'))\n"
   ]
  },
  {
   "cell_type": "code",
   "execution_count": 52,
   "id": "ca0a4916",
   "metadata": {},
   "outputs": [
    {
     "name": "stdout",
     "output_type": "stream",
     "text": [
      "2021-04-16 12:55:12.093838\n",
      "2021-04-16 00:00:00\n"
     ]
    }
   ],
   "source": [
    "# datetime() class takes 3 mandatory paramters and hour,minute,seconds,\n",
    "# microseconds and tzone as optional parameters.\n",
    "# all takes defaulkt value of 0 and tzone takes none values as default\n",
    "dt_ = dt.datetime(2021,4,16,12,55,12,93838)\n",
    "dt_1 = dt.datetime(2021,4,16)\n",
    "\n",
    "print(dt_) \n",
    "\n",
    "print(dt_1) "
   ]
  },
  {
   "cell_type": "raw",
   "id": "1f0ba7de",
   "metadata": {},
   "source": [
    "You can also create date, time, and timedelta objects using the date(), time(), and timedelta() constructors, respectively. For example:"
   ]
  },
  {
   "cell_type": "code",
   "execution_count": 22,
   "id": "aa94133c",
   "metadata": {},
   "outputs": [
    {
     "name": "stdout",
     "output_type": "stream",
     "text": [
      "2023-04-16\n",
      "6\n",
      "09:30:00\n",
      "9\n",
      "1:00:00\n",
      "3600\n"
     ]
    }
   ],
   "source": [
    "from datetime import date, time, timedelta\n",
    "\n",
    "d = date(2023, 4, 16)\n",
    "t = time(9, 30)\n",
    "td = timedelta(hours=1)\n",
    "\n",
    "print(d)    # 2023-04-16\n",
    "print(d.weekday())\n",
    "print(t)    # 09:30:00\n",
    "print(t.hour)\n",
    "print(td)   # 1:00:00\n",
    "print(td.seconds) # 3600 seconds for one hours"
   ]
  },
  {
   "cell_type": "markdown",
   "id": "9b04232e",
   "metadata": {},
   "source": [
    "###### python math function"
   ]
  },
  {
   "cell_type": "code",
   "execution_count": 67,
   "id": "b6d3d7e7",
   "metadata": {},
   "outputs": [
    {
     "name": "stdout",
     "output_type": "stream",
     "text": [
      "50\n"
     ]
    }
   ],
   "source": [
    "x = min(100,200,50)\n",
    "print(x)"
   ]
  },
  {
   "cell_type": "code",
   "execution_count": 68,
   "id": "3d5c071b",
   "metadata": {},
   "outputs": [
    {
     "name": "stdout",
     "output_type": "stream",
     "text": [
      "200\n"
     ]
    }
   ],
   "source": [
    "x = max(100,200,50)\n",
    "print(x)"
   ]
  },
  {
   "cell_type": "code",
   "execution_count": 70,
   "id": "d7e64a2b",
   "metadata": {},
   "outputs": [
    {
     "name": "stdout",
     "output_type": "stream",
     "text": [
      "50\n"
     ]
    }
   ],
   "source": [
    "# Returns absolute positive value\n",
    "x = abs(-50) # only argumnet required\n",
    "print(x)"
   ]
  },
  {
   "cell_type": "code",
   "execution_count": 72,
   "id": "109c70c7",
   "metadata": {},
   "outputs": [
    {
     "name": "stdout",
     "output_type": "stream",
     "text": [
      "16\n"
     ]
    }
   ],
   "source": [
    "x = pow(2,4) # 2^4\n",
    "print(x)"
   ]
  },
  {
   "cell_type": "markdown",
   "id": "9009c34f",
   "metadata": {},
   "source": [
    "###### Math Module"
   ]
  },
  {
   "cell_type": "markdown",
   "id": "63b384ce",
   "metadata": {},
   "source": [
    "The math module is a built-in Python module that provides access to a set of mathematical functions and constants.\n",
    "\n",
    "The math module includes several functions, including:\n",
    "\n",
    "1. sqrt: Returns the square root of a given number.\n",
    "2. pow: Returns the result of raising a given number to a given power.\n",
    "3. log: Returns the natural logarithm of a given number.\n",
    "4. sin, cos, tan: Returns the sine, cosine, and tangent of a given angle (in radians).\n",
    "5. degrees, radians: Converts between degrees and radians."
   ]
  },
  {
   "cell_type": "code",
   "execution_count": 88,
   "id": "e97c8819",
   "metadata": {},
   "outputs": [
    {
     "name": "stdout",
     "output_type": "stream",
     "text": [
      "4.0\n"
     ]
    }
   ],
   "source": [
    "import math\n",
    "\n",
    "x = 16\n",
    "sqrt_x = math.sqrt(x)\n",
    "print(sqrt_x)"
   ]
  },
  {
   "cell_type": "code",
   "execution_count": 89,
   "id": "11e13b7e",
   "metadata": {},
   "outputs": [
    {
     "name": "stdout",
     "output_type": "stream",
     "text": [
      "256.0\n"
     ]
    }
   ],
   "source": [
    "x = 16\n",
    "pow_x = math.pow(x,2) # 2^16\n",
    "print(pow_x)"
   ]
  },
  {
   "cell_type": "code",
   "execution_count": 90,
   "id": "7ebb45b6",
   "metadata": {},
   "outputs": [
    {
     "name": "stdout",
     "output_type": "stream",
     "text": [
      "999\n"
     ]
    }
   ],
   "source": [
    "x=999.999\n",
    "floor_x = math.floor(x) \n",
    "print(floor_x)"
   ]
  },
  {
   "cell_type": "code",
   "execution_count": 92,
   "id": "55c9e79f",
   "metadata": {},
   "outputs": [
    {
     "name": "stdout",
     "output_type": "stream",
     "text": [
      "1000\n"
     ]
    }
   ],
   "source": [
    "x = 999.999\n",
    "ceil_x = math.ceil(x) \n",
    "print(ceil_x)"
   ]
  },
  {
   "cell_type": "code",
   "execution_count": 93,
   "id": "c27a9fe6",
   "metadata": {},
   "outputs": [
    {
     "name": "stdout",
     "output_type": "stream",
     "text": [
      "2.718281828459045\n"
     ]
    }
   ],
   "source": [
    "# well-known mathematicall constant called \"Euler's number\" or \"Euler's constant\" denoted by the symbol \"e\". It is a mathematical constant approximately equal to 2.71828, \n",
    "eluers_no = math.e\n",
    "print(eluers_no)"
   ]
  },
  {
   "cell_type": "code",
   "execution_count": 94,
   "id": "3b2a8a45",
   "metadata": {},
   "outputs": [
    {
     "name": "stdout",
     "output_type": "stream",
     "text": [
      "3.141592653589793\n"
     ]
    }
   ],
   "source": [
    "p = math.pi\n",
    "print(p)"
   ]
  },
  {
   "cell_type": "code",
   "execution_count": 95,
   "id": "92fd3b6e",
   "metadata": {},
   "outputs": [
    {
     "name": "stdout",
     "output_type": "stream",
     "text": [
      "-0.5440211108893698\n"
     ]
    }
   ],
   "source": [
    "s = math.sin(10)\n",
    "print(s)"
   ]
  },
  {
   "cell_type": "code",
   "execution_count": 96,
   "id": "d834963f",
   "metadata": {},
   "outputs": [
    {
     "name": "stdout",
     "output_type": "stream",
     "text": [
      "-0.8390715290764524\n"
     ]
    }
   ],
   "source": [
    "s = math.cos(10)\n",
    "print(s)"
   ]
  },
  {
   "cell_type": "code",
   "execution_count": 97,
   "id": "c671a3f9",
   "metadata": {},
   "outputs": [
    {
     "name": "stdout",
     "output_type": "stream",
     "text": [
      "0.6483608274590866\n"
     ]
    }
   ],
   "source": [
    "s = math.tan(10)\n",
    "print(s)"
   ]
  },
  {
   "cell_type": "code",
   "execution_count": 101,
   "id": "8c97e623",
   "metadata": {},
   "outputs": [
    {
     "name": "stdout",
     "output_type": "stream",
     "text": [
      "2.0\n"
     ]
    }
   ],
   "source": [
    "x=100\n",
    "s = math.log(x,10) # log10(100)\n",
    "print(s)"
   ]
  },
  {
   "cell_type": "code",
   "execution_count": 103,
   "id": "c7b51a00",
   "metadata": {},
   "outputs": [
    {
     "name": "stdout",
     "output_type": "stream",
     "text": [
      "nan\n",
      "<class 'float'>\n"
     ]
    }
   ],
   "source": [
    "val = math.nan # not a number is of type float\n",
    "print(val)\n",
    "print(type(val)) # bydefauly data type in python is float"
   ]
  },
  {
   "cell_type": "markdown",
   "id": "0e0e9795",
   "metadata": {},
   "source": [
    "### Python JSON (JavaScript Object Notation)"
   ]
  },
  {
   "cell_type": "markdown",
   "id": "537c0a53",
   "metadata": {},
   "source": [
    "JSON is javascript object notation storing and exchanging data\n",
    "\n",
    "Python has built in package json\n",
    "\n",
    "JSON is in string format\n",
    "\n",
    "JSON to send data from a server to web page\n",
    "\n",
    "JSON is a lightweight data interchange format\n",
    "\n",
    "JSON is language undependent\n",
    "\n",
    "SON is \"self-describing\" and easy to understand\n",
    "\n",
    "JSON Syntax Rules:\n",
    "     \n",
    "     Data is in name/value pairs\n",
    "     Data is separated object\n",
    "     Curly braces hold objects\n",
    "     Square brackets hold arrays/list"
   ]
  },
  {
   "cell_type": "code",
   "execution_count": 104,
   "id": "495202e0",
   "metadata": {},
   "outputs": [],
   "source": [
    "import json"
   ]
  },
  {
   "cell_type": "code",
   "execution_count": 109,
   "id": "8b5c04ec",
   "metadata": {},
   "outputs": [
    {
     "name": "stdout",
     "output_type": "stream",
     "text": [
      "<class 'str'>\n",
      "{\"Name\":\"Abhi\", \"Class\":\"First\",\"School\":\"Vision\",\"Mobile\":9175535381,\"City\":\"Pune\"}\n",
      "****************************************************************************************************\n",
      "{'Name': 'Abhi', 'Class': 'First', 'School': 'Vision', 'Mobile': 9175535381, 'City': 'Pune'}\n",
      "<class 'dict'>\n"
     ]
    }
   ],
   "source": [
    "# conversion of json to python\n",
    "# json object\n",
    "\n",
    "student = '{\"Name\":\"Abhi\", \"Class\":\"First\",\"School\":\"Vision\",\"Mobile\":9175535381,\"City\":\"Pune\"}'\n",
    "print(type(student))\n",
    "print(student)\n",
    "\n",
    "print('*'*100)\n",
    "\n",
    "stud=json.loads(student) # converted in python dictionary\n",
    "print(stud)\n",
    "print(type(stud))"
   ]
  },
  {
   "cell_type": "code",
   "execution_count": 113,
   "id": "cfbfea20",
   "metadata": {},
   "outputs": [
    {
     "name": "stdout",
     "output_type": "stream",
     "text": [
      "Dictionary creation...!\n",
      "Created dictionary is:\n",
      "{'Name': 'Digvijay', 'emp_id': 27, 'email': 'a@b.com', 'salary': 90000}\n",
      "<class 'dict'>\n",
      "Access the dictionary\n",
      "27\n",
      "****************************************************************************************************\n",
      "Coversion dictionary to JSON OBJECT\n",
      "{\"Name\": \"Digvijay\", \"emp_id\": 27, \"email\": \"a@b.com\", \"salary\": 90000}\n",
      "<class 'str'>\n",
      "accessing the json\n",
      "D\n"
     ]
    }
   ],
   "source": [
    "# convert a dictionary to json object using json.dumps()\n",
    "\n",
    "print('Dictionary creation...!')\n",
    "employee = {\n",
    "    \"Name\": \"Digvijay\",\n",
    "    \"emp_id\": 27,\n",
    "    \"email\": \"a@b.com\",\n",
    "    \"salary\": 90000\n",
    "}\n",
    "\n",
    "print('Created dictionary is:')\n",
    "\n",
    "print(employee)\n",
    "print(type(employee))\n",
    "\n",
    "print('Access the dictionary')\n",
    "print(employee['emp_id'])\n",
    "\n",
    "print(\"*\"*100)\n",
    "\n",
    "emp_json = json.dumps(employee)\n",
    "print('Coversion dictionary to JSON OBJECT')\n",
    "print(emp_json)\n",
    "print(type(emp_json))\n",
    "print('accessing the json')\n",
    "print(emp_json[10])\n"
   ]
  },
  {
   "cell_type": "code",
   "execution_count": 116,
   "id": "b8765520",
   "metadata": {},
   "outputs": [
    {
     "name": "stdout",
     "output_type": "stream",
     "text": [
      "('Digvijay', 100, 200, 300, 'Abhimanyu')\n",
      "<class 'tuple'>\n",
      "****************************************************************************************************\n",
      "Conversion tuple to json object\n",
      "[\"Digvijay\", 100, 200, 300, \"Abhimanyu\"]\n",
      "<class 'str'>\n"
     ]
    }
   ],
   "source": [
    "# Apply on Tuple\n",
    "tup = ('Digvijay',100,200,300,'Abhimanyu')\n",
    "print(tup)\n",
    "print(type(tup))\n",
    "\n",
    "print(\"*\"*100)\n",
    "\n",
    "print('Conversion tuple to json object')\n",
    "tup_json = json.dumps(tup)\n",
    "print(tup_json)\n",
    "print(type(tup_json)) # it will convert tuple into json's list"
   ]
  },
  {
   "cell_type": "code",
   "execution_count": 127,
   "id": "1c488d21",
   "metadata": {},
   "outputs": [
    {
     "name": "stdout",
     "output_type": "stream",
     "text": [
      "[{'model': 'kia-143', 'mpg': 27.5}, {'model': 'tata', 'mpg': 24.1}, ('scoda', 'ford'), 20]\n",
      "{'model': 'kia-143', 'mpg': 27.5}\n",
      "****************************************************************************************************\n",
      "('paneer', 'kabab')\n",
      "****************************************************************************************************\n",
      "True\n",
      "****************************************************************************************************\n",
      "None\n",
      "****************************************************************************************************\n",
      "{\"name\": \"Digvijay\", \"age\": 31, \"vegeterian\": true, \"non_veg\": false, \"food\": [\"paneer\", \"kabab\"], \"owns_chopper\": null, \"cars\": [{\"model\": \"kia-143\", \"mpg\": 27.5}, {\"model\": \"tata\", \"mpg\": 24.1}, [\"scoda\", \"ford\"], 20]}\n",
      "<class 'str'>\n"
     ]
    }
   ],
   "source": [
    "# Testout same on other data types\n",
    "\n",
    "import json\n",
    "\n",
    "x = {\n",
    "      \"name\": \"Digvijay\",\n",
    "      \"age\": 31,\n",
    "      \"vegeterian\": True,\n",
    "      \"non_veg\": False,\n",
    "      \"food\": (\"paneer\",\"kabab\"),\n",
    "      \"owns_chopper\": None,\n",
    "      \"cars\": [\n",
    "                {\"model\": \"kia-143\", \"mpg\": 27.5},\n",
    "                {\"model\": \"tata\", \"mpg\": 24.1},\n",
    "                (\"scoda\",\"ford\"),\n",
    "                20\n",
    "              ]\n",
    "     }\n",
    "\n",
    "l = x['cars']\n",
    "print(l)\n",
    "print(l[0])\n",
    "print('*'*100)\n",
    "\n",
    "m = x['food']\n",
    "print(m)\n",
    "print('*'*100)\n",
    "\n",
    "n= x['vegeterian']\n",
    "print(n)\n",
    "print('*'*100)\n",
    "\n",
    "o = x['owns_chopper']\n",
    "print(o)\n",
    "print('*'*100)\n",
    "\n",
    "x_json = json.dumps(x)\n",
    "print(x_json)\n",
    "print(type(x_json))"
   ]
  },
  {
   "cell_type": "markdown",
   "id": "50972e13",
   "metadata": {},
   "source": [
    "^ this is difficult to read it, In python to read json files we have facilites"
   ]
  },
  {
   "cell_type": "raw",
   "id": "37f478e9",
   "metadata": {},
   "source": [
    "when we convert python object to json then it will be like shown below:\n",
    "        1. dict  >>  object\n",
    "        2. list  >>  Array\n",
    "        3. tuple >>  array\n",
    "        4. str   >>  string\n",
    "        5. int   >>  number\n",
    "        6. float >>  number\n",
    "        7. true  >>  true\n",
    "        8. false >>  false \n",
    "        9. none  >>  null"
   ]
  },
  {
   "cell_type": "markdown",
   "id": "8223df15",
   "metadata": {},
   "source": [
    "###### Result Formatting"
   ]
  },
  {
   "cell_type": "raw",
   "id": "79b7f349",
   "metadata": {},
   "source": [
    "To make json more readable we can some adiional parameters like indent=4, seperators=(\".\",  \",\", \"=\" ), sort_keys=True"
   ]
  },
  {
   "cell_type": "code",
   "execution_count": 128,
   "id": "bdd31bb8",
   "metadata": {},
   "outputs": [
    {
     "name": "stdout",
     "output_type": "stream",
     "text": [
      "{\n",
      "    \"name\": \"Sagar\",\n",
      "    \"age\": 31,\n",
      "    \"vegeterian\": true,\n",
      "    \"non_veg\": false,\n",
      "    \"food\": [\n",
      "        \"paneer\",\n",
      "        \"kabab\"\n",
      "    ],\n",
      "    \"owns_chopper\": null,\n",
      "    \"cars\": [\n",
      "        {\n",
      "            \"model\": \"kia-143\",\n",
      "            \"mpg\": 27.5\n",
      "        },\n",
      "        {\n",
      "            \"model\": \"tata\",\n",
      "            \"mpg\": 24.1\n",
      "        }\n",
      "    ]\n",
      "}\n"
     ]
    }
   ],
   "source": [
    "import json\n",
    "\n",
    "x = {\n",
    "          \"name\": \"Sagar\",\n",
    "          \"age\": 31,\n",
    "          \"vegeterian\": True,\n",
    "          \"non_veg\": False,\n",
    "          \"food\": (\"paneer\",\"kabab\"),\n",
    "          \"owns_chopper\": None,\n",
    "          \"cars\": [\n",
    "                    {\"model\": \"kia-143\", \"mpg\": 27.5},\n",
    "                    {\"model\": \"tata\", \"mpg\": 24.1}\n",
    "                  ]\n",
    "    }\n",
    "\n",
    "print(json.dumps(x,indent=4))"
   ]
  },
  {
   "cell_type": "code",
   "execution_count": 131,
   "id": "edec7680",
   "metadata": {},
   "outputs": [
    {
     "name": "stdout",
     "output_type": "stream",
     "text": [
      "{\n",
      "    \"name\"= \"Sagar\"-\n",
      "    \"age\"= 31-\n",
      "    \"vegeterian\"= true-\n",
      "    \"non_veg\"= false-\n",
      "    \"food\"= [\n",
      "        \"paneer\"-\n",
      "        \"kabab\"\n",
      "    ]-\n",
      "    \"owns_chopper\"= null-\n",
      "    \"cars\"= [\n",
      "        {\n",
      "            \"model\"= \"kia-143\"-\n",
      "            \"mpg\"= 27.5\n",
      "        }-\n",
      "        {\n",
      "            \"model\"= \"tata\"-\n",
      "            \"mpg\"= 24.1\n",
      "        }\n",
      "    ]\n",
      "}\n"
     ]
    }
   ],
   "source": [
    "import json\n",
    "\n",
    "x = {\n",
    "  \"name\": \"Sagar\",\n",
    "  \"age\": 31,\n",
    "  \"vegeterian\": True,\n",
    "  \"non_veg\": False,\n",
    "  \"food\": (\"paneer\",\"kabab\"),\n",
    "  \"owns_chopper\": None,\n",
    "  \"cars\": [\n",
    "    {\"model\": \"kia-143\", \"mpg\": 27.5},\n",
    "    {\"model\": \"tata\", \"mpg\": 24.1}\n",
    "  ]\n",
    "}\n",
    "\n",
    "print(json.dumps(x, indent=4, separators=(\"-\",\"= \"))) # - every object seperate, = every keys sepearte"
   ]
  },
  {
   "cell_type": "code",
   "execution_count": 133,
   "id": "4b6e8dfe",
   "metadata": {},
   "outputs": [
    {
     "name": "stdout",
     "output_type": "stream",
     "text": [
      "{\n",
      "    \"age\"= 31,\n",
      "    \"cars\"= [\n",
      "        {\n",
      "            \"model\"= \"kia-143\",\n",
      "            \"mpg\"= 27.5\n",
      "        },\n",
      "        {\n",
      "            \"model\"= \"tata\",\n",
      "            \"mpg\"= 24.1\n",
      "        }\n",
      "    ],\n",
      "    \"food\"= [\n",
      "        \"paneer\",\n",
      "        \"kabab\"\n",
      "    ],\n",
      "    \"name\"= \"Sagar\",\n",
      "    \"non_veg\"= false,\n",
      "    \"owns_chopper\"= null,\n",
      "    \"vegeterian\"= true\n",
      "}\n"
     ]
    }
   ],
   "source": [
    "import json\n",
    "\n",
    "x = {\n",
    "  \"name\": \"Sagar\",\n",
    "  \"age\": 31,\n",
    "  \"vegeterian\": True,\n",
    "  \"non_veg\": False,\n",
    "  \"food\": (\"paneer\",\"kabab\"),\n",
    "  \"owns_chopper\": None,\n",
    "  \"cars\": [\n",
    "    {\"model\": \"kia-143\", \"mpg\": 27.5},\n",
    "    {\"model\": \"tata\", \"mpg\": 24.1}\n",
    "  ]\n",
    "}\n",
    "\n",
    "print(json.dumps(x, indent=4, separators=(\",\",\"= \"), sort_keys= True))"
   ]
  },
  {
   "cell_type": "markdown",
   "id": "d9b59e6b",
   "metadata": {},
   "source": [
    "### RegEx or Regular Expression"
   ]
  },
  {
   "cell_type": "markdown",
   "id": "50b050ab-77a5-4157-97b0-62682545f514",
   "metadata": {},
   "source": [
    "RE is a special sequence of characters which helps you to match or find other patterns in a string, using special syntax\n",
    "\n",
    "python has re module which gives way to work with regEx"
   ]
  },
  {
   "cell_type": "markdown",
   "id": "f37a65d9-278c-4c26-8a6e-75af5ba1f89f",
   "metadata": {},
   "source": [
    "### Most commonly used special characters in regex:\n",
    "\n",
    "    \".\" (dot) - Matches any single character except for a newline character.\n",
    "    \"^\"       - Matches the start of a string.\n",
    "    \"$\"       - Matches the end of a string.\n",
    "    \"|\"       - Matches either the pattern before or after the pipe character.\n",
    "    \"+\"       - Matches one or more of the preceding pattern.\n",
    "    \"*\"       - Matches zero or more of the preceding pattern.\n",
    "    \"?\"       - Matches zero or one of the preceding pattern.\n",
    "    \"[]\"      - Matches any character within the brackets.\n",
    "    \"[^ ]\"    - Matches any character not within the brackets.\n",
    "    \"\\d\"      - Matches any digit (0-9).\n",
    "    \"\\s\"      - Matches any whitespace character.\n",
    "    \"\\w\"      - Matches any word character (a-z, A-Z, 0-9, and underscore).\n",
    "\n",
    "    \\A\t      - Returns a match if the specified characters are at the beginning of the string\t\n",
    "                Example : \"\\AThe\"\t\n",
    "    \\b\t      - Returns a match where the specified characters are at the beginning or at the end of a word \n",
    "                (the \"r\" in the beginning is making sure that the string is being treated as a \"raw string\")\t\n",
    "                Example : r\"\\bain\", r\"ain\\b\"\t\n",
    "    \\B\t      - Returns a match where the specified characters are present, but NOT at the beginning \n",
    "                (or at the end) of a word (the \"r\" in the beginning is making sure that the string is being treated as a \"raw string\")\t\n",
    "                Example : r\"\\Bain\", r\"ain\\B\"\t\n",
    "    \\d\t      - Returns a match where the string contains digits (numbers from 0-9)\n",
    "                Example : \"\\d\"\t\n",
    "    \\D\t      - Returns a match where the string DOES NOT contain digits \n",
    "                Example : \"\\D\"\t\n",
    "    \\s\t      - Returns a match where the string contains a white space character \n",
    "                Example : \"\\s\"\t\n",
    "    \\S\t      - Returns a match where the string DOES NOT contain a white space character \n",
    "                Example : \"\\S\"\t\n",
    "    \\w\t      - Returns a match where the string contains any word characters \n",
    "                (characters from a to Z, digits from 0-9, and the underscore _ character) \n",
    "                Example : \"\\w\"\t\n",
    "    \\W\t      - Returns a match where the string DOES NOT contain any word characters \n",
    "                Example : \"\\W\"\t\n",
    "    \\Z\t      - Returns a match if the specified characters are at the end of the string \n",
    "                Example : \"Spain\\Z\""
   ]
  },
  {
   "cell_type": "code",
   "execution_count": 146,
   "id": "4f30c6ee",
   "metadata": {},
   "outputs": [],
   "source": [
    "import re"
   ]
  },
  {
   "cell_type": "code",
   "execution_count": 156,
   "id": "8015b177",
   "metadata": {},
   "outputs": [
    {
     "name": "stdout",
     "output_type": "stream",
     "text": [
      "Yes string starts with 'The' Ends with 'Rossom'\n"
     ]
    }
   ],
   "source": [
    "txt = \"The python programming was developed in 1991 by Guido Van Rossom\"\n",
    "x = re.search(\"^The.*Rossom$\",txt)\n",
    "\n",
    "            # RegEx: ^The.*Rossom$\n",
    "            # ^ - start with 'The'\n",
    "            # . - Any character\n",
    "            # * - Any number of occurances\n",
    "            # $ - Ends with 'Rossom'\n",
    "\n",
    "if x:\n",
    "    print(\"Yes string starts with 'The' Ends with 'Rossom'\")\n",
    "else:\n",
    "    print(\"Doesn't have match\")"
   ]
  },
  {
   "cell_type": "code",
   "execution_count": 157,
   "id": "53452573",
   "metadata": {},
   "outputs": [
    {
     "name": "stdout",
     "output_type": "stream",
     "text": [
      "(0, 64)\n"
     ]
    }
   ],
   "source": [
    "# x - Match Object\n",
    "\n",
    "# Match Object\n",
    "print(x.span())\n",
    "# it returns the tuple(start, end) of the match object"
   ]
  },
  {
   "cell_type": "code",
   "execution_count": 158,
   "id": "e6ccef2d",
   "metadata": {},
   "outputs": [
    {
     "name": "stdout",
     "output_type": "stream",
     "text": [
      "0\n"
     ]
    }
   ],
   "source": [
    "print(x.start())\n",
    "# It returns the start location of the match object"
   ]
  },
  {
   "cell_type": "code",
   "execution_count": 159,
   "id": "ce0ec365",
   "metadata": {},
   "outputs": [
    {
     "name": "stdout",
     "output_type": "stream",
     "text": [
      "64\n"
     ]
    }
   ],
   "source": [
    "print(x.end())\n",
    "# It returns the end location of match object"
   ]
  },
  {
   "cell_type": "code",
   "execution_count": 160,
   "id": "cbdbb5c9",
   "metadata": {},
   "outputs": [
    {
     "name": "stdout",
     "output_type": "stream",
     "text": [
      "The python programming was developed in 1991 by Guido Van Rossom\n"
     ]
    }
   ],
   "source": [
    "print(x.string)\n",
    "# input string to match object"
   ]
  },
  {
   "cell_type": "code",
   "execution_count": 161,
   "id": "5dc0c713",
   "metadata": {},
   "outputs": [
    {
     "name": "stdout",
     "output_type": "stream",
     "text": [
      "The python programming was developed in 1991 by Guido Van Rossom\n"
     ]
    }
   ],
   "source": [
    "print(x.group())\n",
    "# serch pattern which matched in a string"
   ]
  },
  {
   "cell_type": "code",
   "execution_count": 162,
   "id": "8083330c",
   "metadata": {},
   "outputs": [
    {
     "name": "stdout",
     "output_type": "stream",
     "text": [
      "(0, 64)\n",
      "0\n",
      "64\n",
      "The python programming was developed in 1991 by Guido Van Rossom\n",
      "The python programming was developed in 1991 by Guido Van Rossom\n"
     ]
    }
   ],
   "source": [
    "print(x.span())\n",
    "print(x.start())\n",
    "print(x.end())\n",
    "print(x.string)\n",
    "print(x.group())"
   ]
  },
  {
   "cell_type": "raw",
   "id": "8801d6a7",
   "metadata": {},
   "source": [
    "1. findall >> Returns a list containing all matches\n",
    "\n",
    "2. search  >> Returns a match object if there is a match anywhere in the string\n",
    "\n",
    "3. split   >> Returns a list where the string has been split at each match\n",
    "\n",
    "4. sub >> Replaces one or many matches with a string"
   ]
  },
  {
   "cell_type": "markdown",
   "id": "ac09eaa5-7896-4ed4-a703-47f8174d7051",
   "metadata": {},
   "source": [
    "#### 1. re.findall function \n",
    "> This function returns the list of all matches"
   ]
  },
  {
   "cell_type": "code",
   "execution_count": 164,
   "id": "741e5a94",
   "metadata": {},
   "outputs": [
    {
     "name": "stdout",
     "output_type": "stream",
     "text": [
      "['r', 'r']\n"
     ]
    }
   ],
   "source": [
    "txt = \"The python programming was developed in 1991 by Guido Van Rossom\"\n",
    "\n",
    "x = re.findall(\"r\",txt)\n",
    "print(x)"
   ]
  },
  {
   "cell_type": "code",
   "execution_count": 168,
   "id": "205b71f1",
   "metadata": {},
   "outputs": [
    {
     "name": "stdout",
     "output_type": "stream",
     "text": [
      "['p', 'p', 'p']\n",
      "3\n"
     ]
    }
   ],
   "source": [
    "x = re.findall('p',txt)\n",
    "print(x)\n",
    "print(len(x))"
   ]
  },
  {
   "cell_type": "code",
   "execution_count": 6,
   "id": "651446dd",
   "metadata": {},
   "outputs": [
    {
     "data": {
      "text/plain": [
       "[1, 6, 1]"
      ]
     },
     "execution_count": 6,
     "metadata": {},
     "output_type": "execute_result"
    }
   ],
   "source": [
    "# find the list of words and its occurance in a string\n",
    "def count_char():\n",
    "    count=[]\n",
    "    import re\n",
    "    list1=['The','o','python']\n",
    "    txt = \"The python programming was developed in 1991 by Guido Van Rossom\"\n",
    "    for i in list1:\n",
    "        cnt=re.findall(i,txt)\n",
    "        count.append(len(cnt))\n",
    "    return count\n",
    "\n",
    "count_char()"
   ]
  },
  {
   "cell_type": "code",
   "execution_count": 8,
   "id": "297154f6-4050-47d8-b638-0b58af4ea067",
   "metadata": {},
   "outputs": [
    {
     "data": {
      "text/plain": [
       "[1, 1, 1]"
      ]
     },
     "execution_count": 8,
     "metadata": {},
     "output_type": "execute_result"
    }
   ],
   "source": [
    "def lenth_of_ele_list():\n",
    "    count = []\n",
    "    import re\n",
    "    lst = ['The', 'is', 'Mohite']\n",
    "    txt = \"My name is The Digvijay Mohite\"\n",
    "    for i in lst:\n",
    "        cnt = re.findall(i, txt)\n",
    "        count.append(len(cnt))\n",
    "    return count\n",
    "\n",
    "lenth_of_ele_list()"
   ]
  },
  {
   "cell_type": "code",
   "execution_count": 9,
   "id": "e302af5e-6e15-4737-9a28-1574d7026cac",
   "metadata": {},
   "outputs": [
    {
     "data": {
      "text/plain": [
       "[1, 4, 1]"
      ]
     },
     "execution_count": 9,
     "metadata": {},
     "output_type": "execute_result"
    }
   ],
   "source": [
    "def lenth_of_ele_list(lst,txt):\n",
    "    count = []\n",
    "    import re\n",
    "    for i in lst:\n",
    "        cnt = re.findall(i, txt)\n",
    "        count.append(len(cnt))\n",
    "    return count\n",
    "\n",
    "lenth_of_ele_list(['The', 'i', 'Mohite'],\"My name is The Digvijay Mohite\")"
   ]
  },
  {
   "cell_type": "markdown",
   "id": "3d68bd6d-6015-4ea1-bcba-b9151c5f2a46",
   "metadata": {},
   "source": [
    "#### 2. re.search() function\n",
    "> search returns the first occurance of the match"
   ]
  },
  {
   "cell_type": "code",
   "execution_count": 11,
   "id": "10a762ec",
   "metadata": {},
   "outputs": [
    {
     "name": "stdout",
     "output_type": "stream",
     "text": [
      "object :> <re.Match object; span=(3, 4), match=' '>\n",
      "The first white-space character is located in position: 3\n"
     ]
    }
   ],
   "source": [
    "import re\n",
    "txt = \"The python proramming\"\n",
    "x = re.search(\"\\s\", txt)\n",
    "print(\"object :>\",x)\n",
    "# x is a match object\n",
    "print(\"The first white-space character is located in position:\", x.start()) "
   ]
  },
  {
   "cell_type": "code",
   "execution_count": 195,
   "id": "4b2be0ea",
   "metadata": {},
   "outputs": [
    {
     "name": "stdout",
     "output_type": "stream",
     "text": [
      "The searh character is located in position: 4\n"
     ]
    }
   ],
   "source": [
    "txt = \"The rain in Spain\"\n",
    "x = re.search(\"rain\",txt)\n",
    "print(\"The searh character is located in position:\", x.start()) "
   ]
  },
  {
   "cell_type": "code",
   "execution_count": 194,
   "id": "ad041b7f",
   "metadata": {},
   "outputs": [
    {
     "name": "stdout",
     "output_type": "stream",
     "text": [
      "<re.Match object; span=(0, 5), match='Hello'>\n",
      "<re.Match object; span=(6, 11), match='Hello'>\n",
      "searched word postion is : 0\n"
     ]
    }
   ],
   "source": [
    "import re\n",
    "\n",
    "pattern = \"Hello\"\n",
    "string1 = \"Hello World\"\n",
    "string2 = \"World Hello\"\n",
    "\n",
    "match1 = re.search(pattern, string1)\n",
    "match2 = re.search(pattern, string2)\n",
    "\n",
    "print(match1)  # <re.Match object; span=(0, 5), match='Hello'>\n",
    "print(match2)  # None\n",
    "print(\"searched word postion is :\",match1.start())"
   ]
  },
  {
   "cell_type": "markdown",
   "id": "804336e8-6ffd-4eef-b548-ace13182bfb7",
   "metadata": {},
   "source": [
    "#### 3. re.split()"
   ]
  },
  {
   "cell_type": "code",
   "execution_count": 199,
   "id": "1a79ee75",
   "metadata": {},
   "outputs": [
    {
     "name": "stdout",
     "output_type": "stream",
     "text": [
      "['The', 'python', 'programming was devloped in 1991']\n"
     ]
    }
   ],
   "source": [
    "# split function\n",
    "\n",
    "txt = \"The python programming was devloped in 1991\"\n",
    "x = re.split(\"\\s\",txt,2)\n",
    "print(x)"
   ]
  },
  {
   "cell_type": "code",
   "execution_count": 204,
   "id": "48ed0dac",
   "metadata": {},
   "outputs": [
    {
     "name": "stdout",
     "output_type": "stream",
     "text": [
      "['', 'T', 'h', 'e', ' ', 'p', 'y', 't', 'h', 'o', 'n programming was devloped in 1991']\n"
     ]
    }
   ],
   "source": [
    "txt = \"The python programming was devloped in 1991\"\n",
    "x = re.split(\"\",txt,10)\n",
    "print(x)"
   ]
  },
  {
   "cell_type": "markdown",
   "id": "2013fe26-39e2-425c-b095-d2cceb521b51",
   "metadata": {},
   "source": [
    "#### 4. re.sub() function"
   ]
  },
  {
   "cell_type": "code",
   "execution_count": 206,
   "id": "6d10cb6f",
   "metadata": {},
   "outputs": [
    {
     "name": "stdout",
     "output_type": "stream",
     "text": [
      "The--python--programming--was--devloped--in--1991\n"
     ]
    }
   ],
   "source": [
    "# sub function\n",
    "\n",
    "txt = \"The python programming was devloped in 1991\"\n",
    "x = re.sub(\"\\s\",\"--\",txt)\n",
    "print(x)"
   ]
  },
  {
   "cell_type": "code",
   "execution_count": 207,
   "id": "3839d864",
   "metadata": {},
   "outputs": [
    {
     "name": "stdout",
     "output_type": "stream",
     "text": [
      "(23, 26)\n",
      "23\n",
      "26\n",
      "The python prohramming was devloped in 1991 by Guido Van Rossom\n",
      "was\n"
     ]
    }
   ],
   "source": [
    "txt = \"The python prohramming was devloped in 1991 by Guido Van Rossom\"\n",
    "x = re.search(\"\\was\", txt)\n",
    "print(x.span())\n",
    "print(x.start())\n",
    "print(x.end())\n",
    "print(x.string)\n",
    "print(x.group())"
   ]
  },
  {
   "cell_type": "markdown",
   "id": "fdec47d6",
   "metadata": {},
   "source": [
    "### Python Exception Handling"
   ]
  },
  {
   "cell_type": "raw",
   "id": "76116251",
   "metadata": {},
   "source": [
    "Exception handling is a mechanism in Python to handle errors that occur during program execution.\n",
    "\n",
    "In Python, an exception is an error that occurs during program execution that interrupts the normal flow of the program.\n",
    "\n",
    "The syntax for handling exceptions in Python is as follows:"
   ]
  },
  {
   "cell_type": "raw",
   "id": "b3ed9a83",
   "metadata": {},
   "source": [
    "try:\n",
    "    # Code that might cause an exception\n",
    "except ExceptionType1:\n",
    "    # Code to handle ExceptionType1\n",
    "except ExceptionType2: \n",
    "    # Code to handle ExceptionType2\n",
    "else:\n",
    "    # Code to execute if no exceptions occur in the try block\n",
    "finally: \n",
    "    # Code that will always execute, regardless of whether an exception occurred or not\n",
    "    \n",
    "Error:\n",
    "    syntax error and exception\n",
    "    \n",
    "    syntax error also known as parsing erroe, are perhaps the most common kind of complaint get while you are still learning python\n",
    "    \n",
    "Exception:\n",
    "        error detected during execution are allled exception"
   ]
  },
  {
   "cell_type": "code",
   "execution_count": 97,
   "id": "a5b51468",
   "metadata": {},
   "outputs": [],
   "source": [
    "# syntax error:\n",
    "# while True print(\"Hello\")"
   ]
  },
  {
   "cell_type": "code",
   "execution_count": 96,
   "id": "d4da0407",
   "metadata": {},
   "outputs": [],
   "source": [
    "# error detected during execution are allled exception\n",
    "\n",
    "l=[10,20,30]\n",
    "# for x in range(0,4):\n",
    "#     print(l[x])"
   ]
  },
  {
   "cell_type": "code",
   "execution_count": 230,
   "id": "6851da9a",
   "metadata": {},
   "outputs": [
    {
     "name": "stdout",
     "output_type": "stream",
     "text": [
      "Please enter a number: 99.9\n",
      "Oops! That was no valid number,Try again..!\n",
      "Please enter a number: 100\n"
     ]
    }
   ],
   "source": [
    "while True:\n",
    "    try:\n",
    "        x=int(input('Please enter a number: '))\n",
    "        break\n",
    "    except ValueError:\n",
    "        print(\"Oops! That was no valid number,Try again..!\")"
   ]
  },
  {
   "cell_type": "code",
   "execution_count": 1,
   "id": "517bf256",
   "metadata": {},
   "outputs": [
    {
     "name": "stdout",
     "output_type": "stream",
     "text": [
      "Variable not declare\n"
     ]
    }
   ],
   "source": [
    "# Value Error\n",
    "try:\n",
    "    print(value)\n",
    "except NameError:\n",
    "    print('Variable not declare')\n",
    "except:\n",
    "    print(\"Nothing is wrong in above statement\")"
   ]
  },
  {
   "cell_type": "code",
   "execution_count": 237,
   "id": "d25458a0",
   "metadata": {},
   "outputs": [
    {
     "name": "stdout",
     "output_type": "stream",
     "text": [
      "Hello\n",
      "Something went wrong\n"
     ]
    }
   ],
   "source": [
    "# you can use the else keyword to define a block of code to be executed\n",
    "# If no error were raised:\n",
    "\n",
    "try:\n",
    "    print('Hello')\n",
    "    print(a)\n",
    "except:\n",
    "    print('Something went wrong')\n",
    "else:\n",
    "    print('Nothing went wrong')\n",
    "    "
   ]
  },
  {
   "cell_type": "code",
   "execution_count": 238,
   "id": "047100c4",
   "metadata": {},
   "outputs": [
    {
     "name": "stdout",
     "output_type": "stream",
     "text": [
      "Hello\n",
      "10000000000000\n",
      "Nothing went wrong\n"
     ]
    }
   ],
   "source": [
    "a=10000000000000\n",
    "try:\n",
    "    print('Hello')\n",
    "    print(a)\n",
    "except:\n",
    "    print('Something went wrong')\n",
    "else:\n",
    "    print('Nothing went wrong')"
   ]
  },
  {
   "cell_type": "code",
   "execution_count": 239,
   "id": "eb1a889b",
   "metadata": {},
   "outputs": [
    {
     "name": "stdout",
     "output_type": "stream",
     "text": [
      "Hello\n",
      "The 'try except' is finished\n"
     ]
    }
   ],
   "source": [
    "try:\n",
    "    print('Hello')\n",
    "except:\n",
    "    print('Something went wrong')\n",
    "finally:\n",
    "    print(\"The 'try except' is finished\")"
   ]
  },
  {
   "cell_type": "code",
   "execution_count": 245,
   "id": "3374db84",
   "metadata": {},
   "outputs": [
    {
     "name": "stdout",
     "output_type": "stream",
     "text": [
      "10\n",
      "20\n",
      "3\n",
      "0\n",
      "Something went wrong\n"
     ]
    }
   ],
   "source": [
    "# for i in range(0,6): else will get executed when there is no exception\n",
    "try:\n",
    "    ls = [10,20,3,0]\n",
    "    for i in range(0,6):\n",
    "        print(ls[i])\n",
    "except:\n",
    "    print(\"Something went wrong\") # will execute due to out of range\n",
    "else:\n",
    "    print(\"Will execute after try block exceution,There was no error in try block\") "
   ]
  },
  {
   "cell_type": "code",
   "execution_count": 244,
   "id": "0912939b",
   "metadata": {},
   "outputs": [
    {
     "name": "stdout",
     "output_type": "stream",
     "text": [
      "File not found\n",
      "Try-Except run, we are in finally block\n"
     ]
    }
   ],
   "source": [
    "try:\n",
    "    f = open(\"myfile.txt\")\n",
    "    # Code to read or write to the file\n",
    "except FileNotFoundError:\n",
    "    print(\"File not found\")\n",
    "except:\n",
    "    print(\"An error occurred\")\n",
    "finally:\n",
    "    print(\"Try-Except run, we are in finally block\") # will execute after execution of try-except block\n",
    "    "
   ]
  },
  {
   "cell_type": "code",
   "execution_count": 246,
   "id": "b055ac9d",
   "metadata": {},
   "outputs": [
    {
     "name": "stdout",
     "output_type": "stream",
     "text": [
      "10\n",
      "This is finally bloack: to be executed mandatory\n"
     ]
    }
   ],
   "source": [
    "zz = 10\n",
    "try:\n",
    "    print(zz)\n",
    "except:\n",
    "    print(\"Something went wrong\")\n",
    "finally:\n",
    "    print(\"This is finally bloack: to be executed mandatory\")"
   ]
  },
  {
   "cell_type": "code",
   "execution_count": 95,
   "id": "19ba1b82",
   "metadata": {},
   "outputs": [],
   "source": [
    "# Raise an error and stop the program if x is lower than 0:\n",
    "x = -1\n",
    "\n",
    "# if x < 0:\n",
    "#     raise Exception(\"Sorry, no numbers below zero\")"
   ]
  },
  {
   "cell_type": "code",
   "execution_count": 94,
   "id": "84f06d12",
   "metadata": {},
   "outputs": [],
   "source": [
    "x = \"Hello\"\n",
    "# if not type(x) is int:\n",
    "#     raise TypeError('Only integers are allowed')"
   ]
  },
  {
   "cell_type": "markdown",
   "id": "846ad5d0",
   "metadata": {},
   "source": [
    "### String Formatting"
   ]
  },
  {
   "cell_type": "code",
   "execution_count": 252,
   "id": "b04ab55c",
   "metadata": {},
   "outputs": [
    {
     "name": "stdout",
     "output_type": "stream",
     "text": [
      "The value is 100\n",
      "The values of p is 100\n",
      "Name is Abhimanyu Mohite\n"
     ]
    }
   ],
   "source": [
    "p = 100\n",
    "\n",
    "text = \"The value is {}\"\n",
    "print(text.format(p))\n",
    "\n",
    "print(\"The values of p is {}\".format(p))\n",
    "\n",
    "fname=\"Abhimanyu\"\n",
    "lname='Mohite'\n",
    "print(\"Name is {} {}\".format(fname,lname))"
   ]
  },
  {
   "cell_type": "code",
   "execution_count": 253,
   "id": "d4bca8ef",
   "metadata": {},
   "outputs": [
    {
     "name": "stdout",
     "output_type": "stream",
     "text": [
      "The value is 100.000\n"
     ]
    }
   ],
   "source": [
    "p=100\n",
    "text =\"The value is {:.3f}\"\n",
    "\n",
    "print(text.format(p))"
   ]
  },
  {
   "cell_type": "code",
   "execution_count": 255,
   "id": "7f11bd6f",
   "metadata": {},
   "outputs": [
    {
     "name": "stdout",
     "output_type": "stream",
     "text": [
      "I want 3 pieces of item no 500 for 70.00 rupees\n"
     ]
    }
   ],
   "source": [
    "quantity = 3\n",
    "itemno = 500\n",
    "price = 70\n",
    "\n",
    "print(\"I want {} pieces of item no {} for {:.2f} rupees\".format(quantity,itemno,price))\n"
   ]
  },
  {
   "cell_type": "code",
   "execution_count": 256,
   "id": "a8bc5e28",
   "metadata": {},
   "outputs": [
    {
     "name": "stdout",
     "output_type": "stream",
     "text": [
      "I want 3 pieces of item no 500 for 70.00 rupees\n"
     ]
    }
   ],
   "source": [
    "quantity = 3 # 0\n",
    "itemno = 500 # 1\n",
    "price = 70 # 2\n",
    "\n",
    "print(\"I want {0} pieces of item no {1} for {2:.2f} rupees\".format(quantity,itemno,price))\n"
   ]
  },
  {
   "cell_type": "code",
   "execution_count": 257,
   "id": "3950b0e6",
   "metadata": {},
   "outputs": [
    {
     "name": "stdout",
     "output_type": "stream",
     "text": [
      "His name is Digvijay. Digvijay is 23 years old.\n"
     ]
    }
   ],
   "source": [
    "age = 23\n",
    "name = \"Digvijay\"\n",
    "\n",
    "txt = \"His name is {0}. {0} is {1} years old.\"\n",
    "print(txt.format(name,age))"
   ]
  },
  {
   "cell_type": "code",
   "execution_count": 259,
   "id": "00cd6542",
   "metadata": {},
   "outputs": [
    {
     "name": "stdout",
     "output_type": "stream",
     "text": [
      "I have a TATA Nexon, it is a EV.\n"
     ]
    }
   ],
   "source": [
    "brand = 'TATA Nexon'\n",
    "mod = \"EV\"\n",
    "\n",
    "myorder = \"I have a {carname}, it is a {model}.\"\n",
    "print(myorder.format(model=mod,carname=brand))"
   ]
  },
  {
   "cell_type": "markdown",
   "id": "71c9b1df",
   "metadata": {},
   "source": [
    "### Python File Handling\n",
    "\n",
    "File handling is an important concept in python.\n",
    "\n",
    "Python has many for creating, reading, updating and deleting files"
   ]
  },
  {
   "cell_type": "markdown",
   "id": "13881e88",
   "metadata": {},
   "source": [
    "###### Open File"
   ]
  },
  {
   "cell_type": "markdown",
   "id": "406921a0",
   "metadata": {},
   "source": [
    "\n",
    "The open() function: The open() function takes two parameters 1. filename 2. mode of opening a file.\n",
    "\n",
    "There are four different modes to open file:\n",
    "\n",
    "    \"r\" = Read - Default value. opens in reading  mode, gives error if file not exists\n",
    "\n",
    "    \"a\" = Append Opens in appending mode, \n",
    "      Creates new file if it does not exist\n",
    "\n",
    "    \"w\" = Write  Opens in writing mode, \n",
    "      Creates new file if it does not exist\n",
    "\n",
    "    \"x\" = Create Creates the specified file, \n",
    "      Gives an error if the file already exists"
   ]
  },
  {
   "cell_type": "markdown",
   "id": "21ddba82",
   "metadata": {},
   "source": [
    "###### Reading a file"
   ]
  },
  {
   "cell_type": "markdown",
   "id": "640646b9",
   "metadata": {},
   "source": [
    "Functions We Use to handle files:\n",
    "\n",
    "    read()- To read files - read all contents \n",
    "    readline()- To read contents line by line\n",
    "    close()- to close the file.\n",
    "    f = f is a file handle"
   ]
  },
  {
   "cell_type": "code",
   "execution_count": 265,
   "id": "bb1b47a6",
   "metadata": {},
   "outputs": [
    {
     "name": "stdout",
     "output_type": "stream",
     "text": [
      "My Name is Digvijay\n",
      "My Village name is Manjarde\n",
      "My Village is in SANGLI district\n",
      "\n",
      "I am trying to transit my career in data science\n"
     ]
    }
   ],
   "source": [
    "f = open('demo.txt') # bydefault read mode \n",
    "print(f.read())"
   ]
  },
  {
   "cell_type": "code",
   "execution_count": 266,
   "id": "ffb9967b",
   "metadata": {},
   "outputs": [
    {
     "name": "stdout",
     "output_type": "stream",
     "text": [
      "My Name is Digvijay\n",
      "My Village name is Manjarde\n",
      "My Village is in SANGLI district\n",
      "\n",
      "I am trying to transit my career in data science\n"
     ]
    }
   ],
   "source": [
    "f = open('demo.txt','r') \n",
    "print(f.read())"
   ]
  },
  {
   "cell_type": "code",
   "execution_count": 267,
   "id": "3e74b984",
   "metadata": {},
   "outputs": [
    {
     "name": "stdout",
     "output_type": "stream",
     "text": [
      "My Name is\n"
     ]
    }
   ],
   "source": [
    "# Reading files in parts\n",
    "# 1. Read first 10 characters\n",
    "\n",
    "f = open('demo.txt','r')\n",
    "print(f.read(10))"
   ]
  },
  {
   "cell_type": "code",
   "execution_count": 269,
   "id": "aaa5670e",
   "metadata": {},
   "outputs": [
    {
     "name": "stdout",
     "output_type": "stream",
     "text": [
      "My Name is Digvijay\n",
      "\n",
      "My Village name is Manjarde\n",
      "\n",
      "My Village is in SANGLI district\n",
      "\n",
      "\n",
      "\n",
      "I am trying to transit my career in data science\n"
     ]
    }
   ],
   "source": [
    "# 2. Read line by line\n",
    "f=open('demo.txt','r')\n",
    "print(f.readline())\n",
    "print(f.readline())\n",
    "print(f.readline())\n",
    "print(f.readline())\n",
    "print(f.readline())"
   ]
  },
  {
   "cell_type": "code",
   "execution_count": 270,
   "id": "4973b53d",
   "metadata": {},
   "outputs": [
    {
     "name": "stdout",
     "output_type": "stream",
     "text": [
      "My Name is Digvijay\n",
      "\n",
      "My Village name is Manjarde\n",
      "\n",
      "My Village is in SANGLI district\n",
      "\n",
      "\n",
      "\n",
      "I am trying to transit my career in data science\n"
     ]
    }
   ],
   "source": [
    "# 3. read using for loop\n",
    "\n",
    "f = open('demo.txt','r')\n",
    "for x in f:\n",
    "    print(x)\n",
    "f.close()"
   ]
  },
  {
   "cell_type": "markdown",
   "id": "a02ccb9d",
   "metadata": {},
   "source": [
    "###### Writing to existing file\n",
    "    \n",
    "    f.write()- writes contents to file\n",
    "    1. \"a\"\n",
    "    2. \"w\"\n",
    "    3. \"x\""
   ]
  },
  {
   "cell_type": "code",
   "execution_count": 271,
   "id": "fcd37c37",
   "metadata": {},
   "outputs": [
    {
     "name": "stdout",
     "output_type": "stream",
     "text": [
      "****************************************************************************************************\n",
      "My Name is Digvijay\n",
      "My Village name is Manjarde\n",
      "My Village is in SANGLI district\n",
      "\n",
      "I am trying to transit my career in data scienceThis is new string added\n"
     ]
    }
   ],
   "source": [
    "# 1. Append (\"a\")\n",
    "\n",
    "f=open('demo.txt','a')\n",
    "txt = \"This is new string added\"\n",
    "f.write(txt)\n",
    "f.close()\n",
    "\n",
    "print('*'*100)\n",
    "\n",
    "f=open('demo.txt','r')\n",
    "print(f.read())"
   ]
  },
  {
   "cell_type": "code",
   "execution_count": 274,
   "id": "3165642f",
   "metadata": {},
   "outputs": [
    {
     "name": "stdout",
     "output_type": "stream",
     "text": [
      "This is my new file\n",
      " It is created using write mode\n",
      "This is last line\n"
     ]
    }
   ],
   "source": [
    "# 2. Write (\"w\")\n",
    "\n",
    "f=open('demo.txt','w') # this will overwrite the existing file\n",
    "f.write(\"This is my new file\\n It is created using write mode\\nThis is last line\")\n",
    "f.close()\n",
    "\n",
    "f=open('demo.txt','r')\n",
    "print(f.read())\n",
    "f.close()"
   ]
  },
  {
   "cell_type": "code",
   "execution_count": 280,
   "id": "558c3bb6",
   "metadata": {},
   "outputs": [
    {
     "name": "stdout",
     "output_type": "stream",
     "text": [
      "This file is created in x mode\n",
      " So we have now many files created\n"
     ]
    }
   ],
   "source": [
    "# 3. Create Mode ('x')\n",
    "\n",
    "f=open('demo22.txt','x')\n",
    "f.write(\"This file is created in x mode\\n So we have now many files created\")\n",
    "f.close()\n",
    "\n",
    "f=open('demo22.txt','r')\n",
    "print(f.read())\n"
   ]
  },
  {
   "cell_type": "markdown",
   "id": "0b392f03",
   "metadata": {},
   "source": [
    "###### Removing file / Directory(folder)"
   ]
  },
  {
   "cell_type": "markdown",
   "id": "087be7c8",
   "metadata": {},
   "source": [
    "import os - Module\n",
    "\n",
    "use:\n",
    "\n",
    "    os.remove() function to delete file\n",
    "    os.rmdir() function to remove directory / folder"
   ]
  },
  {
   "cell_type": "code",
   "execution_count": 287,
   "id": "16582688",
   "metadata": {},
   "outputs": [
    {
     "name": "stdout",
     "output_type": "stream",
     "text": [
      "This file is created in x mode\n",
      " So we have now many files created\n"
     ]
    }
   ],
   "source": [
    "import os\n",
    "\n",
    "f=open('demo22.txt')\n",
    "print(f.read())\n",
    "f.close()\n",
    "\n",
    "os.remove('demo22.txt')"
   ]
  },
  {
   "cell_type": "code",
   "execution_count": 93,
   "id": "e5c3b63e",
   "metadata": {},
   "outputs": [],
   "source": [
    "# f.read('demo22.txt') # will get error"
   ]
  },
  {
   "cell_type": "markdown",
   "id": "795e2757",
   "metadata": {},
   "source": [
    "###### removing folder:\n",
    "\n",
    "os.rmdir() is a method in Python's built-in os module that allows you to remove (delete) a directory. \n",
    "\n",
    "    Note that os.rmdir() can only delete empty directories. If the directory contains any files or subdirectories, the method will raise an OSError exception. To delete a non-empty directory, you can use the shutil module's shutil.rmtree() method instead."
   ]
  },
  {
   "cell_type": "code",
   "execution_count": 289,
   "id": "e4067fee",
   "metadata": {},
   "outputs": [],
   "source": [
    "os.rmdir('sample')"
   ]
  },
  {
   "cell_type": "markdown",
   "id": "095ceaaf",
   "metadata": {},
   "source": [
    "###### creating folder\n",
    "\n",
    "os.mkdir() is a method in the os module that allows you to create a new directory.\n",
    "\n",
    "    Note that if the directory already exists, os.mkdir() will raise an OSError exception. To create a new directory only if it doesn't already exist, you can use the os.makedirs() method instead."
   ]
  },
  {
   "cell_type": "code",
   "execution_count": 290,
   "id": "2bc0c5e9",
   "metadata": {},
   "outputs": [],
   "source": [
    "os.mkdir('sample2')"
   ]
  },
  {
   "cell_type": "code",
   "execution_count": 291,
   "id": "612f295e",
   "metadata": {},
   "outputs": [],
   "source": [
    "os.rmdir('sample2')"
   ]
  },
  {
   "cell_type": "code",
   "execution_count": null,
   "id": "8833f9c3",
   "metadata": {},
   "outputs": [],
   "source": []
  }
 ],
 "metadata": {
  "kernelspec": {
   "display_name": "Python 3 (ipykernel)",
   "language": "python",
   "name": "python3"
  },
  "language_info": {
   "codemirror_mode": {
    "name": "ipython",
    "version": 3
   },
   "file_extension": ".py",
   "mimetype": "text/x-python",
   "name": "python",
   "nbconvert_exporter": "python",
   "pygments_lexer": "ipython3",
   "version": "3.12.0"
  }
 },
 "nbformat": 4,
 "nbformat_minor": 5
}
