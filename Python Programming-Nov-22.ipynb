{
 "cells": [
  {
   "cell_type": "code",
   "execution_count": 1,
   "id": "1ccf020d",
   "metadata": {},
   "outputs": [
    {
     "name": "stdout",
     "output_type": "stream",
     "text": [
      "Hello World\n"
     ]
    }
   ],
   "source": [
    "print(\"Hello World\")"
   ]
  },
  {
   "cell_type": "code",
   "execution_count": 4,
   "id": "0c8283f8",
   "metadata": {},
   "outputs": [
    {
     "name": "stdout",
     "output_type": "stream",
     "text": [
      "my world\n"
     ]
    }
   ],
   "source": [
    "print(\"my world\")"
   ]
  },
  {
   "cell_type": "code",
   "execution_count": 2,
   "id": "d89c5f2b",
   "metadata": {},
   "outputs": [
    {
     "data": {
      "text/plain": [
       "243.28571428571428"
      ]
     },
     "execution_count": 2,
     "metadata": {},
     "output_type": "execute_result"
    }
   ],
   "source": [
    "10+452*4/7-25"
   ]
  },
  {
   "cell_type": "code",
   "execution_count": 3,
   "id": "f7db0d9d",
   "metadata": {},
   "outputs": [
    {
     "data": {
      "text/plain": [
       "625"
      ]
     },
     "execution_count": 3,
     "metadata": {},
     "output_type": "execute_result"
    }
   ],
   "source": [
    "25*25"
   ]
  },
  {
   "cell_type": "code",
   "execution_count": 4,
   "id": "54e3623e",
   "metadata": {},
   "outputs": [
    {
     "data": {
      "text/plain": [
       "15625"
      ]
     },
     "execution_count": 4,
     "metadata": {},
     "output_type": "execute_result"
    }
   ],
   "source": [
    "125*125"
   ]
  },
  {
   "cell_type": "code",
   "execution_count": 1,
   "id": "a99f6f27",
   "metadata": {},
   "outputs": [
    {
     "name": "stdout",
     "output_type": "stream",
     "text": [
      "I Love India\n",
      "I\n",
      "e\n",
      "Love \n",
      "ove In\n",
      "dnyanade\n",
      "dnyanadeo Yashavant Jagadale\n",
      "28\n",
      "dnyanadeo \n",
      "adeo Yashavant Jagadale\n",
      "t\n"
     ]
    }
   ],
   "source": [
    "str1 = \"I Love India\"\n",
    "print(str1)\n",
    "\n",
    "print(str1[0])\n",
    "print(str1[5])\n",
    "\n",
    "\n",
    "len(str1)\n",
    "\n",
    "print(str1[2:7])\n",
    "\n",
    "print(str1[3:9])\n",
    "\n",
    "name = \"dnyanadeo Yashavant Jagadale\"\n",
    "print(name[0:8])\n",
    "\n",
    "\n",
    "print(name)\n",
    "print(len(name))\n",
    "print(name[:10])\n",
    "print(name[5:])\n",
    "\n",
    "print(name[-10])\n",
    "\n"
   ]
  },
  {
   "cell_type": "code",
   "execution_count": 2,
   "id": "b0463371",
   "metadata": {},
   "outputs": [
    {
     "name": "stdout",
     "output_type": "stream",
     "text": [
      "Hello World\n",
      "my world\n",
      "-----------------------------------\n",
      "The value of a is: 10\n",
      "<class 'int'>\n",
      "-----------------------------------\n",
      "The value of a is: 10.5\n",
      "<class 'float'>\n",
      "-----------------------------------\n",
      "The value of a is: (10+4j)\n",
      "<class 'complex'>\n",
      "-----------------------------------\n",
      "The value of a is: ddd\n",
      "<class 'str'>\n",
      "-----------------------------------\n",
      "The value of a is: True\n",
      "<class 'bool'>\n"
     ]
    }
   ],
   "source": [
    "print(\"Hello World\")\n",
    "\n",
    "print(\"my world\")\n",
    "\n",
    "10+452*4/7-25\n",
    "\n",
    "25*25\n",
    "\n",
    "125*125\n",
    "\n",
    "a = 10\n",
    "b = 10.5\n",
    "c = a+4j\n",
    "d = \"ddd\"\n",
    "e = True\n",
    "print(\"-----------------------------------\")\n",
    "print(\"The value of a is:\",(a))\n",
    "print(type(a))\n",
    "print(\"-----------------------------------\")\n",
    "print(\"The value of a is:\",(b))\n",
    "print(type(b))\n",
    "print(\"-----------------------------------\")\n",
    "print(\"The value of a is:\",(c))\n",
    "print(type(c))\n",
    "print(\"-----------------------------------\")\n",
    "print(\"The value of a is:\",(d))\n",
    "print(type(d))\n",
    "print(\"-----------------------------------\")\n",
    "print(\"The value of a is:\",(e))\n",
    "print(type(e))\n",
    "\n"
   ]
  },
  {
   "cell_type": "code",
   "execution_count": null,
   "id": "a67fa9c2",
   "metadata": {},
   "outputs": [],
   "source": [
    "#Bytes\n",
    "\n",
    "\n",
    "l = [1,2,3,4,5,6,7,8,9]\n",
    "b = bytes(l)\n",
    "print(b)\n",
    "print(l)\n",
    "print(type(b))\n",
    "print(type(l))\n",
    "\n",
    "print(\"valu of B[5]\",b[5])\n",
    "#b[5] = 10  'bytes' object does not support item assignment\n",
    "\n",
    "BA = bytearray([112,52,23])\n",
    "print(BA)\n",
    "\n",
    "for i in BA:\n",
    "    print(i)\n",
    "    print(BA[2])\n",
    "\n",
    "\n",
    "\n",
    "\n",
    "\n",
    "\n"
   ]
  }
 ],
 "metadata": {
  "kernelspec": {
   "display_name": "Python 3 (ipykernel)",
   "language": "python",
   "name": "python3"
  },
  "language_info": {
   "codemirror_mode": {
    "name": "ipython",
    "version": 3
   },
   "file_extension": ".py",
   "mimetype": "text/x-python",
   "name": "python",
   "nbconvert_exporter": "python",
   "pygments_lexer": "ipython3",
   "version": "3.11.0"
  },
  "widgets": {
   "application/vnd.jupyter.widget-state+json": {
    "state": {},
    "version_major": 2,
    "version_minor": 0
   }
  }
 },
 "nbformat": 4,
 "nbformat_minor": 5
}
