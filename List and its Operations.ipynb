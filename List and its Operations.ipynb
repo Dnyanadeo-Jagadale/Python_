{
 "cells": [
  {
   "cell_type": "code",
   "execution_count": 22,
   "id": "ec60ec4f",
   "metadata": {},
   "outputs": [
    {
     "name": "stdout",
     "output_type": "stream",
     "text": [
      "<class 'list'>\n",
      "[1, 2, 3, 4, 5, 6, 7, 8, 9]\n"
     ]
    }
   ],
   "source": [
    "l_1 = [1,2,3,4,5,6,7,8,9]\n",
    "print(type(l_1))\n",
    "print(l_1)"
   ]
  },
  {
   "cell_type": "code",
   "execution_count": 3,
   "id": "b7c2f478",
   "metadata": {},
   "outputs": [
    {
     "name": "stdout",
     "output_type": "stream",
     "text": [
      "[102, 'python', 'java', 2.2, 3.4]\n"
     ]
    }
   ],
   "source": [
    "#mix list\n",
    "l_m = [102,\"python\",\"java\",2.2,3.4]\n",
    "print(l_m)"
   ]
  },
  {
   "cell_type": "code",
   "execution_count": 12,
   "id": "a242068e",
   "metadata": {},
   "outputs": [
    {
     "data": {
      "text/plain": [
       "'python'"
      ]
     },
     "execution_count": 12,
     "metadata": {},
     "output_type": "execute_result"
    }
   ],
   "source": [
    "\n",
    "l_m[1]"
   ]
  },
  {
   "cell_type": "code",
   "execution_count": 11,
   "id": "4c280a4e",
   "metadata": {},
   "outputs": [
    {
     "data": {
      "text/plain": [
       "3"
      ]
     },
     "execution_count": 11,
     "metadata": {},
     "output_type": "execute_result"
    }
   ],
   "source": [
    "l_1[2]"
   ]
  },
  {
   "cell_type": "code",
   "execution_count": 16,
   "id": "9f26e802",
   "metadata": {},
   "outputs": [
    {
     "name": "stdout",
     "output_type": "stream",
     "text": [
      "[1, 2, 3]\n",
      "[5, 6]\n"
     ]
    }
   ],
   "source": [
    "print(l_1[0:3])\n",
    "print(l_1[-3:-1])"
   ]
  },
  {
   "cell_type": "markdown",
   "id": "7903d9a4",
   "metadata": {},
   "source": [
    "# list Operations"
   ]
  },
  {
   "cell_type": "code",
   "execution_count": null,
   "id": "a99b40e8",
   "metadata": {},
   "outputs": [],
   "source": [
    "#list1 = []\n",
    "\n",
    "list1.append()\n",
    "list1.clear()\n",
    "list1.copy()\n",
    "list1.count()\n",
    "list1.extend()\n",
    "list1.index()\n",
    "list1.insert(index,value)\n",
    "list1.pop()\n",
    "list1.remove()\n",
    "list1.reverse()\n",
    "list1.sort(reverse = True/False)"
   ]
  },
  {
   "cell_type": "code",
   "execution_count": 1,
   "id": "71ac91c6",
   "metadata": {},
   "outputs": [
    {
     "name": "stdout",
     "output_type": "stream",
     "text": [
      "[1, 2, 3, 4, 6, 8, 9, 7, 10, 25, 36, 14, 4]\n"
     ]
    }
   ],
   "source": [
    "#Append\n",
    "list1 = [1,2,3,4,6,8,9,7,10,25,36,14]\n",
    "list1.append(4)\n",
    "print(list1)"
   ]
  },
  {
   "cell_type": "code",
   "execution_count": 4,
   "id": "1f16c12f",
   "metadata": {},
   "outputs": [
    {
     "name": "stdout",
     "output_type": "stream",
     "text": [
      "\n",
      "orignal list [3, 4, 6, 8, 9, 7, 10, 25, 36, 14, 4]\n",
      "removed operation [4, 6, 8, 9, 7, 10, 25, 36, 14, 4]\n"
     ]
    }
   ],
   "source": [
    "#remove list elemrnt\n",
    "print(\"\\norignal list\",list1)\n",
    "list1.remove(3)\n",
    "print(\"removed operation\",list1)\n",
    "\n",
    "\n",
    "\n"
   ]
  },
  {
   "cell_type": "code",
   "execution_count": 6,
   "id": "522f8033",
   "metadata": {},
   "outputs": [
    {
     "name": "stdout",
     "output_type": "stream",
     "text": [
      "[1, 2, 3, 4, 6, 8, 9, 7, 10, 25, 36]\n"
     ]
    }
   ],
   "source": [
    "l_2= [1,2,3,4,6,8,9,7,10,25,36,14]\n",
    "l_2.remove(14)\n",
    "print(l_2)"
   ]
  },
  {
   "cell_type": "code",
   "execution_count": 7,
   "id": "ff5c79d3",
   "metadata": {},
   "outputs": [
    {
     "name": "stdout",
     "output_type": "stream",
     "text": [
      "[1, 2, 3, 4, 8, 9, 7, 10, 25, 36]\n"
     ]
    }
   ],
   "source": [
    "#remove by index\n",
    "indx = 10\n",
    "del l_2[4]\n",
    "print(l_2)\n"
   ]
  },
  {
   "cell_type": "code",
   "execution_count": 13,
   "id": "6b499aee",
   "metadata": {},
   "outputs": [
    {
     "name": "stdout",
     "output_type": "stream",
     "text": [
      "[1, 2, 3, 4, 8, 9, 7, 10, 25, 36]\n"
     ]
    }
   ],
   "source": [
    "print(l_2)"
   ]
  },
  {
   "cell_type": "code",
   "execution_count": 15,
   "id": "4b7cfc29",
   "metadata": {},
   "outputs": [
    {
     "name": "stdout",
     "output_type": "stream",
     "text": [
      "[1, 2, 3, 4, 8, 9, 7, 10, 25, 36]\n"
     ]
    }
   ],
   "source": [
    "#copy\n",
    "l_3 = l_2.copy()\n",
    "print(l_3)\n"
   ]
  },
  {
   "cell_type": "code",
   "execution_count": 23,
   "id": "6f6ea182",
   "metadata": {},
   "outputs": [
    {
     "name": "stdout",
     "output_type": "stream",
     "text": [
      "[1, 2, 3, 4, 8, 9, 7, 10, 25, 36]\n",
      "[1, 2, 3, 4, 8, 9, 7, 10, 25, 36, 102, 'python', 'java', 2.2, 3.4]\n"
     ]
    }
   ],
   "source": [
    "#extend\n",
    "l_m = [102,\"python\",\"java\",2.2,3.4]\n",
    "print(l_3)\n",
    "l_3.extend(l_m)\n",
    "print(l_3)"
   ]
  },
  {
   "cell_type": "code",
   "execution_count": 25,
   "id": "cf4a0278",
   "metadata": {},
   "outputs": [
    {
     "name": "stdout",
     "output_type": "stream",
     "text": [
      "['Dnyanadeo', 'Yashavant', 'Jagadale', 'B602', 'Mantra Senses', 'Near Atria Grande', 'Behind Hande Lawns', 'Handewadi']\n"
     ]
    }
   ],
   "source": [
    "list5 = [\"Dnyanadeo\", \"Yashavant\", \"Jagadale\"]\n",
    "list6 = [\"B602\",\"Mantra Senses\", \"Near Atria Grande\", \"Behind Hande Lawns\", \"Handewadi\"]\n",
    "list5.extend(list6)\n",
    "print(list5)\n",
    "#list5 = ['Dnyanadeo', 'Yashavant', 'Jagadale', 'B602', 'Mantra Senses', 'Near Atria Grande', 'Behind Hande Lawns', 'Handewadi']"
   ]
  },
  {
   "cell_type": "code",
   "execution_count": 37,
   "id": "414c19d3",
   "metadata": {},
   "outputs": [
    {
     "name": "stdout",
     "output_type": "stream",
     "text": [
      "program 1 Output:- \n",
      "['prem', 'Sham', 'Ravi', 'Rani']\n",
      "\n",
      "-------------------------------------\n",
      "program 2 Output:-\n",
      "['prem', 'Sham', 'Ravi', 'Rani', 'Gayatri', 'Vaishnavi', 'Poonam']\n"
     ]
    }
   ],
   "source": [
    "# Program (1) \n",
    "\n",
    "#There is team of three team member (Ram, Sham, Ravi) after that Prem is replaced with Ram and\n",
    "# Rani is added to the team.\n",
    "\n",
    "# Program (2) \n",
    "\n",
    "#Then add Team A and Team B.(Gayatri, Vaishnavi, Poonam ) \n",
    "# write a program to suport the statment.\n",
    "\n",
    "print(\"program 1 Output:- \")\n",
    "\n",
    "Team_A = [\"Ram\", \"Sham\",\"Ravi\"]\n",
    "Team_A.remove(\"Ram\")\n",
    "Team_A.insert(0,\"Prem\")\n",
    "Team_A.append(\"Rani\")\n",
    "print(Team_A)\n",
    "\n",
    "print(\"\\n-------------------------------------\")\n",
    "\n",
    "print(\"program 2 Output:-\")\n",
    "\n",
    "Team_B = [\"Gayatri\", \"Vaishnavi\", \"Poonam\"]\n",
    "Team_A.extend(Team_B)\n",
    "print(Team_A)\n",
    "\n",
    "\n"
   ]
  },
  {
   "cell_type": "code",
   "execution_count": 3,
   "id": "d4a607c8",
   "metadata": {},
   "outputs": [
    {
     "name": "stdout",
     "output_type": "stream",
     "text": [
      "['Dnyanadeo', 'Yashavant', 'Jagadale', 'B602', 'Mantra Senses', 'Near Atria Grande', 'Behind Hande Lawns', 'Handewadi']\n"
     ]
    }
   ],
   "source": [
    "list5 = ['Dnyanadeo', 'Yashavant', 'Jagadale', 'B602', 'Mantra Senses', 'Near Atria Grande', 'Behind Hande Lawns', 'Handewadi']\n",
    "print(list5)"
   ]
  },
  {
   "cell_type": "code",
   "execution_count": 4,
   "id": "d367a079",
   "metadata": {},
   "outputs": [
    {
     "name": "stdout",
     "output_type": "stream",
     "text": [
      "[10, 20, 30, 40, 50, 60, 70, 80, 90]\n"
     ]
    }
   ],
   "source": [
    "#pop can remove the last elements of the list.\n",
    "# pop also can remove the perticular elements by its index position.\n",
    "\n",
    "\n",
    "list_z = [10,20,30,40,50,60,70,80,90,100]\n",
    "list_z.pop()\n",
    "print(list_z)\n"
   ]
  },
  {
   "cell_type": "code",
   "execution_count": 6,
   "id": "dc4fb269",
   "metadata": {},
   "outputs": [
    {
     "name": "stdout",
     "output_type": "stream",
     "text": [
      "[10, 20, 30, 60, 70, 80, 90]\n"
     ]
    }
   ],
   "source": [
    "list_z.pop(3)\n",
    "print(list_z)"
   ]
  },
  {
   "cell_type": "code",
   "execution_count": 12,
   "id": "1776c172",
   "metadata": {},
   "outputs": [
    {
     "name": "stdout",
     "output_type": "stream",
     "text": [
      "['India', 'is', 'my', 'country']\n",
      "['country', 'my', 'is', 'India']\n",
      "['India', 'is', 'my', 'country']\n"
     ]
    }
   ],
   "source": [
    "#reverse\n",
    "\n",
    "l_n = [\"India\", \"is\", \"my\" , \"country\"]\n",
    "print(l_n)\n",
    "l_n.reverse()\n",
    "print(l_n)\n",
    "l_n.reverse()\n",
    "print(l_n)\n"
   ]
  },
  {
   "cell_type": "code",
   "execution_count": 24,
   "id": "6876374c",
   "metadata": {
    "scrolled": true
   },
   "outputs": [
    {
     "name": "stdout",
     "output_type": "stream",
     "text": [
      "['a', 'c', 'd', 'b', 'e', 'g', 'i', 'h']\n",
      "['a', 'b', 'c', 'd', 'e', 'g', 'h', 'i']\n"
     ]
    }
   ],
   "source": [
    "# sort\n",
    "alphbt = [\"a\",\"c\", \"d\", \"b\", \"e\", \"g\", \"i\", \"h\"]\n",
    "print(alphbt)\n",
    "#alphbt.sort()\n",
    "alphbt.sort(reverse = False) #(reverse = False) Asending Order\n",
    "print(alphbt)                 #(reverse = True) Disending Order"
   ]
  },
  {
   "cell_type": "code",
   "execution_count": 26,
   "id": "a35f665f",
   "metadata": {},
   "outputs": [
    {
     "name": "stdout",
     "output_type": "stream",
     "text": [
      "['a', 'b', 'c', 'd', 'e', 'I', 'love', 'India']\n"
     ]
    }
   ],
   "source": [
    "# modifing valus at one time\n",
    "alphbt = ['a', 'b', 'c', 'd', 'e', 'g', 'h', 'i']\n",
    "\n",
    "alphbt[5:] = [\"I\", \"love\", \"India\"]\n",
    "print(alphbt)"
   ]
  },
  {
   "cell_type": "code",
   "execution_count": 30,
   "id": "f8934a81",
   "metadata": {},
   "outputs": [
    {
     "name": "stdout",
     "output_type": "stream",
     "text": [
      "['All', 'indians', 'are', 'my', 'brothers', 'sisters', 'brothers', 'sisters', 'brother and sister', 'e', 'I', 'love', 'India']\n"
     ]
    }
   ],
   "source": [
    "alphbt[:4] = [\"All\", \"indians\", \"are\" ,\"my\" ,\"brothers\", \"sisters\"]\n",
    "print(alphbt)"
   ]
  },
  {
   "cell_type": "code",
   "execution_count": 19,
   "id": "6666f3ce",
   "metadata": {},
   "outputs": [
    {
     "name": "stdout",
     "output_type": "stream",
     "text": [
      "[1, 2, 3, 4]\n",
      "[1, 2, 3, 4]\n",
      "[1, 2, 3, 4]\n",
      "[1, 2, 3, 4]\n"
     ]
    }
   ],
   "source": [
    "ads = [1,2,3,4]\n",
    "for x in ads:\n",
    "    print(ads)"
   ]
  },
  {
   "cell_type": "code",
   "execution_count": 55,
   "id": "347de583",
   "metadata": {},
   "outputs": [],
   "source": [
    "list1 = [\"1\",\"2\",\"3\",\"4\"]\n",
    "#print(list1[0:])\n",
    "list1.insert(3,\"99\")\n",
    "print(list1)\n"
   ]
  },
  {
   "cell_type": "code",
   "execution_count": 48,
   "id": "073d8ce0",
   "metadata": {},
   "outputs": [
    {
     "name": "stdout",
     "output_type": "stream",
     "text": [
      "1\n",
      "2\n",
      "3\n",
      "4\n",
      "5\n",
      "6\n",
      "7\n",
      "8\n",
      "9\n",
      "10\n"
     ]
    }
   ],
   "source": [
    "for i in range(10):\n",
    "    i = i+1\n",
    "    print(i)"
   ]
  },
  {
   "cell_type": "code",
   "execution_count": 2,
   "id": "cce7b61d",
   "metadata": {},
   "outputs": [
    {
     "data": {
      "text/plain": [
       "[]"
      ]
     },
     "execution_count": 2,
     "metadata": {},
     "output_type": "execute_result"
    }
   ],
   "source": [
    "list1 = [\"1\",\"2\",\"3\",\"4\"]\n",
    "list1.clear()\n",
    "list1"
   ]
  },
  {
   "cell_type": "code",
   "execution_count": null,
   "id": "7d2b92c7",
   "metadata": {},
   "outputs": [],
   "source": []
  }
 ],
 "metadata": {
  "kernelspec": {
   "display_name": "Python 3 (ipykernel)",
   "language": "python",
   "name": "python3"
  },
  "language_info": {
   "codemirror_mode": {
    "name": "ipython",
    "version": 3
   },
   "file_extension": ".py",
   "mimetype": "text/x-python",
   "name": "python",
   "nbconvert_exporter": "python",
   "pygments_lexer": "ipython3",
   "version": "3.11.0"
  },
  "widgets": {
   "application/vnd.jupyter.widget-state+json": {
    "state": {},
    "version_major": 2,
    "version_minor": 0
   }
  }
 },
 "nbformat": 4,
 "nbformat_minor": 5
}
