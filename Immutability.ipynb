{
 "cells": [
  {
   "cell_type": "code",
   "execution_count": 2,
   "id": "2e58802a",
   "metadata": {},
   "outputs": [
    {
     "name": "stdout",
     "output_type": "stream",
     "text": [
      "140723302752136\n",
      "140723302752136\n",
      "True\n"
     ]
    }
   ],
   "source": [
    "#int\n",
    "var = 100\n",
    "var1 = var\n",
    "print(id(var))\n",
    "print(id(var1))\n",
    "print(var is var1)"
   ]
  },
  {
   "cell_type": "code",
   "execution_count": 3,
   "id": "6b67afb1",
   "metadata": {},
   "outputs": [
    {
     "name": "stdout",
     "output_type": "stream",
     "text": [
      "1685765345872\n",
      "1685765356368\n",
      "1685768385616\n"
     ]
    }
   ],
   "source": [
    "#float\n",
    "car = 200.10\n",
    "car1 = 200.10\n",
    "car2 = 200.10\n",
    "print(id(car))\n",
    "print(id(car1))\n",
    "print(id(car2))"
   ]
  },
  {
   "cell_type": "code",
   "execution_count": 9,
   "id": "b0a12e3b",
   "metadata": {},
   "outputs": [
    {
     "name": "stdout",
     "output_type": "stream",
     "text": [
      "id of x:  140723302752136\n",
      "id of y:  140723302752136\n",
      "id of z:  140723302752136\n"
     ]
    }
   ],
   "source": [
    "#int\n",
    "x = 100\n",
    "print(\"id of x: \",id(x))\n",
    "\n",
    "y = 100\n",
    "print(\"id of y: \",id(y))\n",
    "\n",
    "z = y\n",
    "print(\"id of z: \",id(z))"
   ]
  },
  {
   "cell_type": "code",
   "execution_count": 11,
   "id": "4c44fc92",
   "metadata": {},
   "outputs": [
    {
     "name": "stdout",
     "output_type": "stream",
     "text": [
      "id of x:  1685765357008\n",
      "id of y:  1685765356528\n",
      "id of z:  1685765356528\n"
     ]
    }
   ],
   "source": [
    "#float\n",
    "x = 100.10\n",
    "print(\"id of x: \",id(x))\n",
    "\n",
    "y = 100.10\n",
    "print(\"id of y: \",id(y))\n",
    "\n",
    "z = y\n",
    "print(\"id of z: \",id(z))"
   ]
  },
  {
   "cell_type": "code",
   "execution_count": null,
   "id": "6c3b49ff",
   "metadata": {},
   "outputs": [],
   "source": []
  }
 ],
 "metadata": {
  "kernelspec": {
   "display_name": "Python 3 (ipykernel)",
   "language": "python",
   "name": "python3"
  },
  "language_info": {
   "codemirror_mode": {
    "name": "ipython",
    "version": 3
   },
   "file_extension": ".py",
   "mimetype": "text/x-python",
   "name": "python",
   "nbconvert_exporter": "python",
   "pygments_lexer": "ipython3",
   "version": "3.11.0"
  }
 },
 "nbformat": 4,
 "nbformat_minor": 5
}
