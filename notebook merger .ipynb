{
 "cells": [
  {
   "cell_type": "code",
   "execution_count": 37,
   "id": "9ff5e2d1",
   "metadata": {},
   "outputs": [
    {
     "ename": "FileNotFoundError",
     "evalue": "[Errno 2] No such file or directory: 'C'",
     "output_type": "error",
     "traceback": [
      "\u001b[1;31m---------------------------------------------------------------------------\u001b[0m",
      "\u001b[1;31mFileNotFoundError\u001b[0m                         Traceback (most recent call last)",
      "Cell \u001b[1;32mIn[37], line 20\u001b[0m\n\u001b[0;32m     17\u001b[0m notebook_paths \u001b[38;5;241m=\u001b[39m [os\u001b[38;5;241m.\u001b[39mpath\u001b[38;5;241m.\u001b[39mjoin(directory, name) \u001b[38;5;28;01mfor\u001b[39;00m name \u001b[38;5;129;01min\u001b[39;00m notebook_names]\n\u001b[0;32m     19\u001b[0m \u001b[38;5;66;03m# Merge the notebooks\u001b[39;00m\n\u001b[1;32m---> 20\u001b[0m \u001b[43mnbmerge\u001b[49m\u001b[38;5;241;43m.\u001b[39;49m\u001b[43mmerge_notebooks\u001b[49m\u001b[43m(\u001b[49m\u001b[43mnotebook_paths\u001b[49m\u001b[43m,\u001b[49m\u001b[43m \u001b[49m\u001b[43mmerged_notebook_name\u001b[49m\u001b[43m)\u001b[49m\n\u001b[0;32m     22\u001b[0m \u001b[38;5;66;03m# Print a message indicating that the notebooks have been merged\u001b[39;00m\n\u001b[0;32m     23\u001b[0m \u001b[38;5;28mprint\u001b[39m(\u001b[38;5;124m\"\u001b[39m\u001b[38;5;124mThe notebooks have been merged into \u001b[39m\u001b[38;5;132;01m{0}\u001b[39;00m\u001b[38;5;124m\"\u001b[39m\u001b[38;5;241m.\u001b[39mformat(merged_notebook_name))\n",
      "File \u001b[1;32m~\\AppData\\Local\\Programs\\Python\\Python311\\Lib\\site-packages\\nbmerge\\__init__.py:69\u001b[0m, in \u001b[0;36mmerge_notebooks\u001b[1;34m(base_dir, file_paths, verbose, boundary_key)\u001b[0m\n\u001b[0;32m     66\u001b[0m     \u001b[38;5;28mprint\u001b[39m(\u001b[38;5;124m\"\u001b[39m\u001b[38;5;124mMerging notebooks...\u001b[39m\u001b[38;5;124m\"\u001b[39m)\n\u001b[0;32m     68\u001b[0m \u001b[38;5;28;01mfor\u001b[39;00m path \u001b[38;5;129;01min\u001b[39;00m file_paths:\n\u001b[1;32m---> 69\u001b[0m     \u001b[38;5;28;01mwith\u001b[39;00m io\u001b[38;5;241m.\u001b[39mopen(path, \u001b[38;5;124m'\u001b[39m\u001b[38;5;124mr\u001b[39m\u001b[38;5;124m'\u001b[39m, encoding\u001b[38;5;241m=\u001b[39m\u001b[38;5;124m'\u001b[39m\u001b[38;5;124mutf-8\u001b[39m\u001b[38;5;124m'\u001b[39m) \u001b[38;5;28;01mas\u001b[39;00m fp:\n\u001b[0;32m     70\u001b[0m         \u001b[38;5;28;01mif\u001b[39;00m verbose:\n\u001b[0;32m     71\u001b[0m             \u001b[38;5;28mprint\u001b[39m(\u001b[38;5;124m\"\u001b[39m\u001b[38;5;130;01m\\t\u001b[39;00m\u001b[38;5;124mReading `\u001b[39m\u001b[38;5;132;01m{}\u001b[39;00m\u001b[38;5;124m`\u001b[39m\u001b[38;5;124m\"\u001b[39m\u001b[38;5;241m.\u001b[39mformat(path))\n",
      "\u001b[1;31mFileNotFoundError\u001b[0m: [Errno 2] No such file or directory: 'C'"
     ]
    }
   ],
   "source": [
    "import nbmerge\n",
    "import os\n",
    "import pandas\n",
    "import nbformat\n",
    "\n",
    "# Define the directory containing the notebooks to merge\n",
    "directory = r\"C://\\\\Users\\\\Jdnya\\\\Downloads\\\\\"\n",
    "\n",
    "\n",
    "# Define the names of the notebooks to merge\n",
    "notebook_names = [\"Assignment String Slicing.ipynb\",\"Bytes and Byte Array Data Types.ipynb\",\"practice.ipynb\",\"Immutability.ipynb\", \"Assignment String Slicing.ipynb\",\"Typecasting.ipynb\",\"List and its Operations.ipynb\",\"tuple conversion to list.ipynb\", \"Set.ipynb\", \"Dictionary.ipynb\", \"Frozenset.ipynb\", \"methods all.ipynb\",\"Tuple.ipynb\", \"Operators.ipynb\", \"Conditional Statements.ipynb\",\"Loops.ipynb\",\"Function.ipynb\", \"Lambda Function.ipynb\", \"practice.ipynb\", \"Python Programming-Nov-22.ipynb\", \"Bytes and Byte Array Data Types.ipynb\"]\n",
    "\n",
    "# Define the name of the merged notebook\n",
    "merged_notebook_name = os.path.join(directory, \"merged.ipynb\")\n",
    "\n",
    "# Create a list of the full paths to the notebooks to merge\n",
    "notebook_paths = [os.path.join(directory, name) for name in notebook_names]\n",
    "\n",
    "# Merge the notebooks\n",
    "nbmerge.merge_notebooks(notebook_paths, merged_notebook_name)\n",
    "\n",
    "# Print a message indicating that the notebooks have been merged\n",
    "print(\"The notebooks have been merged into {0}\".format(merged_notebook_name))\n"
   ]
  },
  {
   "cell_type": "code",
   "execution_count": 18,
   "id": "9207cfc6",
   "metadata": {},
   "outputs": [
    {
     "name": "stdout",
     "output_type": "stream",
     "text": [
      "Requirement already satisfied: nbmerge in c:\\users\\jdnya\\appdata\\local\\programs\\python\\python311\\lib\\site-packages (0.0.4)\n",
      "Note: you may need to restart the kernel to use updated packages.\n"
     ]
    },
    {
     "name": "stderr",
     "output_type": "stream",
     "text": [
      "\n",
      "[notice] A new release of pip available: 22.3.1 -> 23.0.1\n",
      "[notice] To update, run: python.exe -m pip install --upgrade pip\n"
     ]
    }
   ],
   "source": [
    "pip install nbmerge"
   ]
  },
  {
   "cell_type": "code",
   "execution_count": 19,
   "id": "ad268975",
   "metadata": {},
   "outputs": [
    {
     "name": "stderr",
     "output_type": "stream",
     "text": [
      "Traceback (most recent call last):\n",
      "  File \"<frozen runpy>\", line 198, in _run_module_as_main\n",
      "  File \"<frozen runpy>\", line 88, in _run_code\n",
      "  File \"C:\\Users\\Jdnya\\AppData\\Local\\Programs\\Python\\Python311\\Scripts\\nbmerge.exe\\__main__.py\", line 7, in <module>\n",
      "  File \"C:\\Users\\Jdnya\\AppData\\Local\\Programs\\Python\\Python311\\Lib\\site-packages\\nbmerge\\__init__.py\", line 189, in main\n",
      "    plan = parse_plan(args)\n",
      "           ^^^^^^^^^^^^^^^^\n",
      "  File \"C:\\Users\\Jdnya\\AppData\\Local\\Programs\\Python\\Python311\\Lib\\site-packages\\nbmerge\\__init__.py\", line 173, in parse_plan\n",
      "    raise IOError(\"Notebook `{}` does not exist\".format(file_path))\n",
      "OSError: Notebook `Assignment` does not exist\n"
     ]
    }
   ],
   "source": [
    "!nbmerge Assignment String Slicing.ipynb Bytes and Byte Array Data Types.ipynb practice.ipynb Immutability.ipynb  Assignment String Slicing.ipynb Typecasting.ipynb List and its Operations.ipynb tuple conversion to list.ipynb  Set.ipynb  Dictionary.ipynb  Frozenset.ipynb  methods all.ipynb Tuple.ipynb  Operators.ipynb  Conditional Statements.ipynb Loops.ipynb Function.ipynb  Lambda Function.ipynb  practice.ipynb  Python Programming-Nov-22.ipynb  Bytes and Byte Array Data Types.ipynb -o merged.ipynb"
   ]
  },
  {
   "cell_type": "code",
   "execution_count": null,
   "id": "3b1fcd5d",
   "metadata": {},
   "outputs": [],
   "source": []
  }
 ],
 "metadata": {
  "kernelspec": {
   "display_name": "Python 3 (ipykernel)",
   "language": "python",
   "name": "python3"
  },
  "language_info": {
   "codemirror_mode": {
    "name": "ipython",
    "version": 3
   },
   "file_extension": ".py",
   "mimetype": "text/x-python",
   "name": "python",
   "nbconvert_exporter": "python",
   "pygments_lexer": "ipython3",
   "version": "3.11.0"
  }
 },
 "nbformat": 4,
 "nbformat_minor": 5
}
