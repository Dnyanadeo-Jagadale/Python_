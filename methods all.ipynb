{
 "cells": [
  {
   "cell_type": "markdown",
   "id": "29fd6809",
   "metadata": {},
   "source": [
    "## String"
   ]
  },
  {
   "cell_type": "raw",
   "id": "0da4ed2f",
   "metadata": {},
   "source": [
    "a = \"abc\"\n",
    "a.capitalize\n",
    "a.casefold\n",
    "a.center\n",
    "a.count\n",
    "a.encode\n",
    "a.endswith\n",
    "a.expandtabs\n",
    "a.find\n",
    "a.format\n",
    "a.format_map\n",
    "a.index\n",
    "a.isalnum\n",
    "a.isalpha\n",
    "a.isascii\n",
    "a.isdecimal\n",
    "a.isdigit\n",
    "a.isidentifier\n",
    "a.islower\n",
    "a.isnumeric\n",
    "a.isprintable\n",
    "a.isspace\n",
    "a.istitle\n",
    "a.isupper\n",
    "a.join\n",
    "a.ljust\n",
    "a.lower\n",
    "a.lstrip\n",
    "a.maketrans\n",
    "a.partition\n",
    "a.removeprefix\n",
    "a.removesuffix\n",
    "a.replace\n",
    "a.rfind\n",
    "a.rindex\n",
    "a.rjust\n",
    "a.rpartition\n",
    "a.rsplit\n",
    "a.rstrip\n",
    "a.split\n",
    "a.splitlines\n",
    "a.startswith\n",
    "a.strip\n",
    "a.swapcase\n",
    "a.title\n",
    "a.translate\n",
    "a.upper\n",
    "a.zfill"
   ]
  },
  {
   "cell_type": "code",
   "execution_count": 4,
   "id": "47830437",
   "metadata": {},
   "outputs": [
    {
     "name": "stdout",
     "output_type": "stream",
     "text": [
      "<class 'str'>\n"
     ]
    }
   ],
   "source": []
  },
  {
   "cell_type": "code",
   "execution_count": null,
   "id": "281be819",
   "metadata": {},
   "outputs": [],
   "source": []
  }
 ],
 "metadata": {
  "kernelspec": {
   "display_name": "Python 3 (ipykernel)",
   "language": "python",
   "name": "python3"
  },
  "language_info": {
   "codemirror_mode": {
    "name": "ipython",
    "version": 3
   },
   "file_extension": ".py",
   "mimetype": "text/x-python",
   "name": "python",
   "nbconvert_exporter": "python",
   "pygments_lexer": "ipython3",
   "version": "3.11.0"
  }
 },
 "nbformat": 4,
 "nbformat_minor": 5
}
