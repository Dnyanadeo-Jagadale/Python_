{
 "cells": [
  {
   "cell_type": "markdown",
   "id": "ffcd012f",
   "metadata": {},
   "source": [
    "### Operators"
   ]
  },
  {
   "cell_type": "markdown",
   "id": "cf27a523",
   "metadata": {},
   "source": [
    "1. Arthmetic opeators\n",
    "2. Assignments Operators\n",
    "3. Comparison \n",
    "4. logical Operators\n",
    "5. Identity Operators\n",
    "6. Membership Operators\n",
    "7. Bitwise Operators"
   ]
  },
  {
   "cell_type": "markdown",
   "id": "e381652d",
   "metadata": {},
   "source": [
    "# 1.Arthmetic opeators"
   ]
  },
  {
   "cell_type": "markdown",
   "id": "edf64286",
   "metadata": {},
   "source": [
    "1. +  Addition       x + y\n",
    "2. -  Subtraction    x - y\n",
    "3. *  Multiplication x * y\n",
    "4. /  Division       x / y\n",
    "5. %  Modulus        x % y\n",
    "6. ** Exponentiation x ** y\n",
    "7. // Floor Division x // y"
   ]
  },
  {
   "cell_type": "code",
   "execution_count": 26,
   "id": "f0f05252",
   "metadata": {},
   "outputs": [
    {
     "name": "stdout",
     "output_type": "stream",
     "text": [
      "--------------------Addition---------------\n",
      "1468.0\n",
      "\n",
      "------------------Subtraction-------------\n",
      "1444.0\n",
      "\n",
      "------------------Multiplication-------------\n",
      "17472.0\n",
      "\n",
      "------------------Division-------------\n",
      "121.33333333333333\n",
      "\n",
      "------------------Modulus-------------\n",
      "remainder of 1456.0 MOD 12.0 is 4.0\n",
      "\n",
      "------------------Exponentiation-------------\n",
      "9.076878030950185e+37\n",
      "\n",
      "------------------Floor Division-------------\n",
      "121.0\n"
     ]
    }
   ],
   "source": [
    "x = 1456.0\n",
    "y = 12.0\n",
    "\n",
    "#Addition\n",
    "print(\"--------------------Addition---------------\")\n",
    "print(x+y)\n",
    "#xx\n",
    "#subtraction\n",
    "print(\"\\n------------------Subtraction-------------\")\n",
    "print(x-y)\n",
    "#xx\n",
    "#Multiplication\n",
    "print(\"\\n------------------Multiplication-------------\")\n",
    "print(x*y)\n",
    "#xx\n",
    "#Division\n",
    "print(\"\\n------------------Division-------------\")\n",
    "print(x/y)\n",
    "#xx\n",
    "#Modulus\n",
    "print(\"\\n------------------Modulus-------------\")\n",
    "print(\"remainder of\",x, \"MOD\", y, \"is\" ,x%y)\n",
    "\n",
    "\n",
    "#Exponentiation\n",
    "print(\"\\n------------------Exponentiation-------------\")\n",
    "print(x**y)\n",
    "\n",
    "#Floor Division\n",
    "print(\"\\n------------------Floor Division-------------\")\n",
    "print(x//y)\n"
   ]
  },
  {
   "cell_type": "markdown",
   "id": "09a56f41",
   "metadata": {},
   "source": [
    ".\n",
    ".\n",
    ".\n",
    ".\n",
    "\n",
    "\n",
    "\n",
    "\n",
    "\n",
    "\n",
    "."
   ]
  },
  {
   "cell_type": "markdown",
   "id": "df7f4fab",
   "metadata": {},
   "source": [
    "# 2.  Assignments Operators"
   ]
  },
  {
   "cell_type": "raw",
   "id": "ac3598c1",
   "metadata": {},
   "source": [
    "=\t x = 5\t  x = 5\t\n",
    "+=\t x += 3\t  x = x + 3\n",
    "-=\t x -= 3\t  x = x - 3\n",
    "*=\t x *= 3\t  x = x * 3\n",
    "/=\t x /= 3\t  x = x / 3\n",
    "%=\t x %= 3\t  x = x % 3\n",
    "//=\t x //= 3  x = x // 3\n",
    "**=\t x **= 3  x = x ** 3\n"
   ]
  },
  {
   "cell_type": "code",
   "execution_count": 42,
   "id": "a3953f55",
   "metadata": {},
   "outputs": [
    {
     "name": "stdout",
     "output_type": "stream",
     "text": [
      "5\n"
     ]
    }
   ],
   "source": [
    "#simple assignment\n",
    "x = 5\n",
    "print(x)"
   ]
  },
  {
   "cell_type": "code",
   "execution_count": 44,
   "id": "9da8746b",
   "metadata": {},
   "outputs": [
    {
     "name": "stdout",
     "output_type": "stream",
     "text": [
      "100\n"
     ]
    }
   ],
   "source": [
    "#add and assign\n",
    "x+=100\n",
    "print(x)"
   ]
  },
  {
   "cell_type": "code",
   "execution_count": 45,
   "id": "0dbc3da2",
   "metadata": {},
   "outputs": [
    {
     "name": "stdout",
     "output_type": "stream",
     "text": [
      "95\n"
     ]
    }
   ],
   "source": [
    "#substract and assign\n",
    "x -= 5\n",
    "print(x)"
   ]
  },
  {
   "cell_type": "code",
   "execution_count": 46,
   "id": "1c423924",
   "metadata": {},
   "outputs": [
    {
     "name": "stdout",
     "output_type": "stream",
     "text": [
      "190\n"
     ]
    }
   ],
   "source": [
    "# Multiplication and assign\n",
    "x *= 2\n",
    "print(x)"
   ]
  },
  {
   "cell_type": "code",
   "execution_count": 47,
   "id": "9cee5527",
   "metadata": {},
   "outputs": [
    {
     "name": "stdout",
     "output_type": "stream",
     "text": [
      "19.0\n"
     ]
    }
   ],
   "source": [
    "# div and assign\n",
    "x /= 10\n",
    "print(x)\n"
   ]
  },
  {
   "cell_type": "code",
   "execution_count": 48,
   "id": "1fac9cfe",
   "metadata": {},
   "outputs": [
    {
     "name": "stdout",
     "output_type": "stream",
     "text": [
      "4.0\n"
     ]
    }
   ],
   "source": [
    "#floor division and assignment\n",
    "x //= 4\n",
    "print(x)\n"
   ]
  },
  {
   "cell_type": "code",
   "execution_count": 50,
   "id": "f77ca369",
   "metadata": {},
   "outputs": [
    {
     "name": "stdout",
     "output_type": "stream",
     "text": [
      "1048576.0\n"
     ]
    }
   ],
   "source": [
    "#exponent and assign\n",
    "x **= 10\n",
    "print(x)"
   ]
  },
  {
   "cell_type": "code",
   "execution_count": 51,
   "id": "3aefeac3",
   "metadata": {},
   "outputs": [
    {
     "name": "stdout",
     "output_type": "stream",
     "text": [
      "4.100000000036884\n"
     ]
    }
   ],
   "source": [
    "#modulu\n",
    "x %= 10.10\n",
    "print(x)"
   ]
  },
  {
   "cell_type": "markdown",
   "id": "a6185db9",
   "metadata": {},
   "source": [
    "# 3. Comparison Operatiors"
   ]
  },
  {
   "cell_type": "raw",
   "id": "cabee485",
   "metadata": {},
   "source": [
    "# Operatiors \n",
    "&=     x &= 3     x = x & 3\n",
    "|=     x |= 3     x = x | 3\n",
    "^=     x ^= 3     x = x ^ 3\n",
    ">>=    x >>= 3    x = x >> 3\n",
    "<<=    x <<= 3    x = x << 3"
   ]
  },
  {
   "cell_type": "code",
   "execution_count": 1,
   "id": "1c466eb3",
   "metadata": {},
   "outputs": [
    {
     "name": "stdout",
     "output_type": "stream",
     "text": [
      "5\n",
      "x and z is Equal, hence consition is :-  False\n"
     ]
    }
   ],
   "source": [
    "# 1. == Equal\n",
    "x = 5\n",
    "z = input(in)\n",
    "y = 5\n",
    "print(\"x and z is Equal, hence consition is :- \",x == z)"
   ]
  },
  {
   "cell_type": "code",
   "execution_count": 31,
   "id": "979dd5ed",
   "metadata": {},
   "outputs": [
    {
     "name": "stdout",
     "output_type": "stream",
     "text": [
      "n and m is not Equal, hence consition is:-  True\n"
     ]
    }
   ],
   "source": [
    "#2.!= Not Equal\n",
    "n = 10\n",
    "m = 12\n",
    "print(\"n and m is not Equal, hence consition is:- \", n!=m)"
   ]
  },
  {
   "cell_type": "code",
   "execution_count": 32,
   "id": "ac598d48",
   "metadata": {},
   "outputs": [
    {
     "name": "stdout",
     "output_type": "stream",
     "text": [
      "10 is not greater than 12 hence, condition is :-   False\n"
     ]
    }
   ],
   "source": [
    "#3. Greater than\n",
    "n = 10\n",
    "m = 12\n",
    "print(\"10 is not greater than 12 hence, condition is :-  \",n>m)"
   ]
  },
  {
   "cell_type": "code",
   "execution_count": 33,
   "id": "d8389314",
   "metadata": {},
   "outputs": [
    {
     "name": "stdout",
     "output_type": "stream",
     "text": [
      "10 is less than 12 hence, condition is :-   True\n"
     ]
    }
   ],
   "source": [
    "#4. less than\n",
    "n = 10\n",
    "m = 12\n",
    "print(\"10 is less than 12 hence, condition is :-  \",n<m)"
   ]
  },
  {
   "cell_type": "code",
   "execution_count": 34,
   "id": "09541188",
   "metadata": {},
   "outputs": [
    {
     "name": "stdout",
     "output_type": "stream",
     "text": [
      "10 is not greater than 10 but equal to hence, condition is :-   True\n"
     ]
    }
   ],
   "source": [
    "# 5. greater than equal to\n",
    "n = 10\n",
    "m = 10\n",
    "print(\"10 is not 'Greater' than 10 but equal to 10 hence, condition is :-  \",n>=m)"
   ]
  },
  {
   "cell_type": "code",
   "execution_count": 39,
   "id": "7d419e84",
   "metadata": {},
   "outputs": [
    {
     "name": "stdout",
     "output_type": "stream",
     "text": [
      "11 is not 'Less' than 11 but equal to 11 hence, condition is :-   True\n"
     ]
    }
   ],
   "source": [
    "# 5. greater than equal to\n",
    "n = 11\n",
    "m = 11\n",
    "print(\"11 is not 'Less' than 11 but equal to 11 hence, condition is :-  \",n<=m)"
   ]
  },
  {
   "cell_type": "code",
   "execution_count": 2,
   "id": "3e0c1a83",
   "metadata": {},
   "outputs": [
    {
     "name": "stdout",
     "output_type": "stream",
     "text": [
      "Dnyanadeo is big brother\n"
     ]
    }
   ],
   "source": [
    "jd = \"Dipak\"\n",
    "dj = \"Dnyanadeo\"\n",
    "if jd>dj:\n",
    "    print(\"Dipak is big brother\")\n",
    "else:\n",
    "    print(\"Dnyanadeo is big brother\")\n"
   ]
  },
  {
   "cell_type": "markdown",
   "id": "b9e73c6a",
   "metadata": {},
   "source": [
    "# 4. Logical operators"
   ]
  },
  {
   "cell_type": "code",
   "execution_count": 8,
   "id": "570c9b98",
   "metadata": {
    "scrolled": true
   },
   "outputs": [
    {
     "name": "stdout",
     "output_type": "stream",
     "text": [
      "False\n",
      "True\n",
      "False\n",
      "True\n",
      "True\n"
     ]
    }
   ],
   "source": [
    "#  and Opetators :-\n",
    "#true and true --->  true\n",
    "#true and false --->  false\n",
    "x = 3\n",
    "print((x<5) and (x>5))\n",
    "\n",
    "# or Operatrs\n",
    "\n",
    "#true or true --->  true\n",
    "#true or false --->  true\n",
    "\n",
    "print((x<5) or (x>5))\n",
    "\n",
    "#not Operators\n",
    "\n",
    "#     not (x<5) ---->false\n",
    "#  without not (x<5)----> true\n",
    "\n",
    "print(not (x<5))\n",
    "print(not (x>5))\n",
    "print((x<5))\n",
    "\n",
    "\n",
    "\n"
   ]
  },
  {
   "cell_type": "markdown",
   "id": "6bddceb7",
   "metadata": {},
   "source": [
    "# 5. identy operators"
   ]
  },
  {
   "cell_type": "code",
   "execution_count": 10,
   "id": "1849dc0e",
   "metadata": {},
   "outputs": [],
   "source": [
    "\n",
    "# 1. is : returns true if both varible are the same object\n",
    "# x is y\n",
    "\n",
    "#2. is not: returns true if both varible are not the same object \n",
    "#x is not y\n"
   ]
  },
  {
   "cell_type": "code",
   "execution_count": 17,
   "id": "b2c97974",
   "metadata": {},
   "outputs": [
    {
     "name": "stdout",
     "output_type": "stream",
     "text": [
      "value of x:  10\n",
      "value of x:  140714433565768\n",
      "value of y:  10\n",
      "value of y:  140714433565768\n",
      "True\n"
     ]
    }
   ],
   "source": [
    "x = 10\n",
    "y = 10\n",
    "print (\"value of x: \", x)\n",
    "print (\"value of x: \",id(x))\n",
    "print (\"value of y: \", y)\n",
    "print (\"value of y: \", id(y))\n",
    "print(x is y)\n",
    "\n",
    "\n"
   ]
  },
  {
   "cell_type": "markdown",
   "id": "36e113ca",
   "metadata": {},
   "source": [
    "# Membership Operators\n"
   ]
  },
  {
   "cell_type": "code",
   "execution_count": null,
   "id": "9cf8473f",
   "metadata": {},
   "outputs": [],
   "source": [
    "# in : Returns True if a sequence with the specified value is present in the object\n",
    "# x in y\n",
    "# not in:  Returns True if a sequence with the specified value is not present in the object\n",
    "# x not in y"
   ]
  },
  {
   "cell_type": "code",
   "execution_count": 19,
   "id": "fa5b22b7",
   "metadata": {},
   "outputs": [
    {
     "name": "stdout",
     "output_type": "stream",
     "text": [
      "True\n"
     ]
    }
   ],
   "source": [
    "l = [10,20,30,\"ram\",45,\"sham\"]\n",
    "\n",
    "print(\"ram\" in l)\n"
   ]
  },
  {
   "cell_type": "markdown",
   "id": "0110b5cd",
   "metadata": {},
   "source": [
    "# Bitwise Operators"
   ]
  },
  {
   "cell_type": "code",
   "execution_count": null,
   "id": "6064ed5b",
   "metadata": {},
   "outputs": [],
   "source": [
    "# & AND\tSets each bit to 1 if both bits are 1\n",
    "#  |    OR   Sets each bit to 1 if one of two bits is 1\n",
    "#  ^   XOR   Sets each bit to 1 if only one of two bits is 1\n",
    "#  ~   NOT   Inverts all the bits\n",
    "# <<  Zero   fill left shift\tShift left by pushing zeros in from the right and let the leftmost bits fall off\n",
    "#>>  Signed  right shift\tShift right by pushing copies of the leftmost bit in from the left, and let the rightmost bits fall off\n",
    "#"
   ]
  },
  {
   "cell_type": "code",
   "execution_count": 48,
   "id": "b9caeb52",
   "metadata": {},
   "outputs": [
    {
     "name": "stdout",
     "output_type": "stream",
     "text": [
      "bitwise for :-'AND Operator' 4\n",
      "\n",
      "\n",
      "bitwise for :-'OR Operator' 5\n",
      "\n",
      "\n",
      "bitwise for :-'XOR Operator' 1\n",
      "\n",
      "\n",
      "bitwise for :-'NOT Operator' 15\n",
      "\n",
      "\n",
      "bitwise for :-'Left Shift' 16\n",
      "\n",
      "\n",
      "bitwise for :-'Right Shift' 1\n"
     ]
    }
   ],
   "source": [
    "x = 4       # 1 0 0\n",
    "y = 5       # 1 0 1\n",
    "z = x & y   # 1 0 0 = 4 \n",
    "print(\"bitwise for :-'AND Operator'\",z)\n",
    "\n",
    "print(\"\\n\")\n",
    "\n",
    "x = 4       # 1 0 0\n",
    "y = 5       # 1 0 1 \n",
    "z = x | y   # 1 0 1 = 5\n",
    "print(\"bitwise for :-'OR Operator'\",z)\n",
    "\n",
    "print(\"\\n\")\n",
    "\n",
    "x = 4\n",
    "y = 5\n",
    "z = x ^ y\n",
    "print(\"bitwise for :-'XOR Operator'\",z)\n",
    "\n",
    "print(\"\\n\")\n",
    "\n",
    "#x = 4\n",
    "y = ~ -16\n",
    "\n",
    "print(\"bitwise for :-'NOT Operator'\",y)\n",
    "\n",
    "print(\"\\n\")\n",
    "\n",
    "x = 4\n",
    "y = 5\n",
    "z = x << 2\n",
    "print(\"bitwise for :-'Left Shift'\",z)\n",
    "\n",
    "\n",
    "print(\"\\n\")\n",
    "\n",
    "x = 4\n",
    "y = 5\n",
    "z = x >> 2\n",
    "print(\"bitwise for :-'Right Shift'\",z)\n",
    "\n",
    "\n",
    "\n"
   ]
  },
  {
   "cell_type": "code",
   "execution_count": null,
   "id": "87d3a789",
   "metadata": {},
   "outputs": [],
   "source": []
  },
  {
   "cell_type": "code",
   "execution_count": null,
   "id": "fce71a75",
   "metadata": {},
   "outputs": [],
   "source": []
  },
  {
   "cell_type": "code",
   "execution_count": null,
   "id": "46e2b98e",
   "metadata": {},
   "outputs": [],
   "source": []
  }
 ],
 "metadata": {
  "kernelspec": {
   "display_name": "Python 3 (ipykernel)",
   "language": "python",
   "name": "python3"
  },
  "language_info": {
   "codemirror_mode": {
    "name": "ipython",
    "version": 3
   },
   "file_extension": ".py",
   "mimetype": "text/x-python",
   "name": "python",
   "nbconvert_exporter": "python",
   "pygments_lexer": "ipython3",
   "version": "3.11.0"
  }
 },
 "nbformat": 4,
 "nbformat_minor": 5
}
