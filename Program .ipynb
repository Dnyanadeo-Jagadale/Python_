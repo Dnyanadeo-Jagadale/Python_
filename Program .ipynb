{
 "cells": [
  {
   "cell_type": "code",
   "execution_count": 29,
   "id": "2be3da07",
   "metadata": {},
   "outputs": [
    {
     "name": "stdout",
     "output_type": "stream",
     "text": [
      " Sum of all the elements are:-  150\n"
     ]
    }
   ],
   "source": [
    "# 1.Python Program to find sum of array\n",
    "\n",
    "array1 = [10,20,30,40,50]\n",
    "sum = 0\n",
    "\n",
    "for k in range(0,len(array1)):\n",
    "    sum = sum + array1[k]\n",
    "    \n",
    "print(\" Sum of all the elements are:- \", sum)\n"
   ]
  },
  {
   "cell_type": "code",
   "execution_count": 32,
   "id": "e74e714a",
   "metadata": {},
   "outputs": [
    {
     "name": "stdout",
     "output_type": "stream",
     "text": [
      "10\n",
      "largest number from array is:-  50\n"
     ]
    }
   ],
   "source": [
    "# 2. Python Program to find largest element in an array.\n",
    "\n",
    "array1 = [10,20,30,40,50]\n",
    "max = array1[0]\n",
    "print(max)\n",
    "\n",
    "for i in range(0,len(array1)):\n",
    "    \n",
    "    if(array1[i] > max):\n",
    "        max = array1[i]\n",
    "        \n",
    "print(\"largest number from array is:- \", max)"
   ]
  },
  {
   "cell_type": "code",
   "execution_count": 8,
   "id": "4f0e6cfc",
   "metadata": {},
   "outputs": [
    {
     "name": "stdout",
     "output_type": "stream",
     "text": [
      "Rotated list is [2, 3, 4, 5, 6, 7, 8, 9, 1]\n"
     ]
    }
   ],
   "source": [
    "# 3 Python Program for array rotation\n",
    "def rotarr(a,d):\n",
    "    n = len(a)\n",
    "    a[:] = a[d:n] + a[0:d]\n",
    "    return a\n",
    "\n",
    "arr = [1,2,3,4,5,6,7,8,9]\n",
    "print(\"Rotated list is\",rotarr(arr,1))"
   ]
  },
  {
   "cell_type": "code",
   "execution_count": 34,
   "id": "982a60d4",
   "metadata": {},
   "outputs": [
    {
     "name": "stdout",
     "output_type": "stream",
     "text": [
      "6 52 36 12 10 5 "
     ]
    }
   ],
   "source": [
    "# 4 Python Program to Split the array and add the first part to the end\n",
    "def split_array(arr, n, k):\n",
    "    for i in range(0, k):\n",
    "        x = arr[0]\n",
    "        for j in range(0, n-1):\n",
    "            arr[j] = arr[j + 1]\n",
    "        arr[n-1] = x\n",
    " \n",
    "arr = [12, 10, 5, 6, 52, 36]\n",
    "n = len(arr)\n",
    "position = 3\n",
    " \n",
    "split_array(arr, n, position)\n",
    " \n",
    "for i in range(0, n):\n",
    "    print(arr[i], end=' ')\n",
    "\n",
    "\n",
    "\n"
   ]
  },
  {
   "cell_type": "code",
   "execution_count": 18,
   "id": "1388aa23",
   "metadata": {},
   "outputs": [
    {
     "name": "stdout",
     "output_type": "stream",
     "text": [
      "extend x [6, 5, 4, 4]\n",
      "extend y [6, 5, 4, 4]\n",
      "sort x [4, 4, 5, 6]\n",
      "sort reverse true y [6, 5, 4, 4]\n",
      "True\n"
     ]
    }
   ],
   "source": [
    "#5 Python Program to check if given array is Monotonic\n",
    "\n",
    "def Monitnic(A):\n",
    "    x, y = [], []\n",
    "    x.extend(A)\n",
    "    print(\"extend x\",x)\n",
    "    y.extend(A)\n",
    "    print(\"extend y\",y)\n",
    "    x.sort()\n",
    "    print(\"sort x\",x)\n",
    "    y.sort(reverse=True)\n",
    "    print(\"sort reverse true y\",y)\n",
    "    if(x == A or y == A):\n",
    "        return True\n",
    "    return False\n",
    " \n",
    "# Driver code\n",
    "A = [6, 5, 4, 4]\n",
    " \n",
    "# Print required result\n",
    "print(Monitnic(A))"
   ]
  },
  {
   "cell_type": "code",
   "execution_count": 1,
   "id": "08d4e3dc",
   "metadata": {},
   "outputs": [
    {
     "name": "stdout",
     "output_type": "stream",
     "text": [
      "[24, 35, 9, 56, 12]\n"
     ]
    }
   ],
   "source": [
    "# 6. Python program to interchange first and last elements in a list.\n",
    "\n",
    "# Python3 program to swap first\n",
    "# and last element of a list\n",
    "\n",
    "# Swap function\n",
    "def swapList(newList):\n",
    "\tsize = len(newList)\n",
    "\t\n",
    "\t# Swapping\n",
    "\ttemp = newList[0]\n",
    "\tnewList[0] = newList[size - 1]\n",
    "\tnewList[size - 1] = temp\n",
    "\t\n",
    "\treturn newList\n",
    "\t\n",
    "# Driver code\n",
    "newList = [12, 35, 9, 56, 24]\n",
    "\n",
    "print(swapList(newList))\n"
   ]
  },
  {
   "cell_type": "code",
   "execution_count": null,
   "id": "4d08f4cd",
   "metadata": {},
   "outputs": [],
   "source": [
    "# "
   ]
  }
 ],
 "metadata": {
  "kernelspec": {
   "display_name": "Python 3 (ipykernel)",
   "language": "python",
   "name": "python3"
  },
  "language_info": {
   "codemirror_mode": {
    "name": "ipython",
    "version": 3
   },
   "file_extension": ".py",
   "mimetype": "text/x-python",
   "name": "python",
   "nbconvert_exporter": "python",
   "pygments_lexer": "ipython3",
   "version": "3.11.0"
  }
 },
 "nbformat": 4,
 "nbformat_minor": 5
}
