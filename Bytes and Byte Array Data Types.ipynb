{
 "cells": [
  {
   "cell_type": "code",
   "execution_count": 12,
   "id": "773f1e7b",
   "metadata": {},
   "outputs": [
    {
     "name": "stdout",
     "output_type": "stream",
     "text": [
      "b'\\x01\\x02\\x03\\x04\\x05\\x06\\x07\\x08\\t'\n",
      "[1, 2, 3, 4, 5, 6, 7, 8, 9]\n",
      "<class 'bytes'>\n",
      "<class 'list'>\n"
     ]
    }
   ],
   "source": [
    "#Bytes\n",
    "\n",
    "\n",
    "l = [1,2,3,4,5,6,7,8,9]\n",
    "b = bytes(l)\n",
    "print(b)\n",
    "print(l)\n",
    "print(type(b))\n",
    "print(type(l))"
   ]
  },
  {
   "cell_type": "code",
   "execution_count": 7,
   "id": "03520942",
   "metadata": {},
   "outputs": [
    {
     "name": "stdout",
     "output_type": "stream",
     "text": [
      "valu of B[5] 6\n"
     ]
    }
   ],
   "source": [
    "print(\"valu of B[5]\",b[5])\n",
    "#b[5] = 10  'bytes' object does not support item assignment"
   ]
  },
  {
   "cell_type": "code",
   "execution_count": 11,
   "id": "c5f12d91",
   "metadata": {
    "scrolled": false
   },
   "outputs": [
    {
     "name": "stdout",
     "output_type": "stream",
     "text": [
      "bytearray(b'p4\\x17')\n",
      "112\n",
      "23\n",
      "52\n",
      "23\n",
      "23\n",
      "23\n"
     ]
    }
   ],
   "source": [
    "BA = bytearray([112,52,23])\n",
    "print(BA)\n",
    "\n",
    "for i in BA:\n",
    "    print(i)\n",
    "    print(BA[2])\n"
   ]
  },
  {
   "cell_type": "code",
   "execution_count": null,
   "id": "09747ac5",
   "metadata": {},
   "outputs": [],
   "source": []
  },
  {
   "cell_type": "code",
   "execution_count": null,
   "id": "7e07950e",
   "metadata": {},
   "outputs": [],
   "source": []
  },
  {
   "cell_type": "code",
   "execution_count": null,
   "id": "aa09916c",
   "metadata": {},
   "outputs": [],
   "source": []
  }
 ],
 "metadata": {
  "kernelspec": {
   "display_name": "Python 3 (ipykernel)",
   "language": "python",
   "name": "python3"
  },
  "language_info": {
   "codemirror_mode": {
    "name": "ipython",
    "version": 3
   },
   "file_extension": ".py",
   "mimetype": "text/x-python",
   "name": "python",
   "nbconvert_exporter": "python",
   "pygments_lexer": "ipython3",
   "version": "3.11.0"
  }
 },
 "nbformat": 4,
 "nbformat_minor": 5
}
