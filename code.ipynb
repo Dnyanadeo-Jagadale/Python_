{
 "cells": [
  {
   "cell_type": "code",
   "execution_count": 2,
   "id": "2e58802a",
   "metadata": {},
   "outputs": [
    {
     "name": "stdout",
     "output_type": "stream",
     "text": [
      "140723302752136\n",
      "140723302752136\n",
      "True\n"
     ]
    }
   ],
   "source": [
    "#int\n",
    "var = 100\n",
    "var1 = var\n",
    "print(id(var))\n",
    "print(id(var1))\n",
    "print(var is var1)"
   ]
  },
  {
   "cell_type": "code",
   "execution_count": 1,
   "id": "6b67afb1",
   "metadata": {},
   "outputs": [
    {
     "name": "stdout",
     "output_type": "stream",
     "text": [
      "2177764890672\n",
      "2177765721168\n",
      "2177765725104\n"
     ]
    }
   ],
   "source": [
    "#float\n",
    "car = 200.10\n",
    "car1 = 200.10\n",
    "car2 = 200.10\n",
    "print(id(car))\n",
    "print(id(car1))\n",
    "print(id(car2))"
   ]
  },
  {
   "cell_type": "code",
   "execution_count": 2,
   "id": "b0a12e3b",
   "metadata": {},
   "outputs": [
    {
     "name": "stdout",
     "output_type": "stream",
     "text": [
      "id of x:  140731274747784\n",
      "id of y:  140731274747784\n",
      "id of z:  140731274747784\n"
     ]
    }
   ],
   "source": [
    "#int\n",
    "x = 100\n",
    "print(\"id of x: \",id(x))\n",
    "\n",
    "y = 100\n",
    "print(\"id of y: \",id(y))\n",
    "\n",
    "z = y\n",
    "print(\"id of z: \",id(z))"
   ]
  },
  {
   "cell_type": "code",
   "execution_count": 11,
   "id": "4c44fc92",
   "metadata": {},
   "outputs": [
    {
     "name": "stdout",
     "output_type": "stream",
     "text": [
      "id of x:  1685765357008\n",
      "id of y:  1685765356528\n",
      "id of z:  1685765356528\n"
     ]
    }
   ],
   "source": [
    "#float\n",
    "x = 100.10\n",
    "print(\"id of x: \",id(x))\n",
    "\n",
    "y = 100.10\n",
    "print(\"id of y: \",id(y))\n",
    "\n",
    "z = y\n",
    "print(\"id of z: \",id(z))"
   ]
  },
  {
   "cell_type": "code",
   "execution_count": 6,
   "id": "6c3b49ff",
   "metadata": {},
   "outputs": [
    {
     "name": "stdout",
     "output_type": "stream",
     "text": [
      "Original Array:\n",
      "[1 2 3 4 5]\n",
      "\n",
      "Mean: 3.0\n",
      "Sum: 15\n",
      "Maximum: 5\n",
      "Minimum: 1\n",
      "\n",
      "2D Array:\n",
      "[[1 2 3]\n",
      " [4 5 6]\n",
      " [7 8 9]]\n",
      "\n",
      "Transposed 2D Array:\n",
      "[[1 4 7]\n",
      " [2 5 8]\n",
      " [3 6 9]]\n"
     ]
    }
   ],
   "source": [
    "import numpy as np\n",
    "\n",
    "# Create a NumPy array\n",
    "arr = np.array([1, 2, 3, 4, 5])\n",
    "\n",
    "# Print the array\n",
    "print(\"Original Array:\")\n",
    "print(arr)\n",
    "\n",
    "# Perform some basic operations\n",
    "mean = np.mean(arr)\n",
    "sum_val = np.sum(arr)\n",
    "max_val = np.max(arr)\n",
    "min_val = np.min(arr)\n",
    "\n",
    "# Print the results\n",
    "print(\"\\nMean:\", mean)\n",
    "print(\"Sum:\", sum_val)\n",
    "print(\"Maximum:\", max_val)\n",
    "print(\"Minimum:\", min_val)\n",
    "\n",
    "# Create a 2D array\n",
    "matrix = np.array([[1, 2, 3], [4, 5, 6], [7, 8, 9]])\n",
    "\n",
    "# Print the 2D array\n",
    "print(\"\\n2D Array:\")\n",
    "print(matrix)\n",
    "\n",
    "# Transpose the 2D array\n",
    "transposed_matrix = np.transpose(matrix)\n",
    "\n",
    "# Print the transposed array\n",
    "print(\"\\nTransposed 2D Array:\")\n",
    "print(transposed_matrix)\n"
   ]
  },
  {
   "cell_type": "code",
   "execution_count": null,
   "id": "9d64bdf3",
   "metadata": {},
   "outputs": [],
   "source": []
  }
 ],
 "metadata": {
  "kernelspec": {
   "display_name": "Python 3 (ipykernel)",
   "language": "python",
   "name": "python3"
  },
  "language_info": {
   "codemirror_mode": {
    "name": "ipython",
    "version": 3
   },
   "file_extension": ".py",
   "mimetype": "text/x-python",
   "name": "python",
   "nbconvert_exporter": "python",
   "pygments_lexer": "ipython3",
   "version": "3.11.0"
  }
 },
 "nbformat": 4,
 "nbformat_minor": 5
}
