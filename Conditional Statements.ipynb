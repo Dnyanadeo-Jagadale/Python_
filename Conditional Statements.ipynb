{
 "cells": [
  {
   "cell_type": "markdown",
   "id": "2d5561a4",
   "metadata": {},
   "source": [
    "1. If......Else\n",
    "2. If....elif....Else\n",
    "3. While Loops\n",
    "4. For Loops"
   ]
  },
  {
   "cell_type": "markdown",
   "id": "8aa2be70",
   "metadata": {},
   "source": [
    "Syntax: if..else\n",
    "\n",
    "If <condition> :\n",
    "    statements - 1\n",
    "    statements - 2\n",
    "    statements - 3\n",
    "Else:\n",
    "    statements - 4\n",
    "    statements - 5\n",
    "    statements - 6"
   ]
  },
  {
   "cell_type": "code",
   "execution_count": 4,
   "id": "5707c03f",
   "metadata": {},
   "outputs": [
    {
     "name": "stdout",
     "output_type": "stream",
     "text": [
      "x is greater than y\n"
     ]
    }
   ],
   "source": [
    "x = 100\n",
    "y = 20\n",
    "\n",
    "if x>y:\n",
    "    print(\"x is greater than y\")\n",
    "else:\n",
    "    print(\"y is greater than x\")"
   ]
  },
  {
   "cell_type": "code",
   "execution_count": 13,
   "id": "f5822a18",
   "metadata": {},
   "outputs": [
    {
     "name": "stdout",
     "output_type": "stream",
     "text": [
      " A is less than B\n"
     ]
    }
   ],
   "source": [
    "a = 100\n",
    "b = 1000\n",
    "if a>b :\n",
    "    print(\"a is greater than b\")\n",
    "elif a==b:\n",
    "        print(\" a and b are equal\")\n",
    "elif a<b:\n",
    "        print(\" A is less than B\")\n",
    "elif a==b:\n",
    "        print(\" a and b are equal\")\n",
    "else:\n",
    "    print(\"Use correct comparison operators\")"
   ]
  },
  {
   "cell_type": "markdown",
   "id": "04d2c730",
   "metadata": {},
   "source": [
    "Assignment\n",
    "\n",
    "Add more conditions here in if...else"
   ]
  },
  {
   "cell_type": "code",
   "execution_count": 3,
   "id": "4dcdf041",
   "metadata": {},
   "outputs": [
    {
     "name": "stdout",
     "output_type": "stream",
     "text": [
      "Your lucky Color as per your Zodiac\n",
      "('A_Aries', 'B_Taurus', 'C_Gemini', 'D_Cancer', 'E_Leo', 'F_Virgo', 'G_Libra', 'H_Scorpio', 'I_Sagittarius', 'J_Capricorn', 'K_Aquarius', 'L_Pisces')\n",
      "\n",
      "\n",
      "***********Select capital alphabet for your Zodiac ********** \n",
      "A\n",
      "Your lucky color is Red\n"
     ]
    }
   ],
   "source": [
    "print (\"Your lucky Color as per your Zodiac\")\n",
    "z = (\"A_Aries\", \n",
    "      \"B_Taurus\", \n",
    "      \"C_Gemini\", \n",
    "      \"D_Cancer\", \n",
    "      \"E_Leo\", \n",
    "      \"F_Virgo\", \n",
    "      \"G_Libra\", \n",
    "      \"H_Scorpio\", \n",
    "      \"I_Sagittarius\", \n",
    "      \"J_Capricorn\", \n",
    "      \"K_Aquarius\",\n",
    "      \"L_Pisces\")\n",
    "print(z)\n",
    "print(\"\\n\")\n",
    "print(\"***********Select capital alphabet for your Zodiac ********** \")\n",
    "x = input()\n",
    "\n",
    "\n",
    "\n",
    "if x == \"A\":\n",
    "    print (\"Your lucky color is Red\")\n",
    "elif x == \"B\":\n",
    "    print(\"Your lucky color is Pink and White\")\n",
    "elif x == \"C\":\n",
    "    print(\"Your lucky color is yellow and Green\")\n",
    "elif x == \"D\":\n",
    "    print(\"Your lucky color is White, Blue and Yellow \")\n",
    "elif x == \"E\":\n",
    "    print(\"Your lucky color is Orange and Purple\")\n",
    "elif x == \"F\":\n",
    "    print(\"Your lucky color is Green \")\n",
    "elif x == \"G\":\n",
    "    print(\"Your lucky color is Blue,Pink and Green\")\n",
    "elif x == \"H\":\n",
    "    print(\"Your lucky color is Dark Purple, Maroon andd Black\")\n",
    "elif x == \"I\":\n",
    "    print(\"Your lucky color is Purple and Yellow\")\n",
    "elif x == \"J\":\n",
    "    print(\"Your lucky color is Grey, Black and Brown\")\n",
    "elif x == \"K\":\n",
    "    print(\"Your lucky color is Electric Blue and Turquoise\")\n",
    "else:\n",
    "    print(\"Your lucky color is Soft Sea Green, Light shades like Yellow and Lavender\")\n",
    "\n"
   ]
  },
  {
   "cell_type": "markdown",
   "id": "54d3197f",
   "metadata": {},
   "source": [
    "Assignment\n",
    "Write a python program which will take percentage as input from user and returns its grade"
   ]
  },
  {
   "cell_type": "code",
   "execution_count": 33,
   "id": "d631f115",
   "metadata": {},
   "outputs": [
    {
     "name": "stdout",
     "output_type": "stream",
     "text": [
      " Enter your Percentage bteween 1 to 100 Here\n",
      "\n",
      "\n",
      "14\n",
      "you are failed\n"
     ]
    }
   ],
   "source": [
    "print(\" Enter your Percentage bteween 1 to 100 Here\")\n",
    "print(\"\\n\")\n",
    "z = float(input())\n",
    "\n",
    "if z <= 34.99:\n",
    "    print(\"you are failed\")\n",
    "    \n",
    "elif z >= 35 and z <= 44.99:\n",
    "    print(\"You have pass class\")\n",
    "elif z >= 45 and z <=59.99:\n",
    "    print(\"You have 2nd Class \")\n",
    "elif z >= 60 and z <=74.99:\n",
    "    print(\"You have 1st Class\")\n",
    "else:\n",
    "    print(\"Yoo, You have Distinction\")\n",
    "    \n",
    "    \n",
    "\n",
    "\n"
   ]
  }
 ],
 "metadata": {
  "kernelspec": {
   "display_name": "Python 3 (ipykernel)",
   "language": "python",
   "name": "python3"
  },
  "language_info": {
   "codemirror_mode": {
    "name": "ipython",
    "version": 3
   },
   "file_extension": ".py",
   "mimetype": "text/x-python",
   "name": "python",
   "nbconvert_exporter": "python",
   "pygments_lexer": "ipython3",
   "version": "3.11.0"
  }
 },
 "nbformat": 4,
 "nbformat_minor": 5
}
