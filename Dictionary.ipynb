{
 "cells": [
  {
   "cell_type": "code",
   "execution_count": 25,
   "id": "63f64db7",
   "metadata": {},
   "outputs": [
    {
     "name": "stdout",
     "output_type": "stream",
     "text": [
      "{'eid': 1234567, 'name': 'Dnyanadeo', 'dob': '20/05/1990'}\n",
      "1234567\n",
      "dict_keys(['eid', 'name', 'dob'])\n"
     ]
    }
   ],
   "source": [
    "#dictionary\n",
    "\n",
    "emp = {\n",
    "  \"eid\": 1234567,\n",
    "  \"name\": \"Dnyanadeo\",\n",
    "  \"dob\": \"20/05/1990\"\n",
    "}\n",
    "print(emp)\n",
    "print(emp[\"eid\"])\n",
    "\n",
    "\n",
    "# usinf keys\n",
    "print(emp.keys())\n",
    "\n",
    "\n",
    "#using get method\n",
    "\n",
    "\n"
   ]
  },
  {
   "cell_type": "code",
   "execution_count": 24,
   "id": "6f98ad09",
   "metadata": {},
   "outputs": [
    {
     "name": "stdout",
     "output_type": "stream",
     "text": [
      "{'eid': 1234567, 'name': 'Dnyanadeo', 'dob': '20/05/1990', 'Mobile': 8600261063, 'dom': 'IT', 'email': 'dnyanadeo@tcs.com'}\n",
      "6\n"
     ]
    }
   ],
   "source": [
    "#adding elements to dictionary\n",
    "emp[\"Mobile\"] = 8600261063\n",
    "print(emp)\n",
    "print(len(emp))"
   ]
  },
  {
   "cell_type": "markdown",
   "id": "fbc37ee6",
   "metadata": {},
   "source": [
    "# methods"
   ]
  },
  {
   "cell_type": "code",
   "execution_count": 23,
   "id": "0762d6f9",
   "metadata": {},
   "outputs": [
    {
     "name": "stdout",
     "output_type": "stream",
     "text": [
      "dict_values([1234567, 'Dnyanadeo', '20/05/1990', 8600261063, 'IT', 'dnyanadeo@tcs.com'])\n"
     ]
    }
   ],
   "source": [
    "#values\n",
    "print(emp.values())"
   ]
  },
  {
   "cell_type": "code",
   "execution_count": 13,
   "id": "13b4c5ee",
   "metadata": {},
   "outputs": [
    {
     "data": {
      "text/plain": [
       "dict_items([('eid', 1234567), ('name', 'Dnyanadeo'), ('dob', '20/05/1990'), ('Mobile', 8600261063)])"
      ]
     },
     "execution_count": 13,
     "metadata": {},
     "output_type": "execute_result"
    }
   ],
   "source": [
    "#.items\n",
    "emp.items()\n"
   ]
  },
  {
   "cell_type": "code",
   "execution_count": 18,
   "id": "46659b70",
   "metadata": {},
   "outputs": [
    {
     "name": "stdout",
     "output_type": "stream",
     "text": [
      "{'eid': 1234567, 'name': 'Dnyanadeo', 'dob': '20/05/1990', 'Mobile': 8600261063, 'dom': 'IT', 'email': 'dnyanadeo@tcs.com'}\n"
     ]
    }
   ],
   "source": [
    "#update\n",
    "emp.update({\n",
    "    \"dom\" : \"IT\",\n",
    "    \"email\" : \"dnyanadeo@tcs.com\"\n",
    "})\n",
    "print(emp)"
   ]
  },
  {
   "cell_type": "code",
   "execution_count": 19,
   "id": "bda5c05f",
   "metadata": {},
   "outputs": [
    {
     "name": "stdout",
     "output_type": "stream",
     "text": [
      "20/05/1990\n"
     ]
    }
   ],
   "source": [
    "#get \n",
    "f = emp.get(\"dob\")\n",
    "print(f)"
   ]
  },
  {
   "cell_type": "code",
   "execution_count": 22,
   "id": "7d956899",
   "metadata": {},
   "outputs": [
    {
     "name": "stdout",
     "output_type": "stream",
     "text": [
      "{'company_location': 'pune', 'pickup_point': 'pune', 'base location': 'pune'}\n"
     ]
    }
   ],
   "source": [
    "#fromkeys\n",
    "g = (\"company_location\", \"pickup_point\", \"base location\")\n",
    "h = (\"pune\")\n",
    "emp_n = emp.fromkeys(g,h)\n",
    "print(emp_n)"
   ]
  },
  {
   "cell_type": "code",
   "execution_count": 4,
   "id": "9ff458d1",
   "metadata": {
    "scrolled": true
   },
   "outputs": [
    {
     "name": "stdout",
     "output_type": "stream",
     "text": [
      "Mustang\n",
      "MH\n",
      "{'brand': 'Ford', 'model': 'Mustang', 'year': 1964, 'passing': 'MH'}\n"
     ]
    }
   ],
   "source": [
    "#setdefault\n",
    "car = {\n",
    "  \"brand\": \"Ford\",\n",
    "  \"model\": \"Mustang\",\n",
    "  \"year\": 1964\n",
    "}\n",
    "\n",
    "x = car.setdefault(\"model\", \"Bronco\")\n",
    "y = car.setdefault(\"passing\", \"MH\")\n",
    "model = [\"bromco\"]\n",
    "\n",
    "print(x)\n",
    "print(y)\n",
    "print(car)"
   ]
  },
  {
   "cell_type": "code",
   "execution_count": null,
   "id": "06f47d31",
   "metadata": {},
   "outputs": [],
   "source": []
  }
 ],
 "metadata": {
  "kernelspec": {
   "display_name": "Python 3 (ipykernel)",
   "language": "python",
   "name": "python3"
  },
  "language_info": {
   "codemirror_mode": {
    "name": "ipython",
    "version": 3
   },
   "file_extension": ".py",
   "mimetype": "text/x-python",
   "name": "python",
   "nbconvert_exporter": "python",
   "pygments_lexer": "ipython3",
   "version": "3.11.0"
  }
 },
 "nbformat": 4,
 "nbformat_minor": 5
}
