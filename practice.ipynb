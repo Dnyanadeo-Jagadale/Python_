{
 "cells": [
  {
   "cell_type": "code",
   "execution_count": 1,
   "id": "9141c280",
   "metadata": {},
   "outputs": [
    {
     "name": "stdout",
     "output_type": "stream",
     "text": [
      "36\n",
      "3\n"
     ]
    }
   ],
   "source": [
    "x = 6\n",
    "y = 2\n",
    "print(x**y)\n",
    "print(x//y)"
   ]
  },
  {
   "cell_type": "markdown",
   "id": "c5929d12",
   "metadata": {},
   "source": [
    "Maths Oprtation"
   ]
  },
  {
   "cell_type": "code",
   "execution_count": 4,
   "id": "79447ceb",
   "metadata": {},
   "outputs": [
    {
     "name": "stdout",
     "output_type": "stream",
     "text": [
      "enter first number:- 25\n",
      "enter second number:- 35\n",
      "('adition', 60) ('subatraction', -10) ('division', 0.7142857142857143) ('multification', 875)\n"
     ]
    }
   ],
   "source": [
    "def operation():\n",
    "    x = int(input(\"enter first number:- \"))\n",
    "    y = int(input(\"enter second number:- \"))\n",
    "    a = (\"adition\",x+y)\n",
    "    #print(a)\n",
    "    s = (\"subatraction\",x-y)\n",
    "    #print(s)\n",
    "    d = (\"division\",x/y)\n",
    "    #print(d)\n",
    "    m = (\"multification\",x*y)\n",
    "    print(a,s,d,m)\n",
    "operation()"
   ]
  },
  {
   "cell_type": "code",
   "execution_count": 5,
   "id": "21e59de7",
   "metadata": {},
   "outputs": [
    {
     "name": "stdout",
     "output_type": "stream",
     "text": [
      "enter first number25\n",
      "enter second number6\n",
      "Addition 31\n",
      "Substraction 19\n",
      "Division 4.166666666666667\n",
      "Multification 150\n"
     ]
    }
   ],
   "source": [
    "x = int(input(\"enter first number\"))\n",
    "y = int(input(\"enter second number\"))\n",
    "\n",
    "def add(x,y):\n",
    "    a = x + y\n",
    "    print(\"Addition\",a)\n",
    "add(x,y)\n",
    "def sub(x,y):\n",
    "    s = x - y\n",
    "    print(\"Substraction\",s)\n",
    "sub(x,y)\n",
    "\n",
    "def div(x,y):\n",
    "    d = x / y\n",
    "    print(\"Division\",d)\n",
    "div(x,y)\n",
    "\n",
    "def mul(x,y):\n",
    "    m = x * y\n",
    "    print(\"Multification\",m)\n",
    "mul(x,y)\n"
   ]
  },
  {
   "cell_type": "code",
   "execution_count": 1,
   "id": "a37908ef",
   "metadata": {},
   "outputs": [
    {
     "name": "stdout",
     "output_type": "stream",
     "text": [
      "Enter first number: 100\n",
      "Enter second number: 23\n",
      "Enter an operator (+, -, *, /): +\n",
      "Result: 123.0\n"
     ]
    }
   ],
   "source": [
    "def perform_operation(num1, num2, operator):\n",
    "    if operator == '+':\n",
    "        return num1 + num2\n",
    "    elif operator == '-':\n",
    "        return num1 - num2\n",
    "    elif operator == '*':\n",
    "        return num1 * num2\n",
    "    elif operator == '/':\n",
    "        return num1 / num2\n",
    "    else:\n",
    "        return \"Invalid operator. Please enter a valid operator (+, -, *, /)\"\n",
    "\n",
    "num1 = float(input(\"Enter first number: \"))\n",
    "num2 = float(input(\"Enter second number: \"))\n",
    "operator = input(\"Enter an operator (+, -, *, /): \")\n",
    "\n",
    "result = perform_operation(num1, num2, operator)\n",
    "print(\"Result:\", result)\n"
   ]
  },
  {
   "cell_type": "code",
   "execution_count": 6,
   "id": "29ca599c",
   "metadata": {},
   "outputs": [
    {
     "name": "stdout",
     "output_type": "stream",
     "text": [
      "Python version 3.11.0 (main, Oct 24 2022, 18:26:48) [MSC v.1933 64 bit (AMD64)]\n",
      "3.11.0 (main, Oct 24 2022, 18:26:48) [MSC v.1933 64 bit (AMD64)]\n",
      "Version info.\n",
      "sys.version_info(major=3, minor=11, micro=0, releaselevel='final', serial=0)\n"
     ]
    }
   ],
   "source": [
    "import sys\n",
    "print(\"Python version\",sys.version)\n",
    "print (sys.version)\n",
    "print(\"Version info.\")\n",
    "print (sys.version_info)\n"
   ]
  },
  {
   "cell_type": "code",
   "execution_count": 1,
   "id": "a8806603",
   "metadata": {},
   "outputs": [],
   "source": [
    "import tkinter as tk\n",
    "import time\n",
    "\n",
    "def update_clock():\n",
    "    current_time = time.strftime('%H:%M:%S')\n",
    "    clock_label.config(text=current_time)\n",
    "    clock_label.after(1000, update_clock)\n",
    "\n",
    "window = tk.Tk()\n",
    "window.title(\"Clock\")\n",
    "\n",
    "clock_label = tk.Label(window, font=('Arial', 50), bg='Red', fg='white')\n",
    "clock_label.pack(padx=60, pady=60)\n",
    "\n",
    "update_clock()\n",
    "\n",
    "window.mainloop()\n"
   ]
  },
  {
   "cell_type": "code",
   "execution_count": 13,
   "id": "cf02b63e",
   "metadata": {},
   "outputs": [
    {
     "name": "stdout",
     "output_type": "stream",
     "text": [
      "Input some comma seprated numbers : 21,256,65412\n",
      "List :  ['21', '256', '65412']\n"
     ]
    }
   ],
   "source": [
    "values = input(\"Input some comma seprated numbers : \")\n",
    "list = values.split(\",\")\n",
    "#tuple = tuple(list)\n",
    "print('List : ',list)\n",
    "#print('Tuple : ',tuple())\n"
   ]
  },
  {
   "cell_type": "code",
   "execution_count": 17,
   "id": "ac4dda26",
   "metadata": {},
   "outputs": [
    {
     "name": "stdout",
     "output_type": "stream",
     "text": [
      "list [2, 3, 4, 5, 6]\n"
     ]
    }
   ],
   "source": [
    "3\n",
    "def con(values):\n",
    "    return values\n",
    "\n",
    "values = [2,3,4,5,6]\n",
    "\n",
    "print(\"list\",con(values))\n",
    "#print(\"list : \",list(values))\n"
   ]
  },
  {
   "cell_type": "code",
   "execution_count": 1,
   "id": "b0e5bc36",
   "metadata": {},
   "outputs": [
    {
     "name": "stdout",
     "output_type": "stream",
     "text": [
      "Input a word to reverse:    Dnyanadeo\n",
      "oedanaynD"
     ]
    }
   ],
   "source": [
    "str = input(\"Input a word to reverse:    \")\n",
    "\n",
    "for i in range(len(str)-1,-1,-1):\n",
    "    print(str[i], end=\"\")"
   ]
  },
  {
   "cell_type": "code",
   "execution_count": 6,
   "id": "51e30116",
   "metadata": {},
   "outputs": [
    {
     "name": "stdout",
     "output_type": "stream",
     "text": [
      "{'a': 1, 'b': 2, 'c': 3, 'e': 4, 'd': 5}\n",
      "1\n",
      "2\n",
      "3\n"
     ]
    }
   ],
   "source": [
    "list1 = [\"a\",\"b\",\"c\"]\n",
    "dict1 = {\"a\":1,\"b\":2,\"c\":3,\"e\":4, \"d\":5} \n",
    "print(dict1)\n",
    "\n",
    "for i in list1:\n",
    "    if i in dict1.keys():\n",
    "        print(dict1[i])"
   ]
  },
  {
   "cell_type": "code",
   "execution_count": null,
   "id": "18d7a8d9",
   "metadata": {},
   "outputs": [],
   "source": [
    "a = [1,2,3,4,5,6,7,8,9,10]\n",
    "d = []\n",
    "f = []\n",
    "for i in a:\n",
    "    if i%2=0,\n",
    "    d.append\n",
    "    \n",
    "    print(\"even\",append.d)\n",
    "    "
   ]
  },
  {
   "cell_type": "code",
   "execution_count": 1,
   "id": "3046d51f",
   "metadata": {},
   "outputs": [
    {
     "name": "stdout",
     "output_type": "stream",
     "text": [
      "30\n"
     ]
    }
   ],
   "source": [
    "indian_it_companies = [    \"Tata Consultancy Services (TCS)\",    \"Infosys\",    \"Wipro\",    \"HCL Technologies\",    \"Tech Mahindra\",    \"Cognizant Technology Solutions\",    \"Capgemini India\",    \"Accenture India\",    \"IBM India\",    \"Mindtree\",    \"Mphasis\",    \"Larsen & Toubro Infotech (LTI)\",    \"Hexaware Technologies\",    \"Oracle Financial Services Software\",    \"Persistent Systems\",    \"Zensar Technologies\",    \"Cyient\",    \"NIIT Technologies\",    \"Polaris Consulting & Services\",    \"KPIT Technologies\",    \"Mindteck\",    \"Datamatics Global Services\",    \"Geometric\",    \"Syntel India\",    \"3i Infotech\",    \"IGATE\",    \"Hexagon Capability Center India\",    \"Lionbridge Technologies\",    \"Mastek\",    \"MphasiS Wyde\",]\n",
    "print(len(indian_it_companies))"
   ]
  },
  {
   "cell_type": "code",
   "execution_count": 2,
   "id": "3c494edc",
   "metadata": {},
   "outputs": [
    {
     "name": "stdout",
     "output_type": "stream",
     "text": [
      "['Tata Consultancy Services (TCS)', 'Infosys', 'Wipro', 'HCL Technologies', 'Tech Mahindra', 'Cognizant Technology Solutions', 'Capgemini India', 'Accenture India', 'IBM India', 'Mindtree', 'Mphasis', 'Larsen & Toubro Infotech (LTI)', 'Hexaware Technologies', 'Oracle Financial Services Software', 'Persistent Systems', 'Zensar Technologies', 'Cyient', 'NIIT Technologies', 'Polaris Consulting & Services', 'KPIT Technologies', 'Mindteck', 'Datamatics Global Services', 'Geometric', 'Syntel India', '3i Infotech', 'IGATE', 'Hexagon Capability Center India', 'Lionbridge Technologies', 'Mastek', 'MphasiS Wyde']\n"
     ]
    }
   ],
   "source": [
    "print(indian_it_companies)"
   ]
  },
  {
   "cell_type": "code",
   "execution_count": 3,
   "id": "cc16e445",
   "metadata": {},
   "outputs": [],
   "source": [
    "import pyttsx3\n",
    "import time\n",
    "k = \"abcdefg\"\n",
    "# create text-to-speech engine\n",
    "engine = pyttsx3.init()\n",
    "\n",
    "\n",
    "\n",
    "# speak numbers from 1 to 1000 with a wait time of 1 second between each number\n",
    "for i in k:\n",
    "    engine.say(i)\n",
    "    engine.runAndWait()\n",
    "    #time.sleep(0.1)\n"
   ]
  },
  {
   "cell_type": "code",
   "execution_count": 11,
   "id": "ed758e01",
   "metadata": {},
   "outputs": [],
   "source": [
    "import winsound\n",
    "import time\n",
    "\n",
    "# set the frequency of each note\n",
    "sa = 262  # frequency of Sa (C)\n",
    "re = 294  # frequency of Re (D)\n",
    "ga = 330  # frequency of Ga (E)\n",
    "ma = 349  # frequency of Ma (F)\n",
    "pa = 392  # frequency of Pa (G)\n",
    "dha = 440 # frequency of Dha (A)\n",
    "ni = 494  # frequency of Ni (B)\n",
    "\n",
    "# play the musical notes Sa Re Ga Ma Pa Dha Ni Sa\n",
    "winsound.Beep(sa, 500)\n",
    "winsound.Beep(re, 500)\n",
    "winsound.Beep(ga, 500)\n",
    "winsound.Beep(ma, 500)\n",
    "winsound.Beep(pa, 500)\n",
    "winsound.Beep(dha, 500)\n",
    "winsound.Beep(ni, 500)\n",
    "winsound.Beep(sa*2, 500)\n"
   ]
  },
  {
   "cell_type": "code",
   "execution_count": 10,
   "id": "22b2cbc1",
   "metadata": {},
   "outputs": [
    {
     "name": "stdout",
     "output_type": "stream",
     "text": [
      "Requirement already satisfied: pygame in c:\\users\\jdnya\\appdata\\local\\programs\\python\\python311\\lib\\site-packages (2.3.0)\n"
     ]
    }
   ],
   "source": [
    "! pip install pygame"
   ]
  },
  {
   "cell_type": "code",
   "execution_count": 11,
   "id": "52436ae6",
   "metadata": {},
   "outputs": [
    {
     "name": "stdout",
     "output_type": "stream",
     "text": [
      "pygame 2.3.0 (SDL 2.24.2, Python 3.11.0)\n",
      "Hello from the pygame community. https://www.pygame.org/contribute.html\n",
      "Playing note: E4\n",
      "Playing note: E4\n"
     ]
    }
   ],
   "source": [
    "import pygame\n",
    "\n",
    "# initialize pygame\n",
    "pygame.init()\n",
    "\n",
    "# set screen dimensions\n",
    "screen_width = 800\n",
    "screen_height = 400\n",
    "\n",
    "# create screen\n",
    "screen = pygame.display.set_mode((screen_width, screen_height))\n",
    "\n",
    "# set title\n",
    "pygame.display.set_caption(\"Python Piano\")\n",
    "\n",
    "# define colors\n",
    "black = (0, 0, 0)\n",
    "white = (255, 255, 255)\n",
    "red = (255, 0, 0)\n",
    "green = (0, 255, 0)\n",
    "blue = (0, 0, 255)\n",
    "\n",
    "# define keys\n",
    "keys = {\n",
    "    pygame.K_a: (\"C4\", white),\n",
    "    pygame.K_s: (\"D4\", white),\n",
    "    pygame.K_d: (\"E4\", white),\n",
    "    pygame.K_f: (\"F4\", white),\n",
    "    pygame.K_g: (\"G4\", white),\n",
    "    pygame.K_h: (\"A4\", white),\n",
    "    pygame.K_j: (\"B4\", white),\n",
    "    pygame.K_w: (\"C#4\", black),\n",
    "    pygame.K_e: (\"D#4\", black),\n",
    "    pygame.K_t: (\"F#4\", black),\n",
    "    pygame.K_y: (\"G#4\", black),\n",
    "    pygame.K_u: (\"A#4\", black)\n",
    "}\n",
    "\n",
    "# set font\n",
    "font = pygame.font.SysFont(None, 24)\n",
    "\n",
    "# set loop flag\n",
    "running = True\n",
    "\n",
    "# main loop\n",
    "while running:\n",
    "    # handle events\n",
    "    for event in pygame.event.get():\n",
    "        if event.type == pygame.QUIT:\n",
    "            running = False\n",
    "        elif event.type == pygame.KEYDOWN:\n",
    "            if event.key in keys:\n",
    "                # play sound\n",
    "                note = keys[event.key][0]\n",
    "                print(\"Playing note:\", note)\n",
    "\n",
    "    # clear screen\n",
    "    screen.fill(black)\n",
    "\n",
    "    # draw keys\n",
    "    for key, value in keys.items():\n",
    "        rect = pygame.Rect(((key - 97) * 50 + 25, 200), (50, 200))\n",
    "        pygame.draw.rect(screen, value[1], rect)\n",
    "        pygame.draw.rect(screen, white, rect, 1)\n",
    "        text = font.render(value[0], True, white)\n",
    "        text_rect = text.get_rect(center=rect.center)\n",
    "        screen.blit(text, text_rect)\n",
    "\n",
    "    # update screen\n",
    "    pygame.display.flip()\n",
    "\n",
    "# quit pygame\n",
    "pygame.quit()\n"
   ]
  },
  {
   "cell_type": "code",
   "execution_count": null,
   "id": "7e8a467e",
   "metadata": {},
   "outputs": [],
   "source": []
  },
  {
   "cell_type": "code",
   "execution_count": 2,
   "id": "0dc63bf0",
   "metadata": {},
   "outputs": [
    {
     "name": "stdout",
     "output_type": "stream",
     "text": [
      "Collecting pinecone-client\n",
      "  Using cached pinecone_client-2.2.1-py3-none-any.whl (177 kB)\n",
      "Collecting requests>=2.19.0\n",
      "  Using cached requests-2.28.2-py3-none-any.whl (62 kB)\n",
      "Collecting pyyaml>=5.4\n",
      "  Using cached PyYAML-6.0-cp311-cp311-win_amd64.whl (143 kB)\n",
      "Collecting loguru>=0.5.0\n",
      "  Using cached loguru-0.6.0-py3-none-any.whl (58 kB)\n",
      "Collecting typing-extensions>=3.7.4\n",
      "  Using cached typing_extensions-4.5.0-py3-none-any.whl (27 kB)\n",
      "Collecting dnspython>=2.0.0\n",
      "  Using cached dnspython-2.3.0-py3-none-any.whl (283 kB)\n",
      "Requirement already satisfied: python-dateutil>=2.5.3 in c:\\users\\jdnya\\appdata\\local\\programs\\python\\python311\\lib\\site-packages (from pinecone-client) (2.8.2)\n",
      "Requirement already satisfied: urllib3>=1.21.1 in c:\\users\\jdnya\\appdata\\local\\programs\\python\\python311\\lib\\site-packages (from pinecone-client) (1.26.13)\n",
      "Collecting tqdm>=4.64.1\n",
      "  Using cached tqdm-4.65.0-py3-none-any.whl (77 kB)\n",
      "Requirement already satisfied: numpy in c:\\users\\jdnya\\appdata\\local\\programs\\python\\python311\\lib\\site-packages (from pinecone-client) (1.23.5)\n",
      "Requirement already satisfied: colorama>=0.3.4 in c:\\users\\jdnya\\appdata\\local\\programs\\python\\python311\\lib\\site-packages (from loguru>=0.5.0->pinecone-client) (0.4.6)\n",
      "Collecting win32-setctime>=1.0.0\n",
      "  Using cached win32_setctime-1.1.0-py3-none-any.whl (3.6 kB)\n",
      "Requirement already satisfied: six>=1.5 in c:\\users\\jdnya\\appdata\\local\\programs\\python\\python311\\lib\\site-packages (from python-dateutil>=2.5.3->pinecone-client) (1.16.0)\n",
      "Collecting charset-normalizer<4,>=2\n",
      "  Using cached charset_normalizer-3.1.0-cp311-cp311-win_amd64.whl (96 kB)\n",
      "Requirement already satisfied: idna<4,>=2.5 in c:\\users\\jdnya\\appdata\\local\\programs\\python\\python311\\lib\\site-packages (from requests>=2.19.0->pinecone-client) (3.4)\n",
      "Requirement already satisfied: certifi>=2017.4.17 in c:\\users\\jdnya\\appdata\\local\\programs\\python\\python311\\lib\\site-packages (from requests>=2.19.0->pinecone-client) (2022.9.24)\n",
      "Installing collected packages: win32-setctime, typing-extensions, tqdm, pyyaml, dnspython, charset-normalizer, requests, loguru, pinecone-client\n",
      "Successfully installed charset-normalizer-3.1.0 dnspython-2.3.0 loguru-0.6.0 pinecone-client-2.2.1 pyyaml-6.0 requests-2.28.2 tqdm-4.65.0 typing-extensions-4.5.0 win32-setctime-1.1.0\n"
     ]
    }
   ],
   "source": [
    "! pip install pinecone-client"
   ]
  },
  {
   "cell_type": "code",
   "execution_count": 5,
   "id": "4ab2ed23",
   "metadata": {},
   "outputs": [],
   "source": [
    "import pinecone\n",
    "from tqdm import tqdm\n",
    "\n",
    "\n",
    "pinecone.init(api_key=\"0c5c5ce2-4b3a-43b9-89c9-6b44ff978104\", environment=\"northamerica-northeast1-gcp\")"
   ]
  },
  {
   "cell_type": "code",
   "execution_count": 6,
   "id": "5433ad57",
   "metadata": {},
   "outputs": [
    {
     "name": "stdout",
     "output_type": "stream",
     "text": [
      "Enter a list of numbers separated by spaces: 10 20 30 15 40\n",
      "The standard deviation of the numbers you entered is:  10.770329614269007\n"
     ]
    }
   ],
   "source": [
    "import math\n",
    "\n",
    "# get user input as a list of numbers\n",
    "user_input = input(\"Enter a list of numbers separated by spaces: \")\n",
    "numbers = user_input.split()\n",
    "\n",
    "# convert the strings in the list to floats\n",
    "numbers = [float(num) for num in numbers]\n",
    "\n",
    "# calculate the mean\n",
    "mean = sum(numbers) / len(numbers)\n",
    "\n",
    "# calculate the squared differences from the mean\n",
    "squared_diff = [(num - mean)**2 for num in numbers]\n",
    "\n",
    "# calculate the average of the squared differences\n",
    "avg_squared_diff = sum(squared_diff) / len(numbers)\n",
    "\n",
    "# calculate the standard deviation by taking the square root of the average squared difference\n",
    "std_deviation = math.sqrt(avg_squared_diff)\n",
    "\n",
    "print(\"The standard deviation of the numbers you entered is: \", std_deviation)\n"
   ]
  },
  {
   "cell_type": "code",
   "execution_count": 3,
   "id": "98ff17e6",
   "metadata": {},
   "outputs": [
    {
     "name": "stdout",
     "output_type": "stream",
     "text": [
      "Enter a number: 45\n",
      " number in mind is : 45\n"
     ]
    }
   ],
   "source": [
    "import random\n",
    "\n",
    "# take input from user\n",
    "num = int(input(\"Enter a number: \"))\n",
    "\n",
    "# multiply by 2 and add random number\n",
    "result = num * 2 \n",
    "\n",
    "addit = result + random.random()\n",
    "\n",
    "# divide by 2\n",
    "addit /= 2\n",
    "\n",
    "# ask user to subtract the original number\n",
    "result -= num\n",
    "\n",
    "print(\" number in mind is :\", result)\n"
   ]
  },
  {
   "cell_type": "code",
   "execution_count": 11,
   "id": "8bde223f",
   "metadata": {},
   "outputs": [
    {
     "name": "stdout",
     "output_type": "stream",
     "text": [
      "Enter a number: 10\n",
      "Final answer: 0.49973614809781\n"
     ]
    }
   ],
   "source": [
    "import random\n",
    "\n",
    "# take input from user\n",
    "num = float(input(\"Enter a number: \"))\n",
    "\n",
    "# multiply by 2 and add random number\n",
    "result = num * 2 + random.random()\n",
    "\n",
    "# divide by 2\n",
    "result /= 2\n",
    "\n",
    "# ask user to subtract the original number\n",
    "result -= num\n",
    "\n",
    "# divide by 2 again and print final result\n",
    "#result /= 2\n",
    "print(\"Final answer:\", result)\n"
   ]
  },
  {
   "cell_type": "code",
   "execution_count": 13,
   "id": "2a709be2",
   "metadata": {},
   "outputs": [],
   "source": [
    "import tkinter as tk\n",
    "\n",
    "# Create a new Tkinter window\n",
    "root = tk.Tk()\n",
    "\n",
    "# Define a function to perform the calculation\n",
    "def calculate():\n",
    "    # Get the input number from the user\n",
    "    num = float(entry.get())\n",
    "    \n",
    "    # Perform the calculation\n",
    "    result = ((num * 2) + num) / 2 - num\n",
    "    \n",
    "    # Display the result\n",
    "    output.config(text=\"The ramaining amount in your mind is: \" + str(result))\n",
    "\n",
    "# Create a Tkinter label and entry widget for getting the input number\n",
    "label = tk.Label(root, text=\"Enter a number:\")\n",
    "label.pack()\n",
    "entry = tk.Entry(root)\n",
    "entry.pack()\n",
    "\n",
    "# Create a Tkinter button for performing the calculation\n",
    "button = tk.Button(root, text=\"Calculate\", command=calculate)\n",
    "button.pack()\n",
    "\n",
    "# Create a Tkinter label for displaying the result\n",
    "output = tk.Label(root)\n",
    "output.pack()\n",
    "\n",
    "# Run the Tkinter event loop\n",
    "root.mainloop()\n"
   ]
  },
  {
   "cell_type": "code",
   "execution_count": 2,
   "id": "e55acd9e",
   "metadata": {},
   "outputs": [
    {
     "name": "stdout",
     "output_type": "stream",
     "text": [
      "Collecting openpyxl\n",
      "  Downloading openpyxl-3.1.2-py2.py3-none-any.whl (249 kB)\n",
      "     -------------------------------------- 250.0/250.0 kB 5.1 MB/s eta 0:00:00\n",
      "Collecting et-xmlfile\n",
      "  Using cached et_xmlfile-1.1.0-py3-none-any.whl (4.7 kB)\n",
      "Installing collected packages: et-xmlfile, openpyxl\n",
      "Successfully installed et-xmlfile-1.1.0 openpyxl-3.1.2\n"
     ]
    },
    {
     "name": "stderr",
     "output_type": "stream",
     "text": [
      "\n",
      "[notice] A new release of pip is available: 23.0.1 -> 23.1\n",
      "[notice] To update, run: python.exe -m pip install --upgrade pip\n"
     ]
    }
   ],
   "source": [
    "! pip install openpyxl"
   ]
  },
  {
   "cell_type": "code",
   "execution_count": 9,
   "id": "ba02ea8f",
   "metadata": {},
   "outputs": [],
   "source": [
    "import tkinter as tk\n",
    "import openpyxl\n",
    "\n",
    "# Create the main window\n",
    "root = tk.Tk()\n",
    "root.geometry(\"300x200+0+0\")  # Set the initial window position\n",
    "root.title(\"Fertilizer Store\")\n",
    "\n",
    "# Define the label widgets\n",
    "lbl_title = tk.Label(root, text=\"Fertilizer Store in India\", font=(\"Arial\", 20))\n",
    "lbl_product = tk.Label(root, text=\"Product:\")\n",
    "lbl_quantity = tk.Label(root, text=\"Quantity (in kg):\")\n",
    "lbl_price = tk.Label(root, text=\"Price (per kg):\")\n",
    "lbl_total = tk.Label(root, text=\"Total:\")\n",
    "\n",
    "# Define the entry widgets\n",
    "ent_product = tk.Entry(root)\n",
    "ent_quantity = tk.Entry(root)\n",
    "ent_price = tk.Entry(root)\n",
    "ent_total = tk.Entry(root)\n",
    "\n",
    "# Define the function to calculate the total price\n",
    "def calculate_total():\n",
    "    quantity = float(ent_quantity.get())\n",
    "    price = float(ent_price.get())\n",
    "    total = quantity * price\n",
    "    ent_total.delete(0, tk.END)\n",
    "    ent_total.insert(0, str(total))\n",
    "\n",
    "# Define the function to add stationary products with quantity in units\n",
    "def add_stationary():\n",
    "    ent_quantity.delete(0, tk.END)\n",
    "    ent_quantity.insert(0, \"1\")\n",
    "    ent_price.delete(0, tk.END)\n",
    "    ent_price.insert(0, \"10\")\n",
    "\n",
    "# Define the button widgets\n",
    "btn_total = tk.Button(root, text=\"Calculate Total\", command=calculate_total)\n",
    "btn_stationary = tk.Button(root, text=\"Add Stationary Product\", command=add_stationary)\n",
    "\n",
    "# Define the layout of the widgets\n",
    "lbl_title.grid(row=0, column=0, columnspan=2)\n",
    "lbl_product.grid(row=1, column=0)\n",
    "ent_product.grid(row=1, column=1)\n",
    "lbl_quantity.grid(row=2, column=0)\n",
    "ent_quantity.grid(row=2, column=1)\n",
    "lbl_price.grid(row=3, column=0)\n",
    "ent_price.grid(row=3, column=1)\n",
    "lbl_total.grid(row=4, column=0)\n",
    "ent_total.grid(row=4, column=1)\n",
    "btn_total.grid(row=5, column=0)\n",
    "btn_stationary.grid(row=5, column=1)\n",
    "\n",
    "# Run the main event loop\n",
    "root.mainloop()\n"
   ]
  },
  {
   "cell_type": "code",
   "execution_count": 1,
   "id": "8a5896dc",
   "metadata": {},
   "outputs": [
    {
     "name": "stdout",
     "output_type": "stream",
     "text": [
      "Collecting pytube\n",
      "  Downloading pytube-12.1.3-py3-none-any.whl (57 kB)\n",
      "     -------------------------------------- 57.2/57.2 kB 999.0 kB/s eta 0:00:00\n",
      "Installing collected packages: pytube\n",
      "Successfully installed pytube-12.1.3\n"
     ]
    },
    {
     "name": "stderr",
     "output_type": "stream",
     "text": [
      "\n",
      "[notice] A new release of pip is available: 23.0.1 -> 23.1\n",
      "[notice] To update, run: python.exe -m pip install --upgrade pip\n"
     ]
    }
   ],
   "source": [
    "! pip install pytube"
   ]
  },
  {
   "cell_type": "code",
   "execution_count": null,
   "id": "690f0eed",
   "metadata": {},
   "outputs": [],
   "source": []
  },
  {
   "cell_type": "code",
   "execution_count": 1,
   "id": "b8346b06",
   "metadata": {},
   "outputs": [
    {
     "name": "stdout",
     "output_type": "stream",
     "text": [
      "Collecting pyaudio\n",
      "  Downloading PyAudio-0.2.13-cp311-cp311-win_amd64.whl (164 kB)\n",
      "     -------------------------------------- 164.1/164.1 kB 5.0 MB/s eta 0:00:00\n",
      "Installing collected packages: pyaudio\n",
      "Successfully installed pyaudio-0.2.13\n"
     ]
    },
    {
     "name": "stderr",
     "output_type": "stream",
     "text": [
      "\n",
      "[notice] A new release of pip is available: 23.0.1 -> 23.1.2\n",
      "[notice] To update, run: python.exe -m pip install --upgrade pip\n"
     ]
    }
   ],
   "source": [
    "! pip install pyaudio"
   ]
  },
  {
   "cell_type": "code",
   "execution_count": 1,
   "id": "ad5f1764",
   "metadata": {},
   "outputs": [],
   "source": [
    "import tkinter as tk\n",
    "\n",
    "# Function to perform the calculation\n",
    "def calculate():\n",
    "    try:\n",
    "        expression = entry.get()\n",
    "        result = eval(expression)\n",
    "        entry.delete(0, tk.END)\n",
    "        entry.insert(tk.END, str(result))\n",
    "    except Exception as e:\n",
    "        entry.delete(0, tk.END)\n",
    "        entry.insert(tk.END, \"Error\")\n",
    "\n",
    "# Function to handle button clicks\n",
    "def button_click(symbol):\n",
    "    current = entry.get()\n",
    "    entry.delete(0, tk.END)\n",
    "    entry.insert(tk.END, current + symbol)\n",
    "\n",
    "# Function to clear the entry field\n",
    "def clear_entry():\n",
    "    entry.delete(0, tk.END)\n",
    "\n",
    "# Create the main application window\n",
    "root = tk.Tk()\n",
    "root.title(\"Calculator\")\n",
    "\n",
    "# Create an entry widget to display the input and output\n",
    "entry = tk.Entry(root, font=(\"Arial\", 20), justify=\"right\", bd=10)\n",
    "entry.grid(row=0, column=0, columnspan=4, padx=10, pady=10)\n",
    "\n",
    "# Create buttons for digits and operators\n",
    "buttons = [\n",
    "    (\"7\", 1, 0), (\"8\", 1, 1), (\"9\", 1, 2), (\"/\", 1, 3),\n",
    "    (\"4\", 2, 0), (\"5\", 2, 1), (\"6\", 2, 2), (\"*\", 2, 3),\n",
    "    (\"1\", 3, 0), (\"2\", 3, 1), (\"3\", 3, 2), (\"-\", 3, 3),\n",
    "    (\"0\", 4, 0), (\".\", 4, 1), (\"=\", 4, 2), (\"+\", 4, 3)\n",
    "]\n",
    "\n",
    "for button_symbol, row, col in buttons:\n",
    "    button = tk.Button(root, text=button_symbol, font=(\"Arial\", 20), bd=5,\n",
    "                       command=lambda symbol=button_symbol: button_click(symbol))\n",
    "    button.grid(row=row, column=col, padx=10, pady=10)\n",
    "\n",
    "# Create a button to clear the entry\n",
    "clear_button = tk.Button(root, text=\"C\", font=(\"Arial\", 20), bd=5, command=clear_entry)\n",
    "clear_button.grid(row=5, column=0, columnspan=3, padx=10, pady=10)\n",
    "\n",
    "# Create the equal button\n",
    "equal_button = tk.Button(root, text=\"=\", font=(\"Arial\", 20), bd=5, command=calculate)\n",
    "equal_button.grid(row=5, column=3, padx=10, pady=10)\n",
    "\n",
    "# Run the Tkinter main loop\n",
    "root.mainloop()\n"
   ]
  },
  {
   "cell_type": "code",
   "execution_count": 2,
   "id": "3b9b82ad",
   "metadata": {},
   "outputs": [],
   "source": [
    "import tkinter as tk\n",
    "\n",
    "# Create main window\n",
    "window = tk.Tk()\n",
    "window.title(\"Calculator\")\n",
    "\n",
    "# Create frames for display and buttons\n",
    "display_frame = tk.Frame(master=window)\n",
    "button_frame = tk.Frame(master=window)\n",
    "\n",
    "# Create display label\n",
    "display_label = tk.Label(master=display_frame, text=\"0\")\n",
    "display_label.pack()\n",
    "\n",
    "# Create buttons \n",
    "button_1 = tk.Button(master=button_frame, text=\"1\")\n",
    "button_1.grid(row=0, column=0)\n",
    "\n",
    "button_2 = tk.Button(master=button_frame, text=\"2\")  \n",
    "button_2.grid(row=0, column=1)\n",
    "\n",
    "# Create other button objects...\n",
    "\n",
    "# Add frames to window\n",
    "display_frame.pack()\n",
    "button_frame.pack()\n",
    "\n",
    "window.mainloop()"
   ]
  },
  {
   "cell_type": "code",
   "execution_count": 5,
   "id": "2d6ab68e",
   "metadata": {},
   "outputs": [],
   "source": [
    "#You're right, my previous code example was incomplete. Here is the full calculator code combining your provided code into one complete program:\n",
    "\n",
    "#```python\n",
    "import tkinter as tk\n",
    "\n",
    "# Function to perform calculation\n",
    "def calculate():\n",
    "    try:\n",
    "        expression = entry.get()\n",
    "        result = eval(expression)\n",
    "        entry.delete(0, tk.END)\n",
    "        entry.insert(tk.END, str(result))\n",
    "    except:\n",
    "        entry.delete(0, tk.END)\n",
    "        entry.insert(tk.END, \"Error\")\n",
    "\n",
    "# Function for button clicks   \n",
    "def button_click(symbol):\n",
    "    current = entry.get()\n",
    "    entry.delete(0, tk.END)\n",
    "    entry.insert(tk.END, current + symbol)\n",
    "\n",
    "# Function to clear entry  \n",
    "def clear_entry():\n",
    "    entry.delete(0, tk.END)\n",
    "\n",
    "# Create main window\n",
    "root = tk.Tk()\n",
    "root.title(\"Calculator\")\n",
    "\n",
    "# Create entry widget\n",
    "entry = tk.Entry(root, font=(\"Arial\", 20), justify=\"right\", bd=10)\n",
    "entry.grid(row=0, column=0, columnspan=4, padx=10, pady=10)\n",
    "\n",
    "# Create buttons\n",
    "buttons = [\n",
    "    (\"7\", 1, 0), (\"8\", 1, 1), (\"9\", 1, 2), (\"/\", 1, 3),\n",
    "    (\"4\", 2, 0), (\"5\", 2, 1), (\"6\", 2, 2), (\"*\", 2, 3),    \n",
    "    (\"1\", 3, 0), (\"2\", 3, 1), (\"3\", 3, 2), (\"-\", 3, 3),\n",
    "    (\"0\", 4, 0), (\".\", 4, 1), (\"=\", 4, 2), (\"+\", 4, 3)\n",
    "]\n",
    "\n",
    "for symbol, row, col in buttons:\n",
    "    button = tk.Button(root, text=symbol, font=(\"Arial\", 20), \n",
    "                       bd=5, command=lambda s=symbol: button_click(s))\n",
    "    button.grid(row=row, column=col, padx=10, pady=10)\n",
    "    \n",
    "# Add clear and equal buttons    \n",
    "clear_button = tk.Button(root, text=\"C\", font=(\"Arial\", 20), \n",
    "                         bd=5, command=clear_entry)\n",
    "clear_button.grid(row=5, column=0, columnspan=3, padx=10, pady=10)\n",
    "\n",
    "equal_button = tk.Button(root, text=\"=\", font=(\"Arial\", 20), \n",
    "                         bd=5, command=calculate)\n",
    "equal_button.grid(row=5, column=3, padx=10, pady=10)\n",
    "\n",
    "# Run mainloop\n",
    "root.mainloop()\n",
    "\n",
    "\n",
    "#This takes the key elements from your provided code and combines it into a complete calculator program with full functionality. Let me know if you have any other questions!"
   ]
  },
  {
   "cell_type": "code",
   "execution_count": 6,
   "id": "7c864cff",
   "metadata": {},
   "outputs": [],
   "source": [
    "import tkinter as tk\n",
    "\n",
    "# Function to perform the calculation\n",
    "def calculate():\n",
    "    try:\n",
    "        expression = display_label[\"text\"]\n",
    "        result = eval(expression)\n",
    "        display_label.config(text=str(result))\n",
    "    except Exception as e:\n",
    "        display_label.config(text=\"Error\")\n",
    "\n",
    "# Function to handle button clicks\n",
    "def button_click(symbol):\n",
    "    current = display_label[\"text\"]\n",
    "    if current == \"0\" or current == \"Error\":\n",
    "        display_label.config(text=symbol)\n",
    "    else:\n",
    "        display_label.config(text=current + symbol)\n",
    "\n",
    "# Function to clear the display\n",
    "def clear_display():\n",
    "    display_label.config(text=\"0\")\n",
    "\n",
    "# Create main window\n",
    "window = tk.Tk()\n",
    "window.title(\"Calculator\")\n",
    "\n",
    "# Create frames for display and buttons\n",
    "display_frame = tk.Frame(master=window)\n",
    "button_frame = tk.Frame(master=window)\n",
    "\n",
    "# Create display label\n",
    "display_label = tk.Label(master=display_frame, text=\"0\", font=(\"Arial\", 20))\n",
    "display_label.pack()\n",
    "\n",
    "# Create buttons\n",
    "buttons = [\n",
    "    (\"7\", 1, 0), (\"8\", 1, 1), (\"9\", 1, 2), (\"/\", 1, 3),\n",
    "    (\"4\", 2, 0), (\"5\", 2, 1), (\"6\", 2, 2), (\"*\", 2, 3),\n",
    "    (\"1\", 3, 0), (\"2\", 3, 1), (\"3\", 3, 2), (\"-\", 3, 3),\n",
    "    (\"0\", 4, 0), (\".\", 4, 1), (\"=\", 4, 2), (\"+\", 4, 3)\n",
    "]\n",
    "\n",
    "for button_symbol, row, col in buttons:\n",
    "    button = tk.Button(button_frame, text=button_symbol, font=(\"Arial\", 20), bd=5,\n",
    "                       command=lambda symbol=button_symbol: button_click(symbol))\n",
    "    button.grid(row=row, column=col, padx=10, pady=10)\n",
    "\n",
    "# Create a button to clear the display\n",
    "clear_button = tk.Button(button_frame, text=\"C\", font=(\"Arial\", 20), bd=5, command=clear_display)\n",
    "clear_button.grid(row=5, column=0, columnspan=3, padx=10, pady=10)\n",
    "\n",
    "# Create the equal button\n",
    "equal_button = tk.Button(button_frame, text=\"=\", font=(\"Arial\", 20), bd=5, command=calculate)\n",
    "equal_button.grid(row=5, column=3, padx=10, pady=10)\n",
    "\n",
    "# Pack frames\n",
    "display_frame.pack()\n",
    "button_frame.pack()\n",
    "\n",
    "# Run the Tkinter main loop\n",
    "window.mainloop()\n"
   ]
  },
  {
   "cell_type": "code",
   "execution_count": 9,
   "id": "f54092c5",
   "metadata": {},
   "outputs": [],
   "source": [
    "import tkinter as tk\n",
    "import random\n",
    "\n",
    "# Function to simulate the race\n",
    "def race():\n",
    "    track_length = 50\n",
    "    bike1_pos = 0\n",
    "    bike2_pos = 0\n",
    "\n",
    "    def update_race_track():\n",
    "        race_canvas.delete(\"all\")\n",
    "        race_canvas.create_text(75, 30, text=\"Player 1: \" + \"=\" * bike1_pos + \"1\")\n",
    "        race_canvas.create_text(75, 60, text=\"Player 2: \" + \"=\" * bike2_pos + \"2\")\n",
    "\n",
    "    def accelerate_bike1():\n",
    "        nonlocal bike1_pos\n",
    "        bike1_pos += random.randint(1, 3)\n",
    "        if bike1_pos >= track_length:\n",
    "            race_canvas.create_text(150, 100, text=\"Player 1 wins!\", font=(\"Arial\", 16), fill=\"blue\")\n",
    "            btn_bike1.config(state=tk.DISABLED)\n",
    "            btn_bike2.config(state=tk.DISABLED)\n",
    "        update_race_track()\n",
    "\n",
    "    def accelerate_bike2():\n",
    "        nonlocal bike2_pos\n",
    "        bike2_pos += random.randint(1, 3)\n",
    "        if bike2_pos >= track_length:\n",
    "            race_canvas.create_text(150, 100, text=\"Player 2 wins!\", font=(\"Arial\", 16), fill=\"blue\")\n",
    "            btn_bike1.config(state=tk.DISABLED)\n",
    "            btn_bike2.config(state=tk.DISABLED)\n",
    "        update_race_track()\n",
    "\n",
    "    # Create main window\n",
    "    window = tk.Tk()\n",
    "    window.title(\"Bike Racing Game\")\n",
    "\n",
    "    # Create canvas for the race track\n",
    "    race_canvas = tk.Canvas(window, width=300, height=120)\n",
    "    race_canvas.pack()\n",
    "\n",
    "    # Create buttons for each player to accelerate\n",
    "    btn_bike1 = tk.Button(window, text=\"Player 1 Accelerate\", command=accelerate_bike1)\n",
    "    btn_bike1.pack(pady=10)\n",
    "\n",
    "    btn_bike2 = tk.Button(window, text=\"Player 2 Accelerate\", command=accelerate_bike2)\n",
    "    btn_bike2.pack(pady=10)\n",
    "\n",
    "    # Run the Tkinter main loop\n",
    "    window.mainloop()\n",
    "\n",
    "# Start the game\n",
    "if __name__ == \"__main__\":\n",
    "    race()\n"
   ]
  },
  {
   "cell_type": "code",
   "execution_count": null,
   "id": "bf631a64",
   "metadata": {},
   "outputs": [],
   "source": [
    "import pygame\n",
    "import time\n",
    "\n",
    "# Initialize pygame and the mixer for playing sounds\n",
    "pygame.init()\n",
    "pygame.mixer.init()\n",
    "\n",
    "# Define the musical notes and their corresponding sound files\n",
    "notes = {\n",
    "    \"C4\": \"sounds/c4.wav\",\n",
    "    \"D4\": \"sounds/d4.wav\",\n",
    "    \"E4\": \"sounds/e4.wav\",\n",
    "    \"F4\": \"sounds/f4.wav\",\n",
    "    \"G4\": \"sounds/g4.wav\",\n",
    "    \"A4\": \"sounds/a4.wav\",\n",
    "    \"B4\": \"sounds/b4.wav\",\n",
    "    \"C5\": \"sounds/c5.wav\"\n",
    "}\n",
    "\n",
    "# Function to play a note\n",
    "def play_note(note):\n",
    "    if note in notes:\n",
    "        sound = pygame.mixer.Sound(notes[note])\n",
    "        sound.play()\n",
    "\n",
    "# Function to create the harmonium simulator\n",
    "def harmonium_simulator():\n",
    "    print(\"Harmonium Simulator\\n\")\n",
    "    print(\"Type the note name (e.g., C4, D4, E4) or 'exit' to quit.\")\n",
    "\n",
    "    while True:\n",
    "        user_input = input(\"Enter a note: \")\n",
    "\n",
    "        if user_input == 'exit':\n",
    "            break\n",
    "\n",
    "        play_note(user_input)\n",
    "\n",
    "# Start the harmonium simulator\n",
    "if __name__ == \"__main__\":\n",
    "    harmonium_simulator()\n"
   ]
  }
 ],
 "metadata": {
  "kernelspec": {
   "display_name": "Python 3 (ipykernel)",
   "language": "python",
   "name": "python3"
  },
  "language_info": {
   "codemirror_mode": {
    "name": "ipython",
    "version": 3
   },
   "file_extension": ".py",
   "mimetype": "text/x-python",
   "name": "python",
   "nbconvert_exporter": "python",
   "pygments_lexer": "ipython3",
   "version": "3.11.0"
  }
 },
 "nbformat": 4,
 "nbformat_minor": 5
}
