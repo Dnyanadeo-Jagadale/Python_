{
 "cells": [
  {
   "cell_type": "code",
   "execution_count": 2,
   "id": "c600de54",
   "metadata": {},
   "outputs": [
    {
     "name": "stderr",
     "output_type": "stream",
     "text": [
      "ERROR: Could not find a version that satisfies the requirement threading (from versions: none)\n",
      "ERROR: No matching distribution found for threading\n",
      "\n",
      "[notice] A new release of pip is available: 23.0.1 -> 23.1\n",
      "[notice] To update, run: python.exe -m pip install --upgrade pip\n"
     ]
    }
   ],
   "source": [
    "! pip install threading"
   ]
  },
  {
   "cell_type": "code",
   "execution_count": null,
   "id": "32d1025a",
   "metadata": {},
   "outputs": [],
   "source": [
    "import socket\n",
    "import threading\n",
    "\n",
    "# Define server information\n",
    "SERVER_HOST = '127.0.0.1'\n",
    "SERVER_PORT = 8000\n",
    "server_socket = socket.socket(socket.AF_INET, socket.SOCK_STREAM)\n",
    "server_socket.bind((SERVER_HOST, SERVER_PORT))\n",
    "server_socket.listen()\n",
    "\n",
    "# Define list of connected clients\n",
    "clients = []\n",
    "\n",
    "# Define function to broadcast message to all connected clients\n",
    "def broadcast(message):\n",
    "    for client in clients:\n",
    "        client.send(message)\n",
    "\n",
    "# Define function to handle client connections\n",
    "def handle_client(client):\n",
    "    while True:\n",
    "        try:\n",
    "            message = client.recv(1024)\n",
    "            broadcast(message)\n",
    "        except:\n",
    "            clients.remove(client)\n",
    "            client.close()\n",
    "            break\n",
    "\n",
    "# Define function to accept new client connections\n",
    "def accept_clients():\n",
    "    while True:\n",
    "        client, address = server_socket.accept()\n",
    "        clients.append(client)\n",
    "        print(f'Connected with {address}')\n",
    "        client.send('NICK'.encode('utf-8'))\n",
    "        threading.Thread(target=handle_client, args=(client,)).start()\n",
    "\n",
    "# Start accepting client connections\n",
    "accept_clients()\n"
   ]
  },
  {
   "cell_type": "code",
   "execution_count": null,
   "id": "e2328c53",
   "metadata": {},
   "outputs": [],
   "source": []
  }
 ],
 "metadata": {
  "kernelspec": {
   "display_name": "Python 3 (ipykernel)",
   "language": "python",
   "name": "python3"
  },
  "language_info": {
   "codemirror_mode": {
    "name": "ipython",
    "version": 3
   },
   "file_extension": ".py",
   "mimetype": "text/x-python",
   "name": "python",
   "nbconvert_exporter": "python",
   "pygments_lexer": "ipython3",
   "version": "3.11.0"
  }
 },
 "nbformat": 4,
 "nbformat_minor": 5
}
