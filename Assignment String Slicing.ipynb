{
 "cells": [
  {
   "cell_type": "code",
   "execution_count": 3,
   "id": "a8ef83cf",
   "metadata": {},
   "outputs": [],
   "source": [
    "str1 = \"India is my country\"\n",
    "str2 = \"all indians are my brothers and sisters\"\n",
    "str3 = \" I love my country\"\n",
    "str4 = \"I am proud of its rich and varied heritage\"\n",
    "str5 = \" I shall always strive to be worthy of it\""
   ]
  },
  {
   "cell_type": "code",
   "execution_count": 67,
   "id": "f7f9ef4d",
   "metadata": {},
   "outputs": [
    {
     "name": "stdout",
     "output_type": "stream",
     "text": [
      "India is my country\n",
      "I\n",
      "----------------------\n",
      "all indians are my brothers and sisters\n",
      "s\n"
     ]
    }
   ],
   "source": [
    "print(str1)\n",
    "print(str1[0])\n",
    "print(\"----------------------\")\n",
    "print(str2)\n",
    "print(str2[10])"
   ]
  },
  {
   "cell_type": "code",
   "execution_count": 78,
   "id": "8910e97b",
   "metadata": {},
   "outputs": [
    {
     "name": "stdout",
     "output_type": "stream",
     "text": [
      "abcdefghijklmnopqrstuvwxyz\n",
      "------------------------\n",
      "abcdefghijklmnop\n",
      "pqrstuv\n",
      "abcdefghijklmnopqrstuvwxyz\n",
      "\n"
     ]
    }
   ],
   "source": [
    "str6 = \"abcdefghijklmnopqrstuvwxyz\" \n",
    "print(str6)\n",
    "print(\"------------------------\")\n",
    "print(str6[-26:-10])\n",
    "print(str6[-11:-4])\n",
    "print(str6[-29:29])\n",
    "print(str6[29:-29])"
   ]
  },
  {
   "cell_type": "code",
   "execution_count": 87,
   "id": "84f27d92",
   "metadata": {},
   "outputs": [
    {
     "name": "stdout",
     "output_type": "stream",
     "text": [
      " I love my coun\n",
      " I love my country\n",
      " am\n",
      " I shall always strive to be worthy of it\n",
      " I shall \n",
      " shall \n"
     ]
    }
   ],
   "source": [
    "print(str3[0:15])\n",
    "print(str3[0:19])\n",
    "print(str4[1:4])\n",
    "print(str5)\n",
    "print(str5[0:9])\n",
    "print(str5[2:9])"
   ]
  },
  {
   "cell_type": "code",
   "execution_count": 80,
   "id": "956c7d18",
   "metadata": {},
   "outputs": [
    {
     "name": "stdout",
     "output_type": "stream",
     "text": [
      "m proud\n",
      "my coun\n"
     ]
    }
   ],
   "source": [
    "print(str4[3:10])\n",
    "print(str1[9:16])"
   ]
  },
  {
   "cell_type": "code",
   "execution_count": 90,
   "id": "756742a1",
   "metadata": {},
   "outputs": [
    {
     "name": "stdout",
     "output_type": "stream",
     "text": [
      "t\n",
      "t\n",
      "shall \n",
      "ia \n",
      "I am proud of its rich and varied heritage\n"
     ]
    }
   ],
   "source": [
    "print(str5[-1])\n",
    "print(str3[15])\n",
    "print(str5[3:9])\n",
    "print(str1[3:6])\n",
    "print(str4[:])"
   ]
  },
  {
   "cell_type": "code",
   "execution_count": 91,
   "id": "85020bfc",
   "metadata": {},
   "outputs": [
    {
     "name": "stdout",
     "output_type": "stream",
     "text": [
      "l\n",
      "to be worthy o\n",
      "countr\n",
      "ied herita\n",
      " count\n"
     ]
    }
   ],
   "source": [
    "print(str3[-15])\n",
    "print(str5[-18:-4])\n",
    "print(str1[-7:-1])\n",
    "print(str4[-12:-2])\n",
    "print(str3[-8:-2])"
   ]
  },
  {
   "cell_type": "code",
   "execution_count": 89,
   "id": "66e2b13b",
   "metadata": {},
   "outputs": [
    {
     "name": "stdout",
     "output_type": "stream",
     "text": [
      "India is my countryIndia is my country\n",
      "India is my country\n",
      "abcdefghijklmnopqrstuvwxyzabcdefghijklmnopqrstuvwxyzabcdefghijklmnopqrstuvwxyz\n"
     ]
    }
   ],
   "source": [
    "print(str1*2)\n",
    "print(str1*1)\n",
    "print(str6*3)"
   ]
  },
  {
   "cell_type": "code",
   "execution_count": 36,
   "id": "5aa9a9d7",
   "metadata": {},
   "outputs": [
    {
     "name": "stdout",
     "output_type": "stream",
     "text": [
      "all indians are my brothers and sistersall indians are my brothers and sistersall indians are my brothers and sisters\n"
     ]
    }
   ],
   "source": [
    "print(str2*3)"
   ]
  },
  {
   "cell_type": "code",
   "execution_count": 92,
   "id": "0e42a47a",
   "metadata": {},
   "outputs": [
    {
     "name": "stdout",
     "output_type": "stream",
     "text": [
      "India is my countryIndia is my countryIndia is my countryIndia is my countryIndia is my countryIndia is my countryIndia is my countryIndia is my countryIndia is my countryIndia is my country\n"
     ]
    }
   ],
   "source": [
    "print(str1*10)"
   ]
  },
  {
   "cell_type": "code",
   "execution_count": 98,
   "id": "f584c3d0",
   "metadata": {},
   "outputs": [
    {
     "name": "stdout",
     "output_type": "stream",
     "text": [
      "ijklmnopqrstuvwxy\n",
      "abcdefghijklmnopqrstuvwxyz\n"
     ]
    }
   ],
   "source": [
    "print(str6[8:25])\n",
    "print(str6[0::1])"
   ]
  },
  {
   "cell_type": "code",
   "execution_count": 103,
   "id": "44a886ce",
   "metadata": {},
   "outputs": [
    {
     "name": "stdout",
     "output_type": "stream",
     "text": [
      "India is my countryIndia is my country\n",
      "--------------------------------------\n",
      "India is my countryIndia is my countryIndia is my countryIndia is my country\n",
      "---------------------------------------\n",
      "India is my countryIndia is my countryIndia is my countryIndia is my countryIndia is my countryIndia is my countryIndia is my countryIndia is my country\n"
     ]
    }
   ],
   "source": [
    "    f\n",
    "print(f)\n",
    "print(\"--------------------------------------\")\n",
    "g = f*2\n",
    "print(g)\n",
    "print(\"---------------------------------------\")\n",
    "k = g*2\n",
    "print(k)"
   ]
  },
  {
   "cell_type": "code",
   "execution_count": null,
   "id": "b8d9632a",
   "metadata": {},
   "outputs": [],
   "source": []
  }
 ],
 "metadata": {
  "kernelspec": {
   "display_name": "Python 3 (ipykernel)",
   "language": "python",
   "name": "python3"
  },
  "language_info": {
   "codemirror_mode": {
    "name": "ipython",
    "version": 3
   },
   "file_extension": ".py",
   "mimetype": "text/x-python",
   "name": "python",
   "nbconvert_exporter": "python",
   "pygments_lexer": "ipython3",
   "version": "3.11.0"
  }
 },
 "nbformat": 4,
 "nbformat_minor": 5
}
